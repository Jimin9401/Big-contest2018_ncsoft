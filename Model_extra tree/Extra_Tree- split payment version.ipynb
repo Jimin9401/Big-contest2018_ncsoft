{
 "cells": [
  {
   "cell_type": "code",
   "execution_count": 17,
   "metadata": {},
   "outputs": [],
   "source": [
    "from sklearn.externals import joblib"
   ]
  },
  {
   "cell_type": "markdown",
   "metadata": {},
   "source": [
    "## 이 파일은 유저가 게임에 현금을 지불했는지 유무에 따라 Payment 집단과 Non-payment 계층으\n",
    "## 로 나누어서 Sklearn 모듈의 Extratree 알고리즘을 이용한 모델링을 진행했습니다."
   ]
  },
  {
   "cell_type": "code",
   "execution_count": 1,
   "metadata": {},
   "outputs": [],
   "source": [
    "import matplotlib.pyplot as plt\n",
    "import pandas as pd\n",
    "import numpy as np\n",
    "from sklearn.ensemble import ExtraTreesClassifier\n",
    "from sklearn.model_selection import cross_val_score\n",
    "from sklearn.metrics import confusion_matrix,f1_score,precision_score,recall_score\n",
    "from sklearn.model_selection import StratifiedKFold\n",
    "from sklearn.naive_bayes import GaussianNB\n",
    "from sklearn.naive_bayes import MultinomialNB\n",
    "from sklearn.naive_bayes import BernoulliNB"
   ]
  },
  {
   "cell_type": "code",
   "execution_count": 2,
   "metadata": {},
   "outputs": [],
   "source": [
    "from sklearn.metrics import accuracy_score"
   ]
  },
  {
   "cell_type": "code",
   "execution_count": 3,
   "metadata": {},
   "outputs": [],
   "source": [
    "#모델의 F1 score를 확인하기 위해 함수 생성\n",
    "def f1(X_val, y_val, model,mapping):\n",
    "    \"\"\"\n",
    "    Model evaluation function for multiclass classification problem\n",
    "    1) F-1 score, Precision, Recall\n",
    "    2) ROC curve, PR curve는 추후에 생각\n",
    "    \"\"\"\n",
    " \n",
    "    #### predict the value\n",
    "    y_pred = model.predict(X_val)\n",
    "\n",
    "    \n",
    "    #print('-'*50)\n",
    "    #print('2. F1-score')\n",
    "    \n",
    "    # inverse pre/ rec\n",
    "    pre = precision_score(y_true = y_val, y_pred = y_pred, average=None)\n",
    "    rec = recall_score(y_true = y_val, y_pred = y_pred, average=None)\n",
    "\n",
    "    # f1 measure\n",
    "    f1_score = 8/(sum(1/pre) + sum(1/rec))\n",
    "    \n",
    "    # view - precision recall\n",
    "    table = pd.DataFrame([])\n",
    "\n",
    "    for i,k in enumerate(mapping.keys()):\n",
    "        table[k] = [pre[i],rec[i]]\n",
    "    table.index = ['precision','recall']\n",
    "    # print(table)\n",
    "    \n",
    "    # view - f1\n",
    "    #print('F1_score %.3f'%f1_score)\n",
    "    #print('='*50)\n",
    "    return f1_score"
   ]
  },
  {
   "cell_type": "code",
   "execution_count": 4,
   "metadata": {},
   "outputs": [],
   "source": [
    "#원 데이터에서 현금 지불을 안한 유저를 뽑아내기 위해 각 변수에 저장\n",
    "train_data=pd.read_csv('../Features/train_every_features_0906.csv')\n",
    "test_data=pd.read_csv('../Features/test_every_features_0906.csv')\n",
    "train_label=pd.read_csv('../lite_data/train_label_lite.csv')"
   ]
  },
  {
   "cell_type": "code",
   "execution_count": 5,
   "metadata": {},
   "outputs": [],
   "source": [
    "# train셋과 test셋에 사용할 feafure들을 각 변수에 저장 \n",
    "X_train1=pd.read_csv('../wook_workspace/X_train_extreme.csv')\n",
    "X_test1=pd.read_csv('../wook_workspace/X_test_extreme.csv')"
   ]
  },
  {
   "cell_type": "code",
   "execution_count": 6,
   "metadata": {},
   "outputs": [],
   "source": [
    "X_train2=pd.concat([train_data.iloc[:,0],X_train1],axis=1)\n",
    "X_test2=pd.concat([test_data.iloc[:,0],X_test1],axis=1)"
   ]
  },
  {
   "cell_type": "code",
   "execution_count": 7,
   "metadata": {},
   "outputs": [],
   "source": [
    "## 먼저 현질했는지 안했는지 사용자들 나누기\n",
    "# index내에 payment 지불 관련 데이터로 조건문을 줘서 따로 저장\n",
    "X_train_payment=X_train2[train_data.payment_amount_sum_stat.isna()==False]\n",
    "X_test_payment=X_test2[test_data.payment_amount_sum_stat.isna()==False]\n",
    "\n",
    "X_train_non_payment=X_train2[train_data.payment_amount_sum_stat.isna()]\n",
    "X_test_non_payment=X_test2[test_data.payment_amount_sum_stat.isna()]"
   ]
  },
  {
   "cell_type": "code",
   "execution_count": 8,
   "metadata": {},
   "outputs": [],
   "source": [
    "#그후 결측치를 0으로 처리\n",
    "X_train_payment=X_train_payment.fillna(0)\n",
    "X_test_payment=X_test_payment.fillna(0)\n",
    "\n",
    "X_train_non_payment=X_train_non_payment.fillna(0)\n",
    "X_test_non_payment=X_test_non_payment.fillna(0)"
   ]
  },
  {
   "cell_type": "code",
   "execution_count": 9,
   "metadata": {},
   "outputs": [],
   "source": [
    "#분류한거 index가 중간에 빠져잇으면 model이 결측값이 데이터셋 중도 있는 것으로 인식하므로 \n",
    "#index 리셋하고 하나는 id만 나머지 하나는 피쳐만 모아두기\n",
    "\n",
    "X_train_payment_id=X_train_payment.reset_index().iloc[:,1]\n",
    "X_train_payment_feature=X_train_payment.reset_index().iloc[:,2:]\n",
    "\n",
    "\n",
    "X_test_payment_id=X_test_payment.reset_index().iloc[:,1]\n",
    "X_test_payment_feature=X_test_payment.reset_index().iloc[:,2:]"
   ]
  },
  {
   "cell_type": "code",
   "execution_count": 10,
   "metadata": {},
   "outputs": [],
   "source": [
    "# 라벨도 현질한 애들 안한애들로 나누기 \n",
    "label_payment=train_label[train_data.payment_amount_sum_stat.isna()==False]\n",
    "label_non_payment=train_label[train_data.payment_amount_sum_stat.isna()]"
   ]
  },
  {
   "cell_type": "code",
   "execution_count": 11,
   "metadata": {},
   "outputs": [],
   "source": [
    "#중간에 index가 없으면 모델이 학습 안되므로\n",
    "#index를 리셋하여 진행\n",
    "\n",
    "label_payment=label_payment.reset_index().iloc[:,1:]\n",
    "label_non_payment=label_non_payment.reset_index().iloc[:,1:]"
   ]
  },
  {
   "cell_type": "code",
   "execution_count": 12,
   "metadata": {},
   "outputs": [],
   "source": [
    "label_map = {'retained':0,'2month':1,'month':2,'week':3}\n",
    "\n",
    "# label별로 int값을 주기\n",
    "label_payment.iloc[:,1] = pd.Series([label_map[l] for l in label_payment.label])\n",
    "label_non_payment.iloc[:,1] = pd.Series([label_map[l] for l in label_non_payment.label])"
   ]
  },
  {
   "cell_type": "code",
   "execution_count": 13,
   "metadata": {},
   "outputs": [],
   "source": [
    "X_train_cv_pay=X_train_payment_feature.copy()\n",
    "y_train_cv_pay=label_payment.iloc[:,1].copy()"
   ]
  },
  {
   "cell_type": "code",
   "execution_count": 14,
   "metadata": {},
   "outputs": [],
   "source": [
    "clf_etc_pay=ExtraTreesClassifier(verbose=1,criterion='gini',max_depth = 19,\n",
    "                             max_features = 350, min_samples_leaf = 1,n_estimators=300,random_state= 7, n_jobs=-1)"
   ]
  },
  {
   "cell_type": "markdown",
   "metadata": {},
   "source": [
    "## 먼저 accuracy score로 평가"
   ]
  },
  {
   "cell_type": "code",
   "execution_count": 15,
   "metadata": {},
   "outputs": [
    {
     "name": "stderr",
     "output_type": "stream",
     "text": [
      "[Parallel(n_jobs=-1)]: Done  88 tasks      | elapsed:    1.6s\n",
      "[Parallel(n_jobs=-1)]: Done 300 out of 300 | elapsed:    4.2s finished\n",
      "[Parallel(n_jobs=56)]: Done  88 tasks      | elapsed:    0.1s\n",
      "[Parallel(n_jobs=56)]: Done 300 out of 300 | elapsed:    0.2s finished\n"
     ]
    },
    {
     "name": "stdout",
     "output_type": "stream",
     "text": [
      "Fold: 1, Class dist.: [7608  897  700  634], Acc: 0.791\n",
      "Fold: 1, Class dist.: [7608  897  700  634], Acc: 0.791\n"
     ]
    },
    {
     "name": "stderr",
     "output_type": "stream",
     "text": [
      "[Parallel(n_jobs=-1)]: Done  88 tasks      | elapsed:    1.5s\n",
      "[Parallel(n_jobs=-1)]: Done 300 out of 300 | elapsed:    4.0s finished\n",
      "[Parallel(n_jobs=56)]: Done  88 tasks      | elapsed:    0.1s\n",
      "[Parallel(n_jobs=56)]: Done 300 out of 300 | elapsed:    0.2s finished\n"
     ]
    },
    {
     "name": "stdout",
     "output_type": "stream",
     "text": [
      "Fold: 2, Class dist.: [7609  897  701  634], Acc: 0.790\n",
      "Fold: 2, Class dist.: [7609  897  701  634], Acc: 0.790\n"
     ]
    },
    {
     "name": "stderr",
     "output_type": "stream",
     "text": [
      "[Parallel(n_jobs=-1)]: Done  88 tasks      | elapsed:    2.0s\n",
      "[Parallel(n_jobs=-1)]: Done 300 out of 300 | elapsed:    4.7s finished\n",
      "[Parallel(n_jobs=56)]: Done  88 tasks      | elapsed:    0.1s\n",
      "[Parallel(n_jobs=56)]: Done 300 out of 300 | elapsed:    0.2s finished\n"
     ]
    },
    {
     "name": "stdout",
     "output_type": "stream",
     "text": [
      "Fold: 3, Class dist.: [7609  898  701  634], Acc: 0.790\n",
      "Fold: 3, Class dist.: [7609  898  701  634], Acc: 0.790\n"
     ]
    },
    {
     "name": "stderr",
     "output_type": "stream",
     "text": [
      "[Parallel(n_jobs=-1)]: Done  88 tasks      | elapsed:    1.5s\n",
      "[Parallel(n_jobs=-1)]: Done 300 out of 300 | elapsed:    4.3s finished\n",
      "[Parallel(n_jobs=56)]: Done  88 tasks      | elapsed:    0.1s\n",
      "[Parallel(n_jobs=56)]: Done 300 out of 300 | elapsed:    0.2s finished\n"
     ]
    },
    {
     "name": "stdout",
     "output_type": "stream",
     "text": [
      "Fold: 4, Class dist.: [7609  898  701  635], Acc: 0.792\n",
      "Fold: 4, Class dist.: [7609  898  701  635], Acc: 0.792\n"
     ]
    },
    {
     "name": "stderr",
     "output_type": "stream",
     "text": [
      "[Parallel(n_jobs=-1)]: Done  88 tasks      | elapsed:    1.8s\n",
      "[Parallel(n_jobs=-1)]: Done 300 out of 300 | elapsed:    4.7s finished\n"
     ]
    },
    {
     "name": "stdout",
     "output_type": "stream",
     "text": [
      "Fold: 5, Class dist.: [7609  898  701  635], Acc: 0.790\n",
      "Fold: 5, Class dist.: [7609  898  701  635], Acc: 0.790\n",
      "\n",
      "CV Acc: 0.791 +/- 0.001\n"
     ]
    },
    {
     "name": "stderr",
     "output_type": "stream",
     "text": [
      "[Parallel(n_jobs=56)]: Done  88 tasks      | elapsed:    0.1s\n",
      "[Parallel(n_jobs=56)]: Done 300 out of 300 | elapsed:    0.2s finished\n"
     ]
    }
   ],
   "source": [
    "#### cross validation\n",
    "\n",
    "### accuracy _score\n",
    "kfold = StratifiedKFold(n_splits = 5 ,random_state = 7).split(X_train_cv_pay, y_train_cv_pay)\n",
    "scores = []\n",
    "\n",
    "for k, (train, test) in enumerate(kfold):\n",
    "    clf_etc_pay.fit(X_train_cv_pay.iloc[train,:], y_train_cv_pay.iloc[train,])\n",
    "    score = accuracy_score(y_pred=clf_etc_pay.predict(X_train_cv_pay.iloc[test,]), y_true=y_train_cv_pay.iloc[test])\n",
    "    \n",
    "    scores.append(score)\n",
    "    print('Fold: %s, Class dist.: %s, Acc: %.3f' % (k+1,np.bincount(y_train_cv_pay[train]), score))\n",
    "    print('Fold: %s, Class dist.: %s, Acc: %.3f' % (k+1,np.bincount(y_train_cv_pay[train]), score))\n",
    "    \n",
    "    \n",
    "print('\\nCV Acc: %.3f +/- %.3f' % (np.mean(scores), np.std(scores)))"
   ]
  },
  {
   "cell_type": "markdown",
   "metadata": {},
   "source": [
    "## 다음 F1 스코어로 평가"
   ]
  },
  {
   "cell_type": "code",
   "execution_count": 16,
   "metadata": {},
   "outputs": [
    {
     "name": "stderr",
     "output_type": "stream",
     "text": [
      "[Parallel(n_jobs=-1)]: Done  88 tasks      | elapsed:    1.9s\n",
      "[Parallel(n_jobs=-1)]: Done 300 out of 300 | elapsed:    4.6s finished\n",
      "[Parallel(n_jobs=56)]: Done  88 tasks      | elapsed:    0.1s\n",
      "[Parallel(n_jobs=56)]: Done 300 out of 300 | elapsed:    0.2s finished\n"
     ]
    },
    {
     "name": "stdout",
     "output_type": "stream",
     "text": [
      "Fold: 1, Class dist.: [7608  897  700  634], F1: 0.092\n"
     ]
    },
    {
     "name": "stderr",
     "output_type": "stream",
     "text": [
      "[Parallel(n_jobs=-1)]: Done  88 tasks      | elapsed:    2.0s\n",
      "[Parallel(n_jobs=-1)]: Done 300 out of 300 | elapsed:    5.1s finished\n",
      "[Parallel(n_jobs=56)]: Done  88 tasks      | elapsed:    0.1s\n",
      "[Parallel(n_jobs=56)]: Done 300 out of 300 | elapsed:    0.2s finished\n"
     ]
    },
    {
     "name": "stdout",
     "output_type": "stream",
     "text": [
      "Fold: 2, Class dist.: [7609  897  701  634], F1: 0.080\n"
     ]
    },
    {
     "name": "stderr",
     "output_type": "stream",
     "text": [
      "[Parallel(n_jobs=-1)]: Done  88 tasks      | elapsed:    2.1s\n",
      "[Parallel(n_jobs=-1)]: Done 300 out of 300 | elapsed:    5.1s finished\n",
      "[Parallel(n_jobs=56)]: Done  88 tasks      | elapsed:    0.1s\n",
      "[Parallel(n_jobs=56)]: Done 300 out of 300 | elapsed:    0.2s finished\n"
     ]
    },
    {
     "name": "stdout",
     "output_type": "stream",
     "text": [
      "Fold: 3, Class dist.: [7609  898  701  634], F1: 0.102\n"
     ]
    },
    {
     "name": "stderr",
     "output_type": "stream",
     "text": [
      "[Parallel(n_jobs=-1)]: Done  88 tasks      | elapsed:    2.1s\n",
      "[Parallel(n_jobs=-1)]: Done 300 out of 300 | elapsed:    5.2s finished\n",
      "[Parallel(n_jobs=56)]: Done  88 tasks      | elapsed:    0.1s\n",
      "[Parallel(n_jobs=56)]: Done 300 out of 300 | elapsed:    0.2s finished\n"
     ]
    },
    {
     "name": "stdout",
     "output_type": "stream",
     "text": [
      "Fold: 4, Class dist.: [7609  898  701  635], F1: 0.060\n"
     ]
    },
    {
     "name": "stderr",
     "output_type": "stream",
     "text": [
      "[Parallel(n_jobs=-1)]: Done  88 tasks      | elapsed:    1.5s\n",
      "[Parallel(n_jobs=-1)]: Done 300 out of 300 | elapsed:    4.5s finished\n"
     ]
    },
    {
     "name": "stdout",
     "output_type": "stream",
     "text": [
      "Fold: 5, Class dist.: [7609  898  701  635], F1: 0.069\n",
      "\n",
      "CV F1: 0.080 +/- 0.015\n"
     ]
    },
    {
     "name": "stderr",
     "output_type": "stream",
     "text": [
      "[Parallel(n_jobs=56)]: Done  88 tasks      | elapsed:    0.1s\n",
      "[Parallel(n_jobs=56)]: Done 300 out of 300 | elapsed:    0.2s finished\n"
     ]
    }
   ],
   "source": [
    "#### cross validation\n",
    "kfold = StratifiedKFold(n_splits = 5 ,random_state = 7).split(X_train_cv_pay, y_train_cv_pay)\n",
    "scores = []\n",
    "\n",
    "for k, (train, test) in enumerate(kfold):\n",
    "    clf_etc_pay.fit(X_train_cv_pay.iloc[train,:], y_train_cv_pay.iloc[train,])\n",
    "    score = f1(X_train_cv_pay.iloc[test,], y_train_cv_pay.iloc[test],clf_etc_pay,label_map)\n",
    "    scores.append(score)\n",
    "    print('Fold: %s, Class dist.: %s, F1: %.3f' % (k+1,np.bincount(y_train_cv_pay[train]), score))\n",
    "    \n",
    "print('\\nCV F1: %.3f +/- %.3f' % (np.mean(scores), np.std(scores)))"
   ]
  },
  {
   "cell_type": "code",
   "execution_count": 19,
   "metadata": {},
   "outputs": [
    {
     "data": {
      "text/plain": [
       "['extra_tree_payment.pkl']"
      ]
     },
     "execution_count": 19,
     "metadata": {},
     "output_type": "execute_result"
    }
   ],
   "source": [
    "# 학습된 모델 저장\n",
    "joblib.dump(clf_etc_pay,'extra_tree_payment.pkl')"
   ]
  },
  {
   "cell_type": "markdown",
   "metadata": {},
   "source": [
    "## non payment segment 모델링\n",
    "\n",
    "> 현금 지불 이력이 아예없는 유저 상대로 모델링 진행"
   ]
  },
  {
   "cell_type": "code",
   "execution_count": 20,
   "metadata": {},
   "outputs": [],
   "source": [
    "#위의 방식과 동일하게 인덱스 초기화 후 진행\n",
    "X_train_non_payment_id=X_train_non_payment.reset_index().iloc[:,1]\n",
    "X_train_non_payment_feature=X_train_non_payment.reset_index().iloc[:,2:]\n",
    "\n",
    "\n",
    "X_test_non_payment_id=X_test_non_payment.reset_index().iloc[:,1]\n",
    "X_test_non_payment_feature=X_test_non_payment.reset_index().iloc[:,2:]"
   ]
  },
  {
   "cell_type": "code",
   "execution_count": 21,
   "metadata": {},
   "outputs": [],
   "source": [
    "X_train_cv_nonpay=X_train_non_payment_feature.copy()\n",
    "y_train_cv_nonpay=label_non_payment.iloc[:,1].copy()"
   ]
  },
  {
   "cell_type": "code",
   "execution_count": 22,
   "metadata": {},
   "outputs": [],
   "source": [
    "clf_etc_nonpay=ExtraTreesClassifier(verbose=1,criterion='gini',max_depth = 19,\n",
    "                             max_features = 350, min_samples_leaf = 1,n_estimators=300,random_state= 7, n_jobs=-1)"
   ]
  },
  {
   "cell_type": "markdown",
   "metadata": {},
   "source": [
    "## accuracy score로 평가"
   ]
  },
  {
   "cell_type": "code",
   "execution_count": 24,
   "metadata": {},
   "outputs": [
    {
     "name": "stderr",
     "output_type": "stream",
     "text": [
      "[Parallel(n_jobs=-1)]: Done  88 tasks      | elapsed:   21.5s\n",
      "[Parallel(n_jobs=-1)]: Done 300 out of 300 | elapsed:   56.8s finished\n",
      "[Parallel(n_jobs=56)]: Done  88 tasks      | elapsed:    0.1s\n",
      "[Parallel(n_jobs=56)]: Done 300 out of 300 | elapsed:    0.3s finished\n"
     ]
    },
    {
     "name": "stdout",
     "output_type": "stream",
     "text": [
      "Fold: 1, Class dist.: [12391 19102 19299 19365], Acc: 0.738\n",
      "Fold: 1, Class dist.: [12391 19102 19299 19365], Acc: 0.738\n"
     ]
    },
    {
     "name": "stderr",
     "output_type": "stream",
     "text": [
      "[Parallel(n_jobs=-1)]: Done  88 tasks      | elapsed:   20.9s\n",
      "[Parallel(n_jobs=-1)]: Done 300 out of 300 | elapsed:   56.7s finished\n",
      "[Parallel(n_jobs=56)]: Done  88 tasks      | elapsed:    0.1s\n",
      "[Parallel(n_jobs=56)]: Done 300 out of 300 | elapsed:    0.3s finished\n"
     ]
    },
    {
     "name": "stdout",
     "output_type": "stream",
     "text": [
      "Fold: 2, Class dist.: [12391 19102 19299 19365], Acc: 0.743\n",
      "Fold: 2, Class dist.: [12391 19102 19299 19365], Acc: 0.743\n"
     ]
    },
    {
     "name": "stderr",
     "output_type": "stream",
     "text": [
      "[Parallel(n_jobs=-1)]: Done  88 tasks      | elapsed:   20.1s\n",
      "[Parallel(n_jobs=-1)]: Done 300 out of 300 | elapsed:   56.8s finished\n",
      "[Parallel(n_jobs=56)]: Done  88 tasks      | elapsed:    0.1s\n",
      "[Parallel(n_jobs=56)]: Done 300 out of 300 | elapsed:    0.2s finished\n"
     ]
    },
    {
     "name": "stdout",
     "output_type": "stream",
     "text": [
      "Fold: 3, Class dist.: [12391 19102 19299 19366], Acc: 0.738\n",
      "Fold: 3, Class dist.: [12391 19102 19299 19366], Acc: 0.738\n"
     ]
    },
    {
     "name": "stderr",
     "output_type": "stream",
     "text": [
      "[Parallel(n_jobs=-1)]: Done  88 tasks      | elapsed:   20.7s\n",
      "[Parallel(n_jobs=-1)]: Done 300 out of 300 | elapsed:   55.4s finished\n",
      "[Parallel(n_jobs=56)]: Done  88 tasks      | elapsed:    0.1s\n",
      "[Parallel(n_jobs=56)]: Done 300 out of 300 | elapsed:    0.2s finished\n"
     ]
    },
    {
     "name": "stdout",
     "output_type": "stream",
     "text": [
      "Fold: 4, Class dist.: [12391 19103 19299 19366], Acc: 0.734\n",
      "Fold: 4, Class dist.: [12391 19103 19299 19366], Acc: 0.734\n"
     ]
    },
    {
     "name": "stderr",
     "output_type": "stream",
     "text": [
      "[Parallel(n_jobs=-1)]: Done  88 tasks      | elapsed:   21.5s\n",
      "[Parallel(n_jobs=-1)]: Done 300 out of 300 | elapsed:   56.8s finished\n"
     ]
    },
    {
     "name": "stdout",
     "output_type": "stream",
     "text": [
      "Fold: 5, Class dist.: [12392 19103 19300 19366], Acc: 0.732\n",
      "Fold: 5, Class dist.: [12392 19103 19300 19366], Acc: 0.732\n",
      "\n",
      "CV Acc: 0.737 +/- 0.004\n"
     ]
    },
    {
     "name": "stderr",
     "output_type": "stream",
     "text": [
      "[Parallel(n_jobs=56)]: Done  88 tasks      | elapsed:    0.1s\n",
      "[Parallel(n_jobs=56)]: Done 300 out of 300 | elapsed:    0.3s finished\n"
     ]
    }
   ],
   "source": [
    "#### cross validation\n",
    "\n",
    "### accuracy _score\n",
    "kfold = StratifiedKFold(n_splits = 5 ,random_state = 7).split(X_train_cv_nonpay, y_train_cv_nonpay)\n",
    "scores = []\n",
    "\n",
    "for k, (train, test) in enumerate(kfold):\n",
    "    clf_etc_nonpay.fit(X_train_cv_nonpay.iloc[train,:], y_train_cv_nonpay.iloc[train,])\n",
    "    score = accuracy_score(y_pred=clf_etc_nonpay.predict(X_train_cv_nonpay.iloc[test,]), y_true=y_train_cv_nonpay.iloc[test])\n",
    "    \n",
    "    scores.append(score)\n",
    "    print('Fold: %s, Class dist.: %s, Acc: %.3f' % (k+1,np.bincount(y_train_cv_nonpay[train]), score))\n",
    "    print('Fold: %s, Class dist.: %s, Acc: %.3f' % (k+1,np.bincount(y_train_cv_nonpay[train]), score))\n",
    "    \n",
    "    \n",
    "print('\\nCV Acc: %.3f +/- %.3f' % (np.mean(scores), np.std(scores)))"
   ]
  },
  {
   "cell_type": "markdown",
   "metadata": {},
   "source": [
    "## F1 스코어로 평가"
   ]
  },
  {
   "cell_type": "code",
   "execution_count": 23,
   "metadata": {},
   "outputs": [
    {
     "name": "stderr",
     "output_type": "stream",
     "text": [
      "[Parallel(n_jobs=-1)]: Done  88 tasks      | elapsed:   22.0s\n",
      "[Parallel(n_jobs=-1)]: Done 300 out of 300 | elapsed:   58.0s finished\n",
      "[Parallel(n_jobs=56)]: Done  88 tasks      | elapsed:    0.1s\n",
      "[Parallel(n_jobs=56)]: Done 300 out of 300 | elapsed:    0.2s finished\n"
     ]
    },
    {
     "name": "stdout",
     "output_type": "stream",
     "text": [
      "Fold: 1, Class dist.: [12391 19102 19299 19365], F1: 0.722\n"
     ]
    },
    {
     "name": "stderr",
     "output_type": "stream",
     "text": [
      "[Parallel(n_jobs=-1)]: Done  88 tasks      | elapsed:   20.4s\n",
      "[Parallel(n_jobs=-1)]: Done 300 out of 300 | elapsed:   55.7s finished\n",
      "[Parallel(n_jobs=56)]: Done  88 tasks      | elapsed:    0.1s\n",
      "[Parallel(n_jobs=56)]: Done 300 out of 300 | elapsed:    0.3s finished\n"
     ]
    },
    {
     "name": "stdout",
     "output_type": "stream",
     "text": [
      "Fold: 2, Class dist.: [12391 19102 19299 19365], F1: 0.729\n"
     ]
    },
    {
     "name": "stderr",
     "output_type": "stream",
     "text": [
      "[Parallel(n_jobs=-1)]: Done  88 tasks      | elapsed:   19.7s\n",
      "[Parallel(n_jobs=-1)]: Done 300 out of 300 | elapsed:   52.4s finished\n",
      "[Parallel(n_jobs=56)]: Done  88 tasks      | elapsed:    0.1s\n",
      "[Parallel(n_jobs=56)]: Done 300 out of 300 | elapsed:    0.3s finished\n"
     ]
    },
    {
     "name": "stdout",
     "output_type": "stream",
     "text": [
      "Fold: 3, Class dist.: [12391 19102 19299 19366], F1: 0.725\n"
     ]
    },
    {
     "name": "stderr",
     "output_type": "stream",
     "text": [
      "[Parallel(n_jobs=-1)]: Done  88 tasks      | elapsed:   20.4s\n",
      "[Parallel(n_jobs=-1)]: Done 300 out of 300 | elapsed:   54.1s finished\n",
      "[Parallel(n_jobs=56)]: Done  88 tasks      | elapsed:    0.1s\n",
      "[Parallel(n_jobs=56)]: Done 300 out of 300 | elapsed:    0.3s finished\n"
     ]
    },
    {
     "name": "stdout",
     "output_type": "stream",
     "text": [
      "Fold: 4, Class dist.: [12391 19103 19299 19366], F1: 0.719\n"
     ]
    },
    {
     "name": "stderr",
     "output_type": "stream",
     "text": [
      "[Parallel(n_jobs=-1)]: Done  88 tasks      | elapsed:   21.7s\n",
      "[Parallel(n_jobs=-1)]: Done 300 out of 300 | elapsed:   56.3s finished\n",
      "[Parallel(n_jobs=56)]: Done  88 tasks      | elapsed:    0.1s\n",
      "[Parallel(n_jobs=56)]: Done 300 out of 300 | elapsed:    0.2s finished\n"
     ]
    },
    {
     "name": "stdout",
     "output_type": "stream",
     "text": [
      "Fold: 5, Class dist.: [12392 19103 19300 19366], F1: 0.716\n",
      "\n",
      "CV F1: 0.722 +/- 0.005\n"
     ]
    }
   ],
   "source": [
    "#### cross validation\n",
    "kfold = StratifiedKFold(n_splits = 5 ,random_state = 7).split(X_train_cv_nonpay, y_train_cv_nonpay)\n",
    "scores = []\n",
    "\n",
    "for k, (train, test) in enumerate(kfold):\n",
    "    clf_etc_nonpay.fit(X_train_cv_nonpay.iloc[train,:], y_train_cv_nonpay.iloc[train,])\n",
    "    score = f1(X_train_cv_nonpay.iloc[test,], y_train_cv_nonpay.iloc[test],clf_etc_nonpay,label_map)\n",
    "    scores.append(score)\n",
    "    print('Fold: %s, Class dist.: %s, F1: %.3f' % (k+1,np.bincount(y_train_cv_nonpay[train]), score))\n",
    "    \n",
    "print('\\nCV F1: %.3f +/- %.3f' % (np.mean(scores), np.std(scores)))"
   ]
  },
  {
   "cell_type": "code",
   "execution_count": null,
   "metadata": {},
   "outputs": [],
   "source": []
  },
  {
   "cell_type": "code",
   "execution_count": 25,
   "metadata": {},
   "outputs": [
    {
     "data": {
      "text/plain": [
       "['extra_tree_nonpayment.pkl']"
      ]
     },
     "execution_count": 25,
     "metadata": {},
     "output_type": "execute_result"
    }
   ],
   "source": [
    "# 모델저장\n",
    "joblib.dump(clf_etc_nonpay,'extra_tree_nonpayment.pkl')"
   ]
  },
  {
   "cell_type": "code",
   "execution_count": null,
   "metadata": {},
   "outputs": [],
   "source": []
  }
 ],
 "metadata": {
  "kernelspec": {
   "display_name": "Python 3",
   "language": "python",
   "name": "python3"
  },
  "language_info": {
   "codemirror_mode": {
    "name": "ipython",
    "version": 3
   },
   "file_extension": ".py",
   "mimetype": "text/x-python",
   "name": "python",
   "nbconvert_exporter": "python",
   "pygments_lexer": "ipython3",
   "version": "3.6.5"
  }
 },
 "nbformat": 4,
 "nbformat_minor": 2
}
