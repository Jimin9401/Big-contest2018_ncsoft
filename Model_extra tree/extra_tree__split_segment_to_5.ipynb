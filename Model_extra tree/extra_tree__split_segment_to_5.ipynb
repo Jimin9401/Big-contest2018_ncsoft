{
 "cells": [
  {
   "cell_type": "code",
   "execution_count": 1,
   "metadata": {},
   "outputs": [],
   "source": [
    "from sklearn.externals import joblib\n",
    "import matplotlib.pyplot as plt\n",
    "import pandas as pd\n",
    "import numpy as np\n",
    "from sklearn.ensemble import ExtraTreesClassifier\n",
    "from sklearn.model_selection import cross_val_score\n",
    "from sklearn.metrics import confusion_matrix,f1_score,precision_score,recall_score\n",
    "from sklearn.model_selection import StratifiedKFold\n",
    "from sklearn.naive_bayes import GaussianNB\n",
    "from sklearn.naive_bayes import MultinomialNB\n",
    "from sklearn.naive_bayes import BernoulliNB\n",
    "from sklearn.metrics import accuracy_score"
   ]
  },
  {
   "cell_type": "code",
   "execution_count": 2,
   "metadata": {},
   "outputs": [],
   "source": [
    "def f1(X_val, y_val, model,mapping):\n",
    "    \"\"\"\n",
    "    Model evaluation function for multiclass classification problem\n",
    "    1) F-1 score, Precision, Recall\n",
    "    2) ROC curve, PR curve는 추후에 생각\n",
    "    \"\"\"\n",
    " \n",
    "    #### predict the value\n",
    "    y_pred = model.predict(X_val)\n",
    "\n",
    "    \n",
    "    #print('-'*50)\n",
    "    #print('2. F1-score')\n",
    "    \n",
    "    # inverse pre/ rec\n",
    "    pre = precision_score(y_true = y_val, y_pred = y_pred, average=None)\n",
    "    rec = recall_score(y_true = y_val, y_pred = y_pred, average=None)\n",
    "\n",
    "    # f1 measure\n",
    "    f1_score = 8/(sum(1/pre) + sum(1/rec))\n",
    "    \n",
    "    # view - precision recall\n",
    "    table = pd.DataFrame([])\n",
    "\n",
    "    for i,k in enumerate(mapping.keys()):\n",
    "        table[k] = [pre[i],rec[i]]\n",
    "    table.index = ['precision','recall']\n",
    "    # print(table)\n",
    "    \n",
    "    # view - f1\n",
    "    #print('F1_score %.3f'%f1_score)d\n",
    "    #print('='*50)\n",
    "    return f1_score"
   ]
  },
  {
   "cell_type": "code",
   "execution_count": 3,
   "metadata": {},
   "outputs": [],
   "source": [
    "train_label=pd.read_csv('../lite_data/train_label_lite.csv')\n",
    "test_activity = pd.read_csv('../lite_data//test_activity_lite.csv')"
   ]
  },
  {
   "cell_type": "code",
   "execution_count": 4,
   "metadata": {
    "scrolled": true
   },
   "outputs": [],
   "source": [
    "X_test_index = test_activity.groupby(by='new_id',sort=False,as_index=False).sum().iloc[:,:1]\n"
   ]
  },
  {
   "cell_type": "code",
   "execution_count": 5,
   "metadata": {},
   "outputs": [],
   "source": [
    "X_train = pd.read_csv('../wook_workspace/X_train_extreme.csv')\n",
    "X_test = pd.read_csv('../wook_workspace/X_test_extreme.csv')\n",
    "\n",
    "X_train=pd.concat([train_label.iloc[:,:1],X_train],axis=1)\n",
    "X_test=pd.concat([X_test_index.iloc[:,:1],X_test],axis=1)\n",
    "\n",
    "train_act = pd.read_csv('../transformed/train_reaal_values_int.csv')\n",
    "test_act = pd.read_csv('../transformed/test_real_datas_int.csv')\n",
    "\n"
   ]
  },
  {
   "cell_type": "markdown",
   "metadata": {},
   "source": [
    "### Segmentation\n",
    "\n",
    "### 유저의 숙련도와 게임을 얼마나 몰입하는 유저인지 분류\n",
    "\n",
    ">S1 : 홍문 X heavy\n",
    "\n",
    ">S2 : 홍문 X light\n",
    "\n",
    ">S3 : 기본 X heavy\n",
    "\n",
    ">S4 : 기본 X light\n",
    "\n",
    ">S5 : 8주에 잠깐 들어온 유저"
   ]
  },
  {
   "cell_type": "code",
   "execution_count": 6,
   "metadata": {},
   "outputs": [],
   "source": [
    "#나머지 아웃라이어 분류\n",
    "train_outlier = set(train_act.groupby('new_id').sum().loc[train_act.groupby('new_id').sum().iloc[:,2:].sum(axis=1) == 8.0].index.tolist())\n",
    "test_outlier = set(test_act.groupby('new_id').sum().loc[test_act.groupby('new_id').sum().iloc[:,2:].sum(axis=1) == 8.0].index.tolist())"
   ]
  },
  {
   "cell_type": "code",
   "execution_count": 7,
   "metadata": {},
   "outputs": [],
   "source": [
    "#  홍문 유저와 기본 유저 분류\n",
    "#### hongmun\n",
    "train_hongmun = set(X_train.loc[X_train.npc_hongmun_by_play_time == 0,:].new_id.values)\n",
    "train_basic = set(X_train.loc[X_train.npc_hongmun_by_play_time != 0,:].new_id.values)\n",
    "\n",
    "#### basic\n",
    "test_hongmun = set(X_test.loc[X_test.npc_hongmun_by_play_time == 0,:].new_id.values)\n",
    "test_basic = set(X_test.loc[X_test.npc_hongmun_by_play_time != 0,:].new_id.values)"
   ]
  },
  {
   "cell_type": "code",
   "execution_count": 8,
   "metadata": {},
   "outputs": [],
   "source": [
    "# 헤비유저 라이트 유저 분류\n",
    "\n",
    "##### \n",
    "train_play = train_act.pivot(index='new_id',columns='wk',values='cnt_dt')\n",
    "train_play = (train_play > 0).rolling(window=3,axis=1).sum().iloc[:,2:]\n",
    "train_play = train_play.apply(lambda x:1 if 3.0 in x.tolist() else 0,axis=1)\n",
    "\n",
    "train_heavy = set(train_play.loc[train_play==1].index.tolist())\n",
    "train_light = set(train_play.loc[train_play==0].index.tolist())\n",
    "\n",
    "##### \n",
    "test_play = test_act.pivot(index='new_id',columns='wk',values='cnt_dt')\n",
    "test_play = (test_play > 0).rolling(window=3,axis=1).sum().iloc[:,2:]\n",
    "test_play = test_play.apply(lambda x:1 if 3.0 in x.tolist() else 0,axis=1)\n",
    "\n",
    "test_heavy = set(test_play.loc[test_play==1].index.tolist())\n",
    "test_light = set(test_play.loc[test_play==0].index.tolist())"
   ]
  },
  {
   "cell_type": "code",
   "execution_count": null,
   "metadata": {},
   "outputs": [],
   "source": []
  },
  {
   "cell_type": "code",
   "execution_count": 9,
   "metadata": {},
   "outputs": [],
   "source": [
    "#헤비 유저중에 홍문 유저 구별\n",
    "train_s1 = train_heavy.intersection(train_hongmun)\n",
    "test_s1 = test_heavy.intersection(test_hongmun)"
   ]
  },
  {
   "cell_type": "code",
   "execution_count": 10,
   "metadata": {},
   "outputs": [
    {
     "data": {
      "text/plain": [
       "21254"
      ]
     },
     "execution_count": 10,
     "metadata": {},
     "output_type": "execute_result"
    }
   ],
   "source": [
    "len(train_s1)"
   ]
  },
  {
   "cell_type": "code",
   "execution_count": 11,
   "metadata": {},
   "outputs": [],
   "source": [
    "#라이트 유저중 홍문 유저 구별\n",
    "train_s2 = train_light.difference(train_outlier).intersection(train_hongmun)\n",
    "test_s2 = test_light.difference(test_outlier).intersection(test_hongmun)"
   ]
  },
  {
   "cell_type": "code",
   "execution_count": 12,
   "metadata": {},
   "outputs": [],
   "source": [
    "# 헤비유저 중 기본 유저 구별\n",
    "train_s3 = train_heavy.intersection(train_basic)\n",
    "test_s3 = test_heavy.intersection(test_basic)"
   ]
  },
  {
   "cell_type": "code",
   "execution_count": 13,
   "metadata": {},
   "outputs": [
    {
     "data": {
      "text/plain": [
       "36176"
      ]
     },
     "execution_count": 13,
     "metadata": {},
     "output_type": "execute_result"
    }
   ],
   "source": [
    "len(train_s3)"
   ]
  },
  {
   "cell_type": "code",
   "execution_count": 14,
   "metadata": {},
   "outputs": [],
   "source": [
    "#라이트 유저중 기본유저 구별\n",
    "train_s4 = train_light.difference(train_outlier).intersection(train_basic)\n",
    "test_s4 = test_light.difference(test_outlier).intersection(test_basic)"
   ]
  },
  {
   "cell_type": "markdown",
   "metadata": {},
   "source": [
    "## Data_partition"
   ]
  },
  {
   "cell_type": "code",
   "execution_count": 15,
   "metadata": {},
   "outputs": [],
   "source": [
    "X_train_s1=pd.merge(X_train,pd.DataFrame(list(train_s1),columns=['new_id']),on='new_id').fillna(0)\n",
    "\n",
    "X_train_s2=pd.merge(X_train,pd.DataFrame(list(train_s2),columns=['new_id']),on='new_id').fillna(0)\n",
    "\n",
    "X_train_s3=pd.merge(X_train,pd.DataFrame(list(train_s3),columns=['new_id']),on='new_id').fillna(0)\n",
    "\n",
    "X_train_s4=pd.merge(X_train,pd.DataFrame(list(train_s4),columns=['new_id']),on='new_id').fillna(0)\n",
    "\n",
    "X_train_outlier=pd.merge(X_train,pd.DataFrame(list(train_outlier),columns=['new_id']),on='new_id').fillna(0)"
   ]
  },
  {
   "cell_type": "code",
   "execution_count": 16,
   "metadata": {},
   "outputs": [],
   "source": [
    "y_train=train_label.copy()\n",
    "dic={'retained':0,'2month':1,'month':2,'week':3}\n",
    "y_train.iloc[:,1]=[dic[i] for i in y_train.label]"
   ]
  },
  {
   "cell_type": "code",
   "execution_count": 17,
   "metadata": {},
   "outputs": [],
   "source": [
    "y_train_s1=pd.merge(y_train,X_train_s1.iloc[:,:1],on='new_id')\n",
    "\n",
    "y_train_s2=pd.merge(y_train,X_train_s2.iloc[:,:1],on='new_id')\n",
    "\n",
    "y_train_s3=pd.merge(y_train,X_train_s3.iloc[:,:1],on='new_id')\n",
    "\n",
    "y_train_s4=pd.merge(y_train,X_train_s4.iloc[:,:1],on='new_id')\n",
    "\n",
    "y_train_outlier=pd.merge(y_train,X_train_outlier.iloc[:,:1],on='new_id')"
   ]
  },
  {
   "cell_type": "code",
   "execution_count": 18,
   "metadata": {},
   "outputs": [],
   "source": [
    "def f1(X_val, y_val, model,mapping):\n",
    "    \"\"\"\n",
    "    Model evaluation function for multiclass classification problem\n",
    "    1) F-1 score, Precision, Recall\n",
    "    2) ROC curve, PR curve는 추후에 생각\n",
    "    \"\"\"\n",
    " \n",
    "    #### predict the value\n",
    "    y_pred = model.predict(X_val)\n",
    "\n",
    "    \n",
    "    #print('-'*50)\n",
    "    #print('2. F1-score')\n",
    "    \n",
    "    # inverse pre/ rec\n",
    "    pre = precision_score(y_true = y_val, y_pred = y_pred, average=None)\n",
    "    rec = recall_score(y_true = y_val, y_pred = y_pred, average=None)\n",
    "\n",
    "    # f1 measure\n",
    "    f1_score = 8/(sum(1/pre) + sum(1/rec))\n",
    "    \n",
    "    # view - precision recall\n",
    "    table = pd.DataFrame([])\n",
    "\n",
    "    for i,k in enumerate(mapping.keys()):\n",
    "        table[k] = [pre[i],rec[i]]\n",
    "    table.index = ['precision','recall']\n",
    "    # print(table)\n",
    "    \n",
    "    # view - f1\n",
    "    #print('F1_score %.3f'%f1_score)\n",
    "    #print('='*50)\n",
    "    return f1_score"
   ]
  },
  {
   "cell_type": "markdown",
   "metadata": {},
   "source": [
    "# S1집단 모델링"
   ]
  },
  {
   "cell_type": "code",
   "execution_count": 19,
   "metadata": {},
   "outputs": [],
   "source": [
    "X_train_cv_s1=X_train_s1.iloc[:,1:].copy()\n",
    "y_train_cv_s1=y_train_s1.iloc[:,1].copy()"
   ]
  },
  {
   "cell_type": "code",
   "execution_count": 20,
   "metadata": {},
   "outputs": [],
   "source": [
    "clf_etc_s1=ExtraTreesClassifier(verbose=1,criterion='gini',max_depth = 19,\n",
    "                             max_features = 350, min_samples_leaf = 1,n_estimators=300,random_state= 7, n_jobs=-1)"
   ]
  },
  {
   "cell_type": "code",
   "execution_count": 21,
   "metadata": {
    "scrolled": false
   },
   "outputs": [
    {
     "name": "stderr",
     "output_type": "stream",
     "text": [
      "[Parallel(n_jobs=-1)]: Done  88 tasks      | elapsed:    1.8s\n",
      "[Parallel(n_jobs=-1)]: Done 300 out of 300 | elapsed:    4.2s finished\n",
      "[Parallel(n_jobs=56)]: Done  88 tasks      | elapsed:    0.1s\n",
      "[Parallel(n_jobs=56)]: Done 300 out of 300 | elapsed:    0.2s finished\n"
     ]
    },
    {
     "name": "stdout",
     "output_type": "stream",
     "text": [
      "Fold: 1, Class dist.: [5168 7634 3829  370], F1: 0.600\n"
     ]
    },
    {
     "name": "stderr",
     "output_type": "stream",
     "text": [
      "[Parallel(n_jobs=-1)]: Done  88 tasks      | elapsed:    1.7s\n",
      "[Parallel(n_jobs=-1)]: Done 300 out of 300 | elapsed:    4.3s finished\n",
      "[Parallel(n_jobs=56)]: Done  88 tasks      | elapsed:    0.1s\n",
      "[Parallel(n_jobs=56)]: Done 300 out of 300 | elapsed:    0.2s finished\n"
     ]
    },
    {
     "name": "stdout",
     "output_type": "stream",
     "text": [
      "Fold: 2, Class dist.: [5169 7634 3829  370], F1: 0.625\n"
     ]
    },
    {
     "name": "stderr",
     "output_type": "stream",
     "text": [
      "[Parallel(n_jobs=-1)]: Done  88 tasks      | elapsed:    1.6s\n",
      "[Parallel(n_jobs=-1)]: Done 300 out of 300 | elapsed:    4.3s finished\n",
      "[Parallel(n_jobs=56)]: Done  88 tasks      | elapsed:    0.1s\n",
      "[Parallel(n_jobs=56)]: Done 300 out of 300 | elapsed:    0.2s finished\n"
     ]
    },
    {
     "name": "stdout",
     "output_type": "stream",
     "text": [
      "Fold: 3, Class dist.: [5169 7634 3830  370], F1: 0.606\n"
     ]
    },
    {
     "name": "stderr",
     "output_type": "stream",
     "text": [
      "[Parallel(n_jobs=-1)]: Done  88 tasks      | elapsed:    1.5s\n",
      "[Parallel(n_jobs=-1)]: Done 300 out of 300 | elapsed:    4.1s finished\n",
      "[Parallel(n_jobs=56)]: Done  88 tasks      | elapsed:    0.1s\n",
      "[Parallel(n_jobs=56)]: Done 300 out of 300 | elapsed:    0.2s finished\n"
     ]
    },
    {
     "name": "stdout",
     "output_type": "stream",
     "text": [
      "Fold: 4, Class dist.: [5169 7635 3830  371], F1: 0.635\n"
     ]
    },
    {
     "name": "stderr",
     "output_type": "stream",
     "text": [
      "[Parallel(n_jobs=-1)]: Done  88 tasks      | elapsed:    1.5s\n",
      "[Parallel(n_jobs=-1)]: Done 300 out of 300 | elapsed:    4.3s finished\n",
      "[Parallel(n_jobs=56)]: Done  88 tasks      | elapsed:    0.1s\n"
     ]
    },
    {
     "name": "stdout",
     "output_type": "stream",
     "text": [
      "Fold: 5, Class dist.: [5169 7635 3830  371], F1: 0.591\n",
      "\n",
      "CV F1: 0.611 +/- 0.016\n"
     ]
    },
    {
     "name": "stderr",
     "output_type": "stream",
     "text": [
      "[Parallel(n_jobs=56)]: Done 300 out of 300 | elapsed:    0.2s finished\n"
     ]
    }
   ],
   "source": [
    "#### cross validation\n",
    "kfold = StratifiedKFold(n_splits = 5 ,random_state = 7).split(X_train_cv_s1, y_train_cv_s1)\n",
    "scores = []\n",
    "\n",
    "for k, (train, test) in enumerate(kfold):\n",
    "    clf_etc_s1.fit(X_train_cv_s1.iloc[train,:], y_train_cv_s1.iloc[train,])\n",
    "    score = f1(X_train_cv_s1.iloc[test,], y_train_cv_s1.iloc[test],clf_etc_s1,dic)\n",
    "    scores.append(score)\n",
    "    print('Fold: %s, Class dist.: %s, F1: %.3f' % (k+1,np.bincount(y_train_cv_s1[train]), score))\n",
    "    \n",
    "print('\\nCV F1: %.3f +/- %.3f' % (np.mean(scores), np.std(scores)))"
   ]
  },
  {
   "cell_type": "code",
   "execution_count": 22,
   "metadata": {},
   "outputs": [
    {
     "name": "stderr",
     "output_type": "stream",
     "text": [
      "[Parallel(n_jobs=-1)]: Done  88 tasks      | elapsed:    1.5s\n",
      "[Parallel(n_jobs=-1)]: Done 300 out of 300 | elapsed:    4.1s finished\n",
      "[Parallel(n_jobs=56)]: Done  88 tasks      | elapsed:    0.1s\n",
      "[Parallel(n_jobs=56)]: Done 300 out of 300 | elapsed:    0.2s finished\n"
     ]
    },
    {
     "name": "stdout",
     "output_type": "stream",
     "text": [
      "Fold: 1, Class dist.: [5168 7634 3829  370], Acc: 0.691\n"
     ]
    },
    {
     "name": "stderr",
     "output_type": "stream",
     "text": [
      "[Parallel(n_jobs=-1)]: Done  88 tasks      | elapsed:    1.6s\n",
      "[Parallel(n_jobs=-1)]: Done 300 out of 300 | elapsed:    4.2s finished\n",
      "[Parallel(n_jobs=56)]: Done  88 tasks      | elapsed:    0.1s\n",
      "[Parallel(n_jobs=56)]: Done 300 out of 300 | elapsed:    0.2s finished\n"
     ]
    },
    {
     "name": "stdout",
     "output_type": "stream",
     "text": [
      "Fold: 2, Class dist.: [5169 7634 3829  370], Acc: 0.703\n"
     ]
    },
    {
     "name": "stderr",
     "output_type": "stream",
     "text": [
      "[Parallel(n_jobs=-1)]: Done  88 tasks      | elapsed:    1.6s\n",
      "[Parallel(n_jobs=-1)]: Done 300 out of 300 | elapsed:    4.0s finished\n",
      "[Parallel(n_jobs=56)]: Done  88 tasks      | elapsed:    0.1s\n",
      "[Parallel(n_jobs=56)]: Done 300 out of 300 | elapsed:    0.2s finished\n"
     ]
    },
    {
     "name": "stdout",
     "output_type": "stream",
     "text": [
      "Fold: 3, Class dist.: [5169 7634 3830  370], Acc: 0.691\n"
     ]
    },
    {
     "name": "stderr",
     "output_type": "stream",
     "text": [
      "[Parallel(n_jobs=-1)]: Done  88 tasks      | elapsed:    1.6s\n",
      "[Parallel(n_jobs=-1)]: Done 300 out of 300 | elapsed:    4.5s finished\n",
      "[Parallel(n_jobs=56)]: Done  88 tasks      | elapsed:    0.1s\n",
      "[Parallel(n_jobs=56)]: Done 300 out of 300 | elapsed:    0.2s finished\n"
     ]
    },
    {
     "name": "stdout",
     "output_type": "stream",
     "text": [
      "Fold: 4, Class dist.: [5169 7635 3830  371], Acc: 0.699\n"
     ]
    },
    {
     "name": "stderr",
     "output_type": "stream",
     "text": [
      "[Parallel(n_jobs=-1)]: Done  88 tasks      | elapsed:    1.7s\n",
      "[Parallel(n_jobs=-1)]: Done 300 out of 300 | elapsed:    4.3s finished\n",
      "[Parallel(n_jobs=56)]: Done  88 tasks      | elapsed:    0.1s\n"
     ]
    },
    {
     "name": "stdout",
     "output_type": "stream",
     "text": [
      "Fold: 5, Class dist.: [5169 7635 3830  371], Acc: 0.689\n",
      "\n",
      "CV Acc: 0.695 +/- 0.006\n"
     ]
    },
    {
     "name": "stderr",
     "output_type": "stream",
     "text": [
      "[Parallel(n_jobs=56)]: Done 300 out of 300 | elapsed:    0.2s finished\n"
     ]
    }
   ],
   "source": [
    "#### cross validation\n",
    "\n",
    "### accuracy _score\n",
    "kfold = StratifiedKFold(n_splits = 5 ,random_state = 7).split(X_train_cv_s1, y_train_cv_s1)\n",
    "scores = []\n",
    "\n",
    "for k, (train, test) in enumerate(kfold):\n",
    "    clf_etc_s1.fit(X_train_cv_s1.iloc[train,:], y_train_cv_s1.iloc[train,])\n",
    "    score = accuracy_score(y_pred=clf_etc_s1.predict(X_train_cv_s1.iloc[test,]), y_true=y_train_cv_s1.iloc[test])\n",
    "    \n",
    "    scores.append(score)\n",
    "    print('Fold: %s, Class dist.: %s, Acc: %.3f' % (k+1,np.bincount(y_train_cv_s1[train]), score))\n",
    "    \n",
    "print('\\nCV Acc: %.3f +/- %.3f' % (np.mean(scores), np.std(scores)))"
   ]
  },
  {
   "cell_type": "code",
   "execution_count": 39,
   "metadata": {},
   "outputs": [
    {
     "data": {
      "text/plain": [
       "['extra_tree_for_s1.pkl']"
      ]
     },
     "execution_count": 39,
     "metadata": {},
     "output_type": "execute_result"
    }
   ],
   "source": [
    "#모델 저장\n",
    "\n",
    "joblib.dump(clf_etc_s1,'extra_tree_for_s1.pkl')"
   ]
  },
  {
   "cell_type": "markdown",
   "metadata": {},
   "source": [
    "# S2 집단 모델링"
   ]
  },
  {
   "cell_type": "code",
   "execution_count": 23,
   "metadata": {},
   "outputs": [],
   "source": [
    "clf_etc_s2=ExtraTreesClassifier(verbose=1,criterion='gini',max_depth = 19,\n",
    "                             max_features = 350, min_samples_leaf = 1,n_estimators=300,random_state= 7, n_jobs=-1)"
   ]
  },
  {
   "cell_type": "code",
   "execution_count": 24,
   "metadata": {},
   "outputs": [],
   "source": [
    "X_train_cv_s2=X_train_s2.iloc[:,1:].copy()\n",
    "y_train_cv_s2=y_train_s2.iloc[:,1].copy()"
   ]
  },
  {
   "cell_type": "code",
   "execution_count": 25,
   "metadata": {},
   "outputs": [
    {
     "name": "stderr",
     "output_type": "stream",
     "text": [
      "[Parallel(n_jobs=-1)]: Done  88 tasks      | elapsed:    1.3s\n",
      "[Parallel(n_jobs=-1)]: Done 300 out of 300 | elapsed:    3.3s finished\n",
      "[Parallel(n_jobs=56)]: Done  88 tasks      | elapsed:    0.1s\n",
      "[Parallel(n_jobs=56)]: Done 300 out of 300 | elapsed:    0.2s finished\n"
     ]
    },
    {
     "name": "stdout",
     "output_type": "stream",
     "text": [
      "Fold: 1, Class dist.: [1229 6431 5046 2784], F1: 0.391\n"
     ]
    },
    {
     "name": "stderr",
     "output_type": "stream",
     "text": [
      "[Parallel(n_jobs=-1)]: Done  88 tasks      | elapsed:    1.1s\n",
      "[Parallel(n_jobs=-1)]: Done 300 out of 300 | elapsed:    3.1s finished\n",
      "[Parallel(n_jobs=56)]: Done  88 tasks      | elapsed:    0.1s\n",
      "[Parallel(n_jobs=56)]: Done 300 out of 300 | elapsed:    0.2s finished\n"
     ]
    },
    {
     "name": "stdout",
     "output_type": "stream",
     "text": [
      "Fold: 2, Class dist.: [1229 6431 5046 2784], F1: 0.411\n"
     ]
    },
    {
     "name": "stderr",
     "output_type": "stream",
     "text": [
      "[Parallel(n_jobs=-1)]: Done  88 tasks      | elapsed:    1.1s\n",
      "[Parallel(n_jobs=-1)]: Done 300 out of 300 | elapsed:    3.0s finished\n",
      "[Parallel(n_jobs=56)]: Done  88 tasks      | elapsed:    0.1s\n",
      "[Parallel(n_jobs=56)]: Done 300 out of 300 | elapsed:    0.2s finished\n"
     ]
    },
    {
     "name": "stdout",
     "output_type": "stream",
     "text": [
      "Fold: 3, Class dist.: [1230 6431 5046 2784], F1: 0.423\n"
     ]
    },
    {
     "name": "stderr",
     "output_type": "stream",
     "text": [
      "[Parallel(n_jobs=-1)]: Done  88 tasks      | elapsed:    1.4s\n",
      "[Parallel(n_jobs=-1)]: Done 300 out of 300 | elapsed:    3.4s finished\n",
      "[Parallel(n_jobs=56)]: Done  88 tasks      | elapsed:    0.1s\n",
      "[Parallel(n_jobs=56)]: Done 300 out of 300 | elapsed:    0.2s finished\n"
     ]
    },
    {
     "name": "stdout",
     "output_type": "stream",
     "text": [
      "Fold: 4, Class dist.: [1230 6431 5047 2784], F1: 0.407\n"
     ]
    },
    {
     "name": "stderr",
     "output_type": "stream",
     "text": [
      "[Parallel(n_jobs=-1)]: Done  88 tasks      | elapsed:    1.1s\n",
      "[Parallel(n_jobs=-1)]: Done 300 out of 300 | elapsed:    3.0s finished\n"
     ]
    },
    {
     "name": "stdout",
     "output_type": "stream",
     "text": [
      "Fold: 5, Class dist.: [1230 6432 5047 2784], F1: 0.376\n",
      "\n",
      "CV F1: 0.402 +/- 0.016\n"
     ]
    },
    {
     "name": "stderr",
     "output_type": "stream",
     "text": [
      "[Parallel(n_jobs=56)]: Done  88 tasks      | elapsed:    0.1s\n",
      "[Parallel(n_jobs=56)]: Done 300 out of 300 | elapsed:    0.2s finished\n"
     ]
    }
   ],
   "source": [
    "#### cross validation\n",
    "kfold = StratifiedKFold(n_splits = 5 ,random_state = 7).split(X_train_cv_s2, y_train_cv_s2)\n",
    "scores = []\n",
    "\n",
    "for k, (train, test) in enumerate(kfold):\n",
    "    clf_etc_s2.fit(X_train_cv_s2.iloc[train,:], y_train_cv_s2.iloc[train,])\n",
    "    score = f1(X_train_cv_s2.iloc[test,], y_train_cv_s2.iloc[test],clf_etc_s2,dic)\n",
    "    scores.append(score)\n",
    "    print('Fold: %s, Class dist.: %s, F1: %.3f' % (k+1,np.bincount(y_train_cv_s2[train]), score))\n",
    "    \n",
    "print('\\nCV F1: %.3f +/- %.3f' % (np.mean(scores), np.std(scores)))"
   ]
  },
  {
   "cell_type": "code",
   "execution_count": 26,
   "metadata": {},
   "outputs": [
    {
     "name": "stderr",
     "output_type": "stream",
     "text": [
      "[Parallel(n_jobs=-1)]: Done  88 tasks      | elapsed:    1.2s\n",
      "[Parallel(n_jobs=-1)]: Done 300 out of 300 | elapsed:    3.2s finished\n",
      "[Parallel(n_jobs=56)]: Done  88 tasks      | elapsed:    0.1s\n",
      "[Parallel(n_jobs=56)]: Done 300 out of 300 | elapsed:    0.2s finished\n"
     ]
    },
    {
     "name": "stdout",
     "output_type": "stream",
     "text": [
      "Fold: 1, Class dist.: [1229 6431 5046 2784], Acc: 0.591\n"
     ]
    },
    {
     "name": "stderr",
     "output_type": "stream",
     "text": [
      "[Parallel(n_jobs=-1)]: Done  88 tasks      | elapsed:    1.1s\n",
      "[Parallel(n_jobs=-1)]: Done 300 out of 300 | elapsed:    3.0s finished\n",
      "[Parallel(n_jobs=56)]: Done  88 tasks      | elapsed:    0.1s\n",
      "[Parallel(n_jobs=56)]: Done 300 out of 300 | elapsed:    0.2s finished\n"
     ]
    },
    {
     "name": "stdout",
     "output_type": "stream",
     "text": [
      "Fold: 2, Class dist.: [1229 6431 5046 2784], Acc: 0.597\n"
     ]
    },
    {
     "name": "stderr",
     "output_type": "stream",
     "text": [
      "[Parallel(n_jobs=-1)]: Done  88 tasks      | elapsed:    1.2s\n",
      "[Parallel(n_jobs=-1)]: Done 300 out of 300 | elapsed:    3.2s finished\n",
      "[Parallel(n_jobs=56)]: Done  88 tasks      | elapsed:    0.1s\n",
      "[Parallel(n_jobs=56)]: Done 300 out of 300 | elapsed:    0.2s finished\n"
     ]
    },
    {
     "name": "stdout",
     "output_type": "stream",
     "text": [
      "Fold: 3, Class dist.: [1230 6431 5046 2784], Acc: 0.607\n"
     ]
    },
    {
     "name": "stderr",
     "output_type": "stream",
     "text": [
      "[Parallel(n_jobs=-1)]: Done  88 tasks      | elapsed:    1.5s\n",
      "[Parallel(n_jobs=-1)]: Done 300 out of 300 | elapsed:    3.5s finished\n",
      "[Parallel(n_jobs=56)]: Done  88 tasks      | elapsed:    0.1s\n",
      "[Parallel(n_jobs=56)]: Done 300 out of 300 | elapsed:    0.2s finished\n"
     ]
    },
    {
     "name": "stdout",
     "output_type": "stream",
     "text": [
      "Fold: 4, Class dist.: [1230 6431 5047 2784], Acc: 0.600\n"
     ]
    },
    {
     "name": "stderr",
     "output_type": "stream",
     "text": [
      "[Parallel(n_jobs=-1)]: Done  88 tasks      | elapsed:    1.4s\n",
      "[Parallel(n_jobs=-1)]: Done 300 out of 300 | elapsed:    3.3s finished\n",
      "[Parallel(n_jobs=56)]: Done  88 tasks      | elapsed:    0.1s\n",
      "[Parallel(n_jobs=56)]: Done 300 out of 300 | elapsed:    0.2s finished\n"
     ]
    },
    {
     "name": "stdout",
     "output_type": "stream",
     "text": [
      "Fold: 5, Class dist.: [1230 6432 5047 2784], Acc: 0.591\n",
      "\n",
      "CV Acc: 0.597 +/- 0.006\n"
     ]
    }
   ],
   "source": [
    "#### cross validation\n",
    "\n",
    "### accuracy _score\n",
    "kfold = StratifiedKFold(n_splits = 5 ,random_state = 7).split(X_train_cv_s2, y_train_cv_s2)\n",
    "scores = []\n",
    "\n",
    "for k, (train, test) in enumerate(kfold):\n",
    "    clf_etc_s2.fit(X_train_cv_s2.iloc[train,:], y_train_cv_s2.iloc[train,])\n",
    "    score = accuracy_score(y_pred=clf_etc_s2.predict(X_train_cv_s2.iloc[test,]), y_true=y_train_cv_s2.iloc[test])\n",
    "    \n",
    "    scores.append(score)\n",
    "    print('Fold: %s, Class dist.: %s, Acc: %.3f' % (k+1,np.bincount(y_train_cv_s2[train]), score))\n",
    "    \n",
    "print('\\nCV Acc: %.3f +/- %.3f' % (np.mean(scores), np.std(scores)))"
   ]
  },
  {
   "cell_type": "code",
   "execution_count": 40,
   "metadata": {},
   "outputs": [
    {
     "data": {
      "text/plain": [
       "['extra_tree_for_s2.pkl']"
      ]
     },
     "execution_count": 40,
     "metadata": {},
     "output_type": "execute_result"
    }
   ],
   "source": [
    "#모델 저장\n",
    "\n",
    "joblib.dump(clf_etc_s2,'extra_tree_for_s2.pkl')"
   ]
  },
  {
   "cell_type": "markdown",
   "metadata": {},
   "source": [
    "# S3 집단 모델링"
   ]
  },
  {
   "cell_type": "code",
   "execution_count": 27,
   "metadata": {},
   "outputs": [],
   "source": [
    "clf_etc_s3=ExtraTreesClassifier(verbose=1,criterion='gini',max_depth = 19,\n",
    "                             max_features = 350, min_samples_leaf = 1,n_estimators=300,random_state= 7, n_jobs=-1)"
   ]
  },
  {
   "cell_type": "code",
   "execution_count": 28,
   "metadata": {},
   "outputs": [],
   "source": [
    "X_train_cv_s3=X_train_s3.iloc[:,1:].copy()\n",
    "y_train_cv_s3=y_train_s3.iloc[:,1].copy()"
   ]
  },
  {
   "cell_type": "code",
   "execution_count": 29,
   "metadata": {},
   "outputs": [
    {
     "name": "stderr",
     "output_type": "stream",
     "text": [
      "[Parallel(n_jobs=-1)]: Done  88 tasks      | elapsed:    7.0s\n",
      "[Parallel(n_jobs=-1)]: Done 300 out of 300 | elapsed:   19.7s finished\n",
      "[Parallel(n_jobs=56)]: Done  88 tasks      | elapsed:    0.1s\n",
      "[Parallel(n_jobs=56)]: Done 300 out of 300 | elapsed:    0.2s finished\n"
     ]
    },
    {
     "name": "stdout",
     "output_type": "stream",
     "text": [
      "Fold: 1, Class dist.: [12742  3027  5868  7302], F1: 0.767\n"
     ]
    },
    {
     "name": "stderr",
     "output_type": "stream",
     "text": [
      "[Parallel(n_jobs=-1)]: Done  88 tasks      | elapsed:    7.8s\n",
      "[Parallel(n_jobs=-1)]: Done 300 out of 300 | elapsed:   20.4s finished\n",
      "[Parallel(n_jobs=56)]: Done  88 tasks      | elapsed:    0.1s\n",
      "[Parallel(n_jobs=56)]: Done 300 out of 300 | elapsed:    0.2s finished\n"
     ]
    },
    {
     "name": "stdout",
     "output_type": "stream",
     "text": [
      "Fold: 2, Class dist.: [12742  3027  5869  7302], F1: 0.764\n"
     ]
    },
    {
     "name": "stderr",
     "output_type": "stream",
     "text": [
      "[Parallel(n_jobs=-1)]: Done  88 tasks      | elapsed:    7.2s\n",
      "[Parallel(n_jobs=-1)]: Done 300 out of 300 | elapsed:   19.8s finished\n",
      "[Parallel(n_jobs=56)]: Done  88 tasks      | elapsed:    0.1s\n",
      "[Parallel(n_jobs=56)]: Done 300 out of 300 | elapsed:    0.2s finished\n"
     ]
    },
    {
     "name": "stdout",
     "output_type": "stream",
     "text": [
      "Fold: 3, Class dist.: [12742  3027  5869  7302], F1: 0.746\n"
     ]
    },
    {
     "name": "stderr",
     "output_type": "stream",
     "text": [
      "[Parallel(n_jobs=-1)]: Done  88 tasks      | elapsed:    7.4s\n",
      "[Parallel(n_jobs=-1)]: Done 300 out of 300 | elapsed:   19.9s finished\n",
      "[Parallel(n_jobs=56)]: Done  88 tasks      | elapsed:    0.1s\n",
      "[Parallel(n_jobs=56)]: Done 300 out of 300 | elapsed:    0.2s finished\n"
     ]
    },
    {
     "name": "stdout",
     "output_type": "stream",
     "text": [
      "Fold: 4, Class dist.: [12743  3027  5869  7303], F1: 0.750\n"
     ]
    },
    {
     "name": "stderr",
     "output_type": "stream",
     "text": [
      "[Parallel(n_jobs=-1)]: Done  88 tasks      | elapsed:    7.6s\n",
      "[Parallel(n_jobs=-1)]: Done 300 out of 300 | elapsed:   20.4s finished\n",
      "[Parallel(n_jobs=56)]: Done  88 tasks      | elapsed:    0.1s\n"
     ]
    },
    {
     "name": "stdout",
     "output_type": "stream",
     "text": [
      "Fold: 5, Class dist.: [12743  3028  5869  7303], F1: 0.743\n",
      "\n",
      "CV F1: 0.754 +/- 0.010\n"
     ]
    },
    {
     "name": "stderr",
     "output_type": "stream",
     "text": [
      "[Parallel(n_jobs=56)]: Done 300 out of 300 | elapsed:    0.2s finished\n"
     ]
    }
   ],
   "source": [
    "#### cross validation\n",
    "kfold = StratifiedKFold(n_splits = 5 ,random_state = 7).split(X_train_cv_s3, y_train_cv_s3)\n",
    "scores = []\n",
    "\n",
    "for k, (train, test) in enumerate(kfold):\n",
    "    clf_etc_s3.fit(X_train_cv_s3.iloc[train,:], y_train_cv_s3.iloc[train,])\n",
    "    score = f1(X_train_cv_s3.iloc[test,], y_train_cv_s3.iloc[test],clf_etc_s3,dic)\n",
    "    scores.append(score)\n",
    "    print('Fold: %s, Class dist.: %s, F1: %.3f' % (k+1,np.bincount(y_train_cv_s3[train]), score))\n",
    "    \n",
    "print('\\nCV F1: %.3f +/- %.3f' % (np.mean(scores), np.std(scores)))"
   ]
  },
  {
   "cell_type": "code",
   "execution_count": 30,
   "metadata": {},
   "outputs": [
    {
     "name": "stderr",
     "output_type": "stream",
     "text": [
      "[Parallel(n_jobs=-1)]: Done  88 tasks      | elapsed:    8.0s\n",
      "[Parallel(n_jobs=-1)]: Done 300 out of 300 | elapsed:   20.1s finished\n",
      "[Parallel(n_jobs=56)]: Done  88 tasks      | elapsed:    0.1s\n",
      "[Parallel(n_jobs=56)]: Done 300 out of 300 | elapsed:    0.2s finished\n"
     ]
    },
    {
     "name": "stdout",
     "output_type": "stream",
     "text": [
      "Fold: 1, Class dist.: [12742  3027  5868  7302], Acc: 0.845\n"
     ]
    },
    {
     "name": "stderr",
     "output_type": "stream",
     "text": [
      "[Parallel(n_jobs=-1)]: Done  88 tasks      | elapsed:    7.4s\n",
      "[Parallel(n_jobs=-1)]: Done 300 out of 300 | elapsed:   19.6s finished\n",
      "[Parallel(n_jobs=56)]: Done  88 tasks      | elapsed:    0.1s\n",
      "[Parallel(n_jobs=56)]: Done 300 out of 300 | elapsed:    0.2s finished\n"
     ]
    },
    {
     "name": "stdout",
     "output_type": "stream",
     "text": [
      "Fold: 2, Class dist.: [12742  3027  5869  7302], Acc: 0.847\n"
     ]
    },
    {
     "name": "stderr",
     "output_type": "stream",
     "text": [
      "[Parallel(n_jobs=-1)]: Done  88 tasks      | elapsed:    7.9s\n",
      "[Parallel(n_jobs=-1)]: Done 300 out of 300 | elapsed:   20.1s finished\n",
      "[Parallel(n_jobs=56)]: Done  88 tasks      | elapsed:    0.1s\n",
      "[Parallel(n_jobs=56)]: Done 300 out of 300 | elapsed:    0.2s finished\n"
     ]
    },
    {
     "name": "stdout",
     "output_type": "stream",
     "text": [
      "Fold: 3, Class dist.: [12742  3027  5869  7302], Acc: 0.843\n"
     ]
    },
    {
     "name": "stderr",
     "output_type": "stream",
     "text": [
      "[Parallel(n_jobs=-1)]: Done  88 tasks      | elapsed:    6.8s\n",
      "[Parallel(n_jobs=-1)]: Done 300 out of 300 | elapsed:   19.3s finished\n",
      "[Parallel(n_jobs=56)]: Done  88 tasks      | elapsed:    0.1s\n",
      "[Parallel(n_jobs=56)]: Done 300 out of 300 | elapsed:    0.2s finished\n"
     ]
    },
    {
     "name": "stdout",
     "output_type": "stream",
     "text": [
      "Fold: 4, Class dist.: [12743  3027  5869  7303], Acc: 0.839\n"
     ]
    },
    {
     "name": "stderr",
     "output_type": "stream",
     "text": [
      "[Parallel(n_jobs=-1)]: Done  88 tasks      | elapsed:    7.6s\n",
      "[Parallel(n_jobs=-1)]: Done 300 out of 300 | elapsed:   19.6s finished\n",
      "[Parallel(n_jobs=56)]: Done  88 tasks      | elapsed:    0.1s\n"
     ]
    },
    {
     "name": "stdout",
     "output_type": "stream",
     "text": [
      "Fold: 5, Class dist.: [12743  3028  5869  7303], Acc: 0.841\n",
      "\n",
      "CV Acc: 0.843 +/- 0.003\n"
     ]
    },
    {
     "name": "stderr",
     "output_type": "stream",
     "text": [
      "[Parallel(n_jobs=56)]: Done 300 out of 300 | elapsed:    0.2s finished\n"
     ]
    }
   ],
   "source": [
    "#### cross validation\n",
    "\n",
    "### accuracy _score\n",
    "kfold = StratifiedKFold(n_splits = 5 ,random_state = 7).split(X_train_cv_s3, y_train_cv_s3)\n",
    "scores = []\n",
    "\n",
    "for k, (train, test) in enumerate(kfold):\n",
    "    clf_etc_s3.fit(X_train_cv_s3.iloc[train,:], y_train_cv_s3.iloc[train,])\n",
    "    score = accuracy_score(y_pred=clf_etc_s3.predict(X_train_cv_s3.iloc[test,]), y_true=y_train_cv_s3.iloc[test])\n",
    "    \n",
    "    scores.append(score)\n",
    "    print('Fold: %s, Class dist.: %s, Acc: %.3f' % (k+1,np.bincount(y_train_cv_s3[train]), score))\n",
    "    \n",
    "print('\\nCV Acc: %.3f +/- %.3f' % (np.mean(scores), np.std(scores)))"
   ]
  },
  {
   "cell_type": "code",
   "execution_count": 41,
   "metadata": {},
   "outputs": [
    {
     "data": {
      "text/plain": [
       "['extra_tree_for_s3.pkl']"
      ]
     },
     "execution_count": 41,
     "metadata": {},
     "output_type": "execute_result"
    }
   ],
   "source": [
    "#모델 저장\n",
    "\n",
    "joblib.dump(clf_etc_s3,'extra_tree_for_s3.pkl')"
   ]
  },
  {
   "cell_type": "markdown",
   "metadata": {},
   "source": [
    "# S4 집단 모델링"
   ]
  },
  {
   "cell_type": "code",
   "execution_count": 31,
   "metadata": {},
   "outputs": [],
   "source": [
    "clf_etc_s4=ExtraTreesClassifier(verbose=1,criterion='gini',max_depth = 19,\n",
    "                             max_features = 350, min_samples_leaf = 1,n_estimators=300,random_state= 7, n_jobs=-1)"
   ]
  },
  {
   "cell_type": "code",
   "execution_count": 32,
   "metadata": {},
   "outputs": [],
   "source": [
    "X_train_cv_s4=X_train_s4.iloc[:,1:].copy()\n",
    "y_train_cv_s4=y_train_s4.iloc[:,1].copy()"
   ]
  },
  {
   "cell_type": "markdown",
   "metadata": {},
   "source": [
    "# F1"
   ]
  },
  {
   "cell_type": "code",
   "execution_count": 33,
   "metadata": {},
   "outputs": [
    {
     "name": "stderr",
     "output_type": "stream",
     "text": [
      "[Parallel(n_jobs=-1)]: Done  88 tasks      | elapsed:    1.8s\n",
      "[Parallel(n_jobs=-1)]: Done 300 out of 300 | elapsed:    4.2s finished\n",
      "[Parallel(n_jobs=56)]: Done  88 tasks      | elapsed:    0.1s\n",
      "[Parallel(n_jobs=56)]: Done 300 out of 300 | elapsed:    0.2s finished\n"
     ]
    },
    {
     "name": "stdout",
     "output_type": "stream",
     "text": [
      "Fold: 1, Class dist.: [ 612  477 2664 8748], F1: 0.652\n"
     ]
    },
    {
     "name": "stderr",
     "output_type": "stream",
     "text": [
      "[Parallel(n_jobs=-1)]: Done  88 tasks      | elapsed:    1.5s\n",
      "[Parallel(n_jobs=-1)]: Done 300 out of 300 | elapsed:    4.1s finished\n",
      "[Parallel(n_jobs=56)]: Done  88 tasks      | elapsed:    0.1s\n",
      "[Parallel(n_jobs=56)]: Done 300 out of 300 | elapsed:    0.2s finished\n"
     ]
    },
    {
     "name": "stdout",
     "output_type": "stream",
     "text": [
      "Fold: 2, Class dist.: [ 612  477 2665 8748], F1: 0.674\n"
     ]
    },
    {
     "name": "stderr",
     "output_type": "stream",
     "text": [
      "[Parallel(n_jobs=-1)]: Done  88 tasks      | elapsed:    1.8s\n",
      "[Parallel(n_jobs=-1)]: Done 300 out of 300 | elapsed:    4.5s finished\n",
      "[Parallel(n_jobs=56)]: Done  88 tasks      | elapsed:    0.1s\n",
      "[Parallel(n_jobs=56)]: Done 300 out of 300 | elapsed:    0.2s finished\n"
     ]
    },
    {
     "name": "stdout",
     "output_type": "stream",
     "text": [
      "Fold: 3, Class dist.: [ 612  478 2665 8748], F1: 0.671\n"
     ]
    },
    {
     "name": "stderr",
     "output_type": "stream",
     "text": [
      "[Parallel(n_jobs=-1)]: Done  88 tasks      | elapsed:    1.6s\n",
      "[Parallel(n_jobs=-1)]: Done 300 out of 300 | elapsed:    4.2s finished\n",
      "[Parallel(n_jobs=56)]: Done  88 tasks      | elapsed:    0.1s\n",
      "[Parallel(n_jobs=56)]: Done 300 out of 300 | elapsed:    0.2s finished\n"
     ]
    },
    {
     "name": "stdout",
     "output_type": "stream",
     "text": [
      "Fold: 4, Class dist.: [ 612  478 2665 8748], F1: 0.625\n"
     ]
    },
    {
     "name": "stderr",
     "output_type": "stream",
     "text": [
      "[Parallel(n_jobs=-1)]: Done  88 tasks      | elapsed:    1.7s\n",
      "[Parallel(n_jobs=-1)]: Done 300 out of 300 | elapsed:    4.1s finished\n",
      "[Parallel(n_jobs=56)]: Done  88 tasks      | elapsed:    0.1s\n",
      "[Parallel(n_jobs=56)]: Done 300 out of 300 | elapsed:    0.2s finished\n"
     ]
    },
    {
     "name": "stdout",
     "output_type": "stream",
     "text": [
      "Fold: 5, Class dist.: [ 612  478 2665 8748], F1: 0.632\n",
      "\n",
      "CV F1: 0.651 +/- 0.020\n"
     ]
    }
   ],
   "source": [
    "#### cross validation\n",
    "kfold = StratifiedKFold(n_splits = 5 ,random_state = 7).split(X_train_cv_s4, y_train_cv_s4)\n",
    "scores = []\n",
    "\n",
    "for k, (train, test) in enumerate(kfold):\n",
    "    clf_etc_s4.fit(X_train_cv_s4.iloc[train,:], y_train_cv_s4.iloc[train,])\n",
    "    score = f1(X_train_cv_s4.iloc[test,], y_train_cv_s4.iloc[test],clf_etc_s4,dic)\n",
    "    scores.append(score)\n",
    "    print('Fold: %s, Class dist.: %s, F1: %.3f' % (k+1,np.bincount(y_train_cv_s4[train]), score))\n",
    "    \n",
    "print('\\nCV F1: %.3f +/- %.3f' % (np.mean(scores), np.std(scores)))"
   ]
  },
  {
   "cell_type": "markdown",
   "metadata": {},
   "source": [
    "# Accuracy Score"
   ]
  },
  {
   "cell_type": "code",
   "execution_count": 34,
   "metadata": {},
   "outputs": [
    {
     "name": "stderr",
     "output_type": "stream",
     "text": [
      "[Parallel(n_jobs=-1)]: Done  88 tasks      | elapsed:    1.4s\n",
      "[Parallel(n_jobs=-1)]: Done 300 out of 300 | elapsed:    3.6s finished\n",
      "[Parallel(n_jobs=56)]: Done  88 tasks      | elapsed:    0.1s\n",
      "[Parallel(n_jobs=56)]: Done 300 out of 300 | elapsed:    0.2s finished\n"
     ]
    },
    {
     "name": "stdout",
     "output_type": "stream",
     "text": [
      "Fold: 1, Class dist.: [ 612  477 2664 8748], Acc: 0.859\n"
     ]
    },
    {
     "name": "stderr",
     "output_type": "stream",
     "text": [
      "[Parallel(n_jobs=-1)]: Done  88 tasks      | elapsed:    1.7s\n",
      "[Parallel(n_jobs=-1)]: Done 300 out of 300 | elapsed:    4.2s finished\n",
      "[Parallel(n_jobs=56)]: Done  88 tasks      | elapsed:    0.1s\n",
      "[Parallel(n_jobs=56)]: Done 300 out of 300 | elapsed:    0.2s finished\n"
     ]
    },
    {
     "name": "stdout",
     "output_type": "stream",
     "text": [
      "Fold: 2, Class dist.: [ 612  477 2665 8748], Acc: 0.864\n"
     ]
    },
    {
     "name": "stderr",
     "output_type": "stream",
     "text": [
      "[Parallel(n_jobs=-1)]: Done  88 tasks      | elapsed:    1.6s\n",
      "[Parallel(n_jobs=-1)]: Done 300 out of 300 | elapsed:    3.9s finished\n",
      "[Parallel(n_jobs=56)]: Done  88 tasks      | elapsed:    0.1s\n",
      "[Parallel(n_jobs=56)]: Done 300 out of 300 | elapsed:    0.2s finished\n"
     ]
    },
    {
     "name": "stdout",
     "output_type": "stream",
     "text": [
      "Fold: 3, Class dist.: [ 612  478 2665 8748], Acc: 0.863\n"
     ]
    },
    {
     "name": "stderr",
     "output_type": "stream",
     "text": [
      "[Parallel(n_jobs=-1)]: Done  88 tasks      | elapsed:    1.3s\n",
      "[Parallel(n_jobs=-1)]: Done 300 out of 300 | elapsed:    3.6s finished\n",
      "[Parallel(n_jobs=56)]: Done  88 tasks      | elapsed:    0.1s\n",
      "[Parallel(n_jobs=56)]: Done 300 out of 300 | elapsed:    0.2s finished\n"
     ]
    },
    {
     "name": "stdout",
     "output_type": "stream",
     "text": [
      "Fold: 4, Class dist.: [ 612  478 2665 8748], Acc: 0.861\n"
     ]
    },
    {
     "name": "stderr",
     "output_type": "stream",
     "text": [
      "[Parallel(n_jobs=-1)]: Done  88 tasks      | elapsed:    1.6s\n",
      "[Parallel(n_jobs=-1)]: Done 300 out of 300 | elapsed:    4.0s finished\n",
      "[Parallel(n_jobs=56)]: Done  88 tasks      | elapsed:    0.1s\n"
     ]
    },
    {
     "name": "stdout",
     "output_type": "stream",
     "text": [
      "Fold: 5, Class dist.: [ 612  478 2665 8748], Acc: 0.860\n",
      "\n",
      "CV Acc: 0.861 +/- 0.002\n"
     ]
    },
    {
     "name": "stderr",
     "output_type": "stream",
     "text": [
      "[Parallel(n_jobs=56)]: Done 300 out of 300 | elapsed:    0.2s finished\n"
     ]
    }
   ],
   "source": [
    "#### cross validation\n",
    "\n",
    "### accuracy _score\n",
    "kfold = StratifiedKFold(n_splits = 5 ,random_state = 7).split(X_train_cv_s4, y_train_cv_s4)\n",
    "scores = []\n",
    "\n",
    "for k, (train, test) in enumerate(kfold):\n",
    "    clf_etc_s4.fit(X_train_cv_s4.iloc[train,:], y_train_cv_s4.iloc[train,])\n",
    "    score = accuracy_score(y_pred=clf_etc_s4.predict(X_train_cv_s4.iloc[test,]), y_true=y_train_cv_s4.iloc[test])\n",
    "    \n",
    "    scores.append(score)\n",
    "    print('Fold: %s, Class dist.: %s, Acc: %.3f' % (k+1,np.bincount(y_train_cv_s4[train]), score))\n",
    "    \n",
    "print('\\nCV Acc: %.3f +/- %.3f' % (np.mean(scores), np.std(scores)))"
   ]
  },
  {
   "cell_type": "code",
   "execution_count": 42,
   "metadata": {},
   "outputs": [
    {
     "data": {
      "text/plain": [
       "['extra_tree_for_s4.pkl']"
      ]
     },
     "execution_count": 42,
     "metadata": {},
     "output_type": "execute_result"
    }
   ],
   "source": [
    "#모델 저장\n",
    "\n",
    "joblib.dump(clf_etc_s4,'extra_tree_for_s4.pkl')"
   ]
  },
  {
   "cell_type": "markdown",
   "metadata": {},
   "source": [
    "# Outlier 집단 모델링"
   ]
  },
  {
   "cell_type": "code",
   "execution_count": 35,
   "metadata": {},
   "outputs": [],
   "source": [
    "clf_etc_outlier=ExtraTreesClassifier(verbose=1,criterion='gini',max_depth = 19,\n",
    "                             max_features = 350, min_samples_leaf = 1,n_estimators=300,random_state= 7, n_jobs=-1)"
   ]
  },
  {
   "cell_type": "code",
   "execution_count": 36,
   "metadata": {},
   "outputs": [],
   "source": [
    "X_train_cv_outlier=X_train_outlier.iloc[:,1:].copy()\n",
    "y_train_cv_outlier=y_train_outlier.iloc[:,1].copy()"
   ]
  },
  {
   "cell_type": "markdown",
   "metadata": {},
   "source": [
    "# F1"
   ]
  },
  {
   "cell_type": "code",
   "execution_count": 37,
   "metadata": {},
   "outputs": [
    {
     "name": "stderr",
     "output_type": "stream",
     "text": [
      "[Parallel(n_jobs=-1)]: Done  88 tasks      | elapsed:    0.3s\n",
      "[Parallel(n_jobs=-1)]: Done 300 out of 300 | elapsed:    0.7s finished\n",
      "[Parallel(n_jobs=56)]: Done  88 tasks      | elapsed:    0.1s\n",
      "[Parallel(n_jobs=56)]: Done 300 out of 300 | elapsed:    0.2s finished\n"
     ]
    },
    {
     "name": "stdout",
     "output_type": "stream",
     "text": [
      "Fold: 1, Class dist.: [ 247 2429 2590  795], F1: 0.098\n"
     ]
    },
    {
     "name": "stderr",
     "output_type": "stream",
     "text": [
      "[Parallel(n_jobs=-1)]: Done  88 tasks      | elapsed:    0.4s\n",
      "[Parallel(n_jobs=-1)]: Done 300 out of 300 | elapsed:    0.8s finished\n",
      "[Parallel(n_jobs=56)]: Done  88 tasks      | elapsed:    0.1s\n",
      "[Parallel(n_jobs=56)]: Done 300 out of 300 | elapsed:    0.2s finished\n"
     ]
    },
    {
     "name": "stdout",
     "output_type": "stream",
     "text": [
      "Fold: 2, Class dist.: [ 247 2429 2590  795], F1: 0.231\n"
     ]
    },
    {
     "name": "stderr",
     "output_type": "stream",
     "text": [
      "[Parallel(n_jobs=-1)]: Done  88 tasks      | elapsed:    0.3s\n",
      "[Parallel(n_jobs=-1)]: Done 300 out of 300 | elapsed:    0.7s finished\n",
      "[Parallel(n_jobs=56)]: Done  88 tasks      | elapsed:    0.1s\n",
      "[Parallel(n_jobs=56)]: Done 300 out of 300 | elapsed:    0.2s finished\n"
     ]
    },
    {
     "name": "stdout",
     "output_type": "stream",
     "text": [
      "Fold: 3, Class dist.: [ 247 2430 2590  795], F1: 0.169\n"
     ]
    },
    {
     "name": "stderr",
     "output_type": "stream",
     "text": [
      "[Parallel(n_jobs=-1)]: Done  88 tasks      | elapsed:    0.3s\n",
      "[Parallel(n_jobs=-1)]: Done 300 out of 300 | elapsed:    0.7s finished\n",
      "[Parallel(n_jobs=56)]: Done  88 tasks      | elapsed:    0.1s\n",
      "[Parallel(n_jobs=56)]: Done 300 out of 300 | elapsed:    0.2s finished\n"
     ]
    },
    {
     "name": "stdout",
     "output_type": "stream",
     "text": [
      "Fold: 4, Class dist.: [ 247 2430 2591  795], F1: 0.212\n"
     ]
    },
    {
     "name": "stderr",
     "output_type": "stream",
     "text": [
      "[Parallel(n_jobs=-1)]: Done  88 tasks      | elapsed:    0.3s\n",
      "[Parallel(n_jobs=-1)]: Done 300 out of 300 | elapsed:    0.7s finished\n",
      "[Parallel(n_jobs=56)]: Done  88 tasks      | elapsed:    0.1s\n"
     ]
    },
    {
     "name": "stdout",
     "output_type": "stream",
     "text": [
      "Fold: 5, Class dist.: [ 248 2430 2591  796], F1: 0.287\n",
      "\n",
      "CV F1: 0.200 +/- 0.063\n"
     ]
    },
    {
     "name": "stderr",
     "output_type": "stream",
     "text": [
      "[Parallel(n_jobs=56)]: Done 300 out of 300 | elapsed:    0.2s finished\n"
     ]
    }
   ],
   "source": [
    "#### cross validation\n",
    "kfold = StratifiedKFold(n_splits = 5 ,random_state = 7).split(X_train_cv_outlier, y_train_cv_outlier)\n",
    "scores = []\n",
    "\n",
    "for k, (train, test) in enumerate(kfold):\n",
    "    clf_etc_outlier.fit(X_train_cv_outlier.iloc[train,:], y_train_cv_outlier.iloc[train,])\n",
    "    score = f1(X_train_cv_outlier.iloc[test,], y_train_cv_outlier.iloc[test],clf_etc_outlier,dic)\n",
    "    scores.append(score)\n",
    "    print('Fold: %s, Class dist.: %s, F1: %.3f' % (k+1,np.bincount(y_train_cv_outlier[train]), score))\n",
    "    \n",
    "print('\\nCV F1: %.3f +/- %.3f' % (np.mean(scores), np.std(scores)))"
   ]
  },
  {
   "cell_type": "markdown",
   "metadata": {},
   "source": [
    "# Accuracy Score"
   ]
  },
  {
   "cell_type": "code",
   "execution_count": 38,
   "metadata": {},
   "outputs": [
    {
     "name": "stderr",
     "output_type": "stream",
     "text": [
      "[Parallel(n_jobs=-1)]: Done  88 tasks      | elapsed:    0.3s\n",
      "[Parallel(n_jobs=-1)]: Done 300 out of 300 | elapsed:    0.7s finished\n",
      "[Parallel(n_jobs=56)]: Done  88 tasks      | elapsed:    0.1s\n",
      "[Parallel(n_jobs=56)]: Done 300 out of 300 | elapsed:    0.2s finished\n"
     ]
    },
    {
     "name": "stdout",
     "output_type": "stream",
     "text": [
      "Fold: 1, Class dist.: [ 247 2429 2590  795], Acc: 0.494\n"
     ]
    },
    {
     "name": "stderr",
     "output_type": "stream",
     "text": [
      "[Parallel(n_jobs=-1)]: Done  88 tasks      | elapsed:    0.3s\n",
      "[Parallel(n_jobs=-1)]: Done 300 out of 300 | elapsed:    0.7s finished\n",
      "[Parallel(n_jobs=56)]: Done  88 tasks      | elapsed:    0.1s\n",
      "[Parallel(n_jobs=56)]: Done 300 out of 300 | elapsed:    0.2s finished\n"
     ]
    },
    {
     "name": "stdout",
     "output_type": "stream",
     "text": [
      "Fold: 2, Class dist.: [ 247 2429 2590  795], Acc: 0.522\n"
     ]
    },
    {
     "name": "stderr",
     "output_type": "stream",
     "text": [
      "[Parallel(n_jobs=-1)]: Done  88 tasks      | elapsed:    0.3s\n",
      "[Parallel(n_jobs=-1)]: Done 300 out of 300 | elapsed:    0.7s finished\n",
      "[Parallel(n_jobs=56)]: Done  88 tasks      | elapsed:    0.1s\n",
      "[Parallel(n_jobs=56)]: Done 300 out of 300 | elapsed:    0.2s finished\n"
     ]
    },
    {
     "name": "stdout",
     "output_type": "stream",
     "text": [
      "Fold: 3, Class dist.: [ 247 2430 2590  795], Acc: 0.513\n"
     ]
    },
    {
     "name": "stderr",
     "output_type": "stream",
     "text": [
      "[Parallel(n_jobs=-1)]: Done  88 tasks      | elapsed:    0.3s\n",
      "[Parallel(n_jobs=-1)]: Done 300 out of 300 | elapsed:    0.7s finished\n",
      "[Parallel(n_jobs=56)]: Done  88 tasks      | elapsed:    0.1s\n",
      "[Parallel(n_jobs=56)]: Done 300 out of 300 | elapsed:    0.2s finished\n"
     ]
    },
    {
     "name": "stdout",
     "output_type": "stream",
     "text": [
      "Fold: 4, Class dist.: [ 247 2430 2591  795], Acc: 0.500\n"
     ]
    },
    {
     "name": "stderr",
     "output_type": "stream",
     "text": [
      "[Parallel(n_jobs=-1)]: Done  88 tasks      | elapsed:    0.3s\n",
      "[Parallel(n_jobs=-1)]: Done 300 out of 300 | elapsed:    0.7s finished\n",
      "[Parallel(n_jobs=56)]: Done  88 tasks      | elapsed:    0.1s\n"
     ]
    },
    {
     "name": "stdout",
     "output_type": "stream",
     "text": [
      "Fold: 5, Class dist.: [ 248 2430 2591  796], Acc: 0.496\n",
      "\n",
      "CV Acc: 0.505 +/- 0.011\n"
     ]
    },
    {
     "name": "stderr",
     "output_type": "stream",
     "text": [
      "[Parallel(n_jobs=56)]: Done 300 out of 300 | elapsed:    0.2s finished\n"
     ]
    }
   ],
   "source": [
    "#### cross validation\n",
    "\n",
    "### accuracy _score\n",
    "kfold = StratifiedKFold(n_splits = 5 ,random_state = 7).split(X_train_cv_outlier, y_train_cv_outlier)\n",
    "scores = []\n",
    "\n",
    "for k, (train, test) in enumerate(kfold):\n",
    "    clf_etc_outlier.fit(X_train_cv_outlier.iloc[train,:], y_train_cv_outlier.iloc[train,])\n",
    "    score = accuracy_score(y_pred=clf_etc_outlier.predict(X_train_cv_outlier.iloc[test,]), y_true=y_train_cv_outlier.iloc[test])\n",
    "    \n",
    "    scores.append(score)\n",
    "    print('Fold: %s, Class dist.: %s, Acc: %.3f' % (k+1,np.bincount(y_train_cv_outlier[train]), score))\n",
    "    \n",
    "print('\\nCV Acc: %.3f +/- %.3f' % (np.mean(scores), np.std(scores)))"
   ]
  },
  {
   "cell_type": "code",
   "execution_count": 43,
   "metadata": {},
   "outputs": [
    {
     "data": {
      "text/plain": [
       "['extra_tree_for_outlier.pkl']"
      ]
     },
     "execution_count": 43,
     "metadata": {},
     "output_type": "execute_result"
    }
   ],
   "source": [
    "#모델 저장\n",
    "\n",
    "joblib.dump(clf_etc_outlier,'extra_tree_for_outlier.pkl')"
   ]
  },
  {
   "cell_type": "code",
   "execution_count": null,
   "metadata": {},
   "outputs": [],
   "source": []
  }
 ],
 "metadata": {
  "kernelspec": {
   "display_name": "Python 3",
   "language": "python",
   "name": "python3"
  },
  "language_info": {
   "codemirror_mode": {
    "name": "ipython",
    "version": 3
   },
   "file_extension": ".py",
   "mimetype": "text/x-python",
   "name": "python",
   "nbconvert_exporter": "python",
   "pygments_lexer": "ipython3",
   "version": "3.6.5"
  }
 },
 "nbformat": 4,
 "nbformat_minor": 2
}
