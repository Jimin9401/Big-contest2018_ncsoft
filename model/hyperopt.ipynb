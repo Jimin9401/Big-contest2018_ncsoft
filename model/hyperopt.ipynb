{
 "cells": [
  {
   "cell_type": "markdown",
   "metadata": {},
   "source": [
    "### hyper opt로 RF 튜닝"
   ]
  },
  {
   "cell_type": "markdown",
   "metadata": {},
   "source": [
    "* Hyperopt is different in that it encourages you to describe your search space in more detail."
   ]
  },
  {
   "cell_type": "markdown",
   "metadata": {},
   "source": [
    "The way to use hyperopt is to describe"
   ]
  },
  {
   "cell_type": "markdown",
   "metadata": {},
   "source": [
    "* the objective function to minimize\n",
    "* the space over which to search\n",
    "* the database in which to store all the point evaluations of the search\n",
    "* the search algorithm to use"
   ]
  },
  {
   "cell_type": "code",
   "execution_count": 1,
   "metadata": {},
   "outputs": [],
   "source": [
    "import warnings\n",
    "warnings.filterwarnings(\"ignore\")\n",
    "import pandas as pd\n",
    "import numpy as np\n",
    "import matplotlib.pyplot as plt\n",
    "\n",
    "from sklearn.metrics import precision_score, recall_score\n",
    "from sklearn.model_selection import StratifiedKFold\n",
    "from hyperopt.pyll.stochastic import sample\n",
    "from hyperopt import fmin, tpe, hp, STATUS_OK, Trials\n",
    "\n",
    "from sklearn.ensemble import RandomForestClassifier # rf분류기"
   ]
  },
  {
   "cell_type": "code",
   "execution_count": 2,
   "metadata": {},
   "outputs": [],
   "source": [
    "def f1(X_val, y_val, model,mapping):\n",
    "    \"\"\"\n",
    "    Model evaluation function for multiclass classification problem\n",
    "    1) F-1 score, Precision, Recall\n",
    "    2) ROC curve, PR curve는 추후에 생각\n",
    "    \"\"\"\n",
    " \n",
    "    #### predict the value\n",
    "    y_pred = model.predict(X_val)\n",
    "\n",
    "    #print('-'*50)\n",
    "    #print('2. F1-score')\n",
    "    \n",
    "    # inverse pre/ rec\n",
    "    pre = precision_score(y_true = y_val, y_pred = y_pred, average=None)\n",
    "    rec = recall_score(y_true = y_val, y_pred = y_pred, average=None)\n",
    "\n",
    "    # f1 measure\n",
    "    f1_score = 8/(sum(1/pre) + sum(1/rec))\n",
    "    \n",
    "    # view - precision recall\n",
    "    table = pd.DataFrame([])\n",
    "\n",
    "    for i,k in enumerate(mapping.keys()):\n",
    "        table[k] = [pre[i],rec[i]]\n",
    "    table.index = ['precision','recall']\n",
    "    # print(table)\n",
    "    \n",
    "    # view - f1\n",
    "    #print('F1_score %.3f'%f1_score)\n",
    "    #print('='*50)\n",
    "    return f1_score"
   ]
  },
  {
   "cell_type": "code",
   "execution_count": 3,
   "metadata": {},
   "outputs": [],
   "source": [
    "#### load data set\n",
    "## train\n",
    "X_train1 = pd.read_csv('temp_data/X_train_stat.csv')\n",
    "X_train2 = pd.read_csv('temp_data/X_train_easy_time.csv').drop('new_id',axis=1)\n",
    "X_train2.columns = [x +'_basic_time' for x in X_train2.columns]\n",
    "X_train3 = pd.read_csv('temp_data/X_train_게임활동_time.csv').drop('new_id',axis=1)\n",
    "X_train3.columns = [x +'_time_series' for x in X_train3.columns]\n",
    "X_train6 = pd.read_csv('temp_data/X_train_ratio.csv').drop('new_id',axis=1)\n",
    "X_train6.fillna(0.0)\n",
    "X_train9 = pd.read_csv('temp_data/X_train_act_comb_1.csv').drop('new_id',axis=1)\n",
    "X_train10 = pd.read_csv('temp_data/train_playpattern_mean_encoding.csv').drop('new_id',axis=1)\n",
    "X_train11 = pd.read_csv('temp_data/train_interaction_sum_30.csv').drop('new_id',axis=1)\n",
    "\n",
    "## test\n",
    "X_test1 = pd.read_csv('temp_data/X_test_stat.csv')\n",
    "X_test2 = pd.read_csv('temp_data/X_test_easy_time.csv').drop('new_id',axis=1)\n",
    "X_test2.columns = X_train2.columns\n",
    "X_test3 = pd.read_csv('temp_data/X_test_게임활동_time.csv').drop('new_id',axis=1)\n",
    "X_test3.columns = X_train3.columns\n",
    "X_test6 = pd.read_csv('temp_data/X_test_ratio.csv').drop('new_id',axis=1)\n",
    "X_test6.fillna(0.0)\n",
    "X_test9 = pd.read_csv('temp_data/X_test_act_comb_1.csv').drop('new_id',axis=1)\n",
    "X_test10 = pd.read_csv('temp_data/test_playpattern_mean_encoding.csv').drop('new_id',axis=1)\n",
    "X_test11 = pd.read_csv('temp_data/test_interaction_sum_30.csv').drop('new_id',axis=1)\n",
    "\n",
    "## guild and trade and party\n",
    "X_train4 = pd.read_csv('temp_data/temp_guild_train.csv').drop('new_id',axis=1)\n",
    "X_train5 = pd.read_csv('temp_data/temp_trade_train.csv').drop('new_id',axis=1)\n",
    "X_test4 = pd.read_csv('temp_data/temp_guild_test.csv').drop('new_id',axis=1)\n",
    "X_test5 = pd.read_csv('temp_data/temp_trade_test.csv').drop('new_id',axis=1)\n",
    "X_train7 = pd.read_csv('temp_data/X_train_party.csv').drop('new_id',axis=1)\n",
    "X_test7 = pd.read_csv('temp_data/X_test_party.csv').drop('new_id',axis=1)\n",
    "X_train8 = pd.read_csv('temp_data/training_trade.csv').drop('new_id',axis=1)\n",
    "X_test8 = pd.read_csv('temp_data/test_trade.csv').drop('new_id',axis=1)"
   ]
  },
  {
   "cell_type": "code",
   "execution_count": 4,
   "metadata": {},
   "outputs": [],
   "source": [
    "X_train = pd.concat((X_train1,X_train2,X_train3,X_train4,X_train5, X_train6,X_train7,X_train8,X_train9,X_train10,X_train11),axis=1).drop('new_id',axis=1)\n",
    "X_test = pd.concat((X_test1,X_test2,X_test3,X_test4,X_test5,X_test6,X_test7,X_test8,X_test9,X_test10,X_test11),axis=1).drop('new_id',axis=1)"
   ]
  },
  {
   "cell_type": "code",
   "execution_count": 5,
   "metadata": {},
   "outputs": [],
   "source": [
    "#### load class\n",
    "train_label = pd.read_csv('temp_data/train_label_lite.csv')\n",
    "hasher = pd.read_csv('temp_data/test_id.csv')\n",
    "label_map = {'retained':0,'2month':1,'month':2,'week':3}\n",
    "inv_map = {label_map[k]:k for k in label_map.keys()}\n",
    "y_train = pd.Series([label_map[l] for l in train_label.label])"
   ]
  },
  {
   "cell_type": "code",
   "execution_count": 6,
   "metadata": {},
   "outputs": [],
   "source": [
    "### nan 제거\n",
    "X_train = X_train.fillna(0)"
   ]
  },
  {
   "cell_type": "markdown",
   "metadata": {},
   "source": [
    "---"
   ]
  },
  {
   "cell_type": "code",
   "execution_count": 12,
   "metadata": {},
   "outputs": [
    {
     "data": {
      "text/plain": [
       "(100000, 495)"
      ]
     },
     "execution_count": 12,
     "metadata": {},
     "output_type": "execute_result"
    }
   ],
   "source": [
    "X_train.shape"
   ]
  },
  {
   "cell_type": "code",
   "execution_count": 13,
   "metadata": {},
   "outputs": [],
   "source": [
    "#### RF 모델\n",
    "model = RandomForestClassifier(criterion='gini',max_features= 243, min_samples_leaf= 4,n_estimators=300,random_state= 7, n_jobs=-1)\n",
    "X_train_rf = X_train.fillna(0)"
   ]
  },
  {
   "cell_type": "code",
   "execution_count": 14,
   "metadata": {},
   "outputs": [
    {
     "name": "stdout",
     "output_type": "stream",
     "text": [
      "Fold: 1, Class dist.: [20000 20000 20000 20000], F1: 0.719\n",
      "Fold: 2, Class dist.: [20000 20000 20000 20000], F1: 0.723\n",
      "Fold: 3, Class dist.: [20000 20000 20000 20000], F1: 0.716\n",
      "Fold: 4, Class dist.: [20000 20000 20000 20000], F1: 0.715\n",
      "Fold: 5, Class dist.: [20000 20000 20000 20000], F1: 0.713\n",
      "\n",
      "CV F1: 0.717 +/- 0.004\n"
     ]
    }
   ],
   "source": [
    "#### cross validation\n",
    "kfold = StratifiedKFold(n_splits = 5 ,random_state = 7).split(X_train_rf, y_train)\n",
    "scores = []\n",
    "for k, (train, test) in enumerate(kfold):\n",
    "    model.fit(X_train_rf.iloc[train,:], y_train[train])\n",
    "    score = f1(X_train_rf.iloc[test,:], y_train[test], model,label_map)\n",
    "    scores.append(score)\n",
    "    print('Fold: %s, Class dist.: %s, F1: %.3f' % (k+1,np.bincount(y_train[train]), score))\n",
    "    \n",
    "print('\\nCV F1: %.3f +/- %.3f' % (np.mean(scores), np.std(scores)))"
   ]
  },
  {
   "cell_type": "code",
   "execution_count": 15,
   "metadata": {},
   "outputs": [],
   "source": [
    "#### RF 모델\n",
    "model = RandomForestClassifier(criterion='gini',max_features= 235, min_samples_leaf= 3,n_estimators=300,random_state= 7, n_jobs=-1)\n",
    "X_train_rf = X_train.fillna(0)"
   ]
  },
  {
   "cell_type": "code",
   "execution_count": 16,
   "metadata": {},
   "outputs": [
    {
     "name": "stdout",
     "output_type": "stream",
     "text": [
      "Fold: 1, Class dist.: [20000 20000 20000 20000], F1: 0.720\n",
      "Fold: 2, Class dist.: [20000 20000 20000 20000], F1: 0.723\n",
      "Fold: 3, Class dist.: [20000 20000 20000 20000], F1: 0.715\n",
      "Fold: 4, Class dist.: [20000 20000 20000 20000], F1: 0.715\n",
      "Fold: 5, Class dist.: [20000 20000 20000 20000], F1: 0.714\n",
      "\n",
      "CV F1: 0.717 +/- 0.003\n"
     ]
    }
   ],
   "source": [
    "#### cross validation\n",
    "kfold = StratifiedKFold(n_splits = 5 ,random_state = 7).split(X_train_rf, y_train)\n",
    "scores = []\n",
    "for k, (train, test) in enumerate(kfold):\n",
    "    model.fit(X_train_rf.iloc[train,:], y_train[train])\n",
    "    score = f1(X_train_rf.iloc[test,:], y_train[test], model,label_map)\n",
    "    scores.append(score)\n",
    "    print('Fold: %s, Class dist.: %s, F1: %.3f' % (k+1,np.bincount(y_train[train]), score))\n",
    "    \n",
    "print('\\nCV F1: %.3f +/- %.3f' % (np.mean(scores), np.std(scores)))"
   ]
  },
  {
   "cell_type": "markdown",
   "metadata": {},
   "source": [
    "---"
   ]
  },
  {
   "cell_type": "markdown",
   "metadata": {},
   "source": [
    "__n_estimators 튜닝__"
   ]
  },
  {
   "cell_type": "code",
   "execution_count": 35,
   "metadata": {},
   "outputs": [],
   "source": [
    "from sklearn.model_selection import train_test_split\n",
    "X_tr, X_v, y_tr, y_v = train_test_split(X_train, y_train)"
   ]
  },
  {
   "cell_type": "code",
   "execution_count": 36,
   "metadata": {},
   "outputs": [
    {
     "data": {
      "text/plain": [
       "RandomForestClassifier(bootstrap=True, class_weight=None, criterion='gini',\n",
       "            max_depth=None, max_features='auto', max_leaf_nodes=None,\n",
       "            min_impurity_decrease=0.0, min_impurity_split=None,\n",
       "            min_samples_leaf=1, min_samples_split=2,\n",
       "            min_weight_fraction_leaf=0.0, n_estimators=1000, n_jobs=-1,\n",
       "            oob_score=False, random_state=None, verbose=0,\n",
       "            warm_start=False)"
      ]
     },
     "execution_count": 36,
     "metadata": {},
     "output_type": "execute_result"
    }
   ],
   "source": [
    "import matplotlib.pyplot as plt\n",
    "from sklearn.metrics import accuracy_score\n",
    "rf = RandomForestClassifier(n_estimators=1000, n_jobs=-1)\n",
    "rf.fit(X_tr, y_tr)"
   ]
  },
  {
   "cell_type": "code",
   "execution_count": 37,
   "metadata": {},
   "outputs": [],
   "source": [
    "predictions = []\n",
    "for tree in rf.estimators_:\n",
    "    predictions.append(tree.predict_proba(X_v)[None, :])"
   ]
  },
  {
   "cell_type": "code",
   "execution_count": 38,
   "metadata": {},
   "outputs": [],
   "source": [
    "predictions = np.vstack(predictions)"
   ]
  },
  {
   "cell_type": "code",
   "execution_count": 39,
   "metadata": {},
   "outputs": [],
   "source": [
    "cum_mean = np.cumsum(predictions, axis=0)/np.arange(1, predictions.shape[0] + 1)[:, None, None]"
   ]
  },
  {
   "cell_type": "code",
   "execution_count": 40,
   "metadata": {},
   "outputs": [],
   "source": [
    "scores = []\n",
    "for pred in cum_mean:\n",
    "    scores.append(accuracy_score(y_v, np.argmax(pred, axis=1)))"
   ]
  },
  {
   "cell_type": "code",
   "execution_count": 41,
   "metadata": {},
   "outputs": [
    {
     "data": {
      "image/png": "[encoded data removed]",
      "text/plain": [
       "<Figure size 720x432 with 1 Axes>"
      ]
     },
     "metadata": {},
     "output_type": "display_data"
    }
   ],
   "source": [
    "plt.figure(figsize=(10, 6))\n",
    "plt.plot(scores, linewidth=3)\n",
    "plt.xlabel('num_trees')\n",
    "plt.ylabel('accuracy');"
   ]
  },
  {
   "cell_type": "markdown",
   "metadata": {},
   "source": [
    "__hyperopt__"
   ]
  },
  {
   "cell_type": "code",
   "execution_count": 7,
   "metadata": {},
   "outputs": [],
   "source": [
    "obj_call_count = 0\n",
    "cur_best_score = 0\n",
    "cur_best_std = 0"
   ]
  },
  {
   "cell_type": "code",
   "execution_count": 8,
   "metadata": {},
   "outputs": [],
   "source": [
    "param_space = {\n",
    "    'min_samples_leaf': hp.choice('min_samples_leaf', range(1,15)),\n",
    "    'max_depth': hp.choice('max_depth', range(7,60)),\n",
    "    'max_features': hp.choice('max_features', range(int(np.sqrt(X_train.shape[1])),400)),\n",
    "    'n_estimators': 300,\n",
    "    'criterion': hp.choice('criterion',['gini','entropy']),\n",
    "    'random_state':7,\n",
    "    'n_jobs' : -1\n",
    "    }"
   ]
  },
  {
   "cell_type": "code",
   "execution_count": 9,
   "metadata": {},
   "outputs": [],
   "source": [
    "def rf_classifier(params): # hyperopt의 objective function은 params를 input으로 받는다.\n",
    "    \n",
    "    global obj_call_count, cur_best_score, cur_best_std, X_train, y_train # 우리가 input할 데이터는 global변수화!\n",
    "    \n",
    "    obj_call_count += 1\n",
    "    print('\\nRandom_forest objective call #{} cur_best_score={:7.5f} cur_best_std={:7.5f}'.format(obj_call_count,cur_best_score,cur_best_std) )\n",
    "    \n",
    "    #### sampling parameters from the hyperparameter params\n",
    "    rf_params = sample(params)\n",
    "    model = RandomForestClassifier(**rf_params)\n",
    "    \n",
    "    #### 5 fold cross validation for rf\n",
    "    kfold = StratifiedKFold(n_splits = 5 ,random_state = 7,shuffle=True).split(X_train, y_train)\n",
    "    scores = []\n",
    "    predict_set = []\n",
    "    for k, (train, test) in enumerate(kfold):\n",
    "        model.fit(X_train.iloc[train,:], y_train[train])\n",
    "        score = f1(X_train.iloc[test,:], y_train[test], model,label_map)\n",
    "        scores.append(score)\n",
    "        \n",
    "        ### predict values...\n",
    "        y_pred = model.predict(X_train.iloc[test,:])\n",
    "        predict_set += [(x,inv_map[y_pred[i]]) for i,x in enumerate(test)]\n",
    "        \n",
    "    f1_mean = np.mean(scores)\n",
    "    f1_std = np.std(scores)\n",
    "    \n",
    "    print(rf_params)\n",
    "    print('5-fold of randomforest F1: %.3f +/- %.3f' % (f1_mean, f1_std))\n",
    "    \n",
    "    if f1_mean > cur_best_score:\n",
    "        cur_best_score = f1_mean\n",
    "        cur_best_std = f1_std\n",
    "        \n",
    "    #### minimize metric\n",
    "    loss = 1 - f1_mean\n",
    "    loss_var = 1 - np.var(scores)\n",
    "    \n",
    "    return {'loss': loss , 'loss_variance': loss_var ,'status':STATUS_OK ,'attachments':{'pred_cv':predict_set}}"
   ]
  },
  {
   "cell_type": "code",
   "execution_count": 10,
   "metadata": {},
   "outputs": [],
   "source": [
    "trials = Trials()"
   ]
  },
  {
   "cell_type": "code",
   "execution_count": 11,
   "metadata": {
    "scrolled": false
   },
   "outputs": [
    {
     "name": "stdout",
     "output_type": "stream",
     "text": [
      "\n",
      "Random_forest objective call #1 cur_best_score=0.00000 cur_best_std=0.00000\n",
      "{'criterion': 'entropy', 'max_depth': 8, 'max_features': 68, 'min_samples_leaf': 7, 'n_estimators': 300, 'n_jobs': -1, 'random_state': 7}\n",
      "5-fold of randomforest F1: 0.669 +/- 0.004\n",
      "\n",
      "Random_forest objective call #2 cur_best_score=0.66910 cur_best_std=0.00432\n",
      "{'criterion': 'gini', 'max_depth': 39, 'max_features': 191, 'min_samples_leaf': 11, 'n_estimators': 300, 'n_jobs': -1, 'random_state': 7}\n",
      "5-fold of randomforest F1: 0.713 +/- 0.005\n",
      "\n",
      "Random_forest objective call #3 cur_best_score=0.71261 cur_best_std=0.00523\n",
      "{'criterion': 'gini', 'max_depth': 52, 'max_features': 126, 'min_samples_leaf': 14, 'n_estimators': 300, 'n_jobs': -1, 'random_state': 7}\n",
      "5-fold of randomforest F1: 0.710 +/- 0.005\n",
      "\n",
      "Random_forest objective call #4 cur_best_score=0.71261 cur_best_std=0.00523\n",
      "{'criterion': 'gini', 'max_depth': 59, 'max_features': 131, 'min_samples_leaf': 3, 'n_estimators': 300, 'n_jobs': -1, 'random_state': 7}\n",
      "5-fold of randomforest F1: 0.718 +/- 0.003\n",
      "\n",
      "Random_forest objective call #5 cur_best_score=0.71844 cur_best_std=0.00338\n",
      "{'criterion': 'gini', 'max_depth': 31, 'max_features': 228, 'min_samples_leaf': 9, 'n_estimators': 300, 'n_jobs': -1, 'random_state': 7}\n",
      "5-fold of randomforest F1: 0.714 +/- 0.005\n",
      "\n",
      "Random_forest objective call #6 cur_best_score=0.71844 cur_best_std=0.00338\n",
      "{'criterion': 'entropy', 'max_depth': 11, 'max_features': 376, 'min_samples_leaf': 10, 'n_estimators': 300, 'n_jobs': -1, 'random_state': 7}\n",
      "5-fold of randomforest F1: 0.693 +/- 0.003\n",
      "\n",
      "Random_forest objective call #7 cur_best_score=0.71844 cur_best_std=0.00338\n",
      "{'criterion': 'entropy', 'max_depth': 57, 'max_features': 256, 'min_samples_leaf': 10, 'n_estimators': 300, 'n_jobs': -1, 'random_state': 7}\n",
      "5-fold of randomforest F1: 0.715 +/- 0.005\n",
      "\n",
      "Random_forest objective call #8 cur_best_score=0.71844 cur_best_std=0.00338\n",
      "{'criterion': 'entropy', 'max_depth': 41, 'max_features': 229, 'min_samples_leaf': 1, 'n_estimators': 300, 'n_jobs': -1, 'random_state': 7}\n",
      "5-fold of randomforest F1: 0.715 +/- 0.005\n",
      "\n",
      "Random_forest objective call #9 cur_best_score=0.71844 cur_best_std=0.00338\n",
      "{'criterion': 'gini', 'max_depth': 55, 'max_features': 66, 'min_samples_leaf': 13, 'n_estimators': 300, 'n_jobs': -1, 'random_state': 7}\n",
      "5-fold of randomforest F1: 0.709 +/- 0.006\n",
      "\n",
      "Random_forest objective call #10 cur_best_score=0.71844 cur_best_std=0.00338\n",
      "{'criterion': 'entropy', 'max_depth': 48, 'max_features': 391, 'min_samples_leaf': 1, 'n_estimators': 300, 'n_jobs': -1, 'random_state': 7}\n",
      "5-fold of randomforest F1: 0.716 +/- 0.003\n",
      "\n",
      "Random_forest objective call #11 cur_best_score=0.71844 cur_best_std=0.00338\n",
      "{'criterion': 'entropy', 'max_depth': 37, 'max_features': 61, 'min_samples_leaf': 2, 'n_estimators': 300, 'n_jobs': -1, 'random_state': 7}\n",
      "5-fold of randomforest F1: 0.719 +/- 0.005\n",
      "\n",
      "Random_forest objective call #12 cur_best_score=0.71855 cur_best_std=0.00470\n",
      "{'criterion': 'entropy', 'max_depth': 18, 'max_features': 327, 'min_samples_leaf': 5, 'n_estimators': 300, 'n_jobs': -1, 'random_state': 7}\n",
      "5-fold of randomforest F1: 0.717 +/- 0.005\n",
      "\n",
      "Random_forest objective call #13 cur_best_score=0.71855 cur_best_std=0.00470\n",
      "{'criterion': 'gini', 'max_depth': 37, 'max_features': 173, 'min_samples_leaf': 7, 'n_estimators': 300, 'n_jobs': -1, 'random_state': 7}\n",
      "5-fold of randomforest F1: 0.716 +/- 0.005\n",
      "\n",
      "Random_forest objective call #14 cur_best_score=0.71855 cur_best_std=0.00470\n",
      "{'criterion': 'entropy', 'max_depth': 53, 'max_features': 145, 'min_samples_leaf': 6, 'n_estimators': 300, 'n_jobs': -1, 'random_state': 7}\n",
      "5-fold of randomforest F1: 0.718 +/- 0.005\n",
      "\n",
      "Random_forest objective call #15 cur_best_score=0.71855 cur_best_std=0.00470\n",
      "{'criterion': 'entropy', 'max_depth': 33, 'max_features': 315, 'min_samples_leaf': 11, 'n_estimators': 300, 'n_jobs': -1, 'random_state': 7}\n",
      "5-fold of randomforest F1: 0.715 +/- 0.005\n",
      "\n",
      "Random_forest objective call #16 cur_best_score=0.71855 cur_best_std=0.00470\n",
      "{'criterion': 'gini', 'max_depth': 8, 'max_features': 345, 'min_samples_leaf': 7, 'n_estimators': 300, 'n_jobs': -1, 'random_state': 7}\n",
      "5-fold of randomforest F1: 0.670 +/- 0.005\n",
      "\n",
      "Random_forest objective call #17 cur_best_score=0.71855 cur_best_std=0.00470\n",
      "{'criterion': 'entropy', 'max_depth': 18, 'max_features': 24, 'min_samples_leaf': 12, 'n_estimators': 300, 'n_jobs': -1, 'random_state': 7}\n",
      "5-fold of randomforest F1: 0.705 +/- 0.004\n",
      "\n",
      "Random_forest objective call #18 cur_best_score=0.71855 cur_best_std=0.00470\n",
      "{'criterion': 'gini', 'max_depth': 22, 'max_features': 235, 'min_samples_leaf': 12, 'n_estimators': 300, 'n_jobs': -1, 'random_state': 7}\n",
      "5-fold of randomforest F1: 0.713 +/- 0.005\n",
      "\n",
      "Random_forest objective call #19 cur_best_score=0.71855 cur_best_std=0.00470\n",
      "{'criterion': 'gini', 'max_depth': 58, 'max_features': 122, 'min_samples_leaf': 13, 'n_estimators': 300, 'n_jobs': -1, 'random_state': 7}\n",
      "5-fold of randomforest F1: 0.711 +/- 0.005\n",
      "\n",
      "Random_forest objective call #20 cur_best_score=0.71855 cur_best_std=0.00470\n",
      "{'criterion': 'gini', 'max_depth': 53, 'max_features': 194, 'min_samples_leaf': 5, 'n_estimators': 300, 'n_jobs': -1, 'random_state': 7}\n",
      "5-fold of randomforest F1: 0.718 +/- 0.004\n",
      "\n",
      "Random_forest objective call #21 cur_best_score=0.71855 cur_best_std=0.00470\n",
      "{'criterion': 'gini', 'max_depth': 59, 'max_features': 208, 'min_samples_leaf': 2, 'n_estimators': 300, 'n_jobs': -1, 'random_state': 7}\n",
      "5-fold of randomforest F1: 0.717 +/- 0.003\n",
      "\n",
      "Random_forest objective call #22 cur_best_score=0.71855 cur_best_std=0.00470\n",
      "{'criterion': 'entropy', 'max_depth': 24, 'max_features': 164, 'min_samples_leaf': 2, 'n_estimators': 300, 'n_jobs': -1, 'random_state': 7}\n",
      "5-fold of randomforest F1: 0.720 +/- 0.004\n",
      "\n",
      "Random_forest objective call #23 cur_best_score=0.71973 cur_best_std=0.00439\n",
      "{'criterion': 'entropy', 'max_depth': 24, 'max_features': 132, 'min_samples_leaf': 2, 'n_estimators': 300, 'n_jobs': -1, 'random_state': 7}\n",
      "5-fold of randomforest F1: 0.720 +/- 0.005\n",
      "\n",
      "Random_forest objective call #24 cur_best_score=0.71973 cur_best_std=0.00439\n",
      "{'criterion': 'entropy', 'max_depth': 24, 'max_features': 164, 'min_samples_leaf': 2, 'n_estimators': 300, 'n_jobs': -1, 'random_state': 7}\n",
      "5-fold of randomforest F1: 0.720 +/- 0.004\n",
      "\n",
      "Random_forest objective call #25 cur_best_score=0.71973 cur_best_std=0.00439\n",
      "{'criterion': 'entropy', 'max_depth': 24, 'max_features': 396, 'min_samples_leaf': 4, 'n_estimators': 300, 'n_jobs': -1, 'random_state': 7}\n",
      "5-fold of randomforest F1: 0.719 +/- 0.004\n",
      "\n",
      "Random_forest objective call #26 cur_best_score=0.71973 cur_best_std=0.00439\n",
      "{'criterion': 'entropy', 'max_depth': 46, 'max_features': 349, 'min_samples_leaf': 8, 'n_estimators': 300, 'n_jobs': -1, 'random_state': 7}\n",
      "5-fold of randomforest F1: 0.717 +/- 0.005\n",
      "\n",
      "Random_forest objective call #27 cur_best_score=0.71973 cur_best_std=0.00439\n",
      "{'criterion': 'entropy', 'max_depth': 26, 'max_features': 166, 'min_samples_leaf': 2, 'n_estimators': 300, 'n_jobs': -1, 'random_state': 7}\n",
      "5-fold of randomforest F1: 0.719 +/- 0.004\n",
      "\n",
      "Random_forest objective call #28 cur_best_score=0.71973 cur_best_std=0.00439\n",
      "{'criterion': 'entropy', 'max_depth': 24, 'max_features': 164, 'min_samples_leaf': 2, 'n_estimators': 300, 'n_jobs': -1, 'random_state': 7}\n",
      "5-fold of randomforest F1: 0.720 +/- 0.004\n",
      "\n",
      "Random_forest objective call #29 cur_best_score=0.71973 cur_best_std=0.00439\n",
      "{'criterion': 'entropy', 'max_depth': 23, 'max_features': 88, 'min_samples_leaf': 2, 'n_estimators': 300, 'n_jobs': -1, 'random_state': 7}\n",
      "5-fold of randomforest F1: 0.720 +/- 0.005\n",
      "\n",
      "Random_forest objective call #30 cur_best_score=0.71973 cur_best_std=0.00439\n",
      "{'criterion': 'entropy', 'max_depth': 51, 'max_features': 326, 'min_samples_leaf': 6, 'n_estimators': 300, 'n_jobs': -1, 'random_state': 7}\n",
      "5-fold of randomforest F1: 0.719 +/- 0.005\n",
      "\n",
      "Random_forest objective call #31 cur_best_score=0.71973 cur_best_std=0.00439\n",
      "{'criterion': 'entropy', 'max_depth': 25, 'max_features': 32, 'min_samples_leaf': 9, 'n_estimators': 300, 'n_jobs': -1, 'random_state': 7}\n",
      "5-fold of randomforest F1: 0.713 +/- 0.005\n",
      "\n",
      "Random_forest objective call #32 cur_best_score=0.71973 cur_best_std=0.00439\n",
      "{'criterion': 'entropy', 'max_depth': 9, 'max_features': 52, 'min_samples_leaf': 14, 'n_estimators': 300, 'n_jobs': -1, 'random_state': 7}\n",
      "5-fold of randomforest F1: 0.677 +/- 0.004\n",
      "\n",
      "Random_forest objective call #33 cur_best_score=0.71973 cur_best_std=0.00439\n"
     ]
    },
    {
     "name": "stdout",
     "output_type": "stream",
     "text": [
      "{'criterion': 'entropy', 'max_depth': 36, 'max_features': 226, 'min_samples_leaf': 3, 'n_estimators': 300, 'n_jobs': -1, 'random_state': 7}\n",
      "5-fold of randomforest F1: 0.718 +/- 0.004\n",
      "\n",
      "Random_forest objective call #34 cur_best_score=0.71973 cur_best_std=0.00439\n",
      "{'criterion': 'entropy', 'max_depth': 29, 'max_features': 110, 'min_samples_leaf': 8, 'n_estimators': 300, 'n_jobs': -1, 'random_state': 7}\n",
      "5-fold of randomforest F1: 0.717 +/- 0.006\n",
      "\n",
      "Random_forest objective call #35 cur_best_score=0.71973 cur_best_std=0.00439\n",
      "{'criterion': 'entropy', 'max_depth': 30, 'max_features': 250, 'min_samples_leaf': 11, 'n_estimators': 300, 'n_jobs': -1, 'random_state': 7}\n",
      "5-fold of randomforest F1: 0.715 +/- 0.005\n",
      "\n",
      "Random_forest objective call #36 cur_best_score=0.71973 cur_best_std=0.00439\n",
      "{'criterion': 'entropy', 'max_depth': 16, 'max_features': 237, 'min_samples_leaf': 4, 'n_estimators': 300, 'n_jobs': -1, 'random_state': 7}\n",
      "5-fold of randomforest F1: 0.715 +/- 0.004\n",
      "\n",
      "Random_forest objective call #37 cur_best_score=0.71973 cur_best_std=0.00439\n",
      "{'criterion': 'entropy', 'max_depth': 21, 'max_features': 216, 'min_samples_leaf': 14, 'n_estimators': 300, 'n_jobs': -1, 'random_state': 7}\n",
      "5-fold of randomforest F1: 0.712 +/- 0.005\n",
      "\n",
      "Random_forest objective call #38 cur_best_score=0.71973 cur_best_std=0.00439\n",
      "{'criterion': 'entropy', 'max_depth': 35, 'max_features': 372, 'min_samples_leaf': 10, 'n_estimators': 300, 'n_jobs': -1, 'random_state': 7}\n",
      "5-fold of randomforest F1: 0.716 +/- 0.006\n",
      "\n",
      "Random_forest objective call #39 cur_best_score=0.71973 cur_best_std=0.00439\n",
      "{'criterion': 'entropy', 'max_depth': 17, 'max_features': 233, 'min_samples_leaf': 2, 'n_estimators': 300, 'n_jobs': -1, 'random_state': 7}\n",
      "5-fold of randomforest F1: 0.718 +/- 0.005\n",
      "\n",
      "Random_forest objective call #40 cur_best_score=0.71973 cur_best_std=0.00439\n",
      "{'criterion': 'entropy', 'max_depth': 10, 'max_features': 313, 'min_samples_leaf': 3, 'n_estimators': 300, 'n_jobs': -1, 'random_state': 7}\n",
      "5-fold of randomforest F1: 0.687 +/- 0.005\n",
      "\n",
      "Random_forest objective call #41 cur_best_score=0.71973 cur_best_std=0.00439\n",
      "{'criterion': 'entropy', 'max_depth': 15, 'max_features': 336, 'min_samples_leaf': 9, 'n_estimators': 300, 'n_jobs': -1, 'random_state': 7}\n",
      "5-fold of randomforest F1: 0.710 +/- 0.004\n",
      "\n",
      "Random_forest objective call #42 cur_best_score=0.71973 cur_best_std=0.00439\n",
      "{'criterion': 'gini', 'max_depth': 19, 'max_features': 164, 'min_samples_leaf': 1, 'n_estimators': 300, 'n_jobs': -1, 'random_state': 7}\n",
      "5-fold of randomforest F1: 0.721 +/- 0.004\n",
      "\n",
      "Random_forest objective call #43 cur_best_score=0.72079 cur_best_std=0.00406\n",
      "{'criterion': 'gini', 'max_depth': 27, 'max_features': 192, 'min_samples_leaf': 13, 'n_estimators': 300, 'n_jobs': -1, 'random_state': 7}\n",
      "5-fold of randomforest F1: 0.710 +/- 0.005\n",
      "\n",
      "Random_forest objective call #44 cur_best_score=0.72079 cur_best_std=0.00406\n",
      "{'criterion': 'gini', 'max_depth': 19, 'max_features': 149, 'min_samples_leaf': 1, 'n_estimators': 300, 'n_jobs': -1, 'random_state': 7}\n",
      "5-fold of randomforest F1: 0.721 +/- 0.005\n",
      "\n",
      "Random_forest objective call #45 cur_best_score=0.72079 cur_best_std=0.00406\n",
      "{'criterion': 'gini', 'max_depth': 44, 'max_features': 281, 'min_samples_leaf': 1, 'n_estimators': 300, 'n_jobs': -1, 'random_state': 7}\n",
      "5-fold of randomforest F1: 0.716 +/- 0.002\n",
      "\n",
      "Random_forest objective call #46 cur_best_score=0.72079 cur_best_std=0.00406\n",
      "{'criterion': 'gini', 'max_depth': 47, 'max_features': 149, 'min_samples_leaf': 1, 'n_estimators': 300, 'n_jobs': -1, 'random_state': 7}\n",
      "5-fold of randomforest F1: 0.716 +/- 0.003\n",
      "\n",
      "Random_forest objective call #47 cur_best_score=0.72079 cur_best_std=0.00406\n",
      "{'criterion': 'gini', 'max_depth': 19, 'max_features': 348, 'min_samples_leaf': 1, 'n_estimators': 300, 'n_jobs': -1, 'random_state': 7}\n",
      "5-fold of randomforest F1: 0.721 +/- 0.005\n",
      "\n",
      "Random_forest objective call #48 cur_best_score=0.72134 cur_best_std=0.00463\n",
      "{'criterion': 'gini', 'max_depth': 19, 'max_features': 141, 'min_samples_leaf': 1, 'n_estimators': 300, 'n_jobs': -1, 'random_state': 7}\n",
      "5-fold of randomforest F1: 0.720 +/- 0.004\n",
      "\n",
      "Random_forest objective call #49 cur_best_score=0.72134 cur_best_std=0.00463\n",
      "{'criterion': 'gini', 'max_depth': 19, 'max_features': 348, 'min_samples_leaf': 1, 'n_estimators': 300, 'n_jobs': -1, 'random_state': 7}\n",
      "5-fold of randomforest F1: 0.721 +/- 0.005\n",
      "\n",
      "Random_forest objective call #50 cur_best_score=0.72134 cur_best_std=0.00463\n",
      "{'criterion': 'gini', 'max_depth': 34, 'max_features': 348, 'min_samples_leaf': 1, 'n_estimators': 300, 'n_jobs': -1, 'random_state': 7}\n",
      "5-fold of randomforest F1: 0.716 +/- 0.003\n",
      "\n",
      "Random_forest objective call #51 cur_best_score=0.72134 cur_best_std=0.00463\n",
      "{'criterion': 'gini', 'max_depth': 28, 'max_features': 172, 'min_samples_leaf': 7, 'n_estimators': 300, 'n_jobs': -1, 'random_state': 7}\n",
      "5-fold of randomforest F1: 0.716 +/- 0.004\n",
      "\n",
      "Random_forest objective call #52 cur_best_score=0.72134 cur_best_std=0.00463\n",
      "{'criterion': 'gini', 'max_depth': 13, 'max_features': 114, 'min_samples_leaf': 5, 'n_estimators': 300, 'n_jobs': -1, 'random_state': 7}\n",
      "5-fold of randomforest F1: 0.706 +/- 0.005\n",
      "\n",
      "Random_forest objective call #53 cur_best_score=0.72134 cur_best_std=0.00463\n",
      "{'criterion': 'gini', 'max_depth': 38, 'max_features': 348, 'min_samples_leaf': 12, 'n_estimators': 300, 'n_jobs': -1, 'random_state': 7}\n",
      "5-fold of randomforest F1: 0.712 +/- 0.005\n",
      "\n",
      "Random_forest objective call #54 cur_best_score=0.72134 cur_best_std=0.00463\n",
      "{'criterion': 'gini', 'max_depth': 50, 'max_features': 306, 'min_samples_leaf': 10, 'n_estimators': 300, 'n_jobs': -1, 'random_state': 7}\n",
      "5-fold of randomforest F1: 0.713 +/- 0.005\n",
      "\n",
      "Random_forest objective call #55 cur_best_score=0.72134 cur_best_std=0.00463\n",
      "{'criterion': 'gini', 'max_depth': 20, 'max_features': 257, 'min_samples_leaf': 6, 'n_estimators': 300, 'n_jobs': -1, 'random_state': 7}\n",
      "5-fold of randomforest F1: 0.718 +/- 0.005\n",
      "\n",
      "Random_forest objective call #56 cur_best_score=0.72134 cur_best_std=0.00463\n",
      "{'criterion': 'gini', 'max_depth': 40, 'max_features': 300, 'min_samples_leaf': 1, 'n_estimators': 300, 'n_jobs': -1, 'random_state': 7}\n",
      "5-fold of randomforest F1: 0.716 +/- 0.003\n",
      "\n",
      "Random_forest objective call #57 cur_best_score=0.72134 cur_best_std=0.00463\n",
      "{'criterion': 'gini', 'max_depth': 43, 'max_features': 223, 'min_samples_leaf': 11, 'n_estimators': 300, 'n_jobs': -1, 'random_state': 7}\n",
      "5-fold of randomforest F1: 0.713 +/- 0.005\n",
      "\n",
      "Random_forest objective call #58 cur_best_score=0.72134 cur_best_std=0.00463\n",
      "{'criterion': 'gini', 'max_depth': 42, 'max_features': 283, 'min_samples_leaf': 1, 'n_estimators': 300, 'n_jobs': -1, 'random_state': 7}\n",
      "5-fold of randomforest F1: 0.716 +/- 0.003\n",
      "\n",
      "Random_forest objective call #59 cur_best_score=0.72134 cur_best_std=0.00463\n",
      "{'criterion': 'gini', 'max_depth': 54, 'max_features': 348, 'min_samples_leaf': 4, 'n_estimators': 300, 'n_jobs': -1, 'random_state': 7}\n",
      "5-fold of randomforest F1: 0.719 +/- 0.003\n",
      "\n",
      "Random_forest objective call #60 cur_best_score=0.72134 cur_best_std=0.00463\n",
      "{'criterion': 'gini', 'max_depth': 11, 'max_features': 352, 'min_samples_leaf': 8, 'n_estimators': 300, 'n_jobs': -1, 'random_state': 7}\n",
      "5-fold of randomforest F1: 0.694 +/- 0.005\n",
      "\n",
      "Random_forest objective call #61 cur_best_score=0.72134 cur_best_std=0.00463\n",
      "{'criterion': 'gini', 'max_depth': 14, 'max_features': 322, 'min_samples_leaf': 13, 'n_estimators': 300, 'n_jobs': -1, 'random_state': 7}\n",
      "5-fold of randomforest F1: 0.706 +/- 0.004\n",
      "\n",
      "Random_forest objective call #62 cur_best_score=0.72134 cur_best_std=0.00463\n",
      "{'criterion': 'gini', 'max_depth': 7, 'max_features': 309, 'min_samples_leaf': 7, 'n_estimators': 300, 'n_jobs': -1, 'random_state': 7}\n",
      "5-fold of randomforest F1: 0.629 +/- 0.005\n",
      "\n",
      "Random_forest objective call #63 cur_best_score=0.72134 cur_best_std=0.00463\n",
      "{'criterion': 'gini', 'max_depth': 56, 'max_features': 219, 'min_samples_leaf': 12, 'n_estimators': 300, 'n_jobs': -1, 'random_state': 7}\n",
      "5-fold of randomforest F1: 0.712 +/- 0.005\n",
      "\n",
      "Random_forest objective call #64 cur_best_score=0.72134 cur_best_std=0.00463\n",
      "{'criterion': 'gini', 'max_depth': 49, 'max_features': 178, 'min_samples_leaf': 5, 'n_estimators': 300, 'n_jobs': -1, 'random_state': 7}\n",
      "5-fold of randomforest F1: 0.718 +/- 0.004\n",
      "\n",
      "Random_forest objective call #65 cur_best_score=0.72134 cur_best_std=0.00463\n"
     ]
    },
    {
     "name": "stdout",
     "output_type": "stream",
     "text": [
      "{'criterion': 'gini', 'max_depth': 45, 'max_features': 316, 'min_samples_leaf': 14, 'n_estimators': 300, 'n_jobs': -1, 'random_state': 7}\n",
      "5-fold of randomforest F1: 0.711 +/- 0.005\n",
      "\n",
      "Random_forest objective call #66 cur_best_score=0.72134 cur_best_std=0.00463\n",
      "{'criterion': 'gini', 'max_depth': 19, 'max_features': 117, 'min_samples_leaf': 1, 'n_estimators': 300, 'n_jobs': -1, 'random_state': 7}\n",
      "5-fold of randomforest F1: 0.721 +/- 0.004\n",
      "\n",
      "Random_forest objective call #67 cur_best_score=0.72134 cur_best_std=0.00463\n",
      "{'criterion': 'gini', 'max_depth': 19, 'max_features': 84, 'min_samples_leaf': 1, 'n_estimators': 300, 'n_jobs': -1, 'random_state': 7}\n",
      "5-fold of randomforest F1: 0.720 +/- 0.004\n",
      "\n",
      "Random_forest objective call #68 cur_best_score=0.72134 cur_best_std=0.00463\n",
      "{'criterion': 'gini', 'max_depth': 32, 'max_features': 71, 'min_samples_leaf': 1, 'n_estimators': 300, 'n_jobs': -1, 'random_state': 7}\n",
      "5-fold of randomforest F1: 0.716 +/- 0.004\n",
      "\n",
      "Random_forest objective call #69 cur_best_score=0.72134 cur_best_std=0.00463\n",
      "{'criterion': 'gini', 'max_depth': 39, 'max_features': 222, 'min_samples_leaf': 1, 'n_estimators': 300, 'n_jobs': -1, 'random_state': 7}\n",
      "5-fold of randomforest F1: 0.715 +/- 0.003\n",
      "\n",
      "Random_forest objective call #70 cur_best_score=0.72134 cur_best_std=0.00463\n",
      "{'criterion': 'gini', 'max_depth': 12, 'max_features': 353, 'min_samples_leaf': 3, 'n_estimators': 300, 'n_jobs': -1, 'random_state': 7}\n",
      "5-fold of randomforest F1: 0.702 +/- 0.004\n",
      "\n",
      "Random_forest objective call #71 cur_best_score=0.72134 cur_best_std=0.00463\n",
      "{'criterion': 'gini', 'max_depth': 41, 'max_features': 214, 'min_samples_leaf': 6, 'n_estimators': 300, 'n_jobs': -1, 'random_state': 7}\n",
      "5-fold of randomforest F1: 0.718 +/- 0.004\n",
      "\n",
      "Random_forest objective call #72 cur_best_score=0.72134 cur_best_std=0.00463\n",
      "{'criterion': 'gini', 'max_depth': 31, 'max_features': 383, 'min_samples_leaf': 9, 'n_estimators': 300, 'n_jobs': -1, 'random_state': 7}\n",
      "5-fold of randomforest F1: 0.714 +/- 0.005\n",
      "\n",
      "Random_forest objective call #73 cur_best_score=0.72134 cur_best_std=0.00463\n",
      "{'criterion': 'gini', 'max_depth': 52, 'max_features': 271, 'min_samples_leaf': 1, 'n_estimators': 300, 'n_jobs': -1, 'random_state': 7}\n",
      "5-fold of randomforest F1: 0.715 +/- 0.003\n",
      "\n",
      "Random_forest objective call #74 cur_best_score=0.72134 cur_best_std=0.00463\n",
      "{'criterion': 'gini', 'max_depth': 57, 'max_features': 91, 'min_samples_leaf': 10, 'n_estimators': 300, 'n_jobs': -1, 'random_state': 7}\n",
      "5-fold of randomforest F1: 0.712 +/- 0.005\n",
      "\n",
      "Random_forest objective call #75 cur_best_score=0.72134 cur_best_std=0.00463\n",
      "{'criterion': 'gini', 'max_depth': 19, 'max_features': 284, 'min_samples_leaf': 1, 'n_estimators': 300, 'n_jobs': -1, 'random_state': 7}\n",
      "5-fold of randomforest F1: 0.722 +/- 0.005\n",
      "\n",
      "Random_forest objective call #76 cur_best_score=0.72210 cur_best_std=0.00463\n",
      "{'criterion': 'gini', 'max_depth': 55, 'max_features': 142, 'min_samples_leaf': 11, 'n_estimators': 300, 'n_jobs': -1, 'random_state': 7}\n",
      "5-fold of randomforest F1: 0.712 +/- 0.005\n",
      "\n",
      "Random_forest objective call #77 cur_best_score=0.72210 cur_best_std=0.00463\n",
      "{'criterion': 'gini', 'max_depth': 22, 'max_features': 264, 'min_samples_leaf': 8, 'n_estimators': 300, 'n_jobs': -1, 'random_state': 7}\n",
      "5-fold of randomforest F1: 0.716 +/- 0.004\n",
      "\n",
      "Random_forest objective call #78 cur_best_score=0.72210 cur_best_std=0.00463\n",
      "{'criterion': 'gini', 'max_depth': 8, 'max_features': 258, 'min_samples_leaf': 4, 'n_estimators': 300, 'n_jobs': -1, 'random_state': 7}\n",
      "5-fold of randomforest F1: 0.671 +/- 0.005\n",
      "\n",
      "Random_forest objective call #79 cur_best_score=0.72210 cur_best_std=0.00463\n",
      "{'criterion': 'gini', 'max_depth': 33, 'max_features': 251, 'min_samples_leaf': 13, 'n_estimators': 300, 'n_jobs': -1, 'random_state': 7}\n",
      "5-fold of randomforest F1: 0.710 +/- 0.004\n",
      "\n",
      "Random_forest objective call #80 cur_best_score=0.72210 cur_best_std=0.00463\n",
      "{'criterion': 'gini', 'max_depth': 19, 'max_features': 176, 'min_samples_leaf': 1, 'n_estimators': 300, 'n_jobs': -1, 'random_state': 7}\n",
      "5-fold of randomforest F1: 0.722 +/- 0.004\n",
      "\n",
      "Random_forest objective call #81 cur_best_score=0.72210 cur_best_std=0.00463\n",
      "{'criterion': 'gini', 'max_depth': 48, 'max_features': 176, 'min_samples_leaf': 3, 'n_estimators': 300, 'n_jobs': -1, 'random_state': 7}\n",
      "5-fold of randomforest F1: 0.718 +/- 0.004\n",
      "\n",
      "Random_forest objective call #82 cur_best_score=0.72210 cur_best_std=0.00463\n",
      "{'criterion': 'gini', 'max_depth': 59, 'max_features': 133, 'min_samples_leaf': 9, 'n_estimators': 300, 'n_jobs': -1, 'random_state': 7}\n",
      "5-fold of randomforest F1: 0.714 +/- 0.004\n",
      "\n",
      "Random_forest objective call #83 cur_best_score=0.72210 cur_best_std=0.00463\n"
     ]
    },
    {
     "ename": "KeyboardInterrupt",
     "evalue": "",
     "output_type": "error",
     "traceback": [
      "\u001b[0;31m---------------------------------------------------------------------------\u001b[0m",
      "\u001b[0;31mKeyboardInterrupt\u001b[0m                         Traceback (most recent call last)",
      "\u001b[0;32m<ipython-input-11-a60d12f8bf85>\u001b[0m in \u001b[0;36m<module>\u001b[0;34m()\u001b[0m\n\u001b[0;32m----> 1\u001b[0;31m \u001b[0mbest\u001b[0m \u001b[0;34m=\u001b[0m \u001b[0mfmin\u001b[0m\u001b[0;34m(\u001b[0m\u001b[0mrf_classifier\u001b[0m\u001b[0;34m,\u001b[0m \u001b[0mparam_space\u001b[0m\u001b[0;34m,\u001b[0m \u001b[0malgo\u001b[0m\u001b[0;34m=\u001b[0m\u001b[0mtpe\u001b[0m\u001b[0;34m.\u001b[0m\u001b[0msuggest\u001b[0m\u001b[0;34m,\u001b[0m \u001b[0mmax_evals\u001b[0m\u001b[0;34m=\u001b[0m\u001b[0;36m100\u001b[0m\u001b[0;34m,\u001b[0m\u001b[0mtrials\u001b[0m\u001b[0;34m=\u001b[0m\u001b[0mtrials\u001b[0m\u001b[0;34m)\u001b[0m\u001b[0;34m\u001b[0m\u001b[0m\n\u001b[0m\u001b[1;32m      2\u001b[0m \u001b[0mprint\u001b[0m \u001b[0;34m(\u001b[0m\u001b[0;34m'best:'\u001b[0m\u001b[0;34m)\u001b[0m\u001b[0;34m\u001b[0m\u001b[0m\n\u001b[1;32m      3\u001b[0m \u001b[0mprint\u001b[0m \u001b[0;34m(\u001b[0m\u001b[0mbest\u001b[0m\u001b[0;34m)\u001b[0m\u001b[0;34m\u001b[0m\u001b[0m\n",
      "\u001b[0;32m/opt/conda/lib/python3.6/site-packages/hyperopt/fmin.py\u001b[0m in \u001b[0;36mfmin\u001b[0;34m(fn, space, algo, max_evals, trials, rstate, allow_trials_fmin, pass_expr_memo_ctrl, catch_eval_exceptions, verbose, return_argmin, points_to_evaluate, max_queue_len)\u001b[0m\n\u001b[1;32m    365\u001b[0m             \u001b[0mverbose\u001b[0m\u001b[0;34m=\u001b[0m\u001b[0mverbose\u001b[0m\u001b[0;34m,\u001b[0m\u001b[0;34m\u001b[0m\u001b[0m\n\u001b[1;32m    366\u001b[0m             \u001b[0mcatch_eval_exceptions\u001b[0m\u001b[0;34m=\u001b[0m\u001b[0mcatch_eval_exceptions\u001b[0m\u001b[0;34m,\u001b[0m\u001b[0;34m\u001b[0m\u001b[0m\n\u001b[0;32m--> 367\u001b[0;31m             \u001b[0mreturn_argmin\u001b[0m\u001b[0;34m=\u001b[0m\u001b[0mreturn_argmin\u001b[0m\u001b[0;34m,\u001b[0m\u001b[0;34m\u001b[0m\u001b[0m\n\u001b[0m\u001b[1;32m    368\u001b[0m         )\n\u001b[1;32m    369\u001b[0m \u001b[0;34m\u001b[0m\u001b[0m\n",
      "\u001b[0;32m/opt/conda/lib/python3.6/site-packages/hyperopt/base.py\u001b[0m in \u001b[0;36mfmin\u001b[0;34m(self, fn, space, algo, max_evals, rstate, verbose, pass_expr_memo_ctrl, catch_eval_exceptions, return_argmin)\u001b[0m\n\u001b[1;32m    633\u001b[0m             \u001b[0mpass_expr_memo_ctrl\u001b[0m\u001b[0;34m=\u001b[0m\u001b[0mpass_expr_memo_ctrl\u001b[0m\u001b[0;34m,\u001b[0m\u001b[0;34m\u001b[0m\u001b[0m\n\u001b[1;32m    634\u001b[0m             \u001b[0mcatch_eval_exceptions\u001b[0m\u001b[0;34m=\u001b[0m\u001b[0mcatch_eval_exceptions\u001b[0m\u001b[0;34m,\u001b[0m\u001b[0;34m\u001b[0m\u001b[0m\n\u001b[0;32m--> 635\u001b[0;31m             return_argmin=return_argmin)\n\u001b[0m\u001b[1;32m    636\u001b[0m \u001b[0;34m\u001b[0m\u001b[0m\n\u001b[1;32m    637\u001b[0m \u001b[0;34m\u001b[0m\u001b[0m\n",
      "\u001b[0;32m/opt/conda/lib/python3.6/site-packages/hyperopt/fmin.py\u001b[0m in \u001b[0;36mfmin\u001b[0;34m(fn, space, algo, max_evals, trials, rstate, allow_trials_fmin, pass_expr_memo_ctrl, catch_eval_exceptions, verbose, return_argmin, points_to_evaluate, max_queue_len)\u001b[0m\n\u001b[1;32m    383\u001b[0m                     max_queue_len=max_queue_len)\n\u001b[1;32m    384\u001b[0m     \u001b[0mrval\u001b[0m\u001b[0;34m.\u001b[0m\u001b[0mcatch_eval_exceptions\u001b[0m \u001b[0;34m=\u001b[0m \u001b[0mcatch_eval_exceptions\u001b[0m\u001b[0;34m\u001b[0m\u001b[0m\n\u001b[0;32m--> 385\u001b[0;31m     \u001b[0mrval\u001b[0m\u001b[0;34m.\u001b[0m\u001b[0mexhaust\u001b[0m\u001b[0;34m(\u001b[0m\u001b[0;34m)\u001b[0m\u001b[0;34m\u001b[0m\u001b[0m\n\u001b[0m\u001b[1;32m    386\u001b[0m     \u001b[0;32mif\u001b[0m \u001b[0mreturn_argmin\u001b[0m\u001b[0;34m:\u001b[0m\u001b[0;34m\u001b[0m\u001b[0m\n\u001b[1;32m    387\u001b[0m         \u001b[0;32mreturn\u001b[0m \u001b[0mtrials\u001b[0m\u001b[0;34m.\u001b[0m\u001b[0margmin\u001b[0m\u001b[0;34m\u001b[0m\u001b[0m\n",
      "\u001b[0;32m/opt/conda/lib/python3.6/site-packages/hyperopt/fmin.py\u001b[0m in \u001b[0;36mexhaust\u001b[0;34m(self)\u001b[0m\n\u001b[1;32m    242\u001b[0m     \u001b[0;32mdef\u001b[0m \u001b[0mexhaust\u001b[0m\u001b[0;34m(\u001b[0m\u001b[0mself\u001b[0m\u001b[0;34m)\u001b[0m\u001b[0;34m:\u001b[0m\u001b[0;34m\u001b[0m\u001b[0m\n\u001b[1;32m    243\u001b[0m         \u001b[0mn_done\u001b[0m \u001b[0;34m=\u001b[0m \u001b[0mlen\u001b[0m\u001b[0;34m(\u001b[0m\u001b[0mself\u001b[0m\u001b[0;34m.\u001b[0m\u001b[0mtrials\u001b[0m\u001b[0;34m)\u001b[0m\u001b[0;34m\u001b[0m\u001b[0m\n\u001b[0;32m--> 244\u001b[0;31m         \u001b[0mself\u001b[0m\u001b[0;34m.\u001b[0m\u001b[0mrun\u001b[0m\u001b[0;34m(\u001b[0m\u001b[0mself\u001b[0m\u001b[0;34m.\u001b[0m\u001b[0mmax_evals\u001b[0m \u001b[0;34m-\u001b[0m \u001b[0mn_done\u001b[0m\u001b[0;34m,\u001b[0m \u001b[0mblock_until_done\u001b[0m\u001b[0;34m=\u001b[0m\u001b[0mself\u001b[0m\u001b[0;34m.\u001b[0m\u001b[0masynchronous\u001b[0m\u001b[0;34m)\u001b[0m\u001b[0;34m\u001b[0m\u001b[0m\n\u001b[0m\u001b[1;32m    245\u001b[0m         \u001b[0mself\u001b[0m\u001b[0;34m.\u001b[0m\u001b[0mtrials\u001b[0m\u001b[0;34m.\u001b[0m\u001b[0mrefresh\u001b[0m\u001b[0;34m(\u001b[0m\u001b[0;34m)\u001b[0m\u001b[0;34m\u001b[0m\u001b[0m\n\u001b[1;32m    246\u001b[0m         \u001b[0;32mreturn\u001b[0m \u001b[0mself\u001b[0m\u001b[0;34m\u001b[0m\u001b[0m\n",
      "\u001b[0;32m/opt/conda/lib/python3.6/site-packages/hyperopt/fmin.py\u001b[0m in \u001b[0;36mrun\u001b[0;34m(self, N, block_until_done)\u001b[0m\n\u001b[1;32m    216\u001b[0m             \u001b[0;32melse\u001b[0m\u001b[0;34m:\u001b[0m\u001b[0;34m\u001b[0m\u001b[0m\n\u001b[1;32m    217\u001b[0m                 \u001b[0;31m# -- loop over trials and do the jobs directly\u001b[0m\u001b[0;34m\u001b[0m\u001b[0;34m\u001b[0m\u001b[0m\n\u001b[0;32m--> 218\u001b[0;31m                 \u001b[0mself\u001b[0m\u001b[0;34m.\u001b[0m\u001b[0mserial_evaluate\u001b[0m\u001b[0;34m(\u001b[0m\u001b[0;34m)\u001b[0m\u001b[0;34m\u001b[0m\u001b[0m\n\u001b[0m\u001b[1;32m    219\u001b[0m \u001b[0;34m\u001b[0m\u001b[0m\n\u001b[1;32m    220\u001b[0m             \u001b[0;32mif\u001b[0m \u001b[0mstopped\u001b[0m\u001b[0;34m:\u001b[0m\u001b[0;34m\u001b[0m\u001b[0m\n",
      "\u001b[0;32m/opt/conda/lib/python3.6/site-packages/hyperopt/fmin.py\u001b[0m in \u001b[0;36mserial_evaluate\u001b[0;34m(self, N)\u001b[0m\n\u001b[1;32m    135\u001b[0m                 \u001b[0mctrl\u001b[0m \u001b[0;34m=\u001b[0m \u001b[0mbase\u001b[0m\u001b[0;34m.\u001b[0m\u001b[0mCtrl\u001b[0m\u001b[0;34m(\u001b[0m\u001b[0mself\u001b[0m\u001b[0;34m.\u001b[0m\u001b[0mtrials\u001b[0m\u001b[0;34m,\u001b[0m \u001b[0mcurrent_trial\u001b[0m\u001b[0;34m=\u001b[0m\u001b[0mtrial\u001b[0m\u001b[0;34m)\u001b[0m\u001b[0;34m\u001b[0m\u001b[0m\n\u001b[1;32m    136\u001b[0m                 \u001b[0;32mtry\u001b[0m\u001b[0;34m:\u001b[0m\u001b[0;34m\u001b[0m\u001b[0m\n\u001b[0;32m--> 137\u001b[0;31m                     \u001b[0mresult\u001b[0m \u001b[0;34m=\u001b[0m \u001b[0mself\u001b[0m\u001b[0;34m.\u001b[0m\u001b[0mdomain\u001b[0m\u001b[0;34m.\u001b[0m\u001b[0mevaluate\u001b[0m\u001b[0;34m(\u001b[0m\u001b[0mspec\u001b[0m\u001b[0;34m,\u001b[0m \u001b[0mctrl\u001b[0m\u001b[0;34m)\u001b[0m\u001b[0;34m\u001b[0m\u001b[0m\n\u001b[0m\u001b[1;32m    138\u001b[0m                 \u001b[0;32mexcept\u001b[0m \u001b[0mException\u001b[0m \u001b[0;32mas\u001b[0m \u001b[0me\u001b[0m\u001b[0;34m:\u001b[0m\u001b[0;34m\u001b[0m\u001b[0m\n\u001b[1;32m    139\u001b[0m                     \u001b[0mlogger\u001b[0m\u001b[0;34m.\u001b[0m\u001b[0minfo\u001b[0m\u001b[0;34m(\u001b[0m\u001b[0;34m'job exception: %s'\u001b[0m \u001b[0;34m%\u001b[0m \u001b[0mstr\u001b[0m\u001b[0;34m(\u001b[0m\u001b[0me\u001b[0m\u001b[0;34m)\u001b[0m\u001b[0;34m)\u001b[0m\u001b[0;34m\u001b[0m\u001b[0m\n",
      "\u001b[0;32m/opt/conda/lib/python3.6/site-packages/hyperopt/base.py\u001b[0m in \u001b[0;36mevaluate\u001b[0;34m(self, config, ctrl, attach_attachments)\u001b[0m\n\u001b[1;32m    838\u001b[0m                 \u001b[0mmemo\u001b[0m\u001b[0;34m=\u001b[0m\u001b[0mmemo\u001b[0m\u001b[0;34m,\u001b[0m\u001b[0;34m\u001b[0m\u001b[0m\n\u001b[1;32m    839\u001b[0m                 print_node_on_error=self.rec_eval_print_node_on_error)\n\u001b[0;32m--> 840\u001b[0;31m             \u001b[0mrval\u001b[0m \u001b[0;34m=\u001b[0m \u001b[0mself\u001b[0m\u001b[0;34m.\u001b[0m\u001b[0mfn\u001b[0m\u001b[0;34m(\u001b[0m\u001b[0mpyll_rval\u001b[0m\u001b[0;34m)\u001b[0m\u001b[0;34m\u001b[0m\u001b[0m\n\u001b[0m\u001b[1;32m    841\u001b[0m \u001b[0;34m\u001b[0m\u001b[0m\n\u001b[1;32m    842\u001b[0m         \u001b[0;32mif\u001b[0m \u001b[0misinstance\u001b[0m\u001b[0;34m(\u001b[0m\u001b[0mrval\u001b[0m\u001b[0;34m,\u001b[0m \u001b[0;34m(\u001b[0m\u001b[0mfloat\u001b[0m\u001b[0;34m,\u001b[0m \u001b[0mint\u001b[0m\u001b[0;34m,\u001b[0m \u001b[0mnp\u001b[0m\u001b[0;34m.\u001b[0m\u001b[0mnumber\u001b[0m\u001b[0;34m)\u001b[0m\u001b[0;34m)\u001b[0m\u001b[0;34m:\u001b[0m\u001b[0;34m\u001b[0m\u001b[0m\n",
      "\u001b[0;32m<ipython-input-9-8d1a421d4326>\u001b[0m in \u001b[0;36mrf_classifier\u001b[0;34m(params)\u001b[0m\n\u001b[1;32m     15\u001b[0m     \u001b[0mpredict_set\u001b[0m \u001b[0;34m=\u001b[0m \u001b[0;34m[\u001b[0m\u001b[0;34m]\u001b[0m\u001b[0;34m\u001b[0m\u001b[0m\n\u001b[1;32m     16\u001b[0m     \u001b[0;32mfor\u001b[0m \u001b[0mk\u001b[0m\u001b[0;34m,\u001b[0m \u001b[0;34m(\u001b[0m\u001b[0mtrain\u001b[0m\u001b[0;34m,\u001b[0m \u001b[0mtest\u001b[0m\u001b[0;34m)\u001b[0m \u001b[0;32min\u001b[0m \u001b[0menumerate\u001b[0m\u001b[0;34m(\u001b[0m\u001b[0mkfold\u001b[0m\u001b[0;34m)\u001b[0m\u001b[0;34m:\u001b[0m\u001b[0;34m\u001b[0m\u001b[0m\n\u001b[0;32m---> 17\u001b[0;31m         \u001b[0mmodel\u001b[0m\u001b[0;34m.\u001b[0m\u001b[0mfit\u001b[0m\u001b[0;34m(\u001b[0m\u001b[0mX_train\u001b[0m\u001b[0;34m.\u001b[0m\u001b[0miloc\u001b[0m\u001b[0;34m[\u001b[0m\u001b[0mtrain\u001b[0m\u001b[0;34m,\u001b[0m\u001b[0;34m:\u001b[0m\u001b[0;34m]\u001b[0m\u001b[0;34m,\u001b[0m \u001b[0my_train\u001b[0m\u001b[0;34m[\u001b[0m\u001b[0mtrain\u001b[0m\u001b[0;34m]\u001b[0m\u001b[0;34m)\u001b[0m\u001b[0;34m\u001b[0m\u001b[0m\n\u001b[0m\u001b[1;32m     18\u001b[0m         \u001b[0mscore\u001b[0m \u001b[0;34m=\u001b[0m \u001b[0mf1\u001b[0m\u001b[0;34m(\u001b[0m\u001b[0mX_train\u001b[0m\u001b[0;34m.\u001b[0m\u001b[0miloc\u001b[0m\u001b[0;34m[\u001b[0m\u001b[0mtest\u001b[0m\u001b[0;34m,\u001b[0m\u001b[0;34m:\u001b[0m\u001b[0;34m]\u001b[0m\u001b[0;34m,\u001b[0m \u001b[0my_train\u001b[0m\u001b[0;34m[\u001b[0m\u001b[0mtest\u001b[0m\u001b[0;34m]\u001b[0m\u001b[0;34m,\u001b[0m \u001b[0mmodel\u001b[0m\u001b[0;34m,\u001b[0m\u001b[0mlabel_map\u001b[0m\u001b[0;34m)\u001b[0m\u001b[0;34m\u001b[0m\u001b[0m\n\u001b[1;32m     19\u001b[0m         \u001b[0mscores\u001b[0m\u001b[0;34m.\u001b[0m\u001b[0mappend\u001b[0m\u001b[0;34m(\u001b[0m\u001b[0mscore\u001b[0m\u001b[0;34m)\u001b[0m\u001b[0;34m\u001b[0m\u001b[0m\n",
      "\u001b[0;32m/opt/conda/lib/python3.6/site-packages/sklearn/ensemble/forest.py\u001b[0m in \u001b[0;36mfit\u001b[0;34m(self, X, y, sample_weight)\u001b[0m\n\u001b[1;32m    326\u001b[0m                     \u001b[0mt\u001b[0m\u001b[0;34m,\u001b[0m \u001b[0mself\u001b[0m\u001b[0;34m,\u001b[0m \u001b[0mX\u001b[0m\u001b[0;34m,\u001b[0m \u001b[0my\u001b[0m\u001b[0;34m,\u001b[0m \u001b[0msample_weight\u001b[0m\u001b[0;34m,\u001b[0m \u001b[0mi\u001b[0m\u001b[0;34m,\u001b[0m \u001b[0mlen\u001b[0m\u001b[0;34m(\u001b[0m\u001b[0mtrees\u001b[0m\u001b[0;34m)\u001b[0m\u001b[0;34m,\u001b[0m\u001b[0;34m\u001b[0m\u001b[0m\n\u001b[1;32m    327\u001b[0m                     verbose=self.verbose, class_weight=self.class_weight)\n\u001b[0;32m--> 328\u001b[0;31m                 for i, t in enumerate(trees))\n\u001b[0m\u001b[1;32m    329\u001b[0m \u001b[0;34m\u001b[0m\u001b[0m\n\u001b[1;32m    330\u001b[0m             \u001b[0;31m# Collect newly grown trees\u001b[0m\u001b[0;34m\u001b[0m\u001b[0;34m\u001b[0m\u001b[0m\n",
      "\u001b[0;32m/opt/conda/lib/python3.6/site-packages/sklearn/externals/joblib/parallel.py\u001b[0m in \u001b[0;36m__call__\u001b[0;34m(self, iterable)\u001b[0m\n\u001b[1;32m    787\u001b[0m                 \u001b[0;31m# consumption.\u001b[0m\u001b[0;34m\u001b[0m\u001b[0;34m\u001b[0m\u001b[0m\n\u001b[1;32m    788\u001b[0m                 \u001b[0mself\u001b[0m\u001b[0;34m.\u001b[0m\u001b[0m_iterating\u001b[0m \u001b[0;34m=\u001b[0m \u001b[0;32mFalse\u001b[0m\u001b[0;34m\u001b[0m\u001b[0m\n\u001b[0;32m--> 789\u001b[0;31m             \u001b[0mself\u001b[0m\u001b[0;34m.\u001b[0m\u001b[0mretrieve\u001b[0m\u001b[0;34m(\u001b[0m\u001b[0;34m)\u001b[0m\u001b[0;34m\u001b[0m\u001b[0m\n\u001b[0m\u001b[1;32m    790\u001b[0m             \u001b[0;31m# Make sure that we get a last message telling us we are done\u001b[0m\u001b[0;34m\u001b[0m\u001b[0;34m\u001b[0m\u001b[0m\n\u001b[1;32m    791\u001b[0m             \u001b[0melapsed_time\u001b[0m \u001b[0;34m=\u001b[0m \u001b[0mtime\u001b[0m\u001b[0;34m.\u001b[0m\u001b[0mtime\u001b[0m\u001b[0;34m(\u001b[0m\u001b[0;34m)\u001b[0m \u001b[0;34m-\u001b[0m \u001b[0mself\u001b[0m\u001b[0;34m.\u001b[0m\u001b[0m_start_time\u001b[0m\u001b[0;34m\u001b[0m\u001b[0m\n",
      "\u001b[0;32m/opt/conda/lib/python3.6/site-packages/sklearn/externals/joblib/parallel.py\u001b[0m in \u001b[0;36mretrieve\u001b[0;34m(self)\u001b[0m\n\u001b[1;32m    697\u001b[0m             \u001b[0;32mtry\u001b[0m\u001b[0;34m:\u001b[0m\u001b[0;34m\u001b[0m\u001b[0m\n\u001b[1;32m    698\u001b[0m                 \u001b[0;32mif\u001b[0m \u001b[0mgetattr\u001b[0m\u001b[0;34m(\u001b[0m\u001b[0mself\u001b[0m\u001b[0;34m.\u001b[0m\u001b[0m_backend\u001b[0m\u001b[0;34m,\u001b[0m \u001b[0;34m'supports_timeout'\u001b[0m\u001b[0;34m,\u001b[0m \u001b[0;32mFalse\u001b[0m\u001b[0;34m)\u001b[0m\u001b[0;34m:\u001b[0m\u001b[0;34m\u001b[0m\u001b[0m\n\u001b[0;32m--> 699\u001b[0;31m                     \u001b[0mself\u001b[0m\u001b[0;34m.\u001b[0m\u001b[0m_output\u001b[0m\u001b[0;34m.\u001b[0m\u001b[0mextend\u001b[0m\u001b[0;34m(\u001b[0m\u001b[0mjob\u001b[0m\u001b[0;34m.\u001b[0m\u001b[0mget\u001b[0m\u001b[0;34m(\u001b[0m\u001b[0mtimeout\u001b[0m\u001b[0;34m=\u001b[0m\u001b[0mself\u001b[0m\u001b[0;34m.\u001b[0m\u001b[0mtimeout\u001b[0m\u001b[0;34m)\u001b[0m\u001b[0;34m)\u001b[0m\u001b[0;34m\u001b[0m\u001b[0m\n\u001b[0m\u001b[1;32m    700\u001b[0m                 \u001b[0;32melse\u001b[0m\u001b[0;34m:\u001b[0m\u001b[0;34m\u001b[0m\u001b[0m\n\u001b[1;32m    701\u001b[0m                     \u001b[0mself\u001b[0m\u001b[0;34m.\u001b[0m\u001b[0m_output\u001b[0m\u001b[0;34m.\u001b[0m\u001b[0mextend\u001b[0m\u001b[0;34m(\u001b[0m\u001b[0mjob\u001b[0m\u001b[0;34m.\u001b[0m\u001b[0mget\u001b[0m\u001b[0;34m(\u001b[0m\u001b[0;34m)\u001b[0m\u001b[0;34m)\u001b[0m\u001b[0;34m\u001b[0m\u001b[0m\n",
      "\u001b[0;32m/opt/conda/lib/python3.6/multiprocessing/pool.py\u001b[0m in \u001b[0;36mget\u001b[0;34m(self, timeout)\u001b[0m\n\u001b[1;32m    636\u001b[0m \u001b[0;34m\u001b[0m\u001b[0m\n\u001b[1;32m    637\u001b[0m     \u001b[0;32mdef\u001b[0m \u001b[0mget\u001b[0m\u001b[0;34m(\u001b[0m\u001b[0mself\u001b[0m\u001b[0;34m,\u001b[0m \u001b[0mtimeout\u001b[0m\u001b[0;34m=\u001b[0m\u001b[0;32mNone\u001b[0m\u001b[0;34m)\u001b[0m\u001b[0;34m:\u001b[0m\u001b[0;34m\u001b[0m\u001b[0m\n\u001b[0;32m--> 638\u001b[0;31m         \u001b[0mself\u001b[0m\u001b[0;34m.\u001b[0m\u001b[0mwait\u001b[0m\u001b[0;34m(\u001b[0m\u001b[0mtimeout\u001b[0m\u001b[0;34m)\u001b[0m\u001b[0;34m\u001b[0m\u001b[0m\n\u001b[0m\u001b[1;32m    639\u001b[0m         \u001b[0;32mif\u001b[0m \u001b[0;32mnot\u001b[0m \u001b[0mself\u001b[0m\u001b[0;34m.\u001b[0m\u001b[0mready\u001b[0m\u001b[0;34m(\u001b[0m\u001b[0;34m)\u001b[0m\u001b[0;34m:\u001b[0m\u001b[0;34m\u001b[0m\u001b[0m\n\u001b[1;32m    640\u001b[0m             \u001b[0;32mraise\u001b[0m \u001b[0mTimeoutError\u001b[0m\u001b[0;34m\u001b[0m\u001b[0m\n",
      "\u001b[0;32m/opt/conda/lib/python3.6/multiprocessing/pool.py\u001b[0m in \u001b[0;36mwait\u001b[0;34m(self, timeout)\u001b[0m\n\u001b[1;32m    633\u001b[0m \u001b[0;34m\u001b[0m\u001b[0m\n\u001b[1;32m    634\u001b[0m     \u001b[0;32mdef\u001b[0m \u001b[0mwait\u001b[0m\u001b[0;34m(\u001b[0m\u001b[0mself\u001b[0m\u001b[0;34m,\u001b[0m \u001b[0mtimeout\u001b[0m\u001b[0;34m=\u001b[0m\u001b[0;32mNone\u001b[0m\u001b[0;34m)\u001b[0m\u001b[0;34m:\u001b[0m\u001b[0;34m\u001b[0m\u001b[0m\n\u001b[0;32m--> 635\u001b[0;31m         \u001b[0mself\u001b[0m\u001b[0;34m.\u001b[0m\u001b[0m_event\u001b[0m\u001b[0;34m.\u001b[0m\u001b[0mwait\u001b[0m\u001b[0;34m(\u001b[0m\u001b[0mtimeout\u001b[0m\u001b[0;34m)\u001b[0m\u001b[0;34m\u001b[0m\u001b[0m\n\u001b[0m\u001b[1;32m    636\u001b[0m \u001b[0;34m\u001b[0m\u001b[0m\n\u001b[1;32m    637\u001b[0m     \u001b[0;32mdef\u001b[0m \u001b[0mget\u001b[0m\u001b[0;34m(\u001b[0m\u001b[0mself\u001b[0m\u001b[0;34m,\u001b[0m \u001b[0mtimeout\u001b[0m\u001b[0;34m=\u001b[0m\u001b[0;32mNone\u001b[0m\u001b[0;34m)\u001b[0m\u001b[0;34m:\u001b[0m\u001b[0;34m\u001b[0m\u001b[0m\n",
      "\u001b[0;32m/opt/conda/lib/python3.6/threading.py\u001b[0m in \u001b[0;36mwait\u001b[0;34m(self, timeout)\u001b[0m\n\u001b[1;32m    549\u001b[0m             \u001b[0msignaled\u001b[0m \u001b[0;34m=\u001b[0m \u001b[0mself\u001b[0m\u001b[0;34m.\u001b[0m\u001b[0m_flag\u001b[0m\u001b[0;34m\u001b[0m\u001b[0m\n\u001b[1;32m    550\u001b[0m             \u001b[0;32mif\u001b[0m \u001b[0;32mnot\u001b[0m \u001b[0msignaled\u001b[0m\u001b[0;34m:\u001b[0m\u001b[0;34m\u001b[0m\u001b[0m\n\u001b[0;32m--> 551\u001b[0;31m                 \u001b[0msignaled\u001b[0m \u001b[0;34m=\u001b[0m \u001b[0mself\u001b[0m\u001b[0;34m.\u001b[0m\u001b[0m_cond\u001b[0m\u001b[0;34m.\u001b[0m\u001b[0mwait\u001b[0m\u001b[0;34m(\u001b[0m\u001b[0mtimeout\u001b[0m\u001b[0;34m)\u001b[0m\u001b[0;34m\u001b[0m\u001b[0m\n\u001b[0m\u001b[1;32m    552\u001b[0m             \u001b[0;32mreturn\u001b[0m \u001b[0msignaled\u001b[0m\u001b[0;34m\u001b[0m\u001b[0m\n\u001b[1;32m    553\u001b[0m \u001b[0;34m\u001b[0m\u001b[0m\n",
      "\u001b[0;32m/opt/conda/lib/python3.6/threading.py\u001b[0m in \u001b[0;36mwait\u001b[0;34m(self, timeout)\u001b[0m\n\u001b[1;32m    293\u001b[0m         \u001b[0;32mtry\u001b[0m\u001b[0;34m:\u001b[0m    \u001b[0;31m# restore state no matter what (e.g., KeyboardInterrupt)\u001b[0m\u001b[0;34m\u001b[0m\u001b[0m\n\u001b[1;32m    294\u001b[0m             \u001b[0;32mif\u001b[0m \u001b[0mtimeout\u001b[0m \u001b[0;32mis\u001b[0m \u001b[0;32mNone\u001b[0m\u001b[0;34m:\u001b[0m\u001b[0;34m\u001b[0m\u001b[0m\n\u001b[0;32m--> 295\u001b[0;31m                 \u001b[0mwaiter\u001b[0m\u001b[0;34m.\u001b[0m\u001b[0macquire\u001b[0m\u001b[0;34m(\u001b[0m\u001b[0;34m)\u001b[0m\u001b[0;34m\u001b[0m\u001b[0m\n\u001b[0m\u001b[1;32m    296\u001b[0m                 \u001b[0mgotit\u001b[0m \u001b[0;34m=\u001b[0m \u001b[0;32mTrue\u001b[0m\u001b[0;34m\u001b[0m\u001b[0m\n\u001b[1;32m    297\u001b[0m             \u001b[0;32melse\u001b[0m\u001b[0;34m:\u001b[0m\u001b[0;34m\u001b[0m\u001b[0m\n",
      "\u001b[0;31mKeyboardInterrupt\u001b[0m: "
     ]
    }
   ],
   "source": [
    "best = fmin(rf_classifier, param_space, algo=tpe.suggest, max_evals=100,trials=trials)\n",
    "print ('best:')\n",
    "print (best)"
   ]
  }
 ],
 "metadata": {
  "kernelspec": {
   "display_name": "Python 3",
   "language": "python",
   "name": "python3"
  },
  "language_info": {
   "codemirror_mode": {
    "name": "ipython",
    "version": 3
   },
   "file_extension": ".py",
   "mimetype": "text/x-python",
   "name": "python",
   "nbconvert_exporter": "python",
   "pygments_lexer": "ipython3",
   "version": "3.6.6"
  }
 },
 "nbformat": 4,
 "nbformat_minor": 2
}
