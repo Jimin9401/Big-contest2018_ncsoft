{
 "cells": [
  {
   "cell_type": "code",
   "execution_count": 1,
   "metadata": {},
   "outputs": [],
   "source": [
    "import pandas as pd\n",
    "import numpy as np\n",
    "import matplotlib.pyplot as plt\n",
    "from sklearn.metrics import precision_score, recall_score\n",
    "from sklearn.model_selection import StratifiedKFold\n",
    "import lightgbm as lgb"
   ]
  },
  {
   "cell_type": "code",
   "execution_count": 2,
   "metadata": {},
   "outputs": [],
   "source": [
    "#### load class\n",
    "train_label = pd.read_csv('temp_data/train_label_lite.csv')\n",
    "# hasher = pd.read_csv('test_id.csv')\n",
    "label_map = {'retained':0,'2month':1,'month':2,'week':3}\n",
    "y_train = pd.Series([label_map[l] for l in train_label.label])\n",
    "inv_map = {label_map[k]:k for k in label_map.keys()}"
   ]
  },
  {
   "cell_type": "code",
   "execution_count": 3,
   "metadata": {},
   "outputs": [],
   "source": [
    "X_train = pd.read_csv('X_train_final.csv')"
   ]
  },
  {
   "cell_type": "code",
   "execution_count": 4,
   "metadata": {},
   "outputs": [],
   "source": [
    "train_data=lgb.Dataset(X_train, label=np.array(y_train).reshape(-1))"
   ]
  },
  {
   "cell_type": "code",
   "execution_count": null,
   "metadata": {},
   "outputs": [],
   "source": [
    "param = {'objective':'softmax'}\n",
    "#http://lightgbm.readthedocs.io/en/latest/Parameters.html\n",
    "#core parameters\n",
    "param['boosting'] = 'dart'\n",
    "param['num_iterations'] = 500 ### cv로 적절한 값 찾기\n",
    "param['num_leaves']= 1000\n",
    "param['metric'] = 'multi_error'\n",
    "param['n_jobs']=-1\n",
    "param['learning_rate']=0.1\n",
    "param['treelearner']='serial'\n",
    "#gpu 설정하려면 좀 더 봐야 함\n",
    "param['device_type']='gpu'\n",
    "param['seed']=0\n",
    "\n",
    "#learning control parameters\n",
    "param['max_depth']=100\n",
    "param['min_data_in_leaf']=200\n",
    "#param['lambda_l1']\n",
    "#param['lambda_l2']\n",
    "#param['drop_rate']\n",
    "#param['max_drop']\n",
    "#param['top_k']\n",
    "\n",
    "#objectiv parameters\n",
    "param['num_class']=4\n",
    "param['is_unbalance']=False"
   ]
  },
  {
   "cell_type": "code",
   "execution_count": null,
   "metadata": {},
   "outputs": [],
   "source": [
    "lgb.train(param)"
   ]
  },
  {
   "cell_type": "code",
   "execution_count": null,
   "metadata": {},
   "outputs": [],
   "source": [
    "#### cross validation(for NA)\n",
    "kfold = StratifiedKFold(n_splits = 5 ,random_state = 7,shuffle=True).split(X_train, y_train)\n",
    "scores = []\n",
    "predict_set = []\n",
    "for k, (train, test) in enumerate(kfold):\n",
    "    bst = lgb.train(param,train_data)\n",
    "    score = model.score(X_train.iloc[test,:], y_train[test])\n",
    "    scores.append(score)\n",
    "    print('Fold: %s, Class dist.: %s, F1: %.3f' % (k+1,np.bincount(y_train[train]), score))\n",
    "    ### predict\n",
    "    y_pred = model.predict(X_train.iloc[test,:])\n",
    "    predict_set += [(x,inv_map[y_pred[i]]) for i,x in enumerate(test)]\n",
    "print('\\nCV F1: %.6f +/- %.6f' % (np.mean(scores), np.std(scores)))"
   ]
  },
  {
   "cell_type": "code",
   "execution_count": null,
   "metadata": {},
   "outputs": [],
   "source": [
    "#모델 object를 bst에 저장\n",
    "#early_stopping_roinds - model의 성능이 parameter로 준 round동안 개선되지 않으면 stop함\n",
    "evals_result = {} \n",
    "bst = lgb.train(param, train_data, num_round, valid_sets=[val_data],early_stopping_rounds=4,evals_result=evals_result)"
   ]
  },
  {
   "cell_type": "code",
   "execution_count": null,
   "metadata": {},
   "outputs": [],
   "source": [
    "#crossvalidation\n",
    "num_round = 100\n",
    "lgb.cv(param, train_data, num_round, nfold=5, early)"
   ]
  }
 ],
 "metadata": {
  "kernelspec": {
   "display_name": "Python 3",
   "language": "python",
   "name": "python3"
  },
  "language_info": {
   "codemirror_mode": {
    "name": "ipython",
    "version": 3
   },
   "file_extension": ".py",
   "mimetype": "text/x-python",
   "name": "python",
   "nbconvert_exporter": "python",
   "pygments_lexer": "ipython3",
   "version": "3.6.6"
  }
 },
 "nbformat": 4,
 "nbformat_minor": 2
}
