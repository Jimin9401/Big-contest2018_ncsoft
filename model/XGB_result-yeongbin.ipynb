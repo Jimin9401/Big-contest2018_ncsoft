{
 "cells": [
  {
   "cell_type": "markdown",
   "metadata": {},
   "source": [
    "### Import module, function and data"
   ]
  },
  {
   "cell_type": "code",
   "execution_count": 2,
   "metadata": {},
   "outputs": [],
   "source": [
    "import warnings\n",
    "warnings.filterwarnings(\"ignore\")\n",
    "import pandas as pd\n",
    "import numpy as np\n",
    "import xgboost as xgb\n",
    "from xgboost.sklearn import XGBClassifier\n",
    "from sklearn.metrics import precision_score, recall_score\n",
    "from sklearn.model_selection import StratifiedKFold\n",
    "from sklearn.model_selection import GridSearchCV\n",
    "from sklearn.model_selection import validation_curve\n",
    "from pprint import pprint\n",
    "import matplotlib.pyplot as plt\n",
    "\n",
    "from sklearn.ensemble import RandomForestClassifier # rf분류기"
   ]
  },
  {
   "cell_type": "code",
   "execution_count": 3,
   "metadata": {},
   "outputs": [],
   "source": [
    "#### training_validation 나누기!!!\n",
    "def separating(X,y):\n",
    "    np.random.seed(7)\n",
    "    index_where=[]\n",
    "    index_choosed=[]\n",
    "    index_boolean=np.zeros(len(y),np.bool)\n",
    "    for i in range(4):\n",
    "        index_where.append(np.where(y==i)[0])\n",
    "    for j in range(4):\n",
    "        index_choosed.append(np.random.choice(index_where[j],int(sum(y==j)*0.9),replace = False))\n",
    "    for k in range(4):\n",
    "        print(index_choosed[k])\n",
    "        index_boolean[index_choosed[k]]=1\n",
    "    return X[index_boolean], X[index_boolean==0],y[index_boolean], y[index_boolean==0]"
   ]
  },
  {
   "cell_type": "code",
   "execution_count": 4,
   "metadata": {},
   "outputs": [],
   "source": [
    "def F1(y_pred, dtrain):\n",
    "    labels = dtrain\n",
    "    \n",
    "    pre = precision_score(y_true = labels, y_pred = y_pred, average=None)\n",
    "    rec = recall_score(y_true = labels, y_pred = y_pred, average=None)\n",
    "    f1_score = 8/(sum(1/pre) + sum(1/rec))\n",
    "\n",
    "    return 'f1', f1_score"
   ]
  },
  {
   "cell_type": "code",
   "execution_count": 5,
   "metadata": {},
   "outputs": [],
   "source": [
    "#### load class\n",
    "train_label = pd.read_csv('temp_data/train_label_lite.csv')\n",
    "hasher = pd.read_csv('temp_data/test_id.csv')\n",
    "label_map = {'retained':0,'2month':1,'month':2,'week':3}\n",
    "y_train = pd.Series([label_map[l] for l in train_label.label])\n",
    "inv_map = {label_map[k]:k for k in label_map.keys()}"
   ]
  },
  {
   "cell_type": "markdown",
   "metadata": {},
   "source": [
    "---"
   ]
  },
  {
   "cell_type": "code",
   "execution_count": 1,
   "metadata": {},
   "outputs": [
    {
     "ename": "NameError",
     "evalue": "name 'xgb' is not defined",
     "output_type": "error",
     "traceback": [
      "\u001b[0;31m---------------------------------------------------------------------------\u001b[0m",
      "\u001b[0;31mNameError\u001b[0m                                 Traceback (most recent call last)",
      "\u001b[0;32m<ipython-input-1-ec728abbec87>\u001b[0m in \u001b[0;36m<module>\u001b[0;34m()\u001b[0m\n\u001b[1;32m     30\u001b[0m \u001b[0;31m#xgb_hongmun_param['refresh_leaf'] = True\u001b[0m\u001b[0;34m\u001b[0m\u001b[0;34m\u001b[0m\u001b[0m\n\u001b[1;32m     31\u001b[0m \u001b[0;34m\u001b[0m\u001b[0m\n\u001b[0;32m---> 32\u001b[0;31m \u001b[0mhongmun_model\u001b[0m \u001b[0;34m=\u001b[0m \u001b[0mxgb\u001b[0m\u001b[0;34m.\u001b[0m\u001b[0mXGBClassifier\u001b[0m\u001b[0;34m(\u001b[0m\u001b[0;34m**\u001b[0m\u001b[0mxgb_hongmun_param\u001b[0m\u001b[0;34m)\u001b[0m\u001b[0;34m\u001b[0m\u001b[0m\n\u001b[0m",
      "\u001b[0;31mNameError\u001b[0m: name 'xgb' is not defined"
     ]
    }
   ],
   "source": [
    "#### xgb\n",
    "grid_result = []\n",
    "xgb_hongmun_param = {}\n",
    "#### XGB xgb_hongmun_parameters\n",
    "## General xgb_hongmun_parameters\n",
    "xgb_hongmun_param['n_gpus'] = -1\n",
    "xgb_hongmun_param['tree_method'] = 'gpu_hist'\n",
    "xgb_hongmun_param['silent'] = 0\n",
    "\n",
    "## Booster xgb_hongmun_parameters\n",
    "xgb_hongmun_param['n_estimators'] = 2240#요기...\n",
    "xgb_hongmun_param['learning_rate'] = 0.01\n",
    "xgb_hongmun_param['min_child_weight'] = 6.5\n",
    "xgb_hongmun_param['max_depth'] = 13\n",
    "xgb_hongmun_param['gamma'] = 0.05\n",
    "xgb_hongmun_param['reg_alpha'] =0.01\n",
    "xgb_hongmun_param['reg_lambda'] = 0.05\n",
    "xgb_hongmun_param['subsample'] = 0.9\n",
    "xgb_hongmun_param['colsample_bytree'] = 0.75\n",
    "xgb_hongmun_param['scale_pos_weight'] = 1\n",
    "\n",
    "## Learning task xgb_hongmun_parameters\n",
    "xgb_hongmun_param['num_class'] = 4\n",
    "xgb_hongmun_param['objective'] = 'multi:softmax'\n",
    "xgb_hongmun_param['seed'] = 7\n",
    "\n",
    "## update?\n",
    "#xgb_hongmun_param['process_type'] = 'update'\n",
    "#xgb_hongmun_param['updater'] = 'refresh'\n",
    "#xgb_hongmun_param['refresh_leaf'] = True\n",
    "\n",
    "hongmun_model = xgb.XGBClassifier(**xgb_hongmun_param)"
   ]
  },
  {
   "cell_type": "code",
   "execution_count": 136,
   "metadata": {},
   "outputs": [],
   "source": [
    "#### xgb\n",
    "grid_result = []\n",
    "param = {}\n",
    "#### XGB parameters\n",
    "## General Parameters\n",
    "param['n_gpus'] = -1\n",
    "param['tree_method'] = 'gpu_hist'\n",
    "param['silent'] = 0\n",
    "\n",
    "## Booster Parameters\n",
    "param['n_estimators'] = 224 #요기...\n",
    "param['learning_rate'] = 0.1\n",
    "param['min_child_weight'] = 6.5\n",
    "param['max_depth'] = 13\n",
    "param['gamma'] = 0.1\n",
    "param['reg_alpha'] =0.01\n",
    "param['reg_lambda'] = 0.05\n",
    "param['subsample'] = 0.9\n",
    "param['colsample_bytree'] = 0.75\n",
    "param['scale_pos_weight'] = 1\n",
    "\n",
    "## Learning task parameters\n",
    "param['num_class'] = 4\n",
    "param['objective'] = 'multi:softmax'\n",
    "param['seed'] = 7\n",
    "\n",
    "## update?\n",
    "#param['process_type'] = 'update'\n",
    "#param['updater'] = 'refresh'\n",
    "#param['refresh_leaf'] = True\n",
    "model = xgb.XGBClassifier(**param)"
   ]
  },
  {
   "cell_type": "code",
   "execution_count": null,
   "metadata": {},
   "outputs": [],
   "source": []
  },
  {
   "cell_type": "code",
   "execution_count": null,
   "metadata": {},
   "outputs": [],
   "source": []
  },
  {
   "cell_type": "code",
   "execution_count": 75,
   "metadata": {},
   "outputs": [],
   "source": [
    "delete_list=[3,7,8,13,23,28,30,31,51,53,57,58,60,66,67,71,72,84,97,104,107,109,120,121,127,149,156,166,168,169,171,179,185,196,201,202,207,213,218,226,249,255,256,257,259,266,267,275,288,291,294,305,312,330,344,347,352,355,371,375,377,387,389,393,397,401,407,414,422,424,432,440,450]\n",
    "new_cols=list(set(list(range(len(X_train.columns))))-set(delete_list))"
   ]
  },
  {
   "cell_type": "code",
   "execution_count": 76,
   "metadata": {},
   "outputs": [
    {
     "data": {
      "text/plain": [
       "[0,\n",
       " 1,\n",
       " 2,\n",
       " 4,\n",
       " 5,\n",
       " 6,\n",
       " 9,\n",
       " 10,\n",
       " 11,\n",
       " 12,\n",
       " 14,\n",
       " 15,\n",
       " 16,\n",
       " 17,\n",
       " 18,\n",
       " 19,\n",
       " 20,\n",
       " 21,\n",
       " 22,\n",
       " 24,\n",
       " 25,\n",
       " 26,\n",
       " 27,\n",
       " 29,\n",
       " 32,\n",
       " 33,\n",
       " 34,\n",
       " 35,\n",
       " 36,\n",
       " 37,\n",
       " 38,\n",
       " 39,\n",
       " 40,\n",
       " 41,\n",
       " 42,\n",
       " 43,\n",
       " 44,\n",
       " 45,\n",
       " 46,\n",
       " 47,\n",
       " 48,\n",
       " 49,\n",
       " 50,\n",
       " 52,\n",
       " 54,\n",
       " 55,\n",
       " 56,\n",
       " 59,\n",
       " 61,\n",
       " 62,\n",
       " 63,\n",
       " 64,\n",
       " 65,\n",
       " 68,\n",
       " 69,\n",
       " 70,\n",
       " 73,\n",
       " 74,\n",
       " 75,\n",
       " 76,\n",
       " 77,\n",
       " 78,\n",
       " 79,\n",
       " 80,\n",
       " 81,\n",
       " 82,\n",
       " 83,\n",
       " 85,\n",
       " 86,\n",
       " 87,\n",
       " 88,\n",
       " 89,\n",
       " 90,\n",
       " 91,\n",
       " 92,\n",
       " 93,\n",
       " 94,\n",
       " 95,\n",
       " 96,\n",
       " 98,\n",
       " 99,\n",
       " 100,\n",
       " 101,\n",
       " 102,\n",
       " 103,\n",
       " 105,\n",
       " 106,\n",
       " 108,\n",
       " 110,\n",
       " 111,\n",
       " 112,\n",
       " 113,\n",
       " 114,\n",
       " 115,\n",
       " 116,\n",
       " 117,\n",
       " 118,\n",
       " 119,\n",
       " 122,\n",
       " 123,\n",
       " 124,\n",
       " 125,\n",
       " 126,\n",
       " 128,\n",
       " 129,\n",
       " 130,\n",
       " 131,\n",
       " 132,\n",
       " 133,\n",
       " 134,\n",
       " 135,\n",
       " 136,\n",
       " 137,\n",
       " 138,\n",
       " 139,\n",
       " 140,\n",
       " 141,\n",
       " 142,\n",
       " 143,\n",
       " 144,\n",
       " 145,\n",
       " 146,\n",
       " 147,\n",
       " 148,\n",
       " 150,\n",
       " 151,\n",
       " 152,\n",
       " 153,\n",
       " 154,\n",
       " 155,\n",
       " 157,\n",
       " 158,\n",
       " 159,\n",
       " 160,\n",
       " 161,\n",
       " 162,\n",
       " 163,\n",
       " 164,\n",
       " 165,\n",
       " 167,\n",
       " 170,\n",
       " 172,\n",
       " 173,\n",
       " 174,\n",
       " 175,\n",
       " 176,\n",
       " 177,\n",
       " 178,\n",
       " 180,\n",
       " 181,\n",
       " 182,\n",
       " 183,\n",
       " 184,\n",
       " 186,\n",
       " 187,\n",
       " 188,\n",
       " 189,\n",
       " 190,\n",
       " 191,\n",
       " 192,\n",
       " 193,\n",
       " 194,\n",
       " 195,\n",
       " 197,\n",
       " 198,\n",
       " 199,\n",
       " 200,\n",
       " 203,\n",
       " 204,\n",
       " 205,\n",
       " 206,\n",
       " 208,\n",
       " 209,\n",
       " 210,\n",
       " 211,\n",
       " 212,\n",
       " 214,\n",
       " 215,\n",
       " 216,\n",
       " 217,\n",
       " 219,\n",
       " 220,\n",
       " 221,\n",
       " 222,\n",
       " 223,\n",
       " 224,\n",
       " 225,\n",
       " 227,\n",
       " 228,\n",
       " 229,\n",
       " 230,\n",
       " 231,\n",
       " 232,\n",
       " 233,\n",
       " 234,\n",
       " 235,\n",
       " 236,\n",
       " 237,\n",
       " 238,\n",
       " 239,\n",
       " 240,\n",
       " 241,\n",
       " 242,\n",
       " 243,\n",
       " 244,\n",
       " 245,\n",
       " 246,\n",
       " 247,\n",
       " 248,\n",
       " 250,\n",
       " 251,\n",
       " 252,\n",
       " 253,\n",
       " 254,\n",
       " 258,\n",
       " 260,\n",
       " 261,\n",
       " 262,\n",
       " 263,\n",
       " 264,\n",
       " 265,\n",
       " 268,\n",
       " 269,\n",
       " 270,\n",
       " 271,\n",
       " 272,\n",
       " 273,\n",
       " 274,\n",
       " 276,\n",
       " 277,\n",
       " 278,\n",
       " 279,\n",
       " 280,\n",
       " 281,\n",
       " 282,\n",
       " 283,\n",
       " 284,\n",
       " 285,\n",
       " 286,\n",
       " 287,\n",
       " 289,\n",
       " 290,\n",
       " 292,\n",
       " 293,\n",
       " 295,\n",
       " 296,\n",
       " 297,\n",
       " 298,\n",
       " 299,\n",
       " 300,\n",
       " 301,\n",
       " 302,\n",
       " 303,\n",
       " 304,\n",
       " 306,\n",
       " 307,\n",
       " 308,\n",
       " 309,\n",
       " 310,\n",
       " 311,\n",
       " 313,\n",
       " 314,\n",
       " 315,\n",
       " 316,\n",
       " 317,\n",
       " 318,\n",
       " 319,\n",
       " 320,\n",
       " 321,\n",
       " 322,\n",
       " 323,\n",
       " 324,\n",
       " 325,\n",
       " 326,\n",
       " 327,\n",
       " 328,\n",
       " 329,\n",
       " 331,\n",
       " 332,\n",
       " 333,\n",
       " 334,\n",
       " 335,\n",
       " 336,\n",
       " 337,\n",
       " 338,\n",
       " 339,\n",
       " 340,\n",
       " 341,\n",
       " 342,\n",
       " 343,\n",
       " 345,\n",
       " 346,\n",
       " 348,\n",
       " 349,\n",
       " 350,\n",
       " 351,\n",
       " 353,\n",
       " 354,\n",
       " 356,\n",
       " 357,\n",
       " 358,\n",
       " 359,\n",
       " 360,\n",
       " 361,\n",
       " 362,\n",
       " 363,\n",
       " 364,\n",
       " 365,\n",
       " 366,\n",
       " 367,\n",
       " 368,\n",
       " 369,\n",
       " 370,\n",
       " 372,\n",
       " 373,\n",
       " 374,\n",
       " 376,\n",
       " 378,\n",
       " 379,\n",
       " 380,\n",
       " 381,\n",
       " 382,\n",
       " 383,\n",
       " 384,\n",
       " 385,\n",
       " 386,\n",
       " 388,\n",
       " 390,\n",
       " 391,\n",
       " 392,\n",
       " 394,\n",
       " 395,\n",
       " 396,\n",
       " 398,\n",
       " 399,\n",
       " 400,\n",
       " 402,\n",
       " 403,\n",
       " 404,\n",
       " 405,\n",
       " 406,\n",
       " 408,\n",
       " 409,\n",
       " 410,\n",
       " 411,\n",
       " 412,\n",
       " 413,\n",
       " 415,\n",
       " 416,\n",
       " 417,\n",
       " 418,\n",
       " 419,\n",
       " 420,\n",
       " 421,\n",
       " 423,\n",
       " 425,\n",
       " 426,\n",
       " 427,\n",
       " 428,\n",
       " 429,\n",
       " 430,\n",
       " 431,\n",
       " 433,\n",
       " 434,\n",
       " 435,\n",
       " 436,\n",
       " 437,\n",
       " 438,\n",
       " 439,\n",
       " 441,\n",
       " 442,\n",
       " 443,\n",
       " 444,\n",
       " 445,\n",
       " 446,\n",
       " 447,\n",
       " 448,\n",
       " 449,\n",
       " 451,\n",
       " 452,\n",
       " 453,\n",
       " 454,\n",
       " 455,\n",
       " 456,\n",
       " 457,\n",
       " 458,\n",
       " 459,\n",
       " 460,\n",
       " 461,\n",
       " 462,\n",
       " 463,\n",
       " 464,\n",
       " 465,\n",
       " 466,\n",
       " 467,\n",
       " 468,\n",
       " 469,\n",
       " 470,\n",
       " 471,\n",
       " 472,\n",
       " 473,\n",
       " 474,\n",
       " 475,\n",
       " 476,\n",
       " 477,\n",
       " 478,\n",
       " 479,\n",
       " 480,\n",
       " 481,\n",
       " 482,\n",
       " 483,\n",
       " 484,\n",
       " 485,\n",
       " 486,\n",
       " 487,\n",
       " 488,\n",
       " 489,\n",
       " 490,\n",
       " 491,\n",
       " 492]"
      ]
     },
     "execution_count": 76,
     "metadata": {},
     "output_type": "execute_result"
    }
   ],
   "source": [
    "list(new_cols)"
   ]
  },
  {
   "cell_type": "code",
   "execution_count": 124,
   "metadata": {},
   "outputs": [],
   "source": [
    "X_train_first_dreft=X_train.iloc[:,new_cols]"
   ]
  },
  {
   "cell_type": "code",
   "execution_count": 125,
   "metadata": {},
   "outputs": [],
   "source": [
    "X_test_first_dreft=X_test.iloc[:,new_cols]"
   ]
  },
  {
   "cell_type": "code",
   "execution_count": 126,
   "metadata": {},
   "outputs": [
    {
     "data": {
      "text/plain": [
       "420"
      ]
     },
     "execution_count": 126,
     "metadata": {},
     "output_type": "execute_result"
    }
   ],
   "source": [
    "len(X_train_first_dreft.columns)"
   ]
  },
  {
   "cell_type": "code",
   "execution_count": 127,
   "metadata": {},
   "outputs": [
    {
     "data": {
      "text/plain": [
       "420"
      ]
     },
     "execution_count": 127,
     "metadata": {},
     "output_type": "execute_result"
    }
   ],
   "source": [
    "len(X_test_first_dreft.columns)"
   ]
  },
  {
   "cell_type": "code",
   "execution_count": 128,
   "metadata": {},
   "outputs": [],
   "source": [
    "X_train_first_dreft.to_csv('X_train_final-1.csv',index=False)\n",
    "X_test_first_dreft.to_csv('X_test_final-1.csv',index=False)"
   ]
  },
  {
   "cell_type": "code",
   "execution_count": 129,
   "metadata": {},
   "outputs": [],
   "source": [
    "X_train_first_dreft=pd.read_csv('X_train_final-1.csv')\n",
    "X_test_first_dreft=pd.read_csv('X_test_final-1.csv')"
   ]
  },
  {
   "cell_type": "code",
   "execution_count": 130,
   "metadata": {},
   "outputs": [],
   "source": [
    "train_feature_added=pd.read_csv('train_feature_final_added.csv')\n",
    "test_feature_added=pd.read_csv('test_feature_final_added.csv')"
   ]
  },
  {
   "cell_type": "code",
   "execution_count": 131,
   "metadata": {},
   "outputs": [],
   "source": [
    "del train_feature_added['new_id']\n",
    "del test_feature_added['new_id']\n",
    "del train_feature_added['new_id.1']\n",
    "del test_feature_added['new_id.1']\n"
   ]
  },
  {
   "cell_type": "code",
   "execution_count": 132,
   "metadata": {},
   "outputs": [
    {
     "data": {
      "text/plain": [
       "['first_week_exp_by_hongmun_quest',\n",
       " 'exp_by_hongmun_quest_max_last',\n",
       " 'exp_by_hongmun_quest_first_last',\n",
       " 'exp_by_hongmun_quest_first_max',\n",
       " 'exp_by_hongmun_quest_median_last',\n",
       " 'get_train_exp_by_hongmun_quest_pivot_lr',\n",
       " 'first_week_exp_by_hongmun_npc',\n",
       " 'exp_by_hongmun_npc_max_last',\n",
       " 'exp_by_hongmun_npc_first_last',\n",
       " 'exp_by_hongmun_npc_first_max',\n",
       " 'exp_by_hongmun_npc_median_last',\n",
       " 'get_train_exp_by_hongmun_npc_pivot_lr',\n",
       " 'first_week_exp_by_hongmun',\n",
       " 'exp_by_hongmun_max_last',\n",
       " 'exp_by_hongmun_first_last',\n",
       " 'exp_by_hongmun_first_max',\n",
       " 'exp_by_hongmun_median_last',\n",
       " 'get_train_exp_by_hongmun_pivot_lr',\n",
       " 'first_week_hongmun_sum',\n",
       " 'until_first_week_hongmun_sum',\n",
       " 'only_hongmun_week_cnt',\n",
       " 'only_exp_week_cnt',\n",
       " 'hongmun_exp_week_cnt',\n",
       " 'no_hongmun_exp_week_cnt',\n",
       " 'group_a',\n",
       " 'group_b',\n",
       " 'group_c',\n",
       " 'group_d',\n",
       " 'group_e']"
      ]
     },
     "execution_count": 132,
     "metadata": {},
     "output_type": "execute_result"
    }
   ],
   "source": [
    "train_feature_added.columns.tolist()"
   ]
  },
  {
   "cell_type": "code",
   "execution_count": 133,
   "metadata": {},
   "outputs": [],
   "source": [
    "X_train_first_dreft=pd.concat([X_train_first_dreft,train_feature_added],1)"
   ]
  },
  {
   "cell_type": "code",
   "execution_count": 134,
   "metadata": {},
   "outputs": [],
   "source": [
    "X_test_first_dreft=pd.concat([X_test_first_dreft,test_feature_added],1)"
   ]
  },
  {
   "cell_type": "code",
   "execution_count": 135,
   "metadata": {
    "scrolled": true
   },
   "outputs": [
    {
     "name": "stdout",
     "output_type": "stream",
     "text": [
      "Fold: 1, Class dist.: [20000 20000 20000 20000], F1: 0.742\n",
      "Fold: 2, Class dist.: [20000 20000 20000 20000], F1: 0.739\n",
      "Fold: 3, Class dist.: [20000 20000 20000 20000], F1: 0.747\n",
      "Fold: 4, Class dist.: [20000 20000 20000 20000], F1: 0.746\n",
      "Fold: 5, Class dist.: [20000 20000 20000 20000], F1: 0.738\n",
      "\n",
      "CV F1: 0.742 +/- 0.003\n"
     ]
    }
   ],
   "source": [
    "hongmun_kfold = StratifiedKFold(n_splits = 5 ,random_state = 7,shuffle=True).split(X_train_first_dreft, y_train)\n",
    "scores = []\n",
    "predict_set = []\n",
    "for k, (train, test) in enumerate(hongmun_kfold):\n",
    "    hongmun_model.fit(X_train_first_dreft.iloc[train,:], y_train[train],eval_metric = F1)  ####요부분 trimming\n",
    "    score = hongmun_model.score(X_train_first_dreft.iloc[test,:], y_train[test])\n",
    "    scores.append(score)\n",
    "    print('Fold: %s, Class dist.: %s, F1: %.3f' % (k+1,np.bincount(y_train[train]), score))\n",
    "    ### predict\n",
    "    y_pred1 = hongmun_model.predict(X_train_first_dreft.iloc[test,:])\n",
    "    predict_set += [(x,inv_map[y_pred1[i]]) for i,x in enumerate(test)]\n",
    "    last_test1=test\n",
    "print('\\nCV F1: %.3f +/- %.3f' % (np.mean(scores), np.std(scores)))"
   ]
  },
  {
   "cell_type": "markdown",
   "metadata": {},
   "source": [
    "---"
   ]
  },
  {
   "cell_type": "code",
   "execution_count": 6,
   "metadata": {},
   "outputs": [],
   "source": [
    "X_train_first_dreft=pd.read_csv('X_train_final.csv')\n",
    "X_test_first_dreft=pd.read_csv('X_test_final.csv')"
   ]
  },
  {
   "cell_type": "markdown",
   "metadata": {},
   "source": [
    "# final parameter"
   ]
  },
  {
   "cell_type": "code",
   "execution_count": 12,
   "metadata": {},
   "outputs": [],
   "source": [
    "#### xgb\n",
    "grid_result = []\n",
    "param = {}\n",
    "#### XGB parameters\n",
    "## General Parameters\n",
    "param['n_gpus'] = -1\n",
    "param['tree_method'] = 'gpu_hist'\n",
    "param['silent'] = 0\n",
    "\n",
    "## Booster Parameters\n",
    "param['n_estimators'] = 360 #요기...\n",
    "param['learning_rate'] = 0.1\n",
    "param['min_child_weight'] = 2\n",
    "param['max_depth'] = 9\n",
    "param['gamma'] = 0.1\n",
    "param['reg_alpha'] =0.01\n",
    "param['reg_lambda'] = 0.05\n",
    "param['subsample'] = 0.95\n",
    "param['colsample_bytree'] = 0.9\n",
    "param['scale_pos_weight'] = 1\n",
    "\n",
    "## Learning task parameters\n",
    "param['num_class'] = 4\n",
    "param['objective'] = 'multi:softmax'\n",
    "param['seed'] = 7\n",
    "\n",
    "## update?\n",
    "#param['process_type'] = 'update'\n",
    "#param['updater'] = 'refresh'\n",
    "#param['refresh_leaf'] = True\n",
    "model = xgb.XGBClassifier(**param)"
   ]
  },
  {
   "cell_type": "code",
   "execution_count": 1,
   "metadata": {},
   "outputs": [
    {
     "ename": "NameError",
     "evalue": "name 'xgb' is not defined",
     "output_type": "error",
     "traceback": [
      "\u001b[0;31m---------------------------------------------------------------------------\u001b[0m",
      "\u001b[0;31mNameError\u001b[0m                                 Traceback (most recent call last)",
      "\u001b[0;32m<ipython-input-1-ec728abbec87>\u001b[0m in \u001b[0;36m<module>\u001b[0;34m()\u001b[0m\n\u001b[1;32m     30\u001b[0m \u001b[0;31m#xgb_hongmun_param['refresh_leaf'] = True\u001b[0m\u001b[0;34m\u001b[0m\u001b[0;34m\u001b[0m\u001b[0m\n\u001b[1;32m     31\u001b[0m \u001b[0;34m\u001b[0m\u001b[0m\n\u001b[0;32m---> 32\u001b[0;31m \u001b[0mhongmun_model\u001b[0m \u001b[0;34m=\u001b[0m \u001b[0mxgb\u001b[0m\u001b[0;34m.\u001b[0m\u001b[0mXGBClassifier\u001b[0m\u001b[0;34m(\u001b[0m\u001b[0;34m**\u001b[0m\u001b[0mxgb_hongmun_param\u001b[0m\u001b[0;34m)\u001b[0m\u001b[0;34m\u001b[0m\u001b[0m\n\u001b[0m",
      "\u001b[0;31mNameError\u001b[0m: name 'xgb' is not defined"
     ]
    }
   ],
   "source": [
    "#### xgb\n",
    "grid_result = []\n",
    "xgb_hongmun_param = {}\n",
    "#### XGB xgb_hongmun_parameters\n",
    "## General xgb_hongmun_parameters\n",
    "xgb_hongmun_param['n_gpus'] = -1\n",
    "xgb_hongmun_param['tree_method'] = 'gpu_hist'\n",
    "xgb_hongmun_param['silent'] = 0\n",
    "\n",
    "## Booster xgb_hongmun_parameters\n",
    "xgb_hongmun_param['n_estimators'] = 2240#요기...\n",
    "xgb_hongmun_param['learning_rate'] = 0.01\n",
    "xgb_hongmun_param['min_child_weight'] = 6.5\n",
    "xgb_hongmun_param['max_depth'] = 13\n",
    "xgb_hongmun_param['gamma'] = 0.05\n",
    "xgb_hongmun_param['reg_alpha'] =0.01\n",
    "xgb_hongmun_param['reg_lambda'] = 0.05\n",
    "xgb_hongmun_param['subsample'] = 0.9\n",
    "xgb_hongmun_param['colsample_bytree'] = 0.75\n",
    "xgb_hongmun_param['scale_pos_weight'] = 1\n",
    "\n",
    "## Learning task xgb_hongmun_parameters\n",
    "xgb_hongmun_param['num_class'] = 4\n",
    "xgb_hongmun_param['objective'] = 'multi:softmax'\n",
    "xgb_hongmun_param['seed'] = 7\n",
    "\n",
    "## update?\n",
    "#xgb_hongmun_param['process_type'] = 'update'\n",
    "#xgb_hongmun_param['updater'] = 'refresh'\n",
    "#xgb_hongmun_param['refresh_leaf'] = True\n",
    "\n",
    "hongmun_model = xgb.XGBClassifier(**xgb_hongmun_param)"
   ]
  },
  {
   "cell_type": "code",
   "execution_count": null,
   "metadata": {},
   "outputs": [],
   "source": []
  },
  {
   "cell_type": "markdown",
   "metadata": {},
   "source": [
    "# model"
   ]
  },
  {
   "cell_type": "code",
   "execution_count": 13,
   "metadata": {},
   "outputs": [
    {
     "name": "stdout",
     "output_type": "stream",
     "text": [
      "Fold: 1, Class dist.: [20000 20000 20000 20000], F1: 0.741\n",
      "Fold: 2, Class dist.: [20000 20000 20000 20000], F1: 0.737\n"
     ]
    },
    {
     "ename": "KeyboardInterrupt",
     "evalue": "",
     "output_type": "error",
     "traceback": [
      "\u001b[0;31m---------------------------------------------------------------------------\u001b[0m",
      "\u001b[0;31mKeyboardInterrupt\u001b[0m                         Traceback (most recent call last)",
      "\u001b[0;32m<ipython-input-13-8e6572ad5c98>\u001b[0m in \u001b[0;36m<module>\u001b[0;34m()\u001b[0m\n\u001b[1;32m      3\u001b[0m \u001b[0mpredict_set\u001b[0m \u001b[0;34m=\u001b[0m \u001b[0;34m[\u001b[0m\u001b[0;34m]\u001b[0m\u001b[0;34m\u001b[0m\u001b[0m\n\u001b[1;32m      4\u001b[0m \u001b[0;32mfor\u001b[0m \u001b[0mk\u001b[0m\u001b[0;34m,\u001b[0m \u001b[0;34m(\u001b[0m\u001b[0mtrain\u001b[0m\u001b[0;34m,\u001b[0m \u001b[0mtest\u001b[0m\u001b[0;34m)\u001b[0m \u001b[0;32min\u001b[0m \u001b[0menumerate\u001b[0m\u001b[0;34m(\u001b[0m\u001b[0mhongmun_kfold\u001b[0m\u001b[0;34m)\u001b[0m\u001b[0;34m:\u001b[0m\u001b[0;34m\u001b[0m\u001b[0m\n\u001b[0;32m----> 5\u001b[0;31m     \u001b[0mmodel\u001b[0m\u001b[0;34m.\u001b[0m\u001b[0mfit\u001b[0m\u001b[0;34m(\u001b[0m\u001b[0mX_train_first_dreft\u001b[0m\u001b[0;34m.\u001b[0m\u001b[0miloc\u001b[0m\u001b[0;34m[\u001b[0m\u001b[0mtrain\u001b[0m\u001b[0;34m,\u001b[0m\u001b[0;34m:\u001b[0m\u001b[0;34m]\u001b[0m\u001b[0;34m,\u001b[0m \u001b[0my_train\u001b[0m\u001b[0;34m[\u001b[0m\u001b[0mtrain\u001b[0m\u001b[0;34m]\u001b[0m\u001b[0;34m,\u001b[0m\u001b[0meval_metric\u001b[0m \u001b[0;34m=\u001b[0m \u001b[0mF1\u001b[0m\u001b[0;34m)\u001b[0m  \u001b[0;31m####요부분 trimming\u001b[0m\u001b[0;34m\u001b[0m\u001b[0m\n\u001b[0m\u001b[1;32m      6\u001b[0m     \u001b[0mscore\u001b[0m \u001b[0;34m=\u001b[0m \u001b[0mmodel\u001b[0m\u001b[0;34m.\u001b[0m\u001b[0mscore\u001b[0m\u001b[0;34m(\u001b[0m\u001b[0mX_train_first_dreft\u001b[0m\u001b[0;34m.\u001b[0m\u001b[0miloc\u001b[0m\u001b[0;34m[\u001b[0m\u001b[0mtest\u001b[0m\u001b[0;34m,\u001b[0m\u001b[0;34m:\u001b[0m\u001b[0;34m]\u001b[0m\u001b[0;34m,\u001b[0m \u001b[0my_train\u001b[0m\u001b[0;34m[\u001b[0m\u001b[0mtest\u001b[0m\u001b[0;34m]\u001b[0m\u001b[0;34m)\u001b[0m\u001b[0;34m\u001b[0m\u001b[0m\n\u001b[1;32m      7\u001b[0m     \u001b[0mscores\u001b[0m\u001b[0;34m.\u001b[0m\u001b[0mappend\u001b[0m\u001b[0;34m(\u001b[0m\u001b[0mscore\u001b[0m\u001b[0;34m)\u001b[0m\u001b[0;34m\u001b[0m\u001b[0m\n",
      "\u001b[0;32m/opt/conda/lib/python3.6/site-packages/xgboost-0.80-py3.6.egg/xgboost/sklearn.py\u001b[0m in \u001b[0;36mfit\u001b[0;34m(self, X, y, sample_weight, eval_set, eval_metric, early_stopping_rounds, verbose, xgb_model, sample_weight_eval_set)\u001b[0m\n\u001b[1;32m    589\u001b[0m                               \u001b[0mearly_stopping_rounds\u001b[0m\u001b[0;34m=\u001b[0m\u001b[0mearly_stopping_rounds\u001b[0m\u001b[0;34m,\u001b[0m\u001b[0;34m\u001b[0m\u001b[0m\n\u001b[1;32m    590\u001b[0m                               \u001b[0mevals_result\u001b[0m\u001b[0;34m=\u001b[0m\u001b[0mevals_result\u001b[0m\u001b[0;34m,\u001b[0m \u001b[0mobj\u001b[0m\u001b[0;34m=\u001b[0m\u001b[0mobj\u001b[0m\u001b[0;34m,\u001b[0m \u001b[0mfeval\u001b[0m\u001b[0;34m=\u001b[0m\u001b[0mfeval\u001b[0m\u001b[0;34m,\u001b[0m\u001b[0;34m\u001b[0m\u001b[0m\n\u001b[0;32m--> 591\u001b[0;31m                               verbose_eval=verbose, xgb_model=None)\n\u001b[0m\u001b[1;32m    592\u001b[0m \u001b[0;34m\u001b[0m\u001b[0m\n\u001b[1;32m    593\u001b[0m         \u001b[0mself\u001b[0m\u001b[0;34m.\u001b[0m\u001b[0mobjective\u001b[0m \u001b[0;34m=\u001b[0m \u001b[0mxgb_options\u001b[0m\u001b[0;34m[\u001b[0m\u001b[0;34m\"objective\"\u001b[0m\u001b[0;34m]\u001b[0m\u001b[0;34m\u001b[0m\u001b[0m\n",
      "\u001b[0;32m/opt/conda/lib/python3.6/site-packages/xgboost-0.80-py3.6.egg/xgboost/training.py\u001b[0m in \u001b[0;36mtrain\u001b[0;34m(params, dtrain, num_boost_round, evals, obj, feval, maximize, early_stopping_rounds, evals_result, verbose_eval, xgb_model, callbacks, learning_rates)\u001b[0m\n\u001b[1;32m    208\u001b[0m                            \u001b[0mevals\u001b[0m\u001b[0;34m=\u001b[0m\u001b[0mevals\u001b[0m\u001b[0;34m,\u001b[0m\u001b[0;34m\u001b[0m\u001b[0m\n\u001b[1;32m    209\u001b[0m                            \u001b[0mobj\u001b[0m\u001b[0;34m=\u001b[0m\u001b[0mobj\u001b[0m\u001b[0;34m,\u001b[0m \u001b[0mfeval\u001b[0m\u001b[0;34m=\u001b[0m\u001b[0mfeval\u001b[0m\u001b[0;34m,\u001b[0m\u001b[0;34m\u001b[0m\u001b[0m\n\u001b[0;32m--> 210\u001b[0;31m                            xgb_model=xgb_model, callbacks=callbacks)\n\u001b[0m\u001b[1;32m    211\u001b[0m \u001b[0;34m\u001b[0m\u001b[0m\n\u001b[1;32m    212\u001b[0m \u001b[0;34m\u001b[0m\u001b[0m\n",
      "\u001b[0;32m/opt/conda/lib/python3.6/site-packages/xgboost-0.80-py3.6.egg/xgboost/training.py\u001b[0m in \u001b[0;36m_train_internal\u001b[0;34m(params, dtrain, num_boost_round, evals, obj, feval, xgb_model, callbacks)\u001b[0m\n\u001b[1;32m     72\u001b[0m         \u001b[0;31m# Skip the first update if it is a recovery step.\u001b[0m\u001b[0;34m\u001b[0m\u001b[0;34m\u001b[0m\u001b[0m\n\u001b[1;32m     73\u001b[0m         \u001b[0;32mif\u001b[0m \u001b[0mversion\u001b[0m \u001b[0;34m%\u001b[0m \u001b[0;36m2\u001b[0m \u001b[0;34m==\u001b[0m \u001b[0;36m0\u001b[0m\u001b[0;34m:\u001b[0m\u001b[0;34m\u001b[0m\u001b[0m\n\u001b[0;32m---> 74\u001b[0;31m             \u001b[0mbst\u001b[0m\u001b[0;34m.\u001b[0m\u001b[0mupdate\u001b[0m\u001b[0;34m(\u001b[0m\u001b[0mdtrain\u001b[0m\u001b[0;34m,\u001b[0m \u001b[0mi\u001b[0m\u001b[0;34m,\u001b[0m \u001b[0mobj\u001b[0m\u001b[0;34m)\u001b[0m\u001b[0;34m\u001b[0m\u001b[0m\n\u001b[0m\u001b[1;32m     75\u001b[0m             \u001b[0mbst\u001b[0m\u001b[0;34m.\u001b[0m\u001b[0msave_rabit_checkpoint\u001b[0m\u001b[0;34m(\u001b[0m\u001b[0;34m)\u001b[0m\u001b[0;34m\u001b[0m\u001b[0m\n\u001b[1;32m     76\u001b[0m             \u001b[0mversion\u001b[0m \u001b[0;34m+=\u001b[0m \u001b[0;36m1\u001b[0m\u001b[0;34m\u001b[0m\u001b[0m\n",
      "\u001b[0;32m/opt/conda/lib/python3.6/site-packages/xgboost-0.80-py3.6.egg/xgboost/core.py\u001b[0m in \u001b[0;36mupdate\u001b[0;34m(self, dtrain, iteration, fobj)\u001b[0m\n\u001b[1;32m   1019\u001b[0m         \u001b[0;32mif\u001b[0m \u001b[0mfobj\u001b[0m \u001b[0;32mis\u001b[0m \u001b[0;32mNone\u001b[0m\u001b[0;34m:\u001b[0m\u001b[0;34m\u001b[0m\u001b[0m\n\u001b[1;32m   1020\u001b[0m             _check_call(_LIB.XGBoosterUpdateOneIter(self.handle, ctypes.c_int(iteration),\n\u001b[0;32m-> 1021\u001b[0;31m                                                     dtrain.handle))\n\u001b[0m\u001b[1;32m   1022\u001b[0m         \u001b[0;32melse\u001b[0m\u001b[0;34m:\u001b[0m\u001b[0;34m\u001b[0m\u001b[0m\n\u001b[1;32m   1023\u001b[0m             \u001b[0mpred\u001b[0m \u001b[0;34m=\u001b[0m \u001b[0mself\u001b[0m\u001b[0;34m.\u001b[0m\u001b[0mpredict\u001b[0m\u001b[0;34m(\u001b[0m\u001b[0mdtrain\u001b[0m\u001b[0;34m)\u001b[0m\u001b[0;34m\u001b[0m\u001b[0m\n",
      "\u001b[0;31mKeyboardInterrupt\u001b[0m: "
     ]
    }
   ],
   "source": [
    "hongmun_kfold = StratifiedKFold(n_splits = 5 ,random_state = 7,shuffle=True).split(X_train_first_dreft, y_train)\n",
    "scores = []\n",
    "predict_set = []\n",
    "for k, (train, test) in enumerate(hongmun_kfold):\n",
    "    model.fit(X_train_first_dreft.iloc[train,:], y_train[train],eval_metric = F1)  ####요부분 trimming\n",
    "    score = model.score(X_train_first_dreft.iloc[test,:], y_train[test])\n",
    "    scores.append(score)\n",
    "    print('Fold: %s, Class dist.: %s, F1: %.3f' % (k+1,np.bincount(y_train[train]), score))\n",
    "    ### predict\n",
    "    y_pred1 = model.predict(X_train_first_dreft.iloc[test,:])\n",
    "    predict_set += [(x,inv_map[y_pred1[i]]) for i,x in enumerate(test)]\n",
    "    last_test1=test\n",
    "print('\\nCV F1: %.3f +/- %.3f' % (np.mean(scores), np.std(scores)))"
   ]
  },
  {
   "cell_type": "code",
   "execution_count": 139,
   "metadata": {},
   "outputs": [],
   "source": [
    "X_train_first_dreft.to_csv('X_train_final.csv',index=False)\n",
    "X_test_first_dreft.to_csv('X_test_final.csv',index=False)"
   ]
  },
  {
   "cell_type": "code",
   "execution_count": null,
   "metadata": {},
   "outputs": [],
   "source": [
    "\n",
    "no_hongmun_kfold = StratifiedKFold(n_splits = 5 ,random_state = 7,shuffle=True).split(X_train[train_no_hongmun], y_train[train_no_hongmun])\n",
    "scores = []\n",
    "predict_set = []\n",
    "for k, (train, test) in enumerate(no_hongmun_kfold):\n",
    "    no_hongmun_model.fit(X_train[train_no_hongmun].iloc[train,:], y_train[train_no_hongmun][train],eval_metric = F1)  ####요부분 trimming\n",
    "    score = no_hongmun_model.score(X_train[train_no_hongmun].iloc[test,:], y_train[train_no_hongmun][test])\n",
    "    scores.append(score)\n",
    "    print('Fold: %s, Class dist.: %s, F1: %.3f' % (k+1,np.bincount(y_train[train_no_hongmun][train]), score))\n",
    "    ### predict\n",
    "    y_pred1 = no_hongmun_model.predict(X_train[train_no_hongmun].iloc[test,:])\n",
    "    predict_set += [(x,inv_map[y_pred1[i]]) for i,x in enumerate(test)]\n",
    "    last_test1=test\n",
    "print('\\nCV F1: %.3f +/- %.3f' % (np.mean(scores), np.std(scores)))"
   ]
  },
  {
   "cell_type": "code",
   "execution_count": null,
   "metadata": {},
   "outputs": [],
   "source": []
  },
  {
   "cell_type": "markdown",
   "metadata": {},
   "source": [
    "---"
   ]
  },
  {
   "cell_type": "code",
   "execution_count": 17,
   "metadata": {},
   "outputs": [],
   "source": [
    "import pandas as pd\n",
    "import numpy as np\n",
    "#pyplot import\n",
    "import matplotlib.pyplot as plt\n",
    "from sklearn import tree"
   ]
  },
  {
   "cell_type": "markdown",
   "metadata": {},
   "source": [
    "# Decision tree"
   ]
  },
  {
   "cell_type": "code",
   "execution_count": 18,
   "metadata": {},
   "outputs": [],
   "source": [
    "clf = tree.DecisionTreeClassifier(min_samples_split=300,min_samples_leaf=300,max_depth=15,splitter='best')\n",
    "#for i in "
   ]
  },
  {
   "cell_type": "code",
   "execution_count": 30,
   "metadata": {},
   "outputs": [
    {
     "data": {
      "text/plain": [
       "Index(['play_time_Count', 'cnt_enter_inzone_skilled_Count', 'making_cnt_Count',\n",
       "       'partybattle_cnt_median_stat', 'normal_chat_median_basic_time',\n",
       "       'first_week_cnt_clear_raid_light', 'cnt_enter_raid_light_range_stat',\n",
       "       'cnt_enter_inzone_skilled_median_stat', 'duel_cnt_range_stat',\n",
       "       'payment_amount_MA_5_basic_time',\n",
       "       ...\n",
       "       'money_by_time_median_last', 'get_money_time_lr', 'last_trade_all',\n",
       "       'last_week_trade_cnt', 'first_week_trade_cnt', 'weekly_max_trade_cnt',\n",
       "       'weekly_trade_cnt_std', 'weekly_trade_cycle', 'trade_first-last',\n",
       "       'trade_last-max'],\n",
       "      dtype='object', length=493)"
      ]
     },
     "execution_count": 30,
     "metadata": {},
     "output_type": "execute_result"
    }
   ],
   "source": [
    "X_train.columns"
   ]
  },
  {
   "cell_type": "markdown",
   "metadata": {},
   "source": [
    "# 만든 셋으로 decision tree score 보기"
   ]
  },
  {
   "cell_type": "code",
   "execution_count": 33,
   "metadata": {},
   "outputs": [
    {
     "name": "stdout",
     "output_type": "stream",
     "text": [
      "play_time_Count\n",
      "cnt_enter_inzone_skilled_Count\n",
      "making_cnt_Count\n",
      "partybattle_cnt_median_stat\n",
      "normal_chat_median_basic_time\n",
      "first_week_cnt_clear_raid_light\n",
      "cnt_enter_raid_light_range_stat\n",
      "cnt_enter_inzone_skilled_median_stat\n",
      "duel_cnt_range_stat\n",
      "payment_amount_MA_5_basic_time\n",
      "duel_cnt_sum_stat\n",
      "trade_InDeg\n",
      "partybattle_cnt_sum_stat\n",
      "duel_cnt_max_stat\n",
      "payment_amount_median_basic_time\n",
      "partybattle_cnt_max_stat\n",
      "payment_amount_kurt_basic_time\n",
      "cnt_enter_raid_light_median_stat\n",
      "guild_chat_MA_1_basic_time\n",
      "whisper_chat_Count\n",
      "cnt_enter_inzone_light_Count\n",
      "payment_amount_MA_1_basic_time\n",
      "cnt_enter_raid_light_max_stat\n",
      "payment_amount_median_stat\n",
      "payment_amount_by_play_time\n",
      "normal_chat_MA_2_basic_time\n",
      "cnt_dt_Count\n",
      "normal_chat_MA_1_basic_time\n",
      "partybattle_cnt_range_stat\n",
      "payment_amount_MA_3_basic_time\n",
      "npc_hongmun_Count\n",
      "guild_chat_MA_2_basic_time\n",
      "cnt_enter_raid_light_Count\n",
      "district_chat_max_stat\n",
      "payment_amount_min_stat\n",
      "first_week_making_cnt\n",
      "payment_amount_MA_4_basic_time\n",
      "cnt_use_buffitem_Count\n",
      "game_combat_time_Count\n",
      "first_week_cnt_clear_inzone_solo\n",
      "party_cnt_with4_median\n",
      "inzone_skilled_ratio\n",
      "cnt_enter_inzone_skilled_max_stat\n",
      "cnt_enter_inzone_solo_Count\n",
      "cnt_enter_raid_min_stat\n",
      "first_week_payment_amount\n",
      "raid_light_ratio\n",
      "cnt_enter_inzone_normal_Count\n",
      "party_cnt_with4_range\n",
      "item_hongmun_mean_basic_time\n",
      "payment_amount_max_stat\n",
      "normal_chat_MA_3_basic_time\n",
      "district_chat_median_stat\n",
      "district_chat_min_stat\n",
      "payment_amount_cycle_basic_time\n",
      "making_cnt_sum_stat\n",
      "party_cnt_with4_min\n",
      "cnt_enter_raid_light_min_stat\n",
      "district_chat_range_stat\n",
      "trade_InDegCen\n",
      "partybattle_cnt_min_stat\n",
      "first_week_cnt_enter_inzone_solo\n",
      "guild_chat_MA_4_basic_time\n",
      "guild_chat_mean_basic_time\n",
      "num_guild\n",
      "guild_chat_var_basic_time\n",
      "normal_chat_MA_4_basic_time\n",
      "guild_chat_median_basic_time\n",
      "guild_chat_Count\n",
      "first_week\n",
      "inzone_normal_median_basic_time\n",
      "cnt_enter_raid_range_stat\n",
      "making_cnt_median_stat\n",
      "party_chat_Count\n",
      "party_chat_median_basic_time\n",
      "duel_ratio\n",
      "first_week_normal_chat\n",
      "first_week_cnt_clear_inzone_normal\n",
      "play_pattern_by_partial_sum_retained_prob\n",
      "guild_chat_cycle_basic_time\n",
      "net_EigCen\n",
      "first_week_cnt_clear_inzone_light\n",
      "item_hongmun_median_basic_time\n",
      "making_cnt_min_stat\n",
      "making_cnt_max_stat\n",
      "making_cnt_range_stat\n",
      "first_week_guild_chat\n",
      "net_BetCen\n",
      "district_chat_sum_stat\n",
      "party_battle_ratio\n",
      "full_party_cnt\n",
      "party_cnt_with4_sum\n",
      "inzone_light_MA_3_basic_time\n",
      "guild_chat_MA_5_basic_time\n",
      "guild_chat_median_stat\n",
      "party_cnt_with4_max\n",
      "cnt_enter_inzone_skilled_sum_stat\n",
      "whisper_chat_MA_1_basic_time\n",
      "guild_chat_MA_3_basic_time\n",
      "net_lcc\n",
      "party_chat_MA_3_basic_time\n",
      "cnt_enter_raid_median_stat\n",
      "npc_hongmun_mean_basic_time\n",
      "payment_amount_sum_stat\n",
      "give_exc_grocery_ratio.1\n",
      "inzone_normal_MA_3_basic_time\n",
      "pattern_month\n",
      "quest_hongmun_Count\n",
      "first_week_cnt_enter_inzone_normal\n",
      "cnt_enter_raid_max_stat\n",
      "pattern_retained\n",
      "party_over8_cnt\n",
      "cnt_enter_raid_sum_stat\n",
      "get_money_mean_time_series\n",
      "trade_OutDeg\n",
      "get_money_Count\n",
      "normal_chat_cycle_basic_time\n",
      "cnt_enter_raid_light_sum_stat\n",
      "cnt_dt_diff1_time_series\n",
      "whisper_chat_MA_2_basic_time\n",
      "get_money_diff1_time_series\n",
      "normal_chat_mean_basic_time\n",
      "whisper_chat_median_basic_time\n",
      "npc_hongmun_MA_2_basic_time\n",
      "inzone_normal_MA_2_basic_time\n",
      "cnt_enter_raid_Count\n",
      "first_week_cnt_enter_inzone_light\n",
      "quest_hongmun_MA_1_basic_time\n",
      "inzone_light_MA_1_basic_time\n",
      "inzone_normal_MA_4_basic_time\n",
      "inzone_normal_var_basic_time\n",
      "payment_amount_range_stat\n",
      "whisper_chat_MA_5_basic_time\n",
      "npc_hongmun_MA_3_basic_time\n",
      "cnt_use_buffitem_mean_time_series\n",
      "net_DegCen\n",
      "differ_median\n",
      "inzone_normal_MA_1_basic_time\n",
      "first_week_npc_exp\n",
      "quest_hongmun_mean_basic_time\n",
      "get_money_MA_5_time_series\n",
      "cnt_enter_inzone_normal_max_stat\n",
      "npc_hongmun_MA_4_basic_time\n",
      "cnt_use_buffitem_diff1_time_series\n",
      "item_hongmun_MA_2_basic_time\n",
      "cnt_enter_inzone_light_max_stat\n",
      "party_cnt_max\n",
      "game_combat_time_mean_time_series\n",
      "first_week_whisper_chat\n",
      "('npc_hongmun', 'item_hongmun').1\n",
      "guild_chat_kurt_basic_time\n",
      "first_week_quest_exp\n",
      "normal_chat_MA_5_basic_time\n",
      "pattern_2month\n",
      "quest_hongmun_median_basic_time\n",
      "inzone_light_MA_4_basic_time\n",
      "cnt_enter_inzone_solo_range_stat\n",
      "quest_hongmun_MA_3_basic_time\n",
      "('get_money', 'whisper_chat')\n",
      "guild_chat_max_stat\n",
      "cnt_use_buffitem_diff3_time_series\n",
      "raid_ratio\n",
      "get_money_diff2_time_series\n",
      "inzone_light_var_basic_time\n",
      "get_money_diff3_time_series\n",
      "cnt_enter_inzone_normal_range_stat\n",
      "normal_chat_kurt_basic_time\n",
      "inzone_light_MA_5_basic_time\n",
      "guild_chat_sum_stat\n",
      "item_hongmun_MA_5_basic_time\n",
      "inzone_light_median_basic_time\n",
      "whisper_chat_min_stat\n",
      "cnt_use_buffitem_MA_1_time_series\n",
      "whisper_chat_mean_basic_time\n",
      "net_ClsCen\n",
      "item_hongmun_sum_stat\n",
      "party_first_cnt\n",
      "cnt_enter_inzone_solo_median_stat\n",
      "get_money_sum_stat\n",
      "party_cnt_range\n",
      "cnt_dt_diff5_time_series\n",
      "whisper_chat_MA_3_basic_time\n",
      "trade_outDegCen\n",
      "cnt_use_buffitem_MA_3_time_series\n",
      "first_week_party_chat\n",
      "cnt_use_buffitem_diff5_time_series\n",
      "play_pattern_by_partial_sum_week_prob\n",
      "cnt_dt_diff2_time_series\n",
      "guild_size\n",
      "play_pattern_by_partial_sum_2month_prob\n",
      "differ_min\n",
      "npc_hongmun_median_basic_time\n",
      "get_money_median_time_series\n",
      "cnt_enter_inzone_solo_max_stat\n",
      "cnt_dt_mean_time_series\n",
      "inzone_light_MA_2_basic_time\n",
      "guild_chat_range_stat\n",
      "whisper_chat_cycle_basic_time\n",
      "npc_hongmun_sum_stat\n",
      "cnt_enter_inzone_normal_sum_stat\n",
      "inzone_normal_mean_basic_time\n",
      "normal_chat_range_stat\n",
      "cnt_dt_diff4_time_series\n",
      "npc_exp_by_cnt_dt\n",
      "cnt_dt_diff6_time_series\n",
      "differ_sum\n",
      "party_chat_MA_4_basic_time\n",
      "npc_hongmun_MA_1_basic_time\n",
      "cnt_dt_diff3_time_series\n",
      "quest_exp_by_cnt_dt\n",
      "get_money_MA_1_time_series\n",
      "cnt_use_buffitem_MA_4_time_series\n",
      "differ_max\n",
      "normal_chat_min_stat\n",
      "cnt_enter_inzone_solo_sum_stat\n",
      "normal_chat_skew_basic_time\n",
      "inzone_normal_MA_5_basic_time\n",
      "payment_amount_skew_basic_time\n",
      "game_combat_time_diff3_time_series\n",
      "whisper_chat_median_stat\n",
      "party_chat_var_basic_time\n",
      "full_party_cnt_median\n",
      "quest_hongmun_MA_2_basic_time\n",
      "game_combat_time_diff4_time_series\n",
      "item_hongmun_Count\n",
      "cnt_use_buffitem_median_time_series\n",
      "whisper_chat_MA_4_basic_time\n",
      "party_chat_cycle_basic_time\n",
      "game_combat_time_diff1_time_series\n",
      "get_money_MA_3_time_series\n",
      "npc_exp_max_stat\n",
      "item_hongmun_MA_3_basic_time\n",
      "normal_chat_max_stat\n",
      "cnt_enter_inzone_light_median_stat\n",
      "first_week_cnt_use_buffitem\n",
      "guild_chat_skew_basic_time\n",
      "party_chat_MA_5_basic_time\n",
      "pattern_week\n",
      "cnt_use_buffitem_diff_w2_by_last_time_series\n",
      "quest_hongmun_var_basic_time\n",
      "item_hongmun_MA_4_basic_time\n",
      "whisper_chat_kurt_basic_time\n",
      "get_money_kurt_time_series\n",
      "party_first_cnt_max\n",
      "cnt_use_buffitem_diff6_time_series\n",
      "item_hongmun_max_stat\n",
      "get_money_diff6_time_series\n",
      "party_chat_MA_2_basic_time\n",
      "cnt_use_buffitem_diff_w8_by_last_time_series\n",
      "first_week_item_hongmun\n",
      "cnt_use_buffitem_diff7_time_series\n",
      "cnt_dt_median_time_series\n",
      "cnt_dt_max_stat\n",
      "game_combat_time_MA_3_time_series\n",
      "play_pattern_by_partial_sum_month_prob\n",
      "game_combat_time_diff2_time_series\n",
      "party_first_cnt_min\n",
      "cnt_use_buffitem_diff_w4_by_last_time_series\n",
      "cnt_use_buffitem_cycle_time_series\n",
      "normal_chat_median_stat\n",
      "party_first_cnt_range\n",
      "npc_hongmun_var_basic_time\n",
      "npc_exp_median_stat\n",
      "item_hongmun_var_basic_time\n",
      "quest_exp_max_stat\n",
      "get_money_max_stat\n",
      "game_combat_time_MA_1_time_series\n",
      "party_chat_min_stat\n",
      "quest_exp_sum_stat\n",
      "('npc_exp', 'quest_exp')\n",
      "cnt_use_buffitem_MA_5_time_series\n",
      "get_money_diff4_time_series\n",
      "game_combat_time_diff6_time_series\n",
      "full_party_cnt_max\n",
      "get_money_diff_w8_by_last_time_series\n",
      "cnt_use_buffitem_diff2_time_series\n",
      "play_pattern_by_partial_sum\n",
      "party_chat_MA_1_basic_time\n",
      "cnt_enter_inzone_solo_min_stat\n",
      "guild_chat_min_stat\n",
      "party_cnt\n",
      "party_over8_cnt_sum\n",
      "whisper_chat_range_stat\n",
      "differ\n",
      "whisper_chat_sum_stat\n",
      "cnt_use_buffitem_diff4_time_series\n",
      "normal_chat_sum_stat\n",
      "get_money_cycle_time_series\n",
      "normal_chat_var_basic_time\n",
      "npc_hongmun_cycle_basic_time\n",
      "quest_hongmun_cycle_basic_time\n",
      "cnt_use_buffitem_var_time_series\n",
      "cnt_dt_min_stat\n",
      "cnt_enter_inzone_light_sum_stat\n",
      "quest_exp_range_stat\n",
      "npc_exp_sum_stat\n",
      "game_combat_time_diff5_time_series\n",
      "cnt_enter_inzone_normal_median_stat\n",
      "npc_exp_range_stat\n",
      "whisper_chat_skew_basic_time\n",
      "cnt_dt_MA_3_time_series\n",
      "('npc_hongmun', 'item_hongmun')\n",
      "inzone_light_cycle_basic_time\n",
      "full_party_cnt_sum\n",
      "party_cnt_min\n",
      "item_hongmun_MA_1_basic_time\n",
      "first_week_cnt_dt\n",
      "game_combat_time_cycle_time_series\n",
      "get_money_diff5_time_series\n",
      "cnt_use_buffitem_range_stat\n",
      "quest_hongmun_sum_stat\n",
      "party_over8_cnt_median\n",
      "party_first_cnt_median\n",
      "inzone_solo_ratio\n",
      "cnt_use_buffitem_MA_2_time_series\n",
      "npc_hongmun_max_stat\n",
      "party_chat_skew_basic_time\n"
     ]
    },
    {
     "name": "stdout",
     "output_type": "stream",
     "text": [
      "party_chat_median_stat\n",
      "npc_hongmun_median_stat\n",
      "inzone_light_mean_basic_time\n",
      "game_combat_time_MA_5_time_series\n",
      "item_hongmun_range_stat\n",
      "party_cnt_median\n",
      "item_hongmun_median_stat\n",
      "quest_hongmun_by_cnt_dt\n",
      "differ_range\n",
      "cnt_dt_median_stat\n",
      "cnt_enter_inzone_light_min_stat\n",
      "cnt_enter_inzone_normal_min_stat\n",
      "npc_hongmun_by_play_time\n",
      "party_chat_kurt_basic_time\n",
      "cnt_dt_diff7_time_series\n",
      "get_money_median_stat\n",
      "party_chat_max_stat\n",
      "get_money_range_stat\n",
      "inzone_normal_kurt_basic_time\n",
      "quest_exp_min_stat\n",
      "quest_exp_median_stat\n",
      "inzone_normal_ratio\n",
      "item_hongmun_kurt_basic_time\n",
      "('get_money', 'cnt_use_buffitem')\n",
      "('quest_exp', 'game_combat_time')\n",
      "get_money_MA_4_time_series\n",
      "play_time_mean_time_series\n",
      "inzone_light_kurt_basic_time\n",
      "cnt_dt_MA_1_time_series\n",
      "cnt_use_buffitem_min_stat\n",
      "party_over8_cnt_min\n",
      "party_over8_cnt_max\n",
      "npc_hongmun_MA_5_basic_time\n",
      "party_chat_mean_basic_time\n",
      "get_money_var_time_series\n",
      "game_combat_time_MA_2_time_series\n",
      "quest_hongmun_MA_4_basic_time\n",
      "game_combat_time_median_time_series\n",
      "quest_hongmun_MA_5_basic_time\n",
      "party_chat_range_stat\n",
      "game_combat_time_max_stat\n",
      "cnt_dt_diff_w4_by_last_time_series\n",
      "quest_hongmun_max_stat\n",
      "npc_hongmun_kurt_basic_time\n",
      "whisper_chat_var_basic_time\n",
      "item_hongmun_cycle_basic_time\n",
      "full_party_cnt_range\n",
      "cnt_enter_inzone_light_range_stat\n",
      "inzone_normal_cycle_basic_time\n",
      "first_week_get_money\n",
      "game_combat_time_sum_stat\n",
      "inzone_normal_skew_basic_time\n",
      "item_hongmun_min_stat\n",
      "cnt_dt_diff_w2_by_last_time_series\n",
      "cnt_dt_MA_2_time_series\n",
      "whisper_chat_max_stat\n",
      "cnt_use_buffitem_sum_stat\n",
      "npc_exp_min_stat\n",
      "game_combat_time_var_time_series\n",
      "full_party_cnt_min\n",
      "party_first_cnt_sum\n",
      "inzone_light_skew_basic_time\n",
      "game_combat_time_diff_w8_by_last_time_series\n",
      "game_combat_time_diff7_time_series\n",
      "get_money_skew_time_series\n",
      "get_money_min_stat\n",
      "play_time_diff3_time_series\n",
      "quest_hongmun_median_stat\n",
      "first_week_npc_hongmun\n",
      "party_cnt_sum\n",
      "game_combat_time_diff_w2_by_last_time_series\n",
      "cnt_use_buffitem_skew_time_series\n",
      "first_week_quest_hongmun\n",
      "item_hongmun_skew_basic_time\n",
      "game_combat_time_MA_4_time_series\n",
      "party_chat_sum_stat\n",
      "npc_hongmun_min_stat\n",
      "play_time_median_time_series\n",
      "npc_exp_by_play_time\n",
      "game_combat_time_kurt_time_series\n",
      "game_combat_time_diff_w4_by_last_time_series\n",
      "npc_hongmun_by_cnt_dt\n",
      "cnt_dt_MA_4_time_series\n",
      "cnt_dt_range_stat\n",
      "cnt_dt_MA_5_time_series\n",
      "get_money_MA_2_time_series\n",
      "cnt_dt_sum_stat\n",
      "play_time_diff1_time_series\n",
      "cnt_use_buffitem_median_stat\n",
      "get_money_diff7_time_series\n",
      "get_money_diff_w2_by_last_time_series\n",
      "game_combat_time_median_stat\n",
      "play_time_diff6_time_series\n",
      "inzone_light_ratio\n",
      "play_time_diff2_time_series\n",
      "quest_hongmun_by_play_time\n",
      "game_combat_time_min_stat\n",
      "party_over8_cnt_range\n",
      "npc_hongmun_range_stat\n",
      "play_time_MA_2_time_series\n",
      "('npc_exp', 'game_combat_time')\n",
      "chats_by_play_time\n",
      "play_time_diff4_time_series\n",
      "cnt_dt_diff_w8_by_last_time_series\n",
      "game_combat_time_by_cnt_dt\n",
      "npc_hongmun_skew_basic_time\n",
      "cnt_dt_cycle_time_series\n",
      "quest_hongmun_min_stat\n",
      "cnt_use_buffitem_kurt_time_series\n",
      "cnt_use_buffitem_max_stat\n",
      "game_combat_time_range_stat\n",
      "quest_hongmun_kurt_basic_time\n",
      "quest_exp_by_play_time\n",
      "get_money_diff_w4_by_last_time_series\n",
      "play_time_cycle_time_series\n",
      "play_time_diff5_time_series\n",
      "play_time_sum_stat\n",
      "first_week_game_combat_time\n",
      "play_time_median_stat\n",
      "play_time_var_time_series\n",
      "cnt_dt_var_time_series\n",
      "get_money_by_play_time\n",
      "play_time_skew_time_series\n",
      "quest_hongmun_range_stat\n",
      "quest_hongmun_skew_basic_time\n",
      "cnt_dt_skew_time_series\n",
      "play_time_MA_5_time_series\n",
      "play_time_MA_3_time_series\n",
      "play_time_MA_1_time_series\n",
      "play_time_MA_4_time_series\n",
      "play_time_max_stat\n",
      "play_time_range_stat\n",
      "cnt_dt_kurt_time_series\n",
      "game_combat_time_skew_time_series\n",
      "play_time_by_cnt_dt\n",
      "play_time_kurt_time_series\n",
      "cnt_use_buffitem_by_game_combat_time\n",
      "game_combat_time_by_play_time\n",
      "play_time_diff_w4_by_last_time_series\n",
      "play_time_min_stat\n",
      "play_time_diff_w8_by_last_time_series\n",
      "first_week_play_time\n",
      "play_time_diff7_time_series\n",
      "play_time_diff_w2_by_last_time_series\n",
      "guild_chat_max_last_diff\n",
      "give_gini\n",
      "rec_gini\n",
      "exc_gini\n",
      "source+exc\n",
      "target+exc\n",
      "exc_ratio\n",
      "one_way_ratio\n",
      "first_trade_all\n",
      "grocery_portion_in_market\n",
      "money_portion_in_market\n",
      "other_portion_in_market\n",
      "first_week_money_by_cnt_dt\n",
      "money_by_dt_first_max\n",
      "get_money_cnt_dt_lr\n",
      "trade_cnt_by_cnt_dt\n",
      "trade_cnt_by_play_time\n",
      "trade_cnt_by_combat_time\n",
      "first_week_money_by_play_time\n",
      "money_by_time_max_last\n",
      "money_by_time_first_last\n",
      "money_by_time_first_max\n",
      "money_by_time_median_last\n",
      "get_money_time_lr\n",
      "last_trade_all\n",
      "last_week_trade_cnt\n",
      "first_week_trade_cnt\n",
      "weekly_max_trade_cnt\n",
      "weekly_trade_cnt_std\n",
      "weekly_trade_cycle\n",
      "trade_first-last\n",
      "trade_last-max\n"
     ]
    }
   ],
   "source": [
    "X_train_c=X_train.copy()\n",
    "X_train_c=X_train_c.fillna(0)\n",
    "#score를 저장할 공간\n",
    "score=[]\n",
    "score_col_name=X_train_c.columns\n",
    "\n",
    "for i in range(len(X_train_c.columns)):\n",
    "    print(X_train_c.columns[i])\n",
    "    clf = clf.fit(X_train_c.iloc[:,i:i+1], y_train)\n",
    "    score.append(clf.score(X_train_c.iloc[:,i:i+1], y_train))"
   ]
  },
  {
   "cell_type": "code",
   "execution_count": 34,
   "metadata": {},
   "outputs": [],
   "source": [
    "#score data를 dataframe으로 만들어 순위를 확인\n",
    "score_copy=score.copy()\n",
    "score_dt=pd.DataFrame(np.array([score_col_name,score_copy]).transpose())"
   ]
  },
  {
   "cell_type": "code",
   "execution_count": 58,
   "metadata": {},
   "outputs": [
    {
     "data": {
      "text/html": [
       "<div>\n",
       "<style scoped>\n",
       "    .dataframe tbody tr th:only-of-type {\n",
       "        vertical-align: middle;\n",
       "    }\n",
       "\n",
       "    .dataframe tbody tr th {\n",
       "        vertical-align: top;\n",
       "    }\n",
       "\n",
       "    .dataframe thead th {\n",
       "        text-align: right;\n",
       "    }\n",
       "</style>\n",
       "<table border=\"1\" class=\"dataframe\">\n",
       "  <thead>\n",
       "    <tr style=\"text-align: right;\">\n",
       "      <th></th>\n",
       "      <th>0</th>\n",
       "      <th>1</th>\n",
       "    </tr>\n",
       "  </thead>\n",
       "  <tbody>\n",
       "    <tr>\n",
       "      <th>1</th>\n",
       "      <td>cnt_enter_inzone_skilled_Count</td>\n",
       "      <td>0.32396</td>\n",
       "    </tr>\n",
       "  </tbody>\n",
       "</table>\n",
       "</div>"
      ],
      "text/plain": [
       "                                0        1\n",
       "1  cnt_enter_inzone_skilled_Count  0.32396"
      ]
     },
     "execution_count": 58,
     "metadata": {},
     "output_type": "execute_result"
    }
   ],
   "source": [
    "score_dt[score_dt[0]=='cnt_enter_inzone_skilled_Count']"
   ]
  },
  {
   "cell_type": "code",
   "execution_count": null,
   "metadata": {},
   "outputs": [],
   "source": []
  },
  {
   "cell_type": "code",
   "execution_count": 64,
   "metadata": {},
   "outputs": [],
   "source": [
    "temp_clf=clf.fit(np.array(X_train_c.loc[:,'duel_cnt_range_stat']).reshape(-1,1), y_train)"
   ]
  },
  {
   "cell_type": "code",
   "execution_count": 65,
   "metadata": {},
   "outputs": [
    {
     "data": {
      "text/plain": [
       "3    94746\n",
       "0     5254\n",
       "dtype: int64"
      ]
     },
     "execution_count": 65,
     "metadata": {},
     "output_type": "execute_result"
    }
   ],
   "source": [
    "pd.Series(temp_clf.predict(np.array(X_train_c.loc[:,'duel_cnt_range_stat']).reshape(-1,1))).value_counts()"
   ]
  },
  {
   "cell_type": "code",
   "execution_count": 66,
   "metadata": {},
   "outputs": [
    {
     "data": {
      "text/plain": [
       "0    4281\n",
       "1     455\n",
       "2     287\n",
       "3     231\n",
       "dtype: int64"
      ]
     },
     "execution_count": 66,
     "metadata": {},
     "output_type": "execute_result"
    }
   ],
   "source": [
    "pd.Series(y_train[pd.Series(temp_clf.predict(np.array(X_train_c.loc[:,'duel_cnt_range_stat']).reshape(-1,1)))==0]).value_counts()"
   ]
  },
  {
   "cell_type": "code",
   "execution_count": 67,
   "metadata": {},
   "outputs": [
    {
     "data": {
      "text/plain": [
       "0.0    2855\n",
       "1.0     319\n",
       "2.0     318\n",
       "3.0     286\n",
       "4.0     268\n",
       "Name: duel_cnt_range_stat, dtype: int64"
      ]
     },
     "execution_count": 67,
     "metadata": {},
     "output_type": "execute_result"
    }
   ],
   "source": [
    "X_train.duel_cnt_range_stat.value_counts().head()"
   ]
  },
  {
   "cell_type": "code",
   "execution_count": 68,
   "metadata": {},
   "outputs": [
    {
     "data": {
      "text/plain": [
       "0    6325\n",
       "1     744\n",
       "2     559\n",
       "3     481\n",
       "dtype: int64"
      ]
     },
     "execution_count": 68,
     "metadata": {},
     "output_type": "execute_result"
    }
   ],
   "source": [
    "pd.Series(y_train[(X_train.duel_cnt_range_stat.isna()==False)]).value_counts()"
   ]
  },
  {
   "cell_type": "markdown",
   "metadata": {},
   "source": [
    "---"
   ]
  },
  {
   "cell_type": "code",
   "execution_count": null,
   "metadata": {},
   "outputs": [],
   "source": [
    "train_group_index.group_a=(train_group_index.group_a)|(train_group_index.group_b)\n",
    "train_group_index=train_group_index.loc[:,['group_a','group_c','group_d','group_e']]\n",
    "train_group_index.columns=['group_a','group_b','group_c','group_d']"
   ]
  },
  {
   "cell_type": "code",
   "execution_count": null,
   "metadata": {},
   "outputs": [],
   "source": [
    "test_group_index.group_a=(test_group_index.group_a)|(test_group_index.group_b)\n",
    "test_group_index=test_group_index.loc[:,['group_a','group_c','group_d','group_e']]\n",
    "test_group_index.columns=['group_a','group_b','group_c','group_d']"
   ]
  },
  {
   "cell_type": "code",
   "execution_count": null,
   "metadata": {},
   "outputs": [],
   "source": [
    "y_train[train_group_index.group_a].value_counts().sort_index()"
   ]
  },
  {
   "cell_type": "code",
   "execution_count": null,
   "metadata": {},
   "outputs": [],
   "source": [
    "y_train[train_group_index.group_b].value_counts().sort_index()"
   ]
  },
  {
   "cell_type": "code",
   "execution_count": null,
   "metadata": {},
   "outputs": [],
   "source": [
    "y_train[train_group_index.group_c].value_counts().sort_index()"
   ]
  },
  {
   "cell_type": "code",
   "execution_count": null,
   "metadata": {},
   "outputs": [],
   "source": [
    "y_train[train_group_index.group_d].value_counts().sort_index()"
   ]
  },
  {
   "cell_type": "code",
   "execution_count": null,
   "metadata": {},
   "outputs": [],
   "source": [
    "X_train1=X_train[train_group_index.group_a]\n",
    "y_train1=y_train[train_group_index.group_a]\n",
    "\n",
    "X_test1=X_test[test_group_index.group_a]\n",
    "\n",
    "X_train1=X_train1.reset_index(drop=True)\n",
    "y_train1=y_train1.reset_index(drop=True)\n",
    "X_test1=X_test1.reset_index(drop=True)"
   ]
  },
  {
   "cell_type": "code",
   "execution_count": null,
   "metadata": {},
   "outputs": [],
   "source": [
    "X_train2=X_train[train_group_index.group_b]\n",
    "y_train2=y_train[train_group_index.group_b]\n",
    "\n",
    "X_test2=X_test[test_group_index.group_b]\n",
    "\n",
    "X_train2=X_train2.reset_index(drop=True)\n",
    "y_train2=y_train2.reset_index(drop=True)\n",
    "X_test2=X_test2.reset_index(drop=True)"
   ]
  },
  {
   "cell_type": "code",
   "execution_count": null,
   "metadata": {},
   "outputs": [],
   "source": [
    "X_train3=X_train[train_group_index.group_c]\n",
    "y_train3=y_train[train_group_index.group_c]\n",
    "\n",
    "X_test3=X_test[test_group_index.group_c]\n",
    "\n",
    "X_train3=X_train3.reset_index(drop=True)\n",
    "y_train3=y_train3.reset_index(drop=True)\n",
    "X_test3=X_test3.reset_index(drop=True)"
   ]
  },
  {
   "cell_type": "code",
   "execution_count": null,
   "metadata": {},
   "outputs": [],
   "source": [
    "X_train4=X_train[train_group_index.group_d]\n",
    "y_train4=y_train[train_group_index.group_d]\n",
    "\n",
    "X_test4=X_test[test_group_index.group_d]\n",
    "\n",
    "X_train4=X_train4.reset_index(drop=True)\n",
    "y_train4=y_train4.reset_index(drop=True)\n",
    "X_test4=X_test4.reset_index(drop=True)"
   ]
  },
  {
   "cell_type": "code",
   "execution_count": null,
   "metadata": {},
   "outputs": [],
   "source": [
    "from sklearn.metrics import accuracy_score"
   ]
  },
  {
   "cell_type": "markdown",
   "metadata": {},
   "source": []
  },
  {
   "cell_type": "code",
   "execution_count": null,
   "metadata": {},
   "outputs": [],
   "source": [
    "#### xgb\n",
    "grid_result = []\n",
    "param = {}\n",
    "#### XGB parameters\n",
    "## General Parameters\n",
    "param['n_gpus'] = -1\n",
    "param['tree_method'] = 'gpu_hist'\n",
    "param['silent'] = 0\n",
    "\n",
    "## Booster Parameters\n",
    "param['n_estimators'] = 197 #요기...\n",
    "param['learning_rate'] = 0.1\n",
    "param['min_child_weight'] = 8\n",
    "param['max_depth'] = 15\n",
    "param['gamma'] = 0\n",
    "param['reg_alpha'] =0.01\n",
    "param['reg_lambda'] = 0.05\n",
    "param['subsample'] = 0.9\n",
    "param['colsample_bytree'] = 0.75\n",
    "param['scale_pos_weight'] = 1\n",
    "\n",
    "## Learning task parameters\n",
    "param['num_class'] = 4\n",
    "param['objective'] = 'multi:softmax'\n",
    "param['seed'] = 7\n",
    "\n",
    "## update?\n",
    "#param['process_type'] = 'update'\n",
    "#param['updater'] = 'refresh'\n",
    "#param['refresh_leaf'] = True\n",
    "model1 = xgb.XGBClassifier(**param)"
   ]
  },
  {
   "cell_type": "code",
   "execution_count": null,
   "metadata": {},
   "outputs": [],
   "source": []
  },
  {
   "cell_type": "markdown",
   "metadata": {},
   "source": [
    "## cross validation(for NA)"
   ]
  },
  {
   "cell_type": "code",
   "execution_count": null,
   "metadata": {
    "scrolled": true
   },
   "outputs": [],
   "source": [
    "\n",
    "kfold = StratifiedKFold(n_splits = 5 ,random_state = 7,shuffle=True).split(X_train, y_train)\n",
    "scores = []\n",
    "predict_set = []\n",
    "for k, (train, test) in enumerate(kfold):\n",
    "    model1.fit(X_train.iloc[train,:], y_train[train],eval_metric = 'merror')  ####요부분 trimming\n",
    "    score = model1.score(X_train.iloc[test,:], y_train[test])\n",
    "    scores.append(score)\n",
    "    print('Fold: %s, Class dist.: %s, F1: %.3f' % (k+1,np.bincount(y_train[train]), score))\n",
    "    ### predict\n",
    "    y_pred1 = model1.predict(X_train.iloc[test,:])\n",
    "    predict_set += [(x,inv_map[y_pred1[i]]) for i,x in enumerate(test)]\n",
    "    last_test1=test\n",
    "print('\\nCV F1: %.3f +/- %.3f' % (np.mean(scores), np.std(scores)))"
   ]
  },
  {
   "cell_type": "code",
   "execution_count": null,
   "metadata": {},
   "outputs": [],
   "source": []
  },
  {
   "cell_type": "code",
   "execution_count": null,
   "metadata": {},
   "outputs": [],
   "source": [
    "y_train"
   ]
  },
  {
   "cell_type": "code",
   "execution_count": null,
   "metadata": {},
   "outputs": [],
   "source": [
    "#### xgb\n",
    "grid_result = []\n",
    "param = {}\n",
    "#### XGB parameters\n",
    "## General Parameters\n",
    "param['n_gpus'] = -1\n",
    "param['tree_method'] = 'gpu_hist'\n",
    "param['silent'] = 0\n",
    "\n",
    "## Booster Parameters\n",
    "param['n_estimators'] = 197 #요기...\n",
    "param['learning_rate'] = 0.1\n",
    "param['min_child_weight'] = 6.5\n",
    "param['max_depth'] = 13\n",
    "param['gamma'] = 0\n",
    "param['reg_alpha'] =0.01\n",
    "param['reg_lambda'] = 0.05\n",
    "param['subsample'] = 0.9\n",
    "param['colsample_bytree'] = 0.75\n",
    "param['scale_pos_weight'] = 1\n",
    "\n",
    "## Learning task parameters\n",
    "param['num_class'] = 4\n",
    "param['objective'] = 'multi:softmax'\n",
    "param['seed'] = 7\n",
    "\n",
    "## update?\n",
    "#param['process_type'] = 'update'\n",
    "#param['updater'] = 'refresh'\n",
    "#param['refresh_leaf'] = True"
   ]
  },
  {
   "cell_type": "markdown",
   "metadata": {},
   "source": [
    "## cross validation(for NA)"
   ]
  },
  {
   "cell_type": "code",
   "execution_count": null,
   "metadata": {},
   "outputs": [],
   "source": [
    "model2 = xgb.XGBClassifier(**param)\n",
    "kfold = StratifiedKFold(n_splits = 5 ,random_state = 7,shuffle=True).split(X_train2, y_train2)\n",
    "scores = []\n",
    "predict_set = []\n",
    "for k, (train, test) in enumerate(kfold):\n",
    "    model2.fit(X_train2.iloc[train,:], y_train2[train],eval_metric = 'merror')  ####요부분 trimming\n",
    "    score = model2.score(X_train2.iloc[test,:], y_train2[test])\n",
    "    scores.append(score)\n",
    "    print('Fold: %s, Class dist.: %s, F1: %.3f' % (k+1,np.bincount(y_train2[train]), score))\n",
    "    ### predict\n",
    "    y_pred2 = model2.predict(X_train2.iloc[test,:])\n",
    "    predict_set += [(x,inv_map[y_pred2[i]]) for i,x in enumerate(test)]\n",
    "    last_test2=test\n",
    "print('\\nCV F1: %.3f +/- %.3f' % (np.mean(scores), np.std(scores)))"
   ]
  },
  {
   "cell_type": "markdown",
   "metadata": {},
   "source": [
    "## cross validation(for NA)"
   ]
  },
  {
   "cell_type": "code",
   "execution_count": null,
   "metadata": {},
   "outputs": [],
   "source": [
    "model3 = xgb.XGBClassifier(**param)\n",
    "kfold = StratifiedKFold(n_splits = 5 ,random_state = 7,shuffle=True).split(X_train3, y_train3)\n",
    "scores = []\n",
    "predict_set = []\n",
    "for k, (train, test) in enumerate(kfold):\n",
    "    model3.fit(X_train3.iloc[train,:], y_train3[train],eval_metric = 'merror')  ####요부분 trimming\n",
    "    score = model3.score(X_train3.iloc[test,:], y_train3[test])\n",
    "    scores.append(score)\n",
    "    print('Fold: %s, Class dist.: %s, F1: %.3f' % (k+1,np.bincount(y_train3[train]), score))\n",
    "    ### predict\n",
    "    y_pred3 = model3.predict(X_train3.iloc[test,:])\n",
    "    predict_set += [(x,inv_map[y_pred3[i]]) for i,x in enumerate(test)]\n",
    "    last_test3=test\n",
    "print('\\nCV F1: %.3f +/- %.3f' % (np.mean(scores), np.std(scores)))"
   ]
  },
  {
   "cell_type": "markdown",
   "metadata": {},
   "source": [
    "## cross validation(for NA)"
   ]
  },
  {
   "cell_type": "code",
   "execution_count": null,
   "metadata": {},
   "outputs": [],
   "source": [
    "model4 = xgb.XGBClassifier(**param)\n",
    "kfold = StratifiedKFold(n_splits = 5 ,random_state = 7,shuffle=True).split(X_train4, y_train4)\n",
    "scores = []\n",
    "predict_set = []\n",
    "for k, (train, test) in enumerate(kfold):\n",
    "    model4.fit(X_train4.iloc[train,:], y_train4[train],eval_metric = 'merror')  ####요부분 trimming\n",
    "    score = model4.score(X_train4.iloc[test,:], y_train4[test])\n",
    "    scores.append(score)\n",
    "    print('Fold: %s, Class dist.: %s, F1: %.3f' % (k+1,np.bincount(y_train4[train]), score))\n",
    "    ### predict\n",
    "    y_pred4 = model4.predict(X_train4.iloc[test,:])\n",
    "    predict_set += [(x,inv_map[y_pred4[i]]) for i,x in enumerate(test)]\n",
    "    last_test4=test\n",
    "print('\\nCV F1: %.3f +/- %.3f' % (np.mean(scores), np.std(scores)))"
   ]
  },
  {
   "cell_type": "code",
   "execution_count": null,
   "metadata": {},
   "outputs": [],
   "source": [
    "X_train1.loc[last_test1,:]"
   ]
  },
  {
   "cell_type": "code",
   "execution_count": null,
   "metadata": {},
   "outputs": [],
   "source": [
    "a=model1.predict(X_train1.loc[last_test1,:])\n",
    "b=model2.predict(X_train2.loc[last_test2,:])\n",
    "c=model3.predict(X_train3.loc[last_test3,:])\n",
    "d=model4.predict(X_train4.loc[last_test4,:])"
   ]
  },
  {
   "cell_type": "code",
   "execution_count": null,
   "metadata": {},
   "outputs": [],
   "source": [
    "preds=np.append(a,b)\n",
    "preds=np.append(preds,c)\n",
    "preds=np.append(preds,d)"
   ]
  },
  {
   "cell_type": "code",
   "execution_count": null,
   "metadata": {},
   "outputs": [],
   "source": [
    "labels_a=y_train1[last_test1]\n",
    "labels_b=y_train2[last_test2]\n",
    "labels_c=y_train3[last_test3]\n",
    "labels_d=y_train4[last_test4]"
   ]
  },
  {
   "cell_type": "code",
   "execution_count": null,
   "metadata": {},
   "outputs": [],
   "source": [
    "labels_concat=np.append(labels_a,labels_b)\n",
    "labels_concat=np.append(labels_concat,labels_c)\n",
    "labels_concat=np.append(labels_concat,labels_d)"
   ]
  },
  {
   "cell_type": "code",
   "execution_count": null,
   "metadata": {},
   "outputs": [],
   "source": [
    "len(preds)"
   ]
  },
  {
   "cell_type": "code",
   "execution_count": null,
   "metadata": {},
   "outputs": [],
   "source": [
    "pd.Series(preds[preds!=labels_concat]).value_counts()"
   ]
  },
  {
   "cell_type": "code",
   "execution_count": null,
   "metadata": {},
   "outputs": [],
   "source": [
    "accuracy_score(preds,labels_concat)"
   ]
  },
  {
   "cell_type": "code",
   "execution_count": null,
   "metadata": {},
   "outputs": [],
   "source": [
    "y_train2"
   ]
  },
  {
   "cell_type": "markdown",
   "metadata": {},
   "source": [
    "---"
   ]
  },
  {
   "cell_type": "code",
   "execution_count": null,
   "metadata": {},
   "outputs": [],
   "source": [
    "model.save_model('xgb_0.744')"
   ]
  },
  {
   "cell_type": "code",
   "execution_count": null,
   "metadata": {},
   "outputs": [],
   "source": [
    "#### 오분류 데이터 셋\n",
    "error_dataset = pd.merge(train_label,pd.DataFrame(predict_set,columns=['ind','y_pred']),left_on=train_label.index,right_on='ind')\n",
    "error_dataset.drop(labels='ind',axis=1,inplace=True)"
   ]
  },
  {
   "cell_type": "code",
   "execution_count": null,
   "metadata": {},
   "outputs": [],
   "source": [
    "error_dataset.to_csv('error_set_0.742.csv',index = False)"
   ]
  },
  {
   "cell_type": "code",
   "execution_count": null,
   "metadata": {},
   "outputs": [],
   "source": [
    "importance = model.feature_importances_"
   ]
  },
  {
   "cell_type": "code",
   "execution_count": null,
   "metadata": {},
   "outputs": [],
   "source": [
    "FI_result = [(c, importance[i]) for i, c in enumerate(X_train.columns)]"
   ]
  },
  {
   "cell_type": "code",
   "execution_count": null,
   "metadata": {},
   "outputs": [],
   "source": [
    "FI_result"
   ]
  },
  {
   "cell_type": "code",
   "execution_count": null,
   "metadata": {
    "scrolled": true
   },
   "outputs": [],
   "source": [
    "pd.DataFrame(FI_result).sort_values(by=1,ascending= False).head(100)"
   ]
  },
  {
   "cell_type": "code",
   "execution_count": null,
   "metadata": {},
   "outputs": [],
   "source": [
    "importance.shape"
   ]
  },
  {
   "cell_type": "code",
   "execution_count": null,
   "metadata": {},
   "outputs": [],
   "source": []
  },
  {
   "cell_type": "code",
   "execution_count": null,
   "metadata": {},
   "outputs": [],
   "source": []
  },
  {
   "cell_type": "code",
   "execution_count": null,
   "metadata": {
    "scrolled": false
   },
   "outputs": [],
   "source": [
    "fig, ax = plt.subplots(figsize=(14,36))\n",
    "xgb.plot_importance(model, max_num_features=200, height=0.8, ax=ax)\n",
    "plt.show()"
   ]
  },
  {
   "cell_type": "code",
   "execution_count": null,
   "metadata": {},
   "outputs": [],
   "source": []
  },
  {
   "cell_type": "markdown",
   "metadata": {},
   "source": [
    "### FINE TUNING"
   ]
  },
  {
   "cell_type": "code",
   "execution_count": null,
   "metadata": {},
   "outputs": [],
   "source": [
    "#### xgb\n",
    "grid_result = []\n",
    "param = {}\n",
    "#### XGB parameters\n",
    "## General Parameters\n",
    "param['n_gpus'] = -1\n",
    "param['tree_method'] = 'gpu_hist'\n",
    "param['silent'] = 0\n",
    "\n",
    "## Booster Parameters\n",
    "param['n_estimators'] = 600 #요기...\n",
    "param['learning_rate'] = 0.001\n",
    "param['min_child_weight'] = 2\n",
    "param['max_depth'] = 10\n",
    "param['gamma'] = 0\n",
    "param['reg_alpha'] = 0.1\n",
    "param['reg_lambda'] = 0.03\n",
    "param['subsample'] = 0.9\n",
    "param['colsample_bytree'] = 0.75\n",
    "param['scale_pos_weight'] = 1\n",
    "\n",
    "## Learning task parameters\n",
    "param['num_class'] = 4\n",
    "param['objective'] = 'multi:softmax'\n",
    "param['seed'] = 7\n",
    "\n",
    "model = xgb.XGBClassifier(**param)"
   ]
  },
  {
   "cell_type": "code",
   "execution_count": null,
   "metadata": {},
   "outputs": [],
   "source": [
    "model.load_model('xgb_0.7344')"
   ]
  },
  {
   "cell_type": "code",
   "execution_count": null,
   "metadata": {},
   "outputs": [],
   "source": [
    "#### 기존 state of art 학습!!!\n",
    "model.fit(X_train,y_train,eval_metric = F1)"
   ]
  },
  {
   "cell_type": "code",
   "execution_count": null,
   "metadata": {},
   "outputs": [],
   "source": [
    "soa_booster = model.get_booster"
   ]
  },
  {
   "cell_type": "code",
   "execution_count": null,
   "metadata": {},
   "outputs": [],
   "source": [
    "#### xgb\n",
    "grid_result = []\n",
    "param = {}\n",
    "#### XGB parameters\n",
    "## General Parameters\n",
    "param['n_gpus'] = -1\n",
    "param['tree_method'] = 'gpu_hist'\n",
    "param['silent'] = 0\n",
    "\n",
    "## Booster Parameters\n",
    "param['n_estimators'] = 600 # 길게 잡고...\n",
    "param['learning_rate'] = 0.001 # learning rate를 더 줄여서...\n",
    "param['min_child_weight'] = 2\n",
    "param['max_depth'] = 10\n",
    "param['gamma'] = 0\n",
    "param['reg_alpha'] = 0.1\n",
    "param['reg_lambda'] = 0.03\n",
    "param['subsample'] = 0.9\n",
    "param['colsample_bytree'] = 0.75\n",
    "param['scale_pos_weight'] = 1\n",
    "\n",
    "## Learning task parameters\n",
    "param['num_class'] = 4\n",
    "param['objective'] = 'multi:softmax'\n",
    "param['seed'] = 7\n",
    "\n",
    "model = xgb.XGBClassifier(**param)"
   ]
  },
  {
   "cell_type": "markdown",
   "metadata": {},
   "source": [
    "### final model"
   ]
  },
  {
   "cell_type": "code",
   "execution_count": null,
   "metadata": {},
   "outputs": [],
   "source": [
    "#### cross validation(for NA)\n",
    "kfold = StratifiedKFold(n_splits = 5 ,random_state = 7,shuffle=True).split(X_train, y_train)\n",
    "scores = []\n",
    "predict_set = []\n",
    "for k, (train, test) in enumerate(kfold):\n",
    "    model.fit(X_train.iloc[train,:], y_train[train],eval_metric = F1)  ####요부분 trimming\n",
    "    score = model.score(X_train.iloc[test,:], y_train[test])\n",
    "    scores.append(score)\n",
    "    print('Fold: %s, Class dist.: %s, F1: %.3f' % (k+1,np.bincount(y_train[train]), score))\n",
    "    ### predict\n",
    "    y_pred = model.predict(X_train.iloc[test,:])\n",
    "    predict_set += [(x,inv_map[y_pred[i]]) for i,x in enumerate(test)]\n",
    "print('\\nCV F1: %.3f +/- %.3f' % (np.mean(scores), np.std(scores)))"
   ]
  },
  {
   "cell_type": "code",
   "execution_count": null,
   "metadata": {},
   "outputs": [],
   "source": [
    "import joblib\n",
    "#save model\n",
    "joblib.dump(xgb, filename) \n",
    "\n",
    "#load saved model\n",
    "xgb = joblib.load(filename)"
   ]
  },
  {
   "cell_type": "code",
   "execution_count": null,
   "metadata": {},
   "outputs": [],
   "source": []
  },
  {
   "cell_type": "code",
   "execution_count": null,
   "metadata": {
    "scrolled": false
   },
   "outputs": [],
   "source": [
    "fig, ax = plt.subplots(figsize=(14,60))\n",
    "xgb.plot_importance(model, max_num_features=340, height=0.8, ax=ax)\n",
    "plt.show()"
   ]
  },
  {
   "cell_type": "code",
   "execution_count": null,
   "metadata": {},
   "outputs": [],
   "source": [
    "#### load data set\n",
    "## train\n",
    "X_train1 = pd.read_csv('temp_data/X_train_stat.csv')\n",
    "X_train2 = pd.read_csv('temp_data/X_train_easy_time.csv').drop('new_id',axis=1)\n",
    "X_train2.columns = [x +'_basic_time' for x in X_train2.columns]\n",
    "X_train3 = pd.read_csv('temp_data/X_train_게임활동_time.csv').drop('new_id',axis=1)\n",
    "X_train3.columns = [x +'_time_series' for x in X_train3.columns]\n",
    "X_train6 = pd.read_csv('temp_data/X_train_ratio.csv').drop('new_id',axis=1)\n",
    "X_train6.fillna(0.0)\n",
    "#X_train9 = pd.read_csv('temp_data/X_train_act_comb_1.csv').drop('new_id',axis=1)\n",
    "#X_train10 = pd.read_csv('temp_data/train_playpattern_mean_encoding.csv').drop('new_id',axis=1)\n",
    "#X_train11 = pd.read_csv('temp_data/train_interaction_sum_30.csv').drop('new_id',axis=1)\n",
    "\n",
    "## test\n",
    "X_test1 = pd.read_csv('temp_data/X_test_stat.csv')\n",
    "X_test2 = pd.read_csv('temp_data/X_test_easy_time.csv').drop('new_id',axis=1)\n",
    "X_test2.columns = X_train2.columns\n",
    "X_test3 = pd.read_csv('temp_data/X_test_게임활동_time.csv').drop('new_id',axis=1)\n",
    "X_test3.columns = X_train3.columns\n",
    "X_test6 = pd.read_csv('temp_data/X_test_ratio.csv').drop('new_id',axis=1)\n",
    "X_test6.fillna(0.0)\n",
    "#X_test9 = pd.read_csv('temp_data/X_test_act_comb_1.csv').drop('new_id',axis=1)\n",
    "#X_test10 = pd.read_csv('temp_data/test_playpattern_mean_encoding.csv').drop('new_id',axis=1)\n",
    "#X_test11 = pd.read_csv('temp_data/test_interaction_sum_30.csv').drop('new_id',axis=1)\n",
    "\n",
    "## guild and trade and party\n",
    "X_train4 = pd.read_csv('temp_data/temp_guild_train.csv').drop('new_id',axis=1)\n",
    "X_train5 = pd.read_csv('temp_data/temp_trade_train.csv').drop('new_id',axis=1)\n",
    "X_test4 = pd.read_csv('temp_data/temp_guild_test.csv').drop('new_id',axis=1)\n",
    "X_test5 = pd.read_csv('temp_data/temp_trade_test.csv').drop('new_id',axis=1)\n",
    "X_train7 = pd.read_csv('temp_data/X_train_party.csv').drop('new_id',axis=1)\n",
    "X_test7 = pd.read_csv('temp_data/X_test_party.csv').drop('new_id',axis=1)\n",
    "X_train8 = pd.read_csv('temp_data/training_trade.csv').drop('new_id',axis=1)\n",
    "X_test8 = pd.read_csv('temp_data/test_trade.csv').drop('new_id',axis=1)"
   ]
  }
 ],
 "metadata": {
  "kernelspec": {
   "display_name": "Python 3",
   "language": "python",
   "name": "python3"
  },
  "language_info": {
   "codemirror_mode": {
    "name": "ipython",
    "version": 3
   },
   "file_extension": ".py",
   "mimetype": "text/x-python",
   "name": "python",
   "nbconvert_exporter": "python",
   "pygments_lexer": "ipython3",
   "version": "3.6.6"
  }
 },
 "nbformat": 4,
 "nbformat_minor": 2
}
