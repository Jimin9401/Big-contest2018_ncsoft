{
 "cells": [
  {
   "cell_type": "code",
   "execution_count": 1,
   "metadata": {},
   "outputs": [],
   "source": [
    "import warnings\n",
    "warnings.filterwarnings(\"ignore\")\n",
    "import pandas as pd\n",
    "import numpy as np\n",
    "import xgboost as xgb\n",
    "from xgboost.sklearn import XGBClassifier\n",
    "from sklearn.ensemble import ExtraTreesClassifier\n",
    "from sklearn.model_selection import cross_val_score\n",
    "from sklearn.metrics import confusion_matrix,f1_score,precision_score,recall_score\n",
    "from sklearn.naive_bayes import GaussianNB\n",
    "from sklearn.naive_bayes import MultinomialNB\n",
    "from sklearn.naive_bayes import BernoulliNB\n",
    "from sklearn.metrics import accuracy_score\n",
    "from sklearn.metrics import precision_score, recall_score\n",
    "from sklearn.model_selection import StratifiedKFold\n",
    "from sklearn.model_selection import GridSearchCV\n",
    "from sklearn.model_selection import validation_curve\n",
    "from sklearn.cluster import DBSCAN\n",
    "from pprint import pprint\n",
    "import matplotlib.pyplot as plt\n",
    "\n",
    "from sklearn.ensemble import RandomForestClassifier # rf분류기"
   ]
  },
  {
   "cell_type": "code",
   "execution_count": null,
   "metadata": {},
   "outputs": [],
   "source": [
    "class Ensembler(X_train,X_test,y_train,XGB_params,ExtraTree_params,LGB_params):\n",
    "    def __init__:\n",
    "    def XGB_fit(X_train=self.X_train,X_test=self.X_test,y_train=self.y_train,params=XGB_params):\n",
    "        return xgb_model\n",
    "    def ExtraTree_fit(X_train=self.X_train,X_test=self.X_test,y_train=self.y_train,params=ExtraTree_params):\n",
    "        return extratree_model\n",
    "    def LGB_fit(X_train=self.X_train,X_test=self.X_test,y_train=self.y_train,params=LGB_params):\n",
    "        return lgb_model\n",
    "    def Ensembler_fit(xgb_model,extratree_model,lgb_model,):\n",
    "        sess=tf.Session()\n",
    "        X_data=tf.placeholder(tf.float32,[None,3,4])\n",
    "        y_data=tf.placeholder(tf.float32,[None])\n",
    "        \n",
    "        weight=tf.Variable(tf.random_normal([4,3,1]))\n",
    "        bias=tf.Variable(tf.random_normal([4,2,1]))\n",
    "        \n",
    "        \n",
    "        return \n",
    "    "
   ]
  }
 ],
 "metadata": {
  "kernelspec": {
   "display_name": "Python 3",
   "language": "python",
   "name": "python3"
  },
  "language_info": {
   "codemirror_mode": {
    "name": "ipython",
    "version": 3
   },
   "file_extension": ".py",
   "mimetype": "text/x-python",
   "name": "python",
   "nbconvert_exporter": "python",
   "pygments_lexer": "ipython3",
   "version": "3.6.6"
  }
 },
 "nbformat": 4,
 "nbformat_minor": 2
}
