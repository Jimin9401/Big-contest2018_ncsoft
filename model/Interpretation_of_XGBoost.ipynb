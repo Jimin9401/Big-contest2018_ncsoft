{
 "cells": [
  {
   "cell_type": "markdown",
   "metadata": {},
   "source": [
    "### Feature Importance"
   ]
  },
  {
   "cell_type": "markdown",
   "metadata": {},
   "source": [
    "* weight\n",
    "* cover\n",
    "* gain"
   ]
  },
  {
   "cell_type": "markdown",
   "metadata": {},
   "source": [
    "### 이렇게 다양한 피쳐의 중요도를 측정하는 방법 중 어떤 기준을 선택해야되는가?"
   ]
  },
  {
   "cell_type": "markdown",
   "metadata": {},
   "source": [
    "* consistency : 다른 모델을 사용하더라도 특정 피쳐에 대한 attributed importance가 감소하지 않음.\n",
    "    - 만약 consistency가 보장되지 않으면 두 개 이상의 모델을 바탕으로 피쳐를 설명하기 어렵다. \n",
    "* accuracy : 정확도가 아니라... 각 피쳐의 importance의 총합이 전체 모델에 대한 importance와 같아야됨."
   ]
  },
  {
   "cell_type": "markdown",
   "metadata": {},
   "source": [
    "### 답은 SHAP이다.ㅋㅋㅋㅋ(지들이 만든 패키지 홍보하는 느낌)"
   ]
  },
  {
   "cell_type": "markdown",
   "metadata": {},
   "source": [
    "* [깃헙](https://github.com/slundberg/shap)\n",
    "* [노트북](https://slundberg.github.io/shap/notebooks/NHANES%20I%20Survival%20Model.html) \n",
    "* [블로그 포스트](https://towardsdatascience.com/interpretable-machine-learning-with-xgboost-9ec80d148d27) "
   ]
  }
 ],
 "metadata": {
  "kernelspec": {
   "display_name": "Python 3",
   "language": "python",
   "name": "python3"
  },
  "language_info": {
   "codemirror_mode": {
    "name": "ipython",
    "version": 3
   },
   "file_extension": ".py",
   "mimetype": "text/x-python",
   "name": "python",
   "nbconvert_exporter": "python",
   "pygments_lexer": "ipython3",
   "version": "3.6.6"
  }
 },
 "nbformat": 4,
 "nbformat_minor": 2
}
