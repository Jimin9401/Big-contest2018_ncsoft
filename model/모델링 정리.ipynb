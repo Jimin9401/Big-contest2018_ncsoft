{
 "cells": [
  {
   "cell_type": "markdown",
   "metadata": {},
   "source": [
    "### 지금까지 가장 좋은 모델"
   ]
  },
  {
   "cell_type": "markdown",
   "metadata": {},
   "source": [
    "* 우선 현재 가장 효과가 좋은 set은 `X_train_487.csv` + `RF 0.0005` 인듯.\n",
    "* Feature의 수가 352개 정도 였음. $\\Longrightarrow$ 고정적인 feature를 생각....\n",
    "* 10/2/0.1/0.03/0.9/0.75 일 것으로 추정.... \n",
    "[0.01/0.05]일 수도 있다.... n_estimator = 3000, 0.01"
   ]
  },
  {
   "cell_type": "markdown",
   "metadata": {},
   "source": [
    "* max_depth랑 min_child_weight은 10/2, 12/6, 19/7 가 경험적으로 꽤 좋았음..."
   ]
  },
  {
   "cell_type": "markdown",
   "metadata": {},
   "source": [
    "### 0904"
   ]
  },
  {
   "cell_type": "markdown",
   "metadata": {},
   "source": [
    "* __변수__: X_train_base.csv, X_train_combination.csv ,train_playpattern_mean_encoding.csv\n",
    "* __parameters__: 12/ 4/ 0/ 0/ 0.96/0.69\n",
    "* n_estimator : 195, 0.1 이랑 1542?, 0.01 같음.... -> 0.7312"
   ]
  },
  {
   "cell_type": "markdown",
   "metadata": {},
   "source": [
    "|                    Features      | max_depth & min_child_weight | subsample & colstree  | alpha & lambda | lr & n_estimator | CV | LB |\n",
    "|:--------------------------------:|:-----:|:---------:|:---------:|:---------:|:------:|:------:|\n",
    "| X_train_487.csv + RF 0.0005 [352]| 10, 2 | 0.9, 0.75 | 0.1, 0.03 |0.01, 3000 | 0.743 +/- 0.004| 0.7335 |\n",
    "| X_train_485 + RRF 0.0001 [428] | 12, 4 | 0.96, 0.69 | 0, 0 |0.1, 195 | 0.743 +- 0.003 | 0.7312 |\n",
    "\n"
   ]
  },
  {
   "cell_type": "markdown",
   "metadata": {},
   "source": [
    "---"
   ]
  },
  {
   "cell_type": "markdown",
   "metadata": {},
   "source": [
    "### 튜닝"
   ]
  },
  {
   "cell_type": "markdown",
   "metadata": {},
   "source": [
    "* lr : 0.1로 잡고... reg 주지말고... depth와 weight 튜닝...\n",
    "* subsample, colstree, reg등을 튜닝..."
   ]
  },
  {
   "cell_type": "markdown",
   "metadata": {},
   "source": [
    "---"
   ]
  },
  {
   "cell_type": "markdown",
   "metadata": {},
   "source": [
    "### 0906"
   ]
  },
  {
   "cell_type": "markdown",
   "metadata": {},
   "source": [
    "* 적절한 feature set을 찾자"
   ]
  }
 ],
 "metadata": {
  "kernelspec": {
   "display_name": "Python 3",
   "language": "python",
   "name": "python3"
  },
  "language_info": {
   "codemirror_mode": {
    "name": "ipython",
    "version": 3
   },
   "file_extension": ".py",
   "mimetype": "text/x-python",
   "name": "python",
   "nbconvert_exporter": "python",
   "pygments_lexer": "ipython3",
   "version": "3.6.6"
  }
 },
 "nbformat": 4,
 "nbformat_minor": 2
}
