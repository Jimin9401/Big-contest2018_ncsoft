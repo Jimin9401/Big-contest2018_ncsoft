{
 "cells": [
  {
   "cell_type": "markdown",
   "metadata": {},
   "source": [
    "### Import module, function and data"
   ]
  },
  {
   "cell_type": "code",
   "execution_count": 16,
   "metadata": {},
   "outputs": [],
   "source": [
    "import warnings\n",
    "warnings.filterwarnings(\"ignore\")\n",
    "import pandas as pd\n",
    "import numpy as np\n",
    "import xgboost as xgb\n",
    "from xgboost.sklearn import XGBClassifier\n",
    "from sklearn.metrics import precision_score, recall_score\n",
    "from sklearn.model_selection import StratifiedKFold\n",
    "from sklearn.model_selection import GridSearchCV\n",
    "from sklearn.model_selection import validation_curve\n",
    "from pprint import pprint\n",
    "import matplotlib.pyplot as plt\n",
    "\n",
    "from sklearn.ensemble import RandomForestClassifier # rf분류기"
   ]
  },
  {
   "cell_type": "code",
   "execution_count": 17,
   "metadata": {},
   "outputs": [],
   "source": [
    "#### training_validation 나누기!!!\n",
    "def separating(X,y):\n",
    "    np.random.seed(7)\n",
    "    index_where=[]\n",
    "    index_choosed=[]\n",
    "    index_boolean=np.zeros(len(y),np.bool)\n",
    "    for i in range(4):\n",
    "        index_where.append(np.where(y==i)[0])\n",
    "    for j in range(4):\n",
    "        index_choosed.append(np.random.choice(index_where[j],int(sum(y==j)*0.9),replace = False))\n",
    "    for k in range(4):\n",
    "        print(index_choosed[k])\n",
    "        index_boolean[index_choosed[k]]=1\n",
    "    return X[index_boolean], X[index_boolean==0],y[index_boolean], y[index_boolean==0]"
   ]
  },
  {
   "cell_type": "code",
   "execution_count": 18,
   "metadata": {},
   "outputs": [],
   "source": [
    "def F1(y_pred, dtrain):\n",
    "    labels = dtrain.get_label()\n",
    "    \n",
    "    pre = precision_score(y_true = labels, y_pred = y_pred, average=None)\n",
    "    rec = recall_score(y_true = labels, y_pred = y_pred, average=None)\n",
    "    f1_score = 8/(sum(1/pre) + sum(1/rec))\n",
    "\n",
    "    return 'f1', f1_score"
   ]
  },
  {
   "cell_type": "code",
   "execution_count": 55,
   "metadata": {},
   "outputs": [],
   "source": [
    "test_data = pd.read_csv('X_test_final.csv')\n",
    "X_test = pd.concat((pd.read_csv('test_party_differ.csv').iloc[:,1],test_data),axis = 1)"
   ]
  },
  {
   "cell_type": "code",
   "execution_count": 19,
   "metadata": {},
   "outputs": [],
   "source": [
    "train_data=pd.read_csv('X_train_final.csv')\n",
    "test_data = pd.read_csv('X_test_final.csv')\n",
    "\n",
    "#마지막에 추가된 변수를 붙여줌\n",
    "X_train = pd.concat((pd.read_csv('train_party_differ.csv').iloc[:,1],train_data),axis = 1)\n",
    "X_test = pd.concat((pd.read_csv('test_party_differ.csv').iloc[:,1],test_data),axis = 1)"
   ]
  },
  {
   "cell_type": "code",
   "execution_count": 20,
   "metadata": {},
   "outputs": [],
   "source": [
    "X_train.to_csv('X_train_final.csv',index = False)\n",
    "X_test.to_csv('X_test_final.csv',index = False)"
   ]
  },
  {
   "cell_type": "code",
   "execution_count": 5,
   "metadata": {},
   "outputs": [],
   "source": [
    "#### load class\n",
    "train_label = pd.read_csv('temp_data/train_label_lite.csv')\n",
    "hasher = pd.read_csv('temp_data/test_id.csv')\n",
    "label_map = {'retained':0,'2month':1,'month':2,'week':3}\n",
    "y_train = pd.Series([label_map[l] for l in train_label.label])\n",
    "inv_map = {label_map[k]:k for k in label_map.keys()}"
   ]
  },
  {
   "cell_type": "code",
   "execution_count": 54,
   "metadata": {},
   "outputs": [
    {
     "data": {
      "text/plain": [
       "(100000, 450)"
      ]
     },
     "execution_count": 54,
     "metadata": {},
     "output_type": "execute_result"
    }
   ],
   "source": [
    "pd.read_csv('X_test_final.csv').shape"
   ]
  },
  {
   "cell_type": "markdown",
   "metadata": {},
   "source": [
    "---"
   ]
  },
  {
   "cell_type": "markdown",
   "metadata": {},
   "source": [
    "### 5-fold cross validation XGB"
   ]
  },
  {
   "cell_type": "code",
   "execution_count": 6,
   "metadata": {},
   "outputs": [],
   "source": [
    "#### xgb\n",
    "grid_result = []\n",
    "param = {}\n",
    "#### XGB parameters\n",
    "## General Parameters\n",
    "param['n_gpus'] = -1\n",
    "param['tree_method'] = 'gpu_hist'\n",
    "param['silent'] = 0\n",
    "\n",
    "## Booster Parameters\n",
    "param['n_estimators'] = 2240 \n",
    "param['learning_rate'] = 0.01\n",
    "param['min_child_weight'] = 6.5\n",
    "param['max_depth'] = 13\n",
    "param['gamma'] = 0.1\n",
    "param['reg_alpha'] =0.01\n",
    "param['reg_lambda'] = 0.05\n",
    "param['subsample'] = 0.9\n",
    "param['colsample_bytree'] = 0.75\n",
    "param['scale_pos_weight'] = 1\n",
    "\n",
    "## Learning task parameters\n",
    "param['num_class'] = 4\n",
    "param['objective'] = 'multi:softmax'\n",
    "param['seed'] = 7\n",
    "\n",
    "## update?\n",
    "#param['process_type'] = 'update'\n",
    "#param['updater'] = 'refresh'\n",
    "#param['refresh_leaf'] = True\n",
    "\n",
    "model = xgb.XGBClassifier(**param)"
   ]
  },
  {
   "cell_type": "code",
   "execution_count": 7,
   "metadata": {},
   "outputs": [
    {
     "name": "stdout",
     "output_type": "stream",
     "text": [
      "Fold: 1, Class dist.: [20000 20000 20000 20000], F1: 0.743\n",
      "Fold: 2, Class dist.: [20000 20000 20000 20000], F1: 0.740\n",
      "Fold: 3, Class dist.: [20000 20000 20000 20000], F1: 0.747\n",
      "Fold: 4, Class dist.: [20000 20000 20000 20000], F1: 0.746\n",
      "Fold: 5, Class dist.: [20000 20000 20000 20000], F1: 0.739\n",
      "\n",
      "CV F1: 0.743 +/- 0.003\n"
     ]
    }
   ],
   "source": [
    "#### cross validation(for NA)\n",
    "kfold = StratifiedKFold(n_splits = 5 ,random_state = 7,shuffle=True).split(X_train, y_train)\n",
    "scores = []\n",
    "predict_set = []\n",
    "for k, (train, test) in enumerate(kfold):\n",
    "    model.fit(X_train.iloc[train,:], y_train[train],eval_metric = F1)  ####요부분 trimming\n",
    "    score = model.score(X_train.iloc[test,:], y_train[test])\n",
    "    scores.append(score)\n",
    "    print('Fold: %s, Class dist.: %s, F1: %.3f' % (k+1,np.bincount(y_train[train]), score))\n",
    "    ### predict\n",
    "    y_pred = model.predict(X_train.iloc[test,:])\n",
    "    predict_set += [(x,inv_map[y_pred[i]]) for i,x in enumerate(test)]\n",
    "print('\\nCV F1: %.3f +/- %.3f' % (np.mean(scores), np.std(scores)))"
   ]
  },
  {
   "cell_type": "markdown",
   "metadata": {},
   "source": [
    "---"
   ]
  },
  {
   "cell_type": "markdown",
   "metadata": {},
   "source": [
    "### Fitting xgb"
   ]
  },
  {
   "cell_type": "code",
   "execution_count": 7,
   "metadata": {},
   "outputs": [],
   "source": [
    "#### xgb\n",
    "grid_result = []\n",
    "param = {}\n",
    "#### XGB parameters\n",
    "## General Parameters\n",
    "param['n_gpus'] = -1\n",
    "param['tree_method'] = 'gpu_hist'\n",
    "param['silent'] = 0\n",
    "\n",
    "## Booster Parameters\n",
    "param['n_estimators'] = 2240 #요기...\n",
    "param['learning_rate'] = 0.01\n",
    "param['min_child_weight'] = 6.5\n",
    "param['max_depth'] = 13\n",
    "param['gamma'] = 0.1\n",
    "param['reg_alpha'] =0.01\n",
    "param['reg_lambda'] = 0.05\n",
    "param['subsample'] = 0.9\n",
    "param['colsample_bytree'] = 0.75\n",
    "param['scale_pos_weight'] = 1\n",
    "\n",
    "## Learning task parameters\n",
    "param['num_class'] = 4\n",
    "param['objective'] = 'multi:softmax'\n",
    "param['seed'] = 7\n",
    "\n",
    "## update?\n",
    "#param['process_type'] = 'update'\n",
    "#param['updater'] = 'refresh'\n",
    "#param['refresh_leaf'] = True\n",
    "\n",
    "model = xgb.XGBClassifier(**param)"
   ]
  },
  {
   "cell_type": "code",
   "execution_count": 8,
   "metadata": {},
   "outputs": [
    {
     "data": {
      "text/plain": [
       "XGBClassifier(base_score=0.5, booster='gbtree', colsample_bylevel=1,\n",
       "       colsample_bytree=0.75, gamma=0.1, learning_rate=0.01,\n",
       "       max_delta_step=0, max_depth=13, min_child_weight=6.5, missing=None,\n",
       "       n_estimators=2240, n_gpus=-1, n_jobs=1, nthread=None, num_class=4,\n",
       "       objective='multi:softprob', random_state=0, reg_alpha=0.01,\n",
       "       reg_lambda=0.05, scale_pos_weight=1, seed=7, silent=0,\n",
       "       subsample=0.9, tree_method='gpu_hist')"
      ]
     },
     "execution_count": 8,
     "metadata": {},
     "output_type": "execute_result"
    }
   ],
   "source": [
    "#### 전체 데이터 학습\n",
    "model = xgb.XGBClassifier(**param)\n",
    "model.fit(X_train,y_train)"
   ]
  },
  {
   "cell_type": "code",
   "execution_count": 58,
   "metadata": {},
   "outputs": [
    {
     "ename": "ValueError",
     "evalue": "feature_names mismatch: ['differ_ratio_1', 'play_time_Count', 'cnt_enter_inzone_skilled_Count', 'making_cnt_Count', 'normal_chat_median_basic_time', 'first_week_cnt_clear_raid_light', 'cnt_enter_raid_light_range_stat', 'payment_amount_MA_5_basic_time', 'duel_cnt_sum_stat', 'trade_InDeg', 'partybattle_cnt_sum_stat', 'payment_amount_median_basic_time', 'partybattle_cnt_max_stat', 'payment_amount_kurt_basic_time', 'cnt_enter_raid_light_median_stat', 'guild_chat_MA_1_basic_time', 'whisper_chat_Count', 'cnt_enter_inzone_light_Count', 'payment_amount_MA_1_basic_time', 'cnt_enter_raid_light_max_stat', 'payment_amount_by_play_time', 'normal_chat_MA_2_basic_time', 'cnt_dt_Count', 'normal_chat_MA_1_basic_time', 'payment_amount_MA_3_basic_time', 'cnt_enter_raid_light_Count', 'district_chat_max_stat', 'payment_amount_min_stat', 'first_week_making_cnt', 'payment_amount_MA_4_basic_time', 'cnt_use_buffitem_Count', 'game_combat_time_Count', 'first_week_cnt_clear_inzone_solo', 'party_cnt_with4_median', 'inzone_skilled_ratio', 'cnt_enter_inzone_skilled_max_stat', 'cnt_enter_inzone_solo_Count', 'cnt_enter_raid_min_stat', 'first_week_payment_amount', 'raid_light_ratio', 'cnt_enter_inzone_normal_Count', 'party_cnt_with4_range', 'item_hongmun_mean_basic_time', 'payment_amount_max_stat', 'district_chat_median_stat', 'payment_amount_cycle_basic_time', 'making_cnt_sum_stat', 'party_cnt_with4_min', 'trade_InDegCen', 'first_week_cnt_enter_inzone_solo', 'guild_chat_MA_4_basic_time', 'guild_chat_mean_basic_time', 'num_guild', 'guild_chat_var_basic_time', 'guild_chat_Count', 'first_week', 'inzone_normal_median_basic_time', 'party_chat_Count', 'party_chat_median_basic_time', 'duel_ratio', 'first_week_normal_chat', 'first_week_cnt_clear_inzone_normal', 'play_pattern_by_partial_sum_retained_prob', 'guild_chat_cycle_basic_time', 'net_EigCen', 'first_week_cnt_clear_inzone_light', 'item_hongmun_median_basic_time', 'making_cnt_min_stat', 'making_cnt_range_stat', 'first_week_guild_chat', 'net_BetCen', 'district_chat_sum_stat', 'party_battle_ratio', 'full_party_cnt', 'party_cnt_with4_sum', 'inzone_light_MA_3_basic_time', 'guild_chat_MA_5_basic_time', 'guild_chat_median_stat', 'party_cnt_with4_max', 'cnt_enter_inzone_skilled_sum_stat', 'guild_chat_MA_3_basic_time', 'net_lcc', 'party_chat_MA_3_basic_time', 'cnt_enter_raid_median_stat', 'npc_hongmun_mean_basic_time', 'payment_amount_sum_stat', 'inzone_normal_MA_3_basic_time', 'pattern_month', 'first_week_cnt_enter_inzone_normal', 'pattern_retained', 'party_over8_cnt', 'cnt_enter_raid_sum_stat', 'get_money_mean_time_series', 'trade_OutDeg', 'get_money_Count', 'normal_chat_cycle_basic_time', 'cnt_enter_raid_light_sum_stat', 'cnt_dt_diff1_time_series', 'whisper_chat_MA_2_basic_time', 'whisper_chat_median_basic_time', 'npc_hongmun_MA_2_basic_time', 'inzone_normal_MA_2_basic_time', 'cnt_enter_raid_Count', 'first_week_cnt_enter_inzone_light', 'inzone_light_MA_1_basic_time', 'inzone_normal_MA_4_basic_time', 'inzone_normal_var_basic_time', 'payment_amount_range_stat', 'whisper_chat_MA_5_basic_time', 'npc_hongmun_MA_3_basic_time', 'cnt_use_buffitem_mean_time_series', 'net_DegCen', 'differ_median', 'inzone_normal_MA_1_basic_time', 'first_week_npc_exp', 'quest_hongmun_mean_basic_time', 'get_money_MA_5_time_series', 'cnt_enter_inzone_normal_max_stat', 'npc_hongmun_MA_4_basic_time', 'cnt_use_buffitem_diff1_time_series', 'item_hongmun_MA_2_basic_time', 'cnt_enter_inzone_light_max_stat', 'party_cnt_max', 'game_combat_time_mean_time_series', 'first_week_whisper_chat', 'guild_chat_kurt_basic_time', 'first_week_quest_exp', 'normal_chat_MA_5_basic_time', 'pattern_2month', 'quest_hongmun_median_basic_time', 'inzone_light_MA_4_basic_time', 'quest_hongmun_MA_3_basic_time', \"('get_money', 'whisper_chat')\", 'guild_chat_max_stat', 'cnt_use_buffitem_diff3_time_series', 'raid_ratio', 'get_money_diff2_time_series', 'inzone_light_var_basic_time', 'get_money_diff3_time_series', 'cnt_enter_inzone_normal_range_stat', 'inzone_light_MA_5_basic_time', 'inzone_light_median_basic_time', 'cnt_use_buffitem_MA_1_time_series', 'whisper_chat_mean_basic_time', 'net_ClsCen', 'item_hongmun_sum_stat', 'party_first_cnt', 'cnt_enter_inzone_solo_median_stat', 'get_money_sum_stat', 'cnt_dt_diff5_time_series', 'whisper_chat_MA_3_basic_time', 'trade_outDegCen', 'cnt_use_buffitem_MA_3_time_series', 'first_week_party_chat', 'play_pattern_by_partial_sum_week_prob', 'cnt_dt_diff2_time_series', 'guild_size', 'play_pattern_by_partial_sum_2month_prob', 'differ_min', 'npc_hongmun_median_basic_time', 'get_money_median_time_series', 'cnt_enter_inzone_solo_max_stat', 'cnt_dt_mean_time_series', 'inzone_light_MA_2_basic_time', 'whisper_chat_cycle_basic_time', 'npc_hongmun_sum_stat', 'cnt_enter_inzone_normal_sum_stat', 'inzone_normal_mean_basic_time', 'npc_exp_by_cnt_dt', 'cnt_dt_diff6_time_series', 'differ_sum', 'party_chat_MA_4_basic_time', 'cnt_dt_diff3_time_series', 'quest_exp_by_cnt_dt', 'get_money_MA_1_time_series', 'cnt_use_buffitem_MA_4_time_series', 'differ_max', 'cnt_enter_inzone_solo_sum_stat', 'normal_chat_skew_basic_time', 'inzone_normal_MA_5_basic_time', 'payment_amount_skew_basic_time', 'whisper_chat_median_stat', 'party_chat_var_basic_time', 'full_party_cnt_median', 'quest_hongmun_MA_2_basic_time', 'game_combat_time_diff4_time_series', 'item_hongmun_Count', 'cnt_use_buffitem_median_time_series', 'party_chat_cycle_basic_time', 'game_combat_time_diff1_time_series', 'get_money_MA_3_time_series', 'npc_exp_max_stat', 'item_hongmun_MA_3_basic_time', 'normal_chat_max_stat', 'cnt_enter_inzone_light_median_stat', 'first_week_cnt_use_buffitem', 'guild_chat_skew_basic_time', 'party_chat_MA_5_basic_time', 'pattern_week', 'cnt_use_buffitem_diff_w2_by_last_time_series', 'quest_hongmun_var_basic_time', 'item_hongmun_MA_4_basic_time', 'whisper_chat_kurt_basic_time', 'get_money_kurt_time_series', 'party_first_cnt_max', 'cnt_use_buffitem_diff6_time_series', 'item_hongmun_max_stat', 'get_money_diff6_time_series', 'party_chat_MA_2_basic_time', 'cnt_use_buffitem_diff_w8_by_last_time_series', 'cnt_use_buffitem_diff7_time_series', 'cnt_dt_median_time_series', 'cnt_dt_max_stat', 'game_combat_time_MA_3_time_series', 'play_pattern_by_partial_sum_month_prob', 'cnt_use_buffitem_cycle_time_series', 'party_first_cnt_range', 'npc_hongmun_var_basic_time', 'npc_exp_median_stat', 'item_hongmun_var_basic_time', 'quest_exp_max_stat', 'get_money_max_stat', 'quest_exp_sum_stat', \"('npc_exp', 'quest_exp')\", 'cnt_use_buffitem_MA_5_time_series', 'get_money_diff4_time_series', 'game_combat_time_diff6_time_series', 'full_party_cnt_max', 'get_money_diff_w8_by_last_time_series', 'play_pattern_by_partial_sum', 'party_chat_MA_1_basic_time', 'cnt_enter_inzone_solo_min_stat', 'guild_chat_min_stat', 'party_cnt', 'party_over8_cnt_sum', 'whisper_chat_range_stat', 'differ', 'whisper_chat_sum_stat', 'cnt_use_buffitem_diff4_time_series', 'normal_chat_sum_stat', 'get_money_cycle_time_series', 'npc_hongmun_cycle_basic_time', 'quest_hongmun_cycle_basic_time', 'cnt_dt_min_stat', 'cnt_enter_inzone_light_sum_stat', 'npc_exp_sum_stat', 'game_combat_time_diff5_time_series', 'cnt_enter_inzone_normal_median_stat', 'npc_exp_range_stat', 'whisper_chat_skew_basic_time', 'cnt_dt_MA_3_time_series', \"('npc_hongmun', 'item_hongmun')\", 'inzone_light_cycle_basic_time', 'full_party_cnt_sum', 'party_cnt_min', 'first_week_cnt_dt', 'game_combat_time_cycle_time_series', 'get_money_diff5_time_series', 'cnt_use_buffitem_range_stat', 'quest_hongmun_sum_stat', 'party_over8_cnt_median', 'inzone_solo_ratio', 'cnt_use_buffitem_MA_2_time_series', 'npc_hongmun_max_stat', 'party_chat_skew_basic_time', 'party_chat_median_stat', 'npc_hongmun_median_stat', 'inzone_light_mean_basic_time', 'game_combat_time_MA_5_time_series', 'item_hongmun_range_stat', 'party_cnt_median', 'item_hongmun_median_stat', 'quest_hongmun_by_cnt_dt', 'differ_range', 'cnt_dt_median_stat', 'cnt_enter_inzone_light_min_stat', 'cnt_enter_inzone_normal_min_stat', 'npc_hongmun_by_play_time', 'cnt_dt_diff7_time_series', 'get_money_median_stat', 'party_chat_max_stat', 'get_money_range_stat', 'inzone_normal_kurt_basic_time', 'quest_exp_min_stat', 'quest_exp_median_stat', 'inzone_normal_ratio', 'item_hongmun_kurt_basic_time', \"('get_money', 'cnt_use_buffitem')\", \"('quest_exp', 'game_combat_time')\", 'get_money_MA_4_time_series', 'play_time_mean_time_series', 'cnt_dt_MA_1_time_series', 'cnt_use_buffitem_min_stat', 'party_over8_cnt_max', 'npc_hongmun_MA_5_basic_time', 'party_chat_mean_basic_time', 'get_money_var_time_series', 'quest_hongmun_MA_4_basic_time', 'game_combat_time_median_time_series', 'party_chat_range_stat', 'game_combat_time_max_stat', 'cnt_dt_diff_w4_by_last_time_series', 'quest_hongmun_max_stat', 'npc_hongmun_kurt_basic_time', 'whisper_chat_var_basic_time', 'item_hongmun_cycle_basic_time', 'full_party_cnt_range', 'cnt_enter_inzone_light_range_stat', 'inzone_normal_cycle_basic_time', 'first_week_get_money', 'game_combat_time_sum_stat', 'inzone_normal_skew_basic_time', 'item_hongmun_min_stat', 'cnt_dt_diff_w2_by_last_time_series', 'whisper_chat_max_stat', 'cnt_use_buffitem_sum_stat', 'npc_exp_min_stat', 'full_party_cnt_min', 'inzone_light_skew_basic_time', 'game_combat_time_diff_w8_by_last_time_series', 'game_combat_time_diff7_time_series', 'get_money_skew_time_series', 'get_money_min_stat', 'play_time_diff3_time_series', 'quest_hongmun_median_stat', 'first_week_npc_hongmun', 'party_cnt_sum', 'cnt_use_buffitem_skew_time_series', 'item_hongmun_skew_basic_time', 'game_combat_time_MA_4_time_series', 'party_chat_sum_stat', 'play_time_median_time_series', 'npc_exp_by_play_time', 'game_combat_time_kurt_time_series', 'npc_hongmun_by_cnt_dt', 'cnt_dt_MA_4_time_series', 'cnt_dt_range_stat', 'get_money_MA_2_time_series', 'cnt_dt_sum_stat', 'play_time_diff1_time_series', 'cnt_use_buffitem_median_stat', 'get_money_diff7_time_series', 'game_combat_time_median_stat', 'play_time_diff6_time_series', 'inzone_light_ratio', 'play_time_diff2_time_series', 'quest_hongmun_by_play_time', 'game_combat_time_min_stat', 'npc_hongmun_range_stat', 'play_time_MA_2_time_series', \"('npc_exp', 'game_combat_time')\", 'chats_by_play_time', 'play_time_diff4_time_series', 'cnt_dt_diff_w8_by_last_time_series', 'game_combat_time_by_cnt_dt', 'cnt_dt_cycle_time_series', 'cnt_use_buffitem_kurt_time_series', 'cnt_use_buffitem_max_stat', 'game_combat_time_range_stat', 'quest_hongmun_kurt_basic_time', 'quest_exp_by_play_time', 'get_money_diff_w4_by_last_time_series', 'play_time_cycle_time_series', 'play_time_sum_stat', 'first_week_game_combat_time', 'play_time_median_stat', 'play_time_var_time_series', 'cnt_dt_var_time_series', 'get_money_by_play_time', 'play_time_skew_time_series', 'quest_hongmun_skew_basic_time', 'cnt_dt_skew_time_series', 'play_time_MA_5_time_series', 'play_time_MA_3_time_series', 'play_time_MA_1_time_series', 'play_time_MA_4_time_series', 'play_time_max_stat', 'play_time_range_stat', 'cnt_dt_kurt_time_series', 'play_time_by_cnt_dt', 'play_time_kurt_time_series', 'cnt_use_buffitem_by_game_combat_time', 'game_combat_time_by_play_time', 'play_time_diff_w4_by_last_time_series', 'play_time_min_stat', 'play_time_diff_w8_by_last_time_series', 'first_week_play_time', 'play_time_diff7_time_series', 'play_time_diff_w2_by_last_time_series', 'guild_chat_max_last_diff', 'give_gini', 'rec_gini', 'exc_gini', 'source+exc', 'target+exc', 'exc_ratio', 'one_way_ratio', 'first_trade_all', 'grocery_portion_in_market', 'money_portion_in_market', 'other_portion_in_market', 'first_week_money_by_cnt_dt', 'money_by_dt_first_max', 'get_money_cnt_dt_lr', 'trade_cnt_by_cnt_dt', 'trade_cnt_by_play_time', 'trade_cnt_by_combat_time', 'first_week_money_by_play_time', 'money_by_time_max_last', 'money_by_time_first_last', 'money_by_time_first_max', 'money_by_time_median_last', 'get_money_time_lr', 'last_trade_all', 'last_week_trade_cnt', 'first_week_trade_cnt', 'weekly_max_trade_cnt', 'weekly_trade_cnt_std', 'weekly_trade_cycle', 'trade_first-last', 'trade_last-max', 'first_week_exp_by_hongmun_quest', 'exp_by_hongmun_quest_max_last', 'exp_by_hongmun_quest_first_last', 'exp_by_hongmun_quest_first_max', 'exp_by_hongmun_quest_median_last', 'get_train_exp_by_hongmun_quest_pivot_lr', 'first_week_exp_by_hongmun_npc', 'exp_by_hongmun_npc_max_last', 'exp_by_hongmun_npc_first_last', 'exp_by_hongmun_npc_first_max', 'exp_by_hongmun_npc_median_last', 'get_train_exp_by_hongmun_npc_pivot_lr', 'first_week_exp_by_hongmun', 'exp_by_hongmun_max_last', 'exp_by_hongmun_first_last', 'exp_by_hongmun_first_max', 'exp_by_hongmun_median_last', 'get_train_exp_by_hongmun_pivot_lr', 'first_week_hongmun_sum', 'until_first_week_hongmun_sum', 'only_hongmun_week_cnt', 'only_exp_week_cnt', 'hongmun_exp_week_cnt', 'no_hongmun_exp_week_cnt', 'group_a', 'group_b', 'group_c', 'group_d', 'group_e'] ['differ_ratio_1', 'play_time_Count', 'cnt_enter_inzone_skilled_Count', 'making_cnt_Count', 'normal_chat_median_basic_time', 'first_week_cnt_clear_raid_light', 'cnt_enter_raid_light_range_stat', 'payment_amount_MA_5_basic_time', 'duel_cnt_sum_stat', 'trade_InDeg', 'partybattle_cnt_sum_stat', 'payment_amount_median_basic_time', 'partybattle_cnt_max_stat', 'payment_amount_kurt_basic_time', 'cnt_enter_raid_light_median_stat', 'guild_chat_MA_1_basic_time', 'whisper_chat_Count', 'cnt_enter_inzone_light_Count', 'payment_amount_MA_1_basic_time', 'cnt_enter_raid_light_max_stat', 'payment_amount_by_play_time', 'normal_chat_MA_2_basic_time', 'cnt_dt_Count', 'normal_chat_MA_1_basic_time', 'payment_amount_MA_3_basic_time', 'cnt_enter_raid_light_Count', 'district_chat_max_stat', 'payment_amount_min_stat', 'first_week_making_cnt', 'payment_amount_MA_4_basic_time', 'cnt_use_buffitem_Count', 'game_combat_time_Count', 'first_week_cnt_clear_inzone_solo', 'party_cnt_with4_median', 'inzone_skilled_ratio', 'cnt_enter_inzone_skilled_max_stat', 'cnt_enter_inzone_solo_Count', 'cnt_enter_raid_min_stat', 'first_week_payment_amount', 'raid_light_ratio', 'cnt_enter_inzone_normal_Count', 'party_cnt_with4_range', 'item_hongmun_mean_basic_time', 'payment_amount_max_stat', 'district_chat_median_stat', 'payment_amount_cycle_basic_time', 'making_cnt_sum_stat', 'party_cnt_with4_min', 'trade_InDegCen', 'first_week_cnt_enter_inzone_solo', 'guild_chat_MA_4_basic_time', 'guild_chat_mean_basic_time', 'num_guild', 'guild_chat_var_basic_time', 'guild_chat_Count', 'first_week', 'inzone_normal_median_basic_time', 'party_chat_Count', 'party_chat_median_basic_time', 'duel_ratio', 'first_week_normal_chat', 'first_week_cnt_clear_inzone_normal', 'play_pattern_by_partial_sum_retained_prob', 'guild_chat_cycle_basic_time', 'net_EigCen', 'first_week_cnt_clear_inzone_light', 'item_hongmun_median_basic_time', 'making_cnt_min_stat', 'making_cnt_range_stat', 'first_week_guild_chat', 'net_BetCen', 'district_chat_sum_stat', 'party_battle_ratio', 'full_party_cnt', 'party_cnt_with4_sum', 'inzone_light_MA_3_basic_time', 'guild_chat_MA_5_basic_time', 'guild_chat_median_stat', 'party_cnt_with4_max', 'cnt_enter_inzone_skilled_sum_stat', 'guild_chat_MA_3_basic_time', 'net_lcc', 'party_chat_MA_3_basic_time', 'cnt_enter_raid_median_stat', 'npc_hongmun_mean_basic_time', 'payment_amount_sum_stat', 'inzone_normal_MA_3_basic_time', 'pattern_month', 'first_week_cnt_enter_inzone_normal', 'pattern_retained', 'party_over8_cnt', 'cnt_enter_raid_sum_stat', 'get_money_mean_time_series', 'trade_OutDeg', 'get_money_Count', 'normal_chat_cycle_basic_time', 'cnt_enter_raid_light_sum_stat', 'cnt_dt_diff1_time_series', 'whisper_chat_MA_2_basic_time', 'whisper_chat_median_basic_time', 'npc_hongmun_MA_2_basic_time', 'inzone_normal_MA_2_basic_time', 'cnt_enter_raid_Count', 'first_week_cnt_enter_inzone_light', 'inzone_light_MA_1_basic_time', 'inzone_normal_MA_4_basic_time', 'inzone_normal_var_basic_time', 'payment_amount_range_stat', 'whisper_chat_MA_5_basic_time', 'npc_hongmun_MA_3_basic_time', 'cnt_use_buffitem_mean_time_series', 'net_DegCen', 'differ_median', 'inzone_normal_MA_1_basic_time', 'first_week_npc_exp', 'quest_hongmun_mean_basic_time', 'get_money_MA_5_time_series', 'cnt_enter_inzone_normal_max_stat', 'npc_hongmun_MA_4_basic_time', 'cnt_use_buffitem_diff1_time_series', 'item_hongmun_MA_2_basic_time', 'cnt_enter_inzone_light_max_stat', 'party_cnt_max', 'game_combat_time_mean_time_series', 'first_week_whisper_chat', 'guild_chat_kurt_basic_time', 'first_week_quest_exp', 'normal_chat_MA_5_basic_time', 'pattern_2month', 'quest_hongmun_median_basic_time', 'inzone_light_MA_4_basic_time', 'quest_hongmun_MA_3_basic_time', \"('get_money', 'whisper_chat')\", 'guild_chat_max_stat', 'cnt_use_buffitem_diff3_time_series', 'raid_ratio', 'get_money_diff2_time_series', 'inzone_light_var_basic_time', 'get_money_diff3_time_series', 'cnt_enter_inzone_normal_range_stat', 'inzone_light_MA_5_basic_time', 'inzone_light_median_basic_time', 'cnt_use_buffitem_MA_1_time_series', 'whisper_chat_mean_basic_time', 'net_ClsCen', 'item_hongmun_sum_stat', 'party_first_cnt', 'cnt_enter_inzone_solo_median_stat', 'get_money_sum_stat', 'cnt_dt_diff5_time_series', 'whisper_chat_MA_3_basic_time', 'trade_outDegCen', 'cnt_use_buffitem_MA_3_time_series', 'first_week_party_chat', 'play_pattern_by_partial_sum_week_prob', 'cnt_dt_diff2_time_series', 'guild_size', 'play_pattern_by_partial_sum_2month_prob', 'differ_min', 'npc_hongmun_median_basic_time', 'get_money_median_time_series', 'cnt_enter_inzone_solo_max_stat', 'cnt_dt_mean_time_series', 'inzone_light_MA_2_basic_time', 'whisper_chat_cycle_basic_time', 'npc_hongmun_sum_stat', 'cnt_enter_inzone_normal_sum_stat', 'inzone_normal_mean_basic_time', 'npc_exp_by_cnt_dt', 'cnt_dt_diff6_time_series', 'differ_sum', 'party_chat_MA_4_basic_time', 'cnt_dt_diff3_time_series', 'quest_exp_by_cnt_dt', 'get_money_MA_1_time_series', 'cnt_use_buffitem_MA_4_time_series', 'differ_max', 'cnt_enter_inzone_solo_sum_stat', 'normal_chat_skew_basic_time', 'inzone_normal_MA_5_basic_time', 'payment_amount_skew_basic_time', 'whisper_chat_median_stat', 'party_chat_var_basic_time', 'full_party_cnt_median', 'quest_hongmun_MA_2_basic_time', 'game_combat_time_diff4_time_series', 'item_hongmun_Count', 'cnt_use_buffitem_median_time_series', 'party_chat_cycle_basic_time', 'game_combat_time_diff1_time_series', 'get_money_MA_3_time_series', 'npc_exp_max_stat', 'item_hongmun_MA_3_basic_time', 'normal_chat_max_stat', 'cnt_enter_inzone_light_median_stat', 'first_week_cnt_use_buffitem', 'guild_chat_skew_basic_time', 'party_chat_MA_5_basic_time', 'pattern_week', 'cnt_use_buffitem_diff_w2_by_last_time_series', 'quest_hongmun_var_basic_time', 'item_hongmun_MA_4_basic_time', 'whisper_chat_kurt_basic_time', 'get_money_kurt_time_series', 'party_first_cnt_max', 'cnt_use_buffitem_diff6_time_series', 'item_hongmun_max_stat', 'get_money_diff6_time_series', 'party_chat_MA_2_basic_time', 'cnt_use_buffitem_diff_w8_by_last_time_series', 'cnt_use_buffitem_diff7_time_series', 'cnt_dt_median_time_series', 'cnt_dt_max_stat', 'game_combat_time_MA_3_time_series', 'play_pattern_by_partial_sum_month_prob', 'cnt_use_buffitem_cycle_time_series', 'party_first_cnt_range', 'npc_hongmun_var_basic_time', 'npc_exp_median_stat', 'item_hongmun_var_basic_time', 'quest_exp_max_stat', 'get_money_max_stat', 'quest_exp_sum_stat', \"('npc_exp', 'quest_exp')\", 'cnt_use_buffitem_MA_5_time_series', 'get_money_diff4_time_series', 'game_combat_time_diff6_time_series', 'full_party_cnt_max', 'get_money_diff_w8_by_last_time_series', 'play_pattern_by_partial_sum', 'party_chat_MA_1_basic_time', 'cnt_enter_inzone_solo_min_stat', 'guild_chat_min_stat', 'party_cnt', 'party_over8_cnt_sum', 'whisper_chat_range_stat', 'differ', 'whisper_chat_sum_stat', 'cnt_use_buffitem_diff4_time_series', 'normal_chat_sum_stat', 'get_money_cycle_time_series', 'npc_hongmun_cycle_basic_time', 'quest_hongmun_cycle_basic_time', 'cnt_dt_min_stat', 'cnt_enter_inzone_light_sum_stat', 'npc_exp_sum_stat', 'game_combat_time_diff5_time_series', 'cnt_enter_inzone_normal_median_stat', 'npc_exp_range_stat', 'whisper_chat_skew_basic_time', 'cnt_dt_MA_3_time_series', \"('npc_hongmun', 'item_hongmun')\", 'inzone_light_cycle_basic_time', 'full_party_cnt_sum', 'party_cnt_min', 'first_week_cnt_dt', 'game_combat_time_cycle_time_series', 'get_money_diff5_time_series', 'cnt_use_buffitem_range_stat', 'quest_hongmun_sum_stat', 'party_over8_cnt_median', 'inzone_solo_ratio', 'cnt_use_buffitem_MA_2_time_series', 'npc_hongmun_max_stat', 'party_chat_skew_basic_time', 'party_chat_median_stat', 'npc_hongmun_median_stat', 'inzone_light_mean_basic_time', 'game_combat_time_MA_5_time_series', 'item_hongmun_range_stat', 'party_cnt_median', 'item_hongmun_median_stat', 'quest_hongmun_by_cnt_dt', 'differ_range', 'cnt_dt_median_stat', 'cnt_enter_inzone_light_min_stat', 'cnt_enter_inzone_normal_min_stat', 'npc_hongmun_by_play_time', 'cnt_dt_diff7_time_series', 'get_money_median_stat', 'party_chat_max_stat', 'get_money_range_stat', 'inzone_normal_kurt_basic_time', 'quest_exp_min_stat', 'quest_exp_median_stat', 'inzone_normal_ratio', 'item_hongmun_kurt_basic_time', \"('get_money', 'cnt_use_buffitem')\", \"('quest_exp', 'game_combat_time')\", 'get_money_MA_4_time_series', 'play_time_mean_time_series', 'cnt_dt_MA_1_time_series', 'cnt_use_buffitem_min_stat', 'party_over8_cnt_max', 'npc_hongmun_MA_5_basic_time', 'party_chat_mean_basic_time', 'get_money_var_time_series', 'quest_hongmun_MA_4_basic_time', 'game_combat_time_median_time_series', 'party_chat_range_stat', 'game_combat_time_max_stat', 'cnt_dt_diff_w4_by_last_time_series', 'quest_hongmun_max_stat', 'npc_hongmun_kurt_basic_time', 'whisper_chat_var_basic_time', 'item_hongmun_cycle_basic_time', 'full_party_cnt_range', 'cnt_enter_inzone_light_range_stat', 'inzone_normal_cycle_basic_time', 'first_week_get_money', 'game_combat_time_sum_stat', 'inzone_normal_skew_basic_time', 'item_hongmun_min_stat', 'cnt_dt_diff_w2_by_last_time_series', 'whisper_chat_max_stat', 'cnt_use_buffitem_sum_stat', 'npc_exp_min_stat', 'full_party_cnt_min', 'inzone_light_skew_basic_time', 'game_combat_time_diff_w8_by_last_time_series', 'game_combat_time_diff7_time_series', 'get_money_skew_time_series', 'get_money_min_stat', 'play_time_diff3_time_series', 'quest_hongmun_median_stat', 'first_week_npc_hongmun', 'party_cnt_sum', 'cnt_use_buffitem_skew_time_series', 'item_hongmun_skew_basic_time', 'game_combat_time_MA_4_time_series', 'party_chat_sum_stat', 'play_time_median_time_series', 'npc_exp_by_play_time', 'game_combat_time_kurt_time_series', 'npc_hongmun_by_cnt_dt', 'cnt_dt_MA_4_time_series', 'cnt_dt_range_stat', 'get_money_MA_2_time_series', 'cnt_dt_sum_stat', 'play_time_diff1_time_series', 'cnt_use_buffitem_median_stat', 'get_money_diff7_time_series', 'game_combat_time_median_stat', 'play_time_diff6_time_series', 'inzone_light_ratio', 'play_time_diff2_time_series', 'quest_hongmun_by_play_time', 'game_combat_time_min_stat', 'npc_hongmun_range_stat', 'play_time_MA_2_time_series', \"('npc_exp', 'game_combat_time')\", 'chats_by_play_time', 'play_time_diff4_time_series', 'cnt_dt_diff_w8_by_last_time_series', 'game_combat_time_by_cnt_dt', 'cnt_dt_cycle_time_series', 'cnt_use_buffitem_kurt_time_series', 'cnt_use_buffitem_max_stat', 'game_combat_time_range_stat', 'quest_hongmun_kurt_basic_time', 'quest_exp_by_play_time', 'get_money_diff_w4_by_last_time_series', 'play_time_cycle_time_series', 'play_time_sum_stat', 'first_week_game_combat_time', 'play_time_median_stat', 'play_time_var_time_series', 'cnt_dt_var_time_series', 'get_money_by_play_time', 'play_time_skew_time_series', 'quest_hongmun_skew_basic_time', 'cnt_dt_skew_time_series', 'play_time_MA_5_time_series', 'play_time_MA_3_time_series', 'play_time_MA_1_time_series', 'play_time_MA_4_time_series', 'play_time_max_stat', 'play_time_range_stat', 'cnt_dt_kurt_time_series', 'play_time_by_cnt_dt', 'play_time_kurt_time_series', 'cnt_use_buffitem_by_game_combat_time', 'game_combat_time_by_play_time', 'play_time_diff_w4_by_last_time_series', 'play_time_min_stat', 'play_time_diff_w8_by_last_time_series', 'first_week_play_time', 'play_time_diff7_time_series', 'play_time_diff_w2_by_last_time_series', 'guild_chat_max_last_diff', 'give_gini', 'rec_gini', 'exc_gini', 'source+exc', 'target+exc', 'exc_ratio', 'one_way_ratio', 'first_trade_all', 'grocery_portion_in_market', 'money_portion_in_market', 'other_portion_in_market', 'first_week_money_by_cnt_dt', 'money_by_dt_first_max', 'get_money_cnt_dt_lr', 'trade_cnt_by_cnt_dt', 'trade_cnt_by_play_time', 'trade_cnt_by_combat_time', 'first_week_money_by_play_time', 'money_by_time_max_last', 'money_by_time_first_last', 'money_by_time_first_max', 'money_by_time_median_last', 'get_money_time_lr', 'last_trade_all', 'last_week_trade_cnt', 'first_week_trade_cnt', 'weekly_max_trade_cnt', 'weekly_trade_cnt_std', 'weekly_trade_cycle', 'trade_first-last', 'trade_last-max', 'first_week_exp_by_hongmun_quest', 'exp_by_hongmun_quest_max_last', 'exp_by_hongmun_quest_first_last', 'exp_by_hongmun_quest_first_max', 'exp_by_hongmun_quest_median_last', 'get_test_exp_by_hongmun_quest_pivot_lr', 'first_week_exp_by_hongmun_npc', 'exp_by_hongmun_npc_max_last', 'exp_by_hongmun_npc_first_last', 'exp_by_hongmun_npc_first_max', 'exp_by_hongmun_npc_median_last', 'get_test_exp_by_hongmun_npc_pivot_lr', 'first_week_exp_by_hongmun', 'exp_by_hongmun_max_last', 'exp_by_hongmun_first_last', 'exp_by_hongmun_first_max', 'exp_by_hongmun_median_last', 'get_test_exp_by_hongmun_pivot_lr', 'first_week_hongmun_sum', 'until_first_week_hongmun_sum', 'only_hongmun_week_cnt', 'only_exp_week_cnt', 'hongmun_exp_week_cnt', 'no_hongmun_exp_week_cnt', 'group_a', 'group_b', 'group_c', 'group_d', 'group_e']\nexpected get_train_exp_by_hongmun_quest_pivot_lr, get_train_exp_by_hongmun_npc_pivot_lr, get_train_exp_by_hongmun_pivot_lr in input data\ntraining data did not have the following fields: get_test_exp_by_hongmun_quest_pivot_lr, get_test_exp_by_hongmun_pivot_lr, get_test_exp_by_hongmun_npc_pivot_lr",
     "output_type": "error",
     "traceback": [
      "\u001b[0;31m---------------------------------------------------------------------------\u001b[0m",
      "\u001b[0;31mValueError\u001b[0m                                Traceback (most recent call last)",
      "\u001b[0;32m<ipython-input-58-e51774c264ba>\u001b[0m in \u001b[0;36m<module>\u001b[0;34m()\u001b[0m\n\u001b[1;32m      1\u001b[0m \u001b[0;31m#### prob 클래스별 확률 예측\u001b[0m\u001b[0;34m\u001b[0m\u001b[0;34m\u001b[0m\u001b[0m\n\u001b[0;32m----> 2\u001b[0;31m \u001b[0mxgb_prob\u001b[0m \u001b[0;34m=\u001b[0m \u001b[0mpd\u001b[0m\u001b[0;34m.\u001b[0m\u001b[0mDataFrame\u001b[0m\u001b[0;34m(\u001b[0m\u001b[0mmodel\u001b[0m\u001b[0;34m.\u001b[0m\u001b[0mpredict_proba\u001b[0m\u001b[0;34m(\u001b[0m\u001b[0mX_test\u001b[0m\u001b[0;34m)\u001b[0m\u001b[0;34m,\u001b[0m\u001b[0mcolumns\u001b[0m\u001b[0;34m=\u001b[0m\u001b[0;34m[\u001b[0m\u001b[0;34m'y_pred_prob0'\u001b[0m\u001b[0;34m,\u001b[0m \u001b[0;34m'y_pred_prob1'\u001b[0m\u001b[0;34m,\u001b[0m \u001b[0;34m'y_pred_prob2'\u001b[0m\u001b[0;34m,\u001b[0m\u001b[0;34m'y_pred_prob3'\u001b[0m\u001b[0;34m]\u001b[0m\u001b[0;34m)\u001b[0m\u001b[0;34m\u001b[0m\u001b[0m\n\u001b[0m\u001b[1;32m      3\u001b[0m \u001b[0mxgb_prob\u001b[0m\u001b[0;34m.\u001b[0m\u001b[0mto_csv\u001b[0m\u001b[0;34m(\u001b[0m\u001b[0;34m'XGB_FINAL.csv'\u001b[0m\u001b[0;34m,\u001b[0m\u001b[0mindex\u001b[0m \u001b[0;34m=\u001b[0m \u001b[0;32mFalse\u001b[0m\u001b[0;34m)\u001b[0m\u001b[0;34m\u001b[0m\u001b[0m\n",
      "\u001b[0;32m/opt/conda/lib/python3.6/site-packages/xgboost-0.80-py3.6.egg/xgboost/sklearn.py\u001b[0m in \u001b[0;36mpredict_proba\u001b[0;34m(self, data, ntree_limit)\u001b[0m\n\u001b[1;32m    679\u001b[0m             \u001b[0mntree_limit\u001b[0m \u001b[0;34m=\u001b[0m \u001b[0mgetattr\u001b[0m\u001b[0;34m(\u001b[0m\u001b[0mself\u001b[0m\u001b[0;34m,\u001b[0m \u001b[0;34m\"best_ntree_limit\"\u001b[0m\u001b[0;34m,\u001b[0m \u001b[0;36m0\u001b[0m\u001b[0;34m)\u001b[0m\u001b[0;34m\u001b[0m\u001b[0m\n\u001b[1;32m    680\u001b[0m         class_probs = self.get_booster().predict(test_dmatrix,\n\u001b[0;32m--> 681\u001b[0;31m                                                  ntree_limit=ntree_limit)\n\u001b[0m\u001b[1;32m    682\u001b[0m         \u001b[0;32mif\u001b[0m \u001b[0mself\u001b[0m\u001b[0;34m.\u001b[0m\u001b[0mobjective\u001b[0m \u001b[0;34m==\u001b[0m \u001b[0;34m\"multi:softprob\"\u001b[0m\u001b[0;34m:\u001b[0m\u001b[0;34m\u001b[0m\u001b[0m\n\u001b[1;32m    683\u001b[0m             \u001b[0;32mreturn\u001b[0m \u001b[0mclass_probs\u001b[0m\u001b[0;34m\u001b[0m\u001b[0m\n",
      "\u001b[0;32m/opt/conda/lib/python3.6/site-packages/xgboost-0.80-py3.6.egg/xgboost/core.py\u001b[0m in \u001b[0;36mpredict\u001b[0;34m(self, data, output_margin, ntree_limit, pred_leaf, pred_contribs, approx_contribs, pred_interactions, validate_features)\u001b[0m\n\u001b[1;32m   1192\u001b[0m \u001b[0;34m\u001b[0m\u001b[0m\n\u001b[1;32m   1193\u001b[0m         \u001b[0;32mif\u001b[0m \u001b[0mvalidate_features\u001b[0m\u001b[0;34m:\u001b[0m\u001b[0;34m\u001b[0m\u001b[0m\n\u001b[0;32m-> 1194\u001b[0;31m             \u001b[0mself\u001b[0m\u001b[0;34m.\u001b[0m\u001b[0m_validate_features\u001b[0m\u001b[0;34m(\u001b[0m\u001b[0mdata\u001b[0m\u001b[0;34m)\u001b[0m\u001b[0;34m\u001b[0m\u001b[0m\n\u001b[0m\u001b[1;32m   1195\u001b[0m \u001b[0;34m\u001b[0m\u001b[0m\n\u001b[1;32m   1196\u001b[0m         \u001b[0mlength\u001b[0m \u001b[0;34m=\u001b[0m \u001b[0mc_bst_ulong\u001b[0m\u001b[0;34m(\u001b[0m\u001b[0;34m)\u001b[0m\u001b[0;34m\u001b[0m\u001b[0m\n",
      "\u001b[0;32m/opt/conda/lib/python3.6/site-packages/xgboost-0.80-py3.6.egg/xgboost/core.py\u001b[0m in \u001b[0;36m_validate_features\u001b[0;34m(self, data)\u001b[0m\n\u001b[1;32m   1494\u001b[0m \u001b[0;34m\u001b[0m\u001b[0m\n\u001b[1;32m   1495\u001b[0m                 raise ValueError(msg.format(self.feature_names,\n\u001b[0;32m-> 1496\u001b[0;31m                                             data.feature_names))\n\u001b[0m\u001b[1;32m   1497\u001b[0m \u001b[0;34m\u001b[0m\u001b[0m\n\u001b[1;32m   1498\u001b[0m     \u001b[0;32mdef\u001b[0m \u001b[0mget_split_value_histogram\u001b[0m\u001b[0;34m(\u001b[0m\u001b[0mself\u001b[0m\u001b[0;34m,\u001b[0m \u001b[0mfeature\u001b[0m\u001b[0;34m,\u001b[0m \u001b[0mfmap\u001b[0m\u001b[0;34m=\u001b[0m\u001b[0;34m''\u001b[0m\u001b[0;34m,\u001b[0m \u001b[0mbins\u001b[0m\u001b[0;34m=\u001b[0m\u001b[0;32mNone\u001b[0m\u001b[0;34m,\u001b[0m \u001b[0mas_pandas\u001b[0m\u001b[0;34m=\u001b[0m\u001b[0;32mTrue\u001b[0m\u001b[0;34m)\u001b[0m\u001b[0;34m:\u001b[0m\u001b[0;34m\u001b[0m\u001b[0m\n",
      "\u001b[0;31mValueError\u001b[0m: feature_names mismatch: ['differ_ratio_1', 'play_time_Count', 'cnt_enter_inzone_skilled_Count', 'making_cnt_Count', 'normal_chat_median_basic_time', 'first_week_cnt_clear_raid_light', 'cnt_enter_raid_light_range_stat', 'payment_amount_MA_5_basic_time', 'duel_cnt_sum_stat', 'trade_InDeg', 'partybattle_cnt_sum_stat', 'payment_amount_median_basic_time', 'partybattle_cnt_max_stat', 'payment_amount_kurt_basic_time', 'cnt_enter_raid_light_median_stat', 'guild_chat_MA_1_basic_time', 'whisper_chat_Count', 'cnt_enter_inzone_light_Count', 'payment_amount_MA_1_basic_time', 'cnt_enter_raid_light_max_stat', 'payment_amount_by_play_time', 'normal_chat_MA_2_basic_time', 'cnt_dt_Count', 'normal_chat_MA_1_basic_time', 'payment_amount_MA_3_basic_time', 'cnt_enter_raid_light_Count', 'district_chat_max_stat', 'payment_amount_min_stat', 'first_week_making_cnt', 'payment_amount_MA_4_basic_time', 'cnt_use_buffitem_Count', 'game_combat_time_Count', 'first_week_cnt_clear_inzone_solo', 'party_cnt_with4_median', 'inzone_skilled_ratio', 'cnt_enter_inzone_skilled_max_stat', 'cnt_enter_inzone_solo_Count', 'cnt_enter_raid_min_stat', 'first_week_payment_amount', 'raid_light_ratio', 'cnt_enter_inzone_normal_Count', 'party_cnt_with4_range', 'item_hongmun_mean_basic_time', 'payment_amount_max_stat', 'district_chat_median_stat', 'payment_amount_cycle_basic_time', 'making_cnt_sum_stat', 'party_cnt_with4_min', 'trade_InDegCen', 'first_week_cnt_enter_inzone_solo', 'guild_chat_MA_4_basic_time', 'guild_chat_mean_basic_time', 'num_guild', 'guild_chat_var_basic_time', 'guild_chat_Count', 'first_week', 'inzone_normal_median_basic_time', 'party_chat_Count', 'party_chat_median_basic_time', 'duel_ratio', 'first_week_normal_chat', 'first_week_cnt_clear_inzone_normal', 'play_pattern_by_partial_sum_retained_prob', 'guild_chat_cycle_basic_time', 'net_EigCen', 'first_week_cnt_clear_inzone_light', 'item_hongmun_median_basic_time', 'making_cnt_min_stat', 'making_cnt_range_stat', 'first_week_guild_chat', 'net_BetCen', 'district_chat_sum_stat', 'party_battle_ratio', 'full_party_cnt', 'party_cnt_with4_sum', 'inzone_light_MA_3_basic_time', 'guild_chat_MA_5_basic_time', 'guild_chat_median_stat', 'party_cnt_with4_max', 'cnt_enter_inzone_skilled_sum_stat', 'guild_chat_MA_3_basic_time', 'net_lcc', 'party_chat_MA_3_basic_time', 'cnt_enter_raid_median_stat', 'npc_hongmun_mean_basic_time', 'payment_amount_sum_stat', 'inzone_normal_MA_3_basic_time', 'pattern_month', 'first_week_cnt_enter_inzone_normal', 'pattern_retained', 'party_over8_cnt', 'cnt_enter_raid_sum_stat', 'get_money_mean_time_series', 'trade_OutDeg', 'get_money_Count', 'normal_chat_cycle_basic_time', 'cnt_enter_raid_light_sum_stat', 'cnt_dt_diff1_time_series', 'whisper_chat_MA_2_basic_time', 'whisper_chat_median_basic_time', 'npc_hongmun_MA_2_basic_time', 'inzone_normal_MA_2_basic_time', 'cnt_enter_raid_Count', 'first_week_cnt_enter_inzone_light', 'inzone_light_MA_1_basic_time', 'inzone_normal_MA_4_basic_time', 'inzone_normal_var_basic_time', 'payment_amount_range_stat', 'whisper_chat_MA_5_basic_time', 'npc_hongmun_MA_3_basic_time', 'cnt_use_buffitem_mean_time_series', 'net_DegCen', 'differ_median', 'inzone_normal_MA_1_basic_time', 'first_week_npc_exp', 'quest_hongmun_mean_basic_time', 'get_money_MA_5_time_series', 'cnt_enter_inzone_normal_max_stat', 'npc_hongmun_MA_4_basic_time', 'cnt_use_buffitem_diff1_time_series', 'item_hongmun_MA_2_basic_time', 'cnt_enter_inzone_light_max_stat', 'party_cnt_max', 'game_combat_time_mean_time_series', 'first_week_whisper_chat', 'guild_chat_kurt_basic_time', 'first_week_quest_exp', 'normal_chat_MA_5_basic_time', 'pattern_2month', 'quest_hongmun_median_basic_time', 'inzone_light_MA_4_basic_time', 'quest_hongmun_MA_3_basic_time', \"('get_money', 'whisper_chat')\", 'guild_chat_max_stat', 'cnt_use_buffitem_diff3_time_series', 'raid_ratio', 'get_money_diff2_time_series', 'inzone_light_var_basic_time', 'get_money_diff3_time_series', 'cnt_enter_inzone_normal_range_stat', 'inzone_light_MA_5_basic_time', 'inzone_light_median_basic_time', 'cnt_use_buffitem_MA_1_time_series', 'whisper_chat_mean_basic_time', 'net_ClsCen', 'item_hongmun_sum_stat', 'party_first_cnt', 'cnt_enter_inzone_solo_median_stat', 'get_money_sum_stat', 'cnt_dt_diff5_time_series', 'whisper_chat_MA_3_basic_time', 'trade_outDegCen', 'cnt_use_buffitem_MA_3_time_series', 'first_week_party_chat', 'play_pattern_by_partial_sum_week_prob', 'cnt_dt_diff2_time_series', 'guild_size', 'play_pattern_by_partial_sum_2month_prob', 'differ_min', 'npc_hongmun_median_basic_time', 'get_money_median_time_series', 'cnt_enter_inzone_solo_max_stat', 'cnt_dt_mean_time_series', 'inzone_light_MA_2_basic_time', 'whisper_chat_cycle_basic_time', 'npc_hongmun_sum_stat', 'cnt_enter_inzone_normal_sum_stat', 'inzone_normal_mean_basic_time', 'npc_exp_by_cnt_dt', 'cnt_dt_diff6_time_series', 'differ_sum', 'party_chat_MA_4_basic_time', 'cnt_dt_diff3_time_series', 'quest_exp_by_cnt_dt', 'get_money_MA_1_time_series', 'cnt_use_buffitem_MA_4_time_series', 'differ_max', 'cnt_enter_inzone_solo_sum_stat', 'normal_chat_skew_basic_time', 'inzone_normal_MA_5_basic_time', 'payment_amount_skew_basic_time', 'whisper_chat_median_stat', 'party_chat_var_basic_time', 'full_party_cnt_median', 'quest_hongmun_MA_2_basic_time', 'game_combat_time_diff4_time_series', 'item_hongmun_Count', 'cnt_use_buffitem_median_time_series', 'party_chat_cycle_basic_time', 'game_combat_time_diff1_time_series', 'get_money_MA_3_time_series', 'npc_exp_max_stat', 'item_hongmun_MA_3_basic_time', 'normal_chat_max_stat', 'cnt_enter_inzone_light_median_stat', 'first_week_cnt_use_buffitem', 'guild_chat_skew_basic_time', 'party_chat_MA_5_basic_time', 'pattern_week', 'cnt_use_buffitem_diff_w2_by_last_time_series', 'quest_hongmun_var_basic_time', 'item_hongmun_MA_4_basic_time', 'whisper_chat_kurt_basic_time', 'get_money_kurt_time_series', 'party_first_cnt_max', 'cnt_use_buffitem_diff6_time_series', 'item_hongmun_max_stat', 'get_money_diff6_time_series', 'party_chat_MA_2_basic_time', 'cnt_use_buffitem_diff_w8_by_last_time_series', 'cnt_use_buffitem_diff7_time_series', 'cnt_dt_median_time_series', 'cnt_dt_max_stat', 'game_combat_time_MA_3_time_series', 'play_pattern_by_partial_sum_month_prob', 'cnt_use_buffitem_cycle_time_series', 'party_first_cnt_range', 'npc_hongmun_var_basic_time', 'npc_exp_median_stat', 'item_hongmun_var_basic_time', 'quest_exp_max_stat', 'get_money_max_stat', 'quest_exp_sum_stat', \"('npc_exp', 'quest_exp')\", 'cnt_use_buffitem_MA_5_time_series', 'get_money_diff4_time_series', 'game_combat_time_diff6_time_series', 'full_party_cnt_max', 'get_money_diff_w8_by_last_time_series', 'play_pattern_by_partial_sum', 'party_chat_MA_1_basic_time', 'cnt_enter_inzone_solo_min_stat', 'guild_chat_min_stat', 'party_cnt', 'party_over8_cnt_sum', 'whisper_chat_range_stat', 'differ', 'whisper_chat_sum_stat', 'cnt_use_buffitem_diff4_time_series', 'normal_chat_sum_stat', 'get_money_cycle_time_series', 'npc_hongmun_cycle_basic_time', 'quest_hongmun_cycle_basic_time', 'cnt_dt_min_stat', 'cnt_enter_inzone_light_sum_stat', 'npc_exp_sum_stat', 'game_combat_time_diff5_time_series', 'cnt_enter_inzone_normal_median_stat', 'npc_exp_range_stat', 'whisper_chat_skew_basic_time', 'cnt_dt_MA_3_time_series', \"('npc_hongmun', 'item_hongmun')\", 'inzone_light_cycle_basic_time', 'full_party_cnt_sum', 'party_cnt_min', 'first_week_cnt_dt', 'game_combat_time_cycle_time_series', 'get_money_diff5_time_series', 'cnt_use_buffitem_range_stat', 'quest_hongmun_sum_stat', 'party_over8_cnt_median', 'inzone_solo_ratio', 'cnt_use_buffitem_MA_2_time_series', 'npc_hongmun_max_stat', 'party_chat_skew_basic_time', 'party_chat_median_stat', 'npc_hongmun_median_stat', 'inzone_light_mean_basic_time', 'game_combat_time_MA_5_time_series', 'item_hongmun_range_stat', 'party_cnt_median', 'item_hongmun_median_stat', 'quest_hongmun_by_cnt_dt', 'differ_range', 'cnt_dt_median_stat', 'cnt_enter_inzone_light_min_stat', 'cnt_enter_inzone_normal_min_stat', 'npc_hongmun_by_play_time', 'cnt_dt_diff7_time_series', 'get_money_median_stat', 'party_chat_max_stat', 'get_money_range_stat', 'inzone_normal_kurt_basic_time', 'quest_exp_min_stat', 'quest_exp_median_stat', 'inzone_normal_ratio', 'item_hongmun_kurt_basic_time', \"('get_money', 'cnt_use_buffitem')\", \"('quest_exp', 'game_combat_time')\", 'get_money_MA_4_time_series', 'play_time_mean_time_series', 'cnt_dt_MA_1_time_series', 'cnt_use_buffitem_min_stat', 'party_over8_cnt_max', 'npc_hongmun_MA_5_basic_time', 'party_chat_mean_basic_time', 'get_money_var_time_series', 'quest_hongmun_MA_4_basic_time', 'game_combat_time_median_time_series', 'party_chat_range_stat', 'game_combat_time_max_stat', 'cnt_dt_diff_w4_by_last_time_series', 'quest_hongmun_max_stat', 'npc_hongmun_kurt_basic_time', 'whisper_chat_var_basic_time', 'item_hongmun_cycle_basic_time', 'full_party_cnt_range', 'cnt_enter_inzone_light_range_stat', 'inzone_normal_cycle_basic_time', 'first_week_get_money', 'game_combat_time_sum_stat', 'inzone_normal_skew_basic_time', 'item_hongmun_min_stat', 'cnt_dt_diff_w2_by_last_time_series', 'whisper_chat_max_stat', 'cnt_use_buffitem_sum_stat', 'npc_exp_min_stat', 'full_party_cnt_min', 'inzone_light_skew_basic_time', 'game_combat_time_diff_w8_by_last_time_series', 'game_combat_time_diff7_time_series', 'get_money_skew_time_series', 'get_money_min_stat', 'play_time_diff3_time_series', 'quest_hongmun_median_stat', 'first_week_npc_hongmun', 'party_cnt_sum', 'cnt_use_buffitem_skew_time_series', 'item_hongmun_skew_basic_time', 'game_combat_time_MA_4_time_series', 'party_chat_sum_stat', 'play_time_median_time_series', 'npc_exp_by_play_time', 'game_combat_time_kurt_time_series', 'npc_hongmun_by_cnt_dt', 'cnt_dt_MA_4_time_series', 'cnt_dt_range_stat', 'get_money_MA_2_time_series', 'cnt_dt_sum_stat', 'play_time_diff1_time_series', 'cnt_use_buffitem_median_stat', 'get_money_diff7_time_series', 'game_combat_time_median_stat', 'play_time_diff6_time_series', 'inzone_light_ratio', 'play_time_diff2_time_series', 'quest_hongmun_by_play_time', 'game_combat_time_min_stat', 'npc_hongmun_range_stat', 'play_time_MA_2_time_series', \"('npc_exp', 'game_combat_time')\", 'chats_by_play_time', 'play_time_diff4_time_series', 'cnt_dt_diff_w8_by_last_time_series', 'game_combat_time_by_cnt_dt', 'cnt_dt_cycle_time_series', 'cnt_use_buffitem_kurt_time_series', 'cnt_use_buffitem_max_stat', 'game_combat_time_range_stat', 'quest_hongmun_kurt_basic_time', 'quest_exp_by_play_time', 'get_money_diff_w4_by_last_time_series', 'play_time_cycle_time_series', 'play_time_sum_stat', 'first_week_game_combat_time', 'play_time_median_stat', 'play_time_var_time_series', 'cnt_dt_var_time_series', 'get_money_by_play_time', 'play_time_skew_time_series', 'quest_hongmun_skew_basic_time', 'cnt_dt_skew_time_series', 'play_time_MA_5_time_series', 'play_time_MA_3_time_series', 'play_time_MA_1_time_series', 'play_time_MA_4_time_series', 'play_time_max_stat', 'play_time_range_stat', 'cnt_dt_kurt_time_series', 'play_time_by_cnt_dt', 'play_time_kurt_time_series', 'cnt_use_buffitem_by_game_combat_time', 'game_combat_time_by_play_time', 'play_time_diff_w4_by_last_time_series', 'play_time_min_stat', 'play_time_diff_w8_by_last_time_series', 'first_week_play_time', 'play_time_diff7_time_series', 'play_time_diff_w2_by_last_time_series', 'guild_chat_max_last_diff', 'give_gini', 'rec_gini', 'exc_gini', 'source+exc', 'target+exc', 'exc_ratio', 'one_way_ratio', 'first_trade_all', 'grocery_portion_in_market', 'money_portion_in_market', 'other_portion_in_market', 'first_week_money_by_cnt_dt', 'money_by_dt_first_max', 'get_money_cnt_dt_lr', 'trade_cnt_by_cnt_dt', 'trade_cnt_by_play_time', 'trade_cnt_by_combat_time', 'first_week_money_by_play_time', 'money_by_time_max_last', 'money_by_time_first_last', 'money_by_time_first_max', 'money_by_time_median_last', 'get_money_time_lr', 'last_trade_all', 'last_week_trade_cnt', 'first_week_trade_cnt', 'weekly_max_trade_cnt', 'weekly_trade_cnt_std', 'weekly_trade_cycle', 'trade_first-last', 'trade_last-max', 'first_week_exp_by_hongmun_quest', 'exp_by_hongmun_quest_max_last', 'exp_by_hongmun_quest_first_last', 'exp_by_hongmun_quest_first_max', 'exp_by_hongmun_quest_median_last', 'get_train_exp_by_hongmun_quest_pivot_lr', 'first_week_exp_by_hongmun_npc', 'exp_by_hongmun_npc_max_last', 'exp_by_hongmun_npc_first_last', 'exp_by_hongmun_npc_first_max', 'exp_by_hongmun_npc_median_last', 'get_train_exp_by_hongmun_npc_pivot_lr', 'first_week_exp_by_hongmun', 'exp_by_hongmun_max_last', 'exp_by_hongmun_first_last', 'exp_by_hongmun_first_max', 'exp_by_hongmun_median_last', 'get_train_exp_by_hongmun_pivot_lr', 'first_week_hongmun_sum', 'until_first_week_hongmun_sum', 'only_hongmun_week_cnt', 'only_exp_week_cnt', 'hongmun_exp_week_cnt', 'no_hongmun_exp_week_cnt', 'group_a', 'group_b', 'group_c', 'group_d', 'group_e'] ['differ_ratio_1', 'play_time_Count', 'cnt_enter_inzone_skilled_Count', 'making_cnt_Count', 'normal_chat_median_basic_time', 'first_week_cnt_clear_raid_light', 'cnt_enter_raid_light_range_stat', 'payment_amount_MA_5_basic_time', 'duel_cnt_sum_stat', 'trade_InDeg', 'partybattle_cnt_sum_stat', 'payment_amount_median_basic_time', 'partybattle_cnt_max_stat', 'payment_amount_kurt_basic_time', 'cnt_enter_raid_light_median_stat', 'guild_chat_MA_1_basic_time', 'whisper_chat_Count', 'cnt_enter_inzone_light_Count', 'payment_amount_MA_1_basic_time', 'cnt_enter_raid_light_max_stat', 'payment_amount_by_play_time', 'normal_chat_MA_2_basic_time', 'cnt_dt_Count', 'normal_chat_MA_1_basic_time', 'payment_amount_MA_3_basic_time', 'cnt_enter_raid_light_Count', 'district_chat_max_stat', 'payment_amount_min_stat', 'first_week_making_cnt', 'payment_amount_MA_4_basic_time', 'cnt_use_buffitem_Count', 'game_combat_time_Count', 'first_week_cnt_clear_inzone_solo', 'party_cnt_with4_median', 'inzone_skilled_ratio', 'cnt_enter_inzone_skilled_max_stat', 'cnt_enter_inzone_solo_Count', 'cnt_enter_raid_min_stat', 'first_week_payment_amount', 'raid_light_ratio', 'cnt_enter_inzone_normal_Count', 'party_cnt_with4_range', 'item_hongmun_mean_basic_time', 'payment_amount_max_stat', 'district_chat_median_stat', 'payment_amount_cycle_basic_time', 'making_cnt_sum_stat', 'party_cnt_with4_min', 'trade_InDegCen', 'first_week_cnt_enter_inzone_solo', 'guild_chat_MA_4_basic_time', 'guild_chat_mean_basic_time', 'num_guild', 'guild_chat_var_basic_time', 'guild_chat_Count', 'first_week', 'inzone_normal_median_basic_time', 'party_chat_Count', 'party_chat_median_basic_time', 'duel_ratio', 'first_week_normal_chat', 'first_week_cnt_clear_inzone_normal', 'play_pattern_by_partial_sum_retained_prob', 'guild_chat_cycle_basic_time', 'net_EigCen', 'first_week_cnt_clear_inzone_light', 'item_hongmun_median_basic_time', 'making_cnt_min_stat', 'making_cnt_range_stat', 'first_week_guild_chat', 'net_BetCen', 'district_chat_sum_stat', 'party_battle_ratio', 'full_party_cnt', 'party_cnt_with4_sum', 'inzone_light_MA_3_basic_time', 'guild_chat_MA_5_basic_time', 'guild_chat_median_stat', 'party_cnt_with4_max', 'cnt_enter_inzone_skilled_sum_stat', 'guild_chat_MA_3_basic_time', 'net_lcc', 'party_chat_MA_3_basic_time', 'cnt_enter_raid_median_stat', 'npc_hongmun_mean_basic_time', 'payment_amount_sum_stat', 'inzone_normal_MA_3_basic_time', 'pattern_month', 'first_week_cnt_enter_inzone_normal', 'pattern_retained', 'party_over8_cnt', 'cnt_enter_raid_sum_stat', 'get_money_mean_time_series', 'trade_OutDeg', 'get_money_Count', 'normal_chat_cycle_basic_time', 'cnt_enter_raid_light_sum_stat', 'cnt_dt_diff1_time_series', 'whisper_chat_MA_2_basic_time', 'whisper_chat_median_basic_time', 'npc_hongmun_MA_2_basic_time', 'inzone_normal_MA_2_basic_time', 'cnt_enter_raid_Count', 'first_week_cnt_enter_inzone_light', 'inzone_light_MA_1_basic_time', 'inzone_normal_MA_4_basic_time', 'inzone_normal_var_basic_time', 'payment_amount_range_stat', 'whisper_chat_MA_5_basic_time', 'npc_hongmun_MA_3_basic_time', 'cnt_use_buffitem_mean_time_series', 'net_DegCen', 'differ_median', 'inzone_normal_MA_1_basic_time', 'first_week_npc_exp', 'quest_hongmun_mean_basic_time', 'get_money_MA_5_time_series', 'cnt_enter_inzone_normal_max_stat', 'npc_hongmun_MA_4_basic_time', 'cnt_use_buffitem_diff1_time_series', 'item_hongmun_MA_2_basic_time', 'cnt_enter_inzone_light_max_stat', 'party_cnt_max', 'game_combat_time_mean_time_series', 'first_week_whisper_chat', 'guild_chat_kurt_basic_time', 'first_week_quest_exp', 'normal_chat_MA_5_basic_time', 'pattern_2month', 'quest_hongmun_median_basic_time', 'inzone_light_MA_4_basic_time', 'quest_hongmun_MA_3_basic_time', \"('get_money', 'whisper_chat')\", 'guild_chat_max_stat', 'cnt_use_buffitem_diff3_time_series', 'raid_ratio', 'get_money_diff2_time_series', 'inzone_light_var_basic_time', 'get_money_diff3_time_series', 'cnt_enter_inzone_normal_range_stat', 'inzone_light_MA_5_basic_time', 'inzone_light_median_basic_time', 'cnt_use_buffitem_MA_1_time_series', 'whisper_chat_mean_basic_time', 'net_ClsCen', 'item_hongmun_sum_stat', 'party_first_cnt', 'cnt_enter_inzone_solo_median_stat', 'get_money_sum_stat', 'cnt_dt_diff5_time_series', 'whisper_chat_MA_3_basic_time', 'trade_outDegCen', 'cnt_use_buffitem_MA_3_time_series', 'first_week_party_chat', 'play_pattern_by_partial_sum_week_prob', 'cnt_dt_diff2_time_series', 'guild_size', 'play_pattern_by_partial_sum_2month_prob', 'differ_min', 'npc_hongmun_median_basic_time', 'get_money_median_time_series', 'cnt_enter_inzone_solo_max_stat', 'cnt_dt_mean_time_series', 'inzone_light_MA_2_basic_time', 'whisper_chat_cycle_basic_time', 'npc_hongmun_sum_stat', 'cnt_enter_inzone_normal_sum_stat', 'inzone_normal_mean_basic_time', 'npc_exp_by_cnt_dt', 'cnt_dt_diff6_time_series', 'differ_sum', 'party_chat_MA_4_basic_time', 'cnt_dt_diff3_time_series', 'quest_exp_by_cnt_dt', 'get_money_MA_1_time_series', 'cnt_use_buffitem_MA_4_time_series', 'differ_max', 'cnt_enter_inzone_solo_sum_stat', 'normal_chat_skew_basic_time', 'inzone_normal_MA_5_basic_time', 'payment_amount_skew_basic_time', 'whisper_chat_median_stat', 'party_chat_var_basic_time', 'full_party_cnt_median', 'quest_hongmun_MA_2_basic_time', 'game_combat_time_diff4_time_series', 'item_hongmun_Count', 'cnt_use_buffitem_median_time_series', 'party_chat_cycle_basic_time', 'game_combat_time_diff1_time_series', 'get_money_MA_3_time_series', 'npc_exp_max_stat', 'item_hongmun_MA_3_basic_time', 'normal_chat_max_stat', 'cnt_enter_inzone_light_median_stat', 'first_week_cnt_use_buffitem', 'guild_chat_skew_basic_time', 'party_chat_MA_5_basic_time', 'pattern_week', 'cnt_use_buffitem_diff_w2_by_last_time_series', 'quest_hongmun_var_basic_time', 'item_hongmun_MA_4_basic_time', 'whisper_chat_kurt_basic_time', 'get_money_kurt_time_series', 'party_first_cnt_max', 'cnt_use_buffitem_diff6_time_series', 'item_hongmun_max_stat', 'get_money_diff6_time_series', 'party_chat_MA_2_basic_time', 'cnt_use_buffitem_diff_w8_by_last_time_series', 'cnt_use_buffitem_diff7_time_series', 'cnt_dt_median_time_series', 'cnt_dt_max_stat', 'game_combat_time_MA_3_time_series', 'play_pattern_by_partial_sum_month_prob', 'cnt_use_buffitem_cycle_time_series', 'party_first_cnt_range', 'npc_hongmun_var_basic_time', 'npc_exp_median_stat', 'item_hongmun_var_basic_time', 'quest_exp_max_stat', 'get_money_max_stat', 'quest_exp_sum_stat', \"('npc_exp', 'quest_exp')\", 'cnt_use_buffitem_MA_5_time_series', 'get_money_diff4_time_series', 'game_combat_time_diff6_time_series', 'full_party_cnt_max', 'get_money_diff_w8_by_last_time_series', 'play_pattern_by_partial_sum', 'party_chat_MA_1_basic_time', 'cnt_enter_inzone_solo_min_stat', 'guild_chat_min_stat', 'party_cnt', 'party_over8_cnt_sum', 'whisper_chat_range_stat', 'differ', 'whisper_chat_sum_stat', 'cnt_use_buffitem_diff4_time_series', 'normal_chat_sum_stat', 'get_money_cycle_time_series', 'npc_hongmun_cycle_basic_time', 'quest_hongmun_cycle_basic_time', 'cnt_dt_min_stat', 'cnt_enter_inzone_light_sum_stat', 'npc_exp_sum_stat', 'game_combat_time_diff5_time_series', 'cnt_enter_inzone_normal_median_stat', 'npc_exp_range_stat', 'whisper_chat_skew_basic_time', 'cnt_dt_MA_3_time_series', \"('npc_hongmun', 'item_hongmun')\", 'inzone_light_cycle_basic_time', 'full_party_cnt_sum', 'party_cnt_min', 'first_week_cnt_dt', 'game_combat_time_cycle_time_series', 'get_money_diff5_time_series', 'cnt_use_buffitem_range_stat', 'quest_hongmun_sum_stat', 'party_over8_cnt_median', 'inzone_solo_ratio', 'cnt_use_buffitem_MA_2_time_series', 'npc_hongmun_max_stat', 'party_chat_skew_basic_time', 'party_chat_median_stat', 'npc_hongmun_median_stat', 'inzone_light_mean_basic_time', 'game_combat_time_MA_5_time_series', 'item_hongmun_range_stat', 'party_cnt_median', 'item_hongmun_median_stat', 'quest_hongmun_by_cnt_dt', 'differ_range', 'cnt_dt_median_stat', 'cnt_enter_inzone_light_min_stat', 'cnt_enter_inzone_normal_min_stat', 'npc_hongmun_by_play_time', 'cnt_dt_diff7_time_series', 'get_money_median_stat', 'party_chat_max_stat', 'get_money_range_stat', 'inzone_normal_kurt_basic_time', 'quest_exp_min_stat', 'quest_exp_median_stat', 'inzone_normal_ratio', 'item_hongmun_kurt_basic_time', \"('get_money', 'cnt_use_buffitem')\", \"('quest_exp', 'game_combat_time')\", 'get_money_MA_4_time_series', 'play_time_mean_time_series', 'cnt_dt_MA_1_time_series', 'cnt_use_buffitem_min_stat', 'party_over8_cnt_max', 'npc_hongmun_MA_5_basic_time', 'party_chat_mean_basic_time', 'get_money_var_time_series', 'quest_hongmun_MA_4_basic_time', 'game_combat_time_median_time_series', 'party_chat_range_stat', 'game_combat_time_max_stat', 'cnt_dt_diff_w4_by_last_time_series', 'quest_hongmun_max_stat', 'npc_hongmun_kurt_basic_time', 'whisper_chat_var_basic_time', 'item_hongmun_cycle_basic_time', 'full_party_cnt_range', 'cnt_enter_inzone_light_range_stat', 'inzone_normal_cycle_basic_time', 'first_week_get_money', 'game_combat_time_sum_stat', 'inzone_normal_skew_basic_time', 'item_hongmun_min_stat', 'cnt_dt_diff_w2_by_last_time_series', 'whisper_chat_max_stat', 'cnt_use_buffitem_sum_stat', 'npc_exp_min_stat', 'full_party_cnt_min', 'inzone_light_skew_basic_time', 'game_combat_time_diff_w8_by_last_time_series', 'game_combat_time_diff7_time_series', 'get_money_skew_time_series', 'get_money_min_stat', 'play_time_diff3_time_series', 'quest_hongmun_median_stat', 'first_week_npc_hongmun', 'party_cnt_sum', 'cnt_use_buffitem_skew_time_series', 'item_hongmun_skew_basic_time', 'game_combat_time_MA_4_time_series', 'party_chat_sum_stat', 'play_time_median_time_series', 'npc_exp_by_play_time', 'game_combat_time_kurt_time_series', 'npc_hongmun_by_cnt_dt', 'cnt_dt_MA_4_time_series', 'cnt_dt_range_stat', 'get_money_MA_2_time_series', 'cnt_dt_sum_stat', 'play_time_diff1_time_series', 'cnt_use_buffitem_median_stat', 'get_money_diff7_time_series', 'game_combat_time_median_stat', 'play_time_diff6_time_series', 'inzone_light_ratio', 'play_time_diff2_time_series', 'quest_hongmun_by_play_time', 'game_combat_time_min_stat', 'npc_hongmun_range_stat', 'play_time_MA_2_time_series', \"('npc_exp', 'game_combat_time')\", 'chats_by_play_time', 'play_time_diff4_time_series', 'cnt_dt_diff_w8_by_last_time_series', 'game_combat_time_by_cnt_dt', 'cnt_dt_cycle_time_series', 'cnt_use_buffitem_kurt_time_series', 'cnt_use_buffitem_max_stat', 'game_combat_time_range_stat', 'quest_hongmun_kurt_basic_time', 'quest_exp_by_play_time', 'get_money_diff_w4_by_last_time_series', 'play_time_cycle_time_series', 'play_time_sum_stat', 'first_week_game_combat_time', 'play_time_median_stat', 'play_time_var_time_series', 'cnt_dt_var_time_series', 'get_money_by_play_time', 'play_time_skew_time_series', 'quest_hongmun_skew_basic_time', 'cnt_dt_skew_time_series', 'play_time_MA_5_time_series', 'play_time_MA_3_time_series', 'play_time_MA_1_time_series', 'play_time_MA_4_time_series', 'play_time_max_stat', 'play_time_range_stat', 'cnt_dt_kurt_time_series', 'play_time_by_cnt_dt', 'play_time_kurt_time_series', 'cnt_use_buffitem_by_game_combat_time', 'game_combat_time_by_play_time', 'play_time_diff_w4_by_last_time_series', 'play_time_min_stat', 'play_time_diff_w8_by_last_time_series', 'first_week_play_time', 'play_time_diff7_time_series', 'play_time_diff_w2_by_last_time_series', 'guild_chat_max_last_diff', 'give_gini', 'rec_gini', 'exc_gini', 'source+exc', 'target+exc', 'exc_ratio', 'one_way_ratio', 'first_trade_all', 'grocery_portion_in_market', 'money_portion_in_market', 'other_portion_in_market', 'first_week_money_by_cnt_dt', 'money_by_dt_first_max', 'get_money_cnt_dt_lr', 'trade_cnt_by_cnt_dt', 'trade_cnt_by_play_time', 'trade_cnt_by_combat_time', 'first_week_money_by_play_time', 'money_by_time_max_last', 'money_by_time_first_last', 'money_by_time_first_max', 'money_by_time_median_last', 'get_money_time_lr', 'last_trade_all', 'last_week_trade_cnt', 'first_week_trade_cnt', 'weekly_max_trade_cnt', 'weekly_trade_cnt_std', 'weekly_trade_cycle', 'trade_first-last', 'trade_last-max', 'first_week_exp_by_hongmun_quest', 'exp_by_hongmun_quest_max_last', 'exp_by_hongmun_quest_first_last', 'exp_by_hongmun_quest_first_max', 'exp_by_hongmun_quest_median_last', 'get_test_exp_by_hongmun_quest_pivot_lr', 'first_week_exp_by_hongmun_npc', 'exp_by_hongmun_npc_max_last', 'exp_by_hongmun_npc_first_last', 'exp_by_hongmun_npc_first_max', 'exp_by_hongmun_npc_median_last', 'get_test_exp_by_hongmun_npc_pivot_lr', 'first_week_exp_by_hongmun', 'exp_by_hongmun_max_last', 'exp_by_hongmun_first_last', 'exp_by_hongmun_first_max', 'exp_by_hongmun_median_last', 'get_test_exp_by_hongmun_pivot_lr', 'first_week_hongmun_sum', 'until_first_week_hongmun_sum', 'only_hongmun_week_cnt', 'only_exp_week_cnt', 'hongmun_exp_week_cnt', 'no_hongmun_exp_week_cnt', 'group_a', 'group_b', 'group_c', 'group_d', 'group_e']\nexpected get_train_exp_by_hongmun_quest_pivot_lr, get_train_exp_by_hongmun_npc_pivot_lr, get_train_exp_by_hongmun_pivot_lr in input data\ntraining data did not have the following fields: get_test_exp_by_hongmun_quest_pivot_lr, get_test_exp_by_hongmun_pivot_lr, get_test_exp_by_hongmun_npc_pivot_lr"
     ]
    }
   ],
   "source": [
    "#### prob 클래스별 확률 예측\n",
    "xgb_prob = pd.DataFrame(model.predict_proba(X_test),columns=['y_pred_prob0', 'y_pred_prob1', 'y_pred_prob2','y_pred_prob3'])\n",
    "xgb_prob.to_csv('XGB_FINAL.csv',index = False)"
   ]
  },
  {
   "cell_type": "code",
   "execution_count": 12,
   "metadata": {},
   "outputs": [],
   "source": [
    "### 부스터 빼와서 5가지 feature importance 빼오기...\n",
    "xgb_booster= model.get_booster()\n",
    "types = ['weight','gain','cover','total_gain','total_cover']\n",
    "result = pd.DataFrame({'feature':[k for k in xgb_booster.get_score().keys()]})"
   ]
  },
  {
   "cell_type": "code",
   "execution_count": 13,
   "metadata": {},
   "outputs": [],
   "source": [
    "for tp in types:\n",
    "    temp = xgb_booster.get_score(importance_type=tp)\n",
    "    result= pd.merge(result,pd.DataFrame([(x,temp[x]) for x in temp],columns=['feature',tp]))"
   ]
  },
  {
   "cell_type": "code",
   "execution_count": 15,
   "metadata": {},
   "outputs": [],
   "source": [
    "result.to_csv('전체.csv',index = False)"
   ]
  },
  {
   "cell_type": "markdown",
   "metadata": {},
   "source": [
    "---"
   ]
  },
  {
   "cell_type": "markdown",
   "metadata": {},
   "source": [
    "### 5 fold-cross validation extratree"
   ]
  },
  {
   "cell_type": "code",
   "execution_count": 22,
   "metadata": {},
   "outputs": [],
   "source": [
    "from sklearn.ensemble import ExtraTreesClassifier"
   ]
  },
  {
   "cell_type": "code",
   "execution_count": 23,
   "metadata": {},
   "outputs": [],
   "source": [
    "clf_etc=ExtraTreesClassifier(verbose=1,criterion='gini',max_depth = 19, max_features = 444, min_samples_leaf = 1,n_estimators=300,random_state= 7, n_jobs=-1)"
   ]
  },
  {
   "cell_type": "code",
   "execution_count": 24,
   "metadata": {},
   "outputs": [],
   "source": [
    "def f1(X_val, y_val, model,mapping):\n",
    "    \"\"\"\n",
    "    Model evaluation function for multiclass classification problem\n",
    "    1) F-1 score, Precision, Recall\n",
    "    2) ROC curve, PR curve는 추후에 생각\n",
    "    \"\"\"\n",
    " \n",
    "    #### predict the value\n",
    "    y_pred = model.predict(X_val)\n",
    "\n",
    "    \n",
    "    #print('-'*50)\n",
    "    #print('2. F1-score')\n",
    "    \n",
    "    # inverse pre/ rec\n",
    "    pre = precision_score(y_true = y_val, y_pred = y_pred, average=None)\n",
    "    rec = recall_score(y_true = y_val, y_pred = y_pred, average=None)\n",
    "\n",
    "    # f1 measure\n",
    "    f1_score = 8/(sum(1/pre) + sum(1/rec))\n",
    "    \n",
    "    # view - precision recall\n",
    "    table = pd.DataFrame([])\n",
    "\n",
    "    for i,k in enumerate(mapping.keys()):\n",
    "        table[k] = [pre[i],rec[i]]\n",
    "    table.index = ['precision','recall']\n",
    "    # print(table)\n",
    "    \n",
    "    # view - f1\n",
    "    #print('F1_score %.3f'%f1_score)\n",
    "    #print('='*50)\n",
    "    return f1_score"
   ]
  },
  {
   "cell_type": "code",
   "execution_count": 26,
   "metadata": {},
   "outputs": [],
   "source": [
    "X_train = X_train.fillna(0.0)"
   ]
  },
  {
   "cell_type": "code",
   "execution_count": 28,
   "metadata": {},
   "outputs": [
    {
     "name": "stderr",
     "output_type": "stream",
     "text": [
      "[Parallel(n_jobs=-1)]: Done 120 tasks      | elapsed:   33.6s\n",
      "[Parallel(n_jobs=-1)]: Done 300 out of 300 | elapsed:  1.4min finished\n",
      "[Parallel(n_jobs=40)]: Done 120 tasks      | elapsed:    0.1s\n",
      "[Parallel(n_jobs=40)]: Done 300 out of 300 | elapsed:    0.1s finished\n"
     ]
    },
    {
     "name": "stdout",
     "output_type": "stream",
     "text": [
      "Fold: 1, Class dist.: [20000 20000 20000 20000], F1: 0.723\n"
     ]
    },
    {
     "name": "stderr",
     "output_type": "stream",
     "text": [
      "[Parallel(n_jobs=-1)]: Done 120 tasks      | elapsed:   33.7s\n",
      "[Parallel(n_jobs=-1)]: Done 300 out of 300 | elapsed:  1.4min finished\n",
      "[Parallel(n_jobs=40)]: Done 120 tasks      | elapsed:    0.1s\n",
      "[Parallel(n_jobs=40)]: Done 300 out of 300 | elapsed:    0.2s finished\n"
     ]
    },
    {
     "name": "stdout",
     "output_type": "stream",
     "text": [
      "Fold: 2, Class dist.: [20000 20000 20000 20000], F1: 0.733\n"
     ]
    },
    {
     "name": "stderr",
     "output_type": "stream",
     "text": [
      "[Parallel(n_jobs=-1)]: Done 120 tasks      | elapsed:   34.8s\n",
      "[Parallel(n_jobs=-1)]: Done 300 out of 300 | elapsed:  1.4min finished\n",
      "[Parallel(n_jobs=40)]: Done 120 tasks      | elapsed:    0.1s\n",
      "[Parallel(n_jobs=40)]: Done 300 out of 300 | elapsed:    0.1s finished\n"
     ]
    },
    {
     "name": "stdout",
     "output_type": "stream",
     "text": [
      "Fold: 3, Class dist.: [20000 20000 20000 20000], F1: 0.727\n"
     ]
    },
    {
     "name": "stderr",
     "output_type": "stream",
     "text": [
      "[Parallel(n_jobs=-1)]: Done 120 tasks      | elapsed:   33.7s\n",
      "[Parallel(n_jobs=-1)]: Done 300 out of 300 | elapsed:  1.4min finished\n",
      "[Parallel(n_jobs=40)]: Done 120 tasks      | elapsed:    0.1s\n",
      "[Parallel(n_jobs=40)]: Done 300 out of 300 | elapsed:    0.2s finished\n"
     ]
    },
    {
     "name": "stdout",
     "output_type": "stream",
     "text": [
      "Fold: 4, Class dist.: [20000 20000 20000 20000], F1: 0.722\n"
     ]
    },
    {
     "name": "stderr",
     "output_type": "stream",
     "text": [
      "[Parallel(n_jobs=-1)]: Done 120 tasks      | elapsed:   33.4s\n",
      "[Parallel(n_jobs=-1)]: Done 300 out of 300 | elapsed:  1.4min finished\n"
     ]
    },
    {
     "name": "stdout",
     "output_type": "stream",
     "text": [
      "Fold: 5, Class dist.: [20000 20000 20000 20000], F1: 0.717\n",
      "\n",
      "CV F1: 0.724 +/- 0.005\n"
     ]
    },
    {
     "name": "stderr",
     "output_type": "stream",
     "text": [
      "[Parallel(n_jobs=40)]: Done 120 tasks      | elapsed:    0.1s\n",
      "[Parallel(n_jobs=40)]: Done 300 out of 300 | elapsed:    0.1s finished\n"
     ]
    }
   ],
   "source": [
    "#### cross validation\n",
    "kfold = StratifiedKFold(n_splits = 5 ,random_state = 7).split(X_train, y_train)\n",
    "scores = []\n",
    "\n",
    "for k, (train, test) in enumerate(kfold):\n",
    "    clf_etc.fit(X_train.iloc[train,], y_train.iloc[train,])\n",
    "    score = f1(X_train.iloc[test,], y_train.iloc[test],clf_etc,label_map)\n",
    "    scores.append(score)\n",
    "    print('Fold: %s, Class dist.: %s, F1: %.3f' % (k+1,np.bincount(y_train[train]), score))\n",
    "    \n",
    "print('\\nCV F1: %.3f +/- %.3f' % (np.mean(scores), np.std(scores)))"
   ]
  },
  {
   "cell_type": "markdown",
   "metadata": {},
   "source": [
    "---"
   ]
  },
  {
   "cell_type": "markdown",
   "metadata": {},
   "source": [
    "### extratree"
   ]
  },
  {
   "cell_type": "code",
   "execution_count": 29,
   "metadata": {},
   "outputs": [],
   "source": [
    "clf_etc=ExtraTreesClassifier(verbose=1,criterion='gini',max_depth = 19, max_features = 444, min_samples_leaf = 1,n_estimators=300,random_state= 7, n_jobs=-1)"
   ]
  },
  {
   "cell_type": "code",
   "execution_count": 31,
   "metadata": {},
   "outputs": [
    {
     "name": "stderr",
     "output_type": "stream",
     "text": [
      "[Parallel(n_jobs=-1)]: Done 120 tasks      | elapsed:   45.6s\n",
      "[Parallel(n_jobs=-1)]: Done 300 out of 300 | elapsed:  1.9min finished\n"
     ]
    },
    {
     "data": {
      "text/plain": [
       "ExtraTreesClassifier(bootstrap=False, class_weight=None, criterion='gini',\n",
       "           max_depth=19, max_features=444, max_leaf_nodes=None,\n",
       "           min_impurity_decrease=0.0, min_impurity_split=None,\n",
       "           min_samples_leaf=1, min_samples_split=2,\n",
       "           min_weight_fraction_leaf=0.0, n_estimators=300, n_jobs=-1,\n",
       "           oob_score=False, random_state=7, verbose=1, warm_start=False)"
      ]
     },
     "execution_count": 31,
     "metadata": {},
     "output_type": "execute_result"
    }
   ],
   "source": [
    "clf_etc.fit(X_train, y_train)"
   ]
  },
  {
   "cell_type": "code",
   "execution_count": 65,
   "metadata": {},
   "outputs": [],
   "source": [
    "X_test = X_test.fillna(0.0)"
   ]
  },
  {
   "cell_type": "code",
   "execution_count": 66,
   "metadata": {},
   "outputs": [
    {
     "ename": "ValueError",
     "evalue": "feature_names mismatch: ['differ_ratio_1', 'play_time_Count', 'cnt_enter_inzone_skilled_Count', 'making_cnt_Count', 'normal_chat_median_basic_time', 'first_week_cnt_clear_raid_light', 'cnt_enter_raid_light_range_stat', 'payment_amount_MA_5_basic_time', 'duel_cnt_sum_stat', 'trade_InDeg', 'partybattle_cnt_sum_stat', 'payment_amount_median_basic_time', 'partybattle_cnt_max_stat', 'payment_amount_kurt_basic_time', 'cnt_enter_raid_light_median_stat', 'guild_chat_MA_1_basic_time', 'whisper_chat_Count', 'cnt_enter_inzone_light_Count', 'payment_amount_MA_1_basic_time', 'cnt_enter_raid_light_max_stat', 'payment_amount_by_play_time', 'normal_chat_MA_2_basic_time', 'cnt_dt_Count', 'normal_chat_MA_1_basic_time', 'payment_amount_MA_3_basic_time', 'cnt_enter_raid_light_Count', 'district_chat_max_stat', 'payment_amount_min_stat', 'first_week_making_cnt', 'payment_amount_MA_4_basic_time', 'cnt_use_buffitem_Count', 'game_combat_time_Count', 'first_week_cnt_clear_inzone_solo', 'party_cnt_with4_median', 'inzone_skilled_ratio', 'cnt_enter_inzone_skilled_max_stat', 'cnt_enter_inzone_solo_Count', 'cnt_enter_raid_min_stat', 'first_week_payment_amount', 'raid_light_ratio', 'cnt_enter_inzone_normal_Count', 'party_cnt_with4_range', 'item_hongmun_mean_basic_time', 'payment_amount_max_stat', 'district_chat_median_stat', 'payment_amount_cycle_basic_time', 'making_cnt_sum_stat', 'party_cnt_with4_min', 'trade_InDegCen', 'first_week_cnt_enter_inzone_solo', 'guild_chat_MA_4_basic_time', 'guild_chat_mean_basic_time', 'num_guild', 'guild_chat_var_basic_time', 'guild_chat_Count', 'first_week', 'inzone_normal_median_basic_time', 'party_chat_Count', 'party_chat_median_basic_time', 'duel_ratio', 'first_week_normal_chat', 'first_week_cnt_clear_inzone_normal', 'play_pattern_by_partial_sum_retained_prob', 'guild_chat_cycle_basic_time', 'net_EigCen', 'first_week_cnt_clear_inzone_light', 'item_hongmun_median_basic_time', 'making_cnt_min_stat', 'making_cnt_range_stat', 'first_week_guild_chat', 'net_BetCen', 'district_chat_sum_stat', 'party_battle_ratio', 'full_party_cnt', 'party_cnt_with4_sum', 'inzone_light_MA_3_basic_time', 'guild_chat_MA_5_basic_time', 'guild_chat_median_stat', 'party_cnt_with4_max', 'cnt_enter_inzone_skilled_sum_stat', 'guild_chat_MA_3_basic_time', 'net_lcc', 'party_chat_MA_3_basic_time', 'cnt_enter_raid_median_stat', 'npc_hongmun_mean_basic_time', 'payment_amount_sum_stat', 'inzone_normal_MA_3_basic_time', 'pattern_month', 'first_week_cnt_enter_inzone_normal', 'pattern_retained', 'party_over8_cnt', 'cnt_enter_raid_sum_stat', 'get_money_mean_time_series', 'trade_OutDeg', 'get_money_Count', 'normal_chat_cycle_basic_time', 'cnt_enter_raid_light_sum_stat', 'cnt_dt_diff1_time_series', 'whisper_chat_MA_2_basic_time', 'whisper_chat_median_basic_time', 'npc_hongmun_MA_2_basic_time', 'inzone_normal_MA_2_basic_time', 'cnt_enter_raid_Count', 'first_week_cnt_enter_inzone_light', 'inzone_light_MA_1_basic_time', 'inzone_normal_MA_4_basic_time', 'inzone_normal_var_basic_time', 'payment_amount_range_stat', 'whisper_chat_MA_5_basic_time', 'npc_hongmun_MA_3_basic_time', 'cnt_use_buffitem_mean_time_series', 'net_DegCen', 'differ_median', 'inzone_normal_MA_1_basic_time', 'first_week_npc_exp', 'quest_hongmun_mean_basic_time', 'get_money_MA_5_time_series', 'cnt_enter_inzone_normal_max_stat', 'npc_hongmun_MA_4_basic_time', 'cnt_use_buffitem_diff1_time_series', 'item_hongmun_MA_2_basic_time', 'cnt_enter_inzone_light_max_stat', 'party_cnt_max', 'game_combat_time_mean_time_series', 'first_week_whisper_chat', 'guild_chat_kurt_basic_time', 'first_week_quest_exp', 'normal_chat_MA_5_basic_time', 'pattern_2month', 'quest_hongmun_median_basic_time', 'inzone_light_MA_4_basic_time', 'quest_hongmun_MA_3_basic_time', \"('get_money', 'whisper_chat')\", 'guild_chat_max_stat', 'cnt_use_buffitem_diff3_time_series', 'raid_ratio', 'get_money_diff2_time_series', 'inzone_light_var_basic_time', 'get_money_diff3_time_series', 'cnt_enter_inzone_normal_range_stat', 'inzone_light_MA_5_basic_time', 'inzone_light_median_basic_time', 'cnt_use_buffitem_MA_1_time_series', 'whisper_chat_mean_basic_time', 'net_ClsCen', 'item_hongmun_sum_stat', 'party_first_cnt', 'cnt_enter_inzone_solo_median_stat', 'get_money_sum_stat', 'cnt_dt_diff5_time_series', 'whisper_chat_MA_3_basic_time', 'trade_outDegCen', 'cnt_use_buffitem_MA_3_time_series', 'first_week_party_chat', 'play_pattern_by_partial_sum_week_prob', 'cnt_dt_diff2_time_series', 'guild_size', 'play_pattern_by_partial_sum_2month_prob', 'differ_min', 'npc_hongmun_median_basic_time', 'get_money_median_time_series', 'cnt_enter_inzone_solo_max_stat', 'cnt_dt_mean_time_series', 'inzone_light_MA_2_basic_time', 'whisper_chat_cycle_basic_time', 'npc_hongmun_sum_stat', 'cnt_enter_inzone_normal_sum_stat', 'inzone_normal_mean_basic_time', 'npc_exp_by_cnt_dt', 'cnt_dt_diff6_time_series', 'differ_sum', 'party_chat_MA_4_basic_time', 'cnt_dt_diff3_time_series', 'quest_exp_by_cnt_dt', 'get_money_MA_1_time_series', 'cnt_use_buffitem_MA_4_time_series', 'differ_max', 'cnt_enter_inzone_solo_sum_stat', 'normal_chat_skew_basic_time', 'inzone_normal_MA_5_basic_time', 'payment_amount_skew_basic_time', 'whisper_chat_median_stat', 'party_chat_var_basic_time', 'full_party_cnt_median', 'quest_hongmun_MA_2_basic_time', 'game_combat_time_diff4_time_series', 'item_hongmun_Count', 'cnt_use_buffitem_median_time_series', 'party_chat_cycle_basic_time', 'game_combat_time_diff1_time_series', 'get_money_MA_3_time_series', 'npc_exp_max_stat', 'item_hongmun_MA_3_basic_time', 'normal_chat_max_stat', 'cnt_enter_inzone_light_median_stat', 'first_week_cnt_use_buffitem', 'guild_chat_skew_basic_time', 'party_chat_MA_5_basic_time', 'pattern_week', 'cnt_use_buffitem_diff_w2_by_last_time_series', 'quest_hongmun_var_basic_time', 'item_hongmun_MA_4_basic_time', 'whisper_chat_kurt_basic_time', 'get_money_kurt_time_series', 'party_first_cnt_max', 'cnt_use_buffitem_diff6_time_series', 'item_hongmun_max_stat', 'get_money_diff6_time_series', 'party_chat_MA_2_basic_time', 'cnt_use_buffitem_diff_w8_by_last_time_series', 'cnt_use_buffitem_diff7_time_series', 'cnt_dt_median_time_series', 'cnt_dt_max_stat', 'game_combat_time_MA_3_time_series', 'play_pattern_by_partial_sum_month_prob', 'cnt_use_buffitem_cycle_time_series', 'party_first_cnt_range', 'npc_hongmun_var_basic_time', 'npc_exp_median_stat', 'item_hongmun_var_basic_time', 'quest_exp_max_stat', 'get_money_max_stat', 'quest_exp_sum_stat', \"('npc_exp', 'quest_exp')\", 'cnt_use_buffitem_MA_5_time_series', 'get_money_diff4_time_series', 'game_combat_time_diff6_time_series', 'full_party_cnt_max', 'get_money_diff_w8_by_last_time_series', 'play_pattern_by_partial_sum', 'party_chat_MA_1_basic_time', 'cnt_enter_inzone_solo_min_stat', 'guild_chat_min_stat', 'party_cnt', 'party_over8_cnt_sum', 'whisper_chat_range_stat', 'differ', 'whisper_chat_sum_stat', 'cnt_use_buffitem_diff4_time_series', 'normal_chat_sum_stat', 'get_money_cycle_time_series', 'npc_hongmun_cycle_basic_time', 'quest_hongmun_cycle_basic_time', 'cnt_dt_min_stat', 'cnt_enter_inzone_light_sum_stat', 'npc_exp_sum_stat', 'game_combat_time_diff5_time_series', 'cnt_enter_inzone_normal_median_stat', 'npc_exp_range_stat', 'whisper_chat_skew_basic_time', 'cnt_dt_MA_3_time_series', \"('npc_hongmun', 'item_hongmun')\", 'inzone_light_cycle_basic_time', 'full_party_cnt_sum', 'party_cnt_min', 'first_week_cnt_dt', 'game_combat_time_cycle_time_series', 'get_money_diff5_time_series', 'cnt_use_buffitem_range_stat', 'quest_hongmun_sum_stat', 'party_over8_cnt_median', 'inzone_solo_ratio', 'cnt_use_buffitem_MA_2_time_series', 'npc_hongmun_max_stat', 'party_chat_skew_basic_time', 'party_chat_median_stat', 'npc_hongmun_median_stat', 'inzone_light_mean_basic_time', 'game_combat_time_MA_5_time_series', 'item_hongmun_range_stat', 'party_cnt_median', 'item_hongmun_median_stat', 'quest_hongmun_by_cnt_dt', 'differ_range', 'cnt_dt_median_stat', 'cnt_enter_inzone_light_min_stat', 'cnt_enter_inzone_normal_min_stat', 'npc_hongmun_by_play_time', 'cnt_dt_diff7_time_series', 'get_money_median_stat', 'party_chat_max_stat', 'get_money_range_stat', 'inzone_normal_kurt_basic_time', 'quest_exp_min_stat', 'quest_exp_median_stat', 'inzone_normal_ratio', 'item_hongmun_kurt_basic_time', \"('get_money', 'cnt_use_buffitem')\", \"('quest_exp', 'game_combat_time')\", 'get_money_MA_4_time_series', 'play_time_mean_time_series', 'cnt_dt_MA_1_time_series', 'cnt_use_buffitem_min_stat', 'party_over8_cnt_max', 'npc_hongmun_MA_5_basic_time', 'party_chat_mean_basic_time', 'get_money_var_time_series', 'quest_hongmun_MA_4_basic_time', 'game_combat_time_median_time_series', 'party_chat_range_stat', 'game_combat_time_max_stat', 'cnt_dt_diff_w4_by_last_time_series', 'quest_hongmun_max_stat', 'npc_hongmun_kurt_basic_time', 'whisper_chat_var_basic_time', 'item_hongmun_cycle_basic_time', 'full_party_cnt_range', 'cnt_enter_inzone_light_range_stat', 'inzone_normal_cycle_basic_time', 'first_week_get_money', 'game_combat_time_sum_stat', 'inzone_normal_skew_basic_time', 'item_hongmun_min_stat', 'cnt_dt_diff_w2_by_last_time_series', 'whisper_chat_max_stat', 'cnt_use_buffitem_sum_stat', 'npc_exp_min_stat', 'full_party_cnt_min', 'inzone_light_skew_basic_time', 'game_combat_time_diff_w8_by_last_time_series', 'game_combat_time_diff7_time_series', 'get_money_skew_time_series', 'get_money_min_stat', 'play_time_diff3_time_series', 'quest_hongmun_median_stat', 'first_week_npc_hongmun', 'party_cnt_sum', 'cnt_use_buffitem_skew_time_series', 'item_hongmun_skew_basic_time', 'game_combat_time_MA_4_time_series', 'party_chat_sum_stat', 'play_time_median_time_series', 'npc_exp_by_play_time', 'game_combat_time_kurt_time_series', 'npc_hongmun_by_cnt_dt', 'cnt_dt_MA_4_time_series', 'cnt_dt_range_stat', 'get_money_MA_2_time_series', 'cnt_dt_sum_stat', 'play_time_diff1_time_series', 'cnt_use_buffitem_median_stat', 'get_money_diff7_time_series', 'game_combat_time_median_stat', 'play_time_diff6_time_series', 'inzone_light_ratio', 'play_time_diff2_time_series', 'quest_hongmun_by_play_time', 'game_combat_time_min_stat', 'npc_hongmun_range_stat', 'play_time_MA_2_time_series', \"('npc_exp', 'game_combat_time')\", 'chats_by_play_time', 'play_time_diff4_time_series', 'cnt_dt_diff_w8_by_last_time_series', 'game_combat_time_by_cnt_dt', 'cnt_dt_cycle_time_series', 'cnt_use_buffitem_kurt_time_series', 'cnt_use_buffitem_max_stat', 'game_combat_time_range_stat', 'quest_hongmun_kurt_basic_time', 'quest_exp_by_play_time', 'get_money_diff_w4_by_last_time_series', 'play_time_cycle_time_series', 'play_time_sum_stat', 'first_week_game_combat_time', 'play_time_median_stat', 'play_time_var_time_series', 'cnt_dt_var_time_series', 'get_money_by_play_time', 'play_time_skew_time_series', 'quest_hongmun_skew_basic_time', 'cnt_dt_skew_time_series', 'play_time_MA_5_time_series', 'play_time_MA_3_time_series', 'play_time_MA_1_time_series', 'play_time_MA_4_time_series', 'play_time_max_stat', 'play_time_range_stat', 'cnt_dt_kurt_time_series', 'play_time_by_cnt_dt', 'play_time_kurt_time_series', 'cnt_use_buffitem_by_game_combat_time', 'game_combat_time_by_play_time', 'play_time_diff_w4_by_last_time_series', 'play_time_min_stat', 'play_time_diff_w8_by_last_time_series', 'first_week_play_time', 'play_time_diff7_time_series', 'play_time_diff_w2_by_last_time_series', 'guild_chat_max_last_diff', 'give_gini', 'rec_gini', 'exc_gini', 'source+exc', 'target+exc', 'exc_ratio', 'one_way_ratio', 'first_trade_all', 'grocery_portion_in_market', 'money_portion_in_market', 'other_portion_in_market', 'first_week_money_by_cnt_dt', 'money_by_dt_first_max', 'get_money_cnt_dt_lr', 'trade_cnt_by_cnt_dt', 'trade_cnt_by_play_time', 'trade_cnt_by_combat_time', 'first_week_money_by_play_time', 'money_by_time_max_last', 'money_by_time_first_last', 'money_by_time_first_max', 'money_by_time_median_last', 'get_money_time_lr', 'last_trade_all', 'last_week_trade_cnt', 'first_week_trade_cnt', 'weekly_max_trade_cnt', 'weekly_trade_cnt_std', 'weekly_trade_cycle', 'trade_first-last', 'trade_last-max', 'first_week_exp_by_hongmun_quest', 'exp_by_hongmun_quest_max_last', 'exp_by_hongmun_quest_first_last', 'exp_by_hongmun_quest_first_max', 'exp_by_hongmun_quest_median_last', 'get_train_exp_by_hongmun_quest_pivot_lr', 'first_week_exp_by_hongmun_npc', 'exp_by_hongmun_npc_max_last', 'exp_by_hongmun_npc_first_last', 'exp_by_hongmun_npc_first_max', 'exp_by_hongmun_npc_median_last', 'get_train_exp_by_hongmun_npc_pivot_lr', 'first_week_exp_by_hongmun', 'exp_by_hongmun_max_last', 'exp_by_hongmun_first_last', 'exp_by_hongmun_first_max', 'exp_by_hongmun_median_last', 'get_train_exp_by_hongmun_pivot_lr', 'first_week_hongmun_sum', 'until_first_week_hongmun_sum', 'only_hongmun_week_cnt', 'only_exp_week_cnt', 'hongmun_exp_week_cnt', 'no_hongmun_exp_week_cnt', 'group_a', 'group_b', 'group_c', 'group_d', 'group_e'] ['differ_ratio_1', 'play_time_Count', 'cnt_enter_inzone_skilled_Count', 'making_cnt_Count', 'normal_chat_median_basic_time', 'first_week_cnt_clear_raid_light', 'cnt_enter_raid_light_range_stat', 'payment_amount_MA_5_basic_time', 'duel_cnt_sum_stat', 'trade_InDeg', 'partybattle_cnt_sum_stat', 'payment_amount_median_basic_time', 'partybattle_cnt_max_stat', 'payment_amount_kurt_basic_time', 'cnt_enter_raid_light_median_stat', 'guild_chat_MA_1_basic_time', 'whisper_chat_Count', 'cnt_enter_inzone_light_Count', 'payment_amount_MA_1_basic_time', 'cnt_enter_raid_light_max_stat', 'payment_amount_by_play_time', 'normal_chat_MA_2_basic_time', 'cnt_dt_Count', 'normal_chat_MA_1_basic_time', 'payment_amount_MA_3_basic_time', 'cnt_enter_raid_light_Count', 'district_chat_max_stat', 'payment_amount_min_stat', 'first_week_making_cnt', 'payment_amount_MA_4_basic_time', 'cnt_use_buffitem_Count', 'game_combat_time_Count', 'first_week_cnt_clear_inzone_solo', 'party_cnt_with4_median', 'inzone_skilled_ratio', 'cnt_enter_inzone_skilled_max_stat', 'cnt_enter_inzone_solo_Count', 'cnt_enter_raid_min_stat', 'first_week_payment_amount', 'raid_light_ratio', 'cnt_enter_inzone_normal_Count', 'party_cnt_with4_range', 'item_hongmun_mean_basic_time', 'payment_amount_max_stat', 'district_chat_median_stat', 'payment_amount_cycle_basic_time', 'making_cnt_sum_stat', 'party_cnt_with4_min', 'trade_InDegCen', 'first_week_cnt_enter_inzone_solo', 'guild_chat_MA_4_basic_time', 'guild_chat_mean_basic_time', 'num_guild', 'guild_chat_var_basic_time', 'guild_chat_Count', 'first_week', 'inzone_normal_median_basic_time', 'party_chat_Count', 'party_chat_median_basic_time', 'duel_ratio', 'first_week_normal_chat', 'first_week_cnt_clear_inzone_normal', 'play_pattern_by_partial_sum_retained_prob', 'guild_chat_cycle_basic_time', 'net_EigCen', 'first_week_cnt_clear_inzone_light', 'item_hongmun_median_basic_time', 'making_cnt_min_stat', 'making_cnt_range_stat', 'first_week_guild_chat', 'net_BetCen', 'district_chat_sum_stat', 'party_battle_ratio', 'full_party_cnt', 'party_cnt_with4_sum', 'inzone_light_MA_3_basic_time', 'guild_chat_MA_5_basic_time', 'guild_chat_median_stat', 'party_cnt_with4_max', 'cnt_enter_inzone_skilled_sum_stat', 'guild_chat_MA_3_basic_time', 'net_lcc', 'party_chat_MA_3_basic_time', 'cnt_enter_raid_median_stat', 'npc_hongmun_mean_basic_time', 'payment_amount_sum_stat', 'inzone_normal_MA_3_basic_time', 'pattern_month', 'first_week_cnt_enter_inzone_normal', 'pattern_retained', 'party_over8_cnt', 'cnt_enter_raid_sum_stat', 'get_money_mean_time_series', 'trade_OutDeg', 'get_money_Count', 'normal_chat_cycle_basic_time', 'cnt_enter_raid_light_sum_stat', 'cnt_dt_diff1_time_series', 'whisper_chat_MA_2_basic_time', 'whisper_chat_median_basic_time', 'npc_hongmun_MA_2_basic_time', 'inzone_normal_MA_2_basic_time', 'cnt_enter_raid_Count', 'first_week_cnt_enter_inzone_light', 'inzone_light_MA_1_basic_time', 'inzone_normal_MA_4_basic_time', 'inzone_normal_var_basic_time', 'payment_amount_range_stat', 'whisper_chat_MA_5_basic_time', 'npc_hongmun_MA_3_basic_time', 'cnt_use_buffitem_mean_time_series', 'net_DegCen', 'differ_median', 'inzone_normal_MA_1_basic_time', 'first_week_npc_exp', 'quest_hongmun_mean_basic_time', 'get_money_MA_5_time_series', 'cnt_enter_inzone_normal_max_stat', 'npc_hongmun_MA_4_basic_time', 'cnt_use_buffitem_diff1_time_series', 'item_hongmun_MA_2_basic_time', 'cnt_enter_inzone_light_max_stat', 'party_cnt_max', 'game_combat_time_mean_time_series', 'first_week_whisper_chat', 'guild_chat_kurt_basic_time', 'first_week_quest_exp', 'normal_chat_MA_5_basic_time', 'pattern_2month', 'quest_hongmun_median_basic_time', 'inzone_light_MA_4_basic_time', 'quest_hongmun_MA_3_basic_time', \"('get_money', 'whisper_chat')\", 'guild_chat_max_stat', 'cnt_use_buffitem_diff3_time_series', 'raid_ratio', 'get_money_diff2_time_series', 'inzone_light_var_basic_time', 'get_money_diff3_time_series', 'cnt_enter_inzone_normal_range_stat', 'inzone_light_MA_5_basic_time', 'inzone_light_median_basic_time', 'cnt_use_buffitem_MA_1_time_series', 'whisper_chat_mean_basic_time', 'net_ClsCen', 'item_hongmun_sum_stat', 'party_first_cnt', 'cnt_enter_inzone_solo_median_stat', 'get_money_sum_stat', 'cnt_dt_diff5_time_series', 'whisper_chat_MA_3_basic_time', 'trade_outDegCen', 'cnt_use_buffitem_MA_3_time_series', 'first_week_party_chat', 'play_pattern_by_partial_sum_week_prob', 'cnt_dt_diff2_time_series', 'guild_size', 'play_pattern_by_partial_sum_2month_prob', 'differ_min', 'npc_hongmun_median_basic_time', 'get_money_median_time_series', 'cnt_enter_inzone_solo_max_stat', 'cnt_dt_mean_time_series', 'inzone_light_MA_2_basic_time', 'whisper_chat_cycle_basic_time', 'npc_hongmun_sum_stat', 'cnt_enter_inzone_normal_sum_stat', 'inzone_normal_mean_basic_time', 'npc_exp_by_cnt_dt', 'cnt_dt_diff6_time_series', 'differ_sum', 'party_chat_MA_4_basic_time', 'cnt_dt_diff3_time_series', 'quest_exp_by_cnt_dt', 'get_money_MA_1_time_series', 'cnt_use_buffitem_MA_4_time_series', 'differ_max', 'cnt_enter_inzone_solo_sum_stat', 'normal_chat_skew_basic_time', 'inzone_normal_MA_5_basic_time', 'payment_amount_skew_basic_time', 'whisper_chat_median_stat', 'party_chat_var_basic_time', 'full_party_cnt_median', 'quest_hongmun_MA_2_basic_time', 'game_combat_time_diff4_time_series', 'item_hongmun_Count', 'cnt_use_buffitem_median_time_series', 'party_chat_cycle_basic_time', 'game_combat_time_diff1_time_series', 'get_money_MA_3_time_series', 'npc_exp_max_stat', 'item_hongmun_MA_3_basic_time', 'normal_chat_max_stat', 'cnt_enter_inzone_light_median_stat', 'first_week_cnt_use_buffitem', 'guild_chat_skew_basic_time', 'party_chat_MA_5_basic_time', 'pattern_week', 'cnt_use_buffitem_diff_w2_by_last_time_series', 'quest_hongmun_var_basic_time', 'item_hongmun_MA_4_basic_time', 'whisper_chat_kurt_basic_time', 'get_money_kurt_time_series', 'party_first_cnt_max', 'cnt_use_buffitem_diff6_time_series', 'item_hongmun_max_stat', 'get_money_diff6_time_series', 'party_chat_MA_2_basic_time', 'cnt_use_buffitem_diff_w8_by_last_time_series', 'cnt_use_buffitem_diff7_time_series', 'cnt_dt_median_time_series', 'cnt_dt_max_stat', 'game_combat_time_MA_3_time_series', 'play_pattern_by_partial_sum_month_prob', 'cnt_use_buffitem_cycle_time_series', 'party_first_cnt_range', 'npc_hongmun_var_basic_time', 'npc_exp_median_stat', 'item_hongmun_var_basic_time', 'quest_exp_max_stat', 'get_money_max_stat', 'quest_exp_sum_stat', \"('npc_exp', 'quest_exp')\", 'cnt_use_buffitem_MA_5_time_series', 'get_money_diff4_time_series', 'game_combat_time_diff6_time_series', 'full_party_cnt_max', 'get_money_diff_w8_by_last_time_series', 'play_pattern_by_partial_sum', 'party_chat_MA_1_basic_time', 'cnt_enter_inzone_solo_min_stat', 'guild_chat_min_stat', 'party_cnt', 'party_over8_cnt_sum', 'whisper_chat_range_stat', 'differ', 'whisper_chat_sum_stat', 'cnt_use_buffitem_diff4_time_series', 'normal_chat_sum_stat', 'get_money_cycle_time_series', 'npc_hongmun_cycle_basic_time', 'quest_hongmun_cycle_basic_time', 'cnt_dt_min_stat', 'cnt_enter_inzone_light_sum_stat', 'npc_exp_sum_stat', 'game_combat_time_diff5_time_series', 'cnt_enter_inzone_normal_median_stat', 'npc_exp_range_stat', 'whisper_chat_skew_basic_time', 'cnt_dt_MA_3_time_series', \"('npc_hongmun', 'item_hongmun')\", 'inzone_light_cycle_basic_time', 'full_party_cnt_sum', 'party_cnt_min', 'first_week_cnt_dt', 'game_combat_time_cycle_time_series', 'get_money_diff5_time_series', 'cnt_use_buffitem_range_stat', 'quest_hongmun_sum_stat', 'party_over8_cnt_median', 'inzone_solo_ratio', 'cnt_use_buffitem_MA_2_time_series', 'npc_hongmun_max_stat', 'party_chat_skew_basic_time', 'party_chat_median_stat', 'npc_hongmun_median_stat', 'inzone_light_mean_basic_time', 'game_combat_time_MA_5_time_series', 'item_hongmun_range_stat', 'party_cnt_median', 'item_hongmun_median_stat', 'quest_hongmun_by_cnt_dt', 'differ_range', 'cnt_dt_median_stat', 'cnt_enter_inzone_light_min_stat', 'cnt_enter_inzone_normal_min_stat', 'npc_hongmun_by_play_time', 'cnt_dt_diff7_time_series', 'get_money_median_stat', 'party_chat_max_stat', 'get_money_range_stat', 'inzone_normal_kurt_basic_time', 'quest_exp_min_stat', 'quest_exp_median_stat', 'inzone_normal_ratio', 'item_hongmun_kurt_basic_time', \"('get_money', 'cnt_use_buffitem')\", \"('quest_exp', 'game_combat_time')\", 'get_money_MA_4_time_series', 'play_time_mean_time_series', 'cnt_dt_MA_1_time_series', 'cnt_use_buffitem_min_stat', 'party_over8_cnt_max', 'npc_hongmun_MA_5_basic_time', 'party_chat_mean_basic_time', 'get_money_var_time_series', 'quest_hongmun_MA_4_basic_time', 'game_combat_time_median_time_series', 'party_chat_range_stat', 'game_combat_time_max_stat', 'cnt_dt_diff_w4_by_last_time_series', 'quest_hongmun_max_stat', 'npc_hongmun_kurt_basic_time', 'whisper_chat_var_basic_time', 'item_hongmun_cycle_basic_time', 'full_party_cnt_range', 'cnt_enter_inzone_light_range_stat', 'inzone_normal_cycle_basic_time', 'first_week_get_money', 'game_combat_time_sum_stat', 'inzone_normal_skew_basic_time', 'item_hongmun_min_stat', 'cnt_dt_diff_w2_by_last_time_series', 'whisper_chat_max_stat', 'cnt_use_buffitem_sum_stat', 'npc_exp_min_stat', 'full_party_cnt_min', 'inzone_light_skew_basic_time', 'game_combat_time_diff_w8_by_last_time_series', 'game_combat_time_diff7_time_series', 'get_money_skew_time_series', 'get_money_min_stat', 'play_time_diff3_time_series', 'quest_hongmun_median_stat', 'first_week_npc_hongmun', 'party_cnt_sum', 'cnt_use_buffitem_skew_time_series', 'item_hongmun_skew_basic_time', 'game_combat_time_MA_4_time_series', 'party_chat_sum_stat', 'play_time_median_time_series', 'npc_exp_by_play_time', 'game_combat_time_kurt_time_series', 'npc_hongmun_by_cnt_dt', 'cnt_dt_MA_4_time_series', 'cnt_dt_range_stat', 'get_money_MA_2_time_series', 'cnt_dt_sum_stat', 'play_time_diff1_time_series', 'cnt_use_buffitem_median_stat', 'get_money_diff7_time_series', 'game_combat_time_median_stat', 'play_time_diff6_time_series', 'inzone_light_ratio', 'play_time_diff2_time_series', 'quest_hongmun_by_play_time', 'game_combat_time_min_stat', 'npc_hongmun_range_stat', 'play_time_MA_2_time_series', \"('npc_exp', 'game_combat_time')\", 'chats_by_play_time', 'play_time_diff4_time_series', 'cnt_dt_diff_w8_by_last_time_series', 'game_combat_time_by_cnt_dt', 'cnt_dt_cycle_time_series', 'cnt_use_buffitem_kurt_time_series', 'cnt_use_buffitem_max_stat', 'game_combat_time_range_stat', 'quest_hongmun_kurt_basic_time', 'quest_exp_by_play_time', 'get_money_diff_w4_by_last_time_series', 'play_time_cycle_time_series', 'play_time_sum_stat', 'first_week_game_combat_time', 'play_time_median_stat', 'play_time_var_time_series', 'cnt_dt_var_time_series', 'get_money_by_play_time', 'play_time_skew_time_series', 'quest_hongmun_skew_basic_time', 'cnt_dt_skew_time_series', 'play_time_MA_5_time_series', 'play_time_MA_3_time_series', 'play_time_MA_1_time_series', 'play_time_MA_4_time_series', 'play_time_max_stat', 'play_time_range_stat', 'cnt_dt_kurt_time_series', 'play_time_by_cnt_dt', 'play_time_kurt_time_series', 'cnt_use_buffitem_by_game_combat_time', 'game_combat_time_by_play_time', 'play_time_diff_w4_by_last_time_series', 'play_time_min_stat', 'play_time_diff_w8_by_last_time_series', 'first_week_play_time', 'play_time_diff7_time_series', 'play_time_diff_w2_by_last_time_series', 'guild_chat_max_last_diff', 'give_gini', 'rec_gini', 'exc_gini', 'source+exc', 'target+exc', 'exc_ratio', 'one_way_ratio', 'first_trade_all', 'grocery_portion_in_market', 'money_portion_in_market', 'other_portion_in_market', 'first_week_money_by_cnt_dt', 'money_by_dt_first_max', 'get_money_cnt_dt_lr', 'trade_cnt_by_cnt_dt', 'trade_cnt_by_play_time', 'trade_cnt_by_combat_time', 'first_week_money_by_play_time', 'money_by_time_max_last', 'money_by_time_first_last', 'money_by_time_first_max', 'money_by_time_median_last', 'get_money_time_lr', 'last_trade_all', 'last_week_trade_cnt', 'first_week_trade_cnt', 'weekly_max_trade_cnt', 'weekly_trade_cnt_std', 'weekly_trade_cycle', 'trade_first-last', 'trade_last-max', 'first_week_exp_by_hongmun_quest', 'exp_by_hongmun_quest_max_last', 'exp_by_hongmun_quest_first_last', 'exp_by_hongmun_quest_first_max', 'exp_by_hongmun_quest_median_last', 'get_test_exp_by_hongmun_quest_pivot_lr', 'first_week_exp_by_hongmun_npc', 'exp_by_hongmun_npc_max_last', 'exp_by_hongmun_npc_first_last', 'exp_by_hongmun_npc_first_max', 'exp_by_hongmun_npc_median_last', 'get_test_exp_by_hongmun_npc_pivot_lr', 'first_week_exp_by_hongmun', 'exp_by_hongmun_max_last', 'exp_by_hongmun_first_last', 'exp_by_hongmun_first_max', 'exp_by_hongmun_median_last', 'get_test_exp_by_hongmun_pivot_lr', 'first_week_hongmun_sum', 'until_first_week_hongmun_sum', 'only_hongmun_week_cnt', 'only_exp_week_cnt', 'hongmun_exp_week_cnt', 'no_hongmun_exp_week_cnt', 'group_a', 'group_b', 'group_c', 'group_d', 'group_e']\nexpected get_train_exp_by_hongmun_quest_pivot_lr, get_train_exp_by_hongmun_npc_pivot_lr, get_train_exp_by_hongmun_pivot_lr in input data\ntraining data did not have the following fields: get_test_exp_by_hongmun_quest_pivot_lr, get_test_exp_by_hongmun_pivot_lr, get_test_exp_by_hongmun_npc_pivot_lr",
     "output_type": "error",
     "traceback": [
      "\u001b[0;31m---------------------------------------------------------------------------\u001b[0m",
      "\u001b[0;31mValueError\u001b[0m                                Traceback (most recent call last)",
      "\u001b[0;32m<ipython-input-66-1ee128291d33>\u001b[0m in \u001b[0;36m<module>\u001b[0;34m()\u001b[0m\n\u001b[1;32m      1\u001b[0m \u001b[0;31m#### prob 클래스별 확률 예측\u001b[0m\u001b[0;34m\u001b[0m\u001b[0;34m\u001b[0m\u001b[0m\n\u001b[0;32m----> 2\u001b[0;31m \u001b[0mextra_prob\u001b[0m \u001b[0;34m=\u001b[0m \u001b[0mpd\u001b[0m\u001b[0;34m.\u001b[0m\u001b[0mDataFrame\u001b[0m\u001b[0;34m(\u001b[0m\u001b[0mmodel\u001b[0m\u001b[0;34m.\u001b[0m\u001b[0mpredict_proba\u001b[0m\u001b[0;34m(\u001b[0m\u001b[0mX_test\u001b[0m\u001b[0;34m)\u001b[0m\u001b[0;34m,\u001b[0m\u001b[0mcolumns\u001b[0m\u001b[0;34m=\u001b[0m\u001b[0;34m[\u001b[0m\u001b[0;34m'y_pred_prob0'\u001b[0m\u001b[0;34m,\u001b[0m \u001b[0;34m'y_pred_prob1'\u001b[0m\u001b[0;34m,\u001b[0m \u001b[0;34m'y_pred_prob2'\u001b[0m\u001b[0;34m,\u001b[0m\u001b[0;34m'y_pred_prob3'\u001b[0m\u001b[0;34m]\u001b[0m\u001b[0;34m)\u001b[0m\u001b[0;34m\u001b[0m\u001b[0m\n\u001b[0m",
      "\u001b[0;32m/opt/conda/lib/python3.6/site-packages/xgboost-0.80-py3.6.egg/xgboost/sklearn.py\u001b[0m in \u001b[0;36mpredict_proba\u001b[0;34m(self, data, ntree_limit)\u001b[0m\n\u001b[1;32m    679\u001b[0m             \u001b[0mntree_limit\u001b[0m \u001b[0;34m=\u001b[0m \u001b[0mgetattr\u001b[0m\u001b[0;34m(\u001b[0m\u001b[0mself\u001b[0m\u001b[0;34m,\u001b[0m \u001b[0;34m\"best_ntree_limit\"\u001b[0m\u001b[0;34m,\u001b[0m \u001b[0;36m0\u001b[0m\u001b[0;34m)\u001b[0m\u001b[0;34m\u001b[0m\u001b[0m\n\u001b[1;32m    680\u001b[0m         class_probs = self.get_booster().predict(test_dmatrix,\n\u001b[0;32m--> 681\u001b[0;31m                                                  ntree_limit=ntree_limit)\n\u001b[0m\u001b[1;32m    682\u001b[0m         \u001b[0;32mif\u001b[0m \u001b[0mself\u001b[0m\u001b[0;34m.\u001b[0m\u001b[0mobjective\u001b[0m \u001b[0;34m==\u001b[0m \u001b[0;34m\"multi:softprob\"\u001b[0m\u001b[0;34m:\u001b[0m\u001b[0;34m\u001b[0m\u001b[0m\n\u001b[1;32m    683\u001b[0m             \u001b[0;32mreturn\u001b[0m \u001b[0mclass_probs\u001b[0m\u001b[0;34m\u001b[0m\u001b[0m\n",
      "\u001b[0;32m/opt/conda/lib/python3.6/site-packages/xgboost-0.80-py3.6.egg/xgboost/core.py\u001b[0m in \u001b[0;36mpredict\u001b[0;34m(self, data, output_margin, ntree_limit, pred_leaf, pred_contribs, approx_contribs, pred_interactions, validate_features)\u001b[0m\n\u001b[1;32m   1192\u001b[0m \u001b[0;34m\u001b[0m\u001b[0m\n\u001b[1;32m   1193\u001b[0m         \u001b[0;32mif\u001b[0m \u001b[0mvalidate_features\u001b[0m\u001b[0;34m:\u001b[0m\u001b[0;34m\u001b[0m\u001b[0m\n\u001b[0;32m-> 1194\u001b[0;31m             \u001b[0mself\u001b[0m\u001b[0;34m.\u001b[0m\u001b[0m_validate_features\u001b[0m\u001b[0;34m(\u001b[0m\u001b[0mdata\u001b[0m\u001b[0;34m)\u001b[0m\u001b[0;34m\u001b[0m\u001b[0m\n\u001b[0m\u001b[1;32m   1195\u001b[0m \u001b[0;34m\u001b[0m\u001b[0m\n\u001b[1;32m   1196\u001b[0m         \u001b[0mlength\u001b[0m \u001b[0;34m=\u001b[0m \u001b[0mc_bst_ulong\u001b[0m\u001b[0;34m(\u001b[0m\u001b[0;34m)\u001b[0m\u001b[0;34m\u001b[0m\u001b[0m\n",
      "\u001b[0;32m/opt/conda/lib/python3.6/site-packages/xgboost-0.80-py3.6.egg/xgboost/core.py\u001b[0m in \u001b[0;36m_validate_features\u001b[0;34m(self, data)\u001b[0m\n\u001b[1;32m   1494\u001b[0m \u001b[0;34m\u001b[0m\u001b[0m\n\u001b[1;32m   1495\u001b[0m                 raise ValueError(msg.format(self.feature_names,\n\u001b[0;32m-> 1496\u001b[0;31m                                             data.feature_names))\n\u001b[0m\u001b[1;32m   1497\u001b[0m \u001b[0;34m\u001b[0m\u001b[0m\n\u001b[1;32m   1498\u001b[0m     \u001b[0;32mdef\u001b[0m \u001b[0mget_split_value_histogram\u001b[0m\u001b[0;34m(\u001b[0m\u001b[0mself\u001b[0m\u001b[0;34m,\u001b[0m \u001b[0mfeature\u001b[0m\u001b[0;34m,\u001b[0m \u001b[0mfmap\u001b[0m\u001b[0;34m=\u001b[0m\u001b[0;34m''\u001b[0m\u001b[0;34m,\u001b[0m \u001b[0mbins\u001b[0m\u001b[0;34m=\u001b[0m\u001b[0;32mNone\u001b[0m\u001b[0;34m,\u001b[0m \u001b[0mas_pandas\u001b[0m\u001b[0;34m=\u001b[0m\u001b[0;32mTrue\u001b[0m\u001b[0;34m)\u001b[0m\u001b[0;34m:\u001b[0m\u001b[0;34m\u001b[0m\u001b[0m\n",
      "\u001b[0;31mValueError\u001b[0m: feature_names mismatch: ['differ_ratio_1', 'play_time_Count', 'cnt_enter_inzone_skilled_Count', 'making_cnt_Count', 'normal_chat_median_basic_time', 'first_week_cnt_clear_raid_light', 'cnt_enter_raid_light_range_stat', 'payment_amount_MA_5_basic_time', 'duel_cnt_sum_stat', 'trade_InDeg', 'partybattle_cnt_sum_stat', 'payment_amount_median_basic_time', 'partybattle_cnt_max_stat', 'payment_amount_kurt_basic_time', 'cnt_enter_raid_light_median_stat', 'guild_chat_MA_1_basic_time', 'whisper_chat_Count', 'cnt_enter_inzone_light_Count', 'payment_amount_MA_1_basic_time', 'cnt_enter_raid_light_max_stat', 'payment_amount_by_play_time', 'normal_chat_MA_2_basic_time', 'cnt_dt_Count', 'normal_chat_MA_1_basic_time', 'payment_amount_MA_3_basic_time', 'cnt_enter_raid_light_Count', 'district_chat_max_stat', 'payment_amount_min_stat', 'first_week_making_cnt', 'payment_amount_MA_4_basic_time', 'cnt_use_buffitem_Count', 'game_combat_time_Count', 'first_week_cnt_clear_inzone_solo', 'party_cnt_with4_median', 'inzone_skilled_ratio', 'cnt_enter_inzone_skilled_max_stat', 'cnt_enter_inzone_solo_Count', 'cnt_enter_raid_min_stat', 'first_week_payment_amount', 'raid_light_ratio', 'cnt_enter_inzone_normal_Count', 'party_cnt_with4_range', 'item_hongmun_mean_basic_time', 'payment_amount_max_stat', 'district_chat_median_stat', 'payment_amount_cycle_basic_time', 'making_cnt_sum_stat', 'party_cnt_with4_min', 'trade_InDegCen', 'first_week_cnt_enter_inzone_solo', 'guild_chat_MA_4_basic_time', 'guild_chat_mean_basic_time', 'num_guild', 'guild_chat_var_basic_time', 'guild_chat_Count', 'first_week', 'inzone_normal_median_basic_time', 'party_chat_Count', 'party_chat_median_basic_time', 'duel_ratio', 'first_week_normal_chat', 'first_week_cnt_clear_inzone_normal', 'play_pattern_by_partial_sum_retained_prob', 'guild_chat_cycle_basic_time', 'net_EigCen', 'first_week_cnt_clear_inzone_light', 'item_hongmun_median_basic_time', 'making_cnt_min_stat', 'making_cnt_range_stat', 'first_week_guild_chat', 'net_BetCen', 'district_chat_sum_stat', 'party_battle_ratio', 'full_party_cnt', 'party_cnt_with4_sum', 'inzone_light_MA_3_basic_time', 'guild_chat_MA_5_basic_time', 'guild_chat_median_stat', 'party_cnt_with4_max', 'cnt_enter_inzone_skilled_sum_stat', 'guild_chat_MA_3_basic_time', 'net_lcc', 'party_chat_MA_3_basic_time', 'cnt_enter_raid_median_stat', 'npc_hongmun_mean_basic_time', 'payment_amount_sum_stat', 'inzone_normal_MA_3_basic_time', 'pattern_month', 'first_week_cnt_enter_inzone_normal', 'pattern_retained', 'party_over8_cnt', 'cnt_enter_raid_sum_stat', 'get_money_mean_time_series', 'trade_OutDeg', 'get_money_Count', 'normal_chat_cycle_basic_time', 'cnt_enter_raid_light_sum_stat', 'cnt_dt_diff1_time_series', 'whisper_chat_MA_2_basic_time', 'whisper_chat_median_basic_time', 'npc_hongmun_MA_2_basic_time', 'inzone_normal_MA_2_basic_time', 'cnt_enter_raid_Count', 'first_week_cnt_enter_inzone_light', 'inzone_light_MA_1_basic_time', 'inzone_normal_MA_4_basic_time', 'inzone_normal_var_basic_time', 'payment_amount_range_stat', 'whisper_chat_MA_5_basic_time', 'npc_hongmun_MA_3_basic_time', 'cnt_use_buffitem_mean_time_series', 'net_DegCen', 'differ_median', 'inzone_normal_MA_1_basic_time', 'first_week_npc_exp', 'quest_hongmun_mean_basic_time', 'get_money_MA_5_time_series', 'cnt_enter_inzone_normal_max_stat', 'npc_hongmun_MA_4_basic_time', 'cnt_use_buffitem_diff1_time_series', 'item_hongmun_MA_2_basic_time', 'cnt_enter_inzone_light_max_stat', 'party_cnt_max', 'game_combat_time_mean_time_series', 'first_week_whisper_chat', 'guild_chat_kurt_basic_time', 'first_week_quest_exp', 'normal_chat_MA_5_basic_time', 'pattern_2month', 'quest_hongmun_median_basic_time', 'inzone_light_MA_4_basic_time', 'quest_hongmun_MA_3_basic_time', \"('get_money', 'whisper_chat')\", 'guild_chat_max_stat', 'cnt_use_buffitem_diff3_time_series', 'raid_ratio', 'get_money_diff2_time_series', 'inzone_light_var_basic_time', 'get_money_diff3_time_series', 'cnt_enter_inzone_normal_range_stat', 'inzone_light_MA_5_basic_time', 'inzone_light_median_basic_time', 'cnt_use_buffitem_MA_1_time_series', 'whisper_chat_mean_basic_time', 'net_ClsCen', 'item_hongmun_sum_stat', 'party_first_cnt', 'cnt_enter_inzone_solo_median_stat', 'get_money_sum_stat', 'cnt_dt_diff5_time_series', 'whisper_chat_MA_3_basic_time', 'trade_outDegCen', 'cnt_use_buffitem_MA_3_time_series', 'first_week_party_chat', 'play_pattern_by_partial_sum_week_prob', 'cnt_dt_diff2_time_series', 'guild_size', 'play_pattern_by_partial_sum_2month_prob', 'differ_min', 'npc_hongmun_median_basic_time', 'get_money_median_time_series', 'cnt_enter_inzone_solo_max_stat', 'cnt_dt_mean_time_series', 'inzone_light_MA_2_basic_time', 'whisper_chat_cycle_basic_time', 'npc_hongmun_sum_stat', 'cnt_enter_inzone_normal_sum_stat', 'inzone_normal_mean_basic_time', 'npc_exp_by_cnt_dt', 'cnt_dt_diff6_time_series', 'differ_sum', 'party_chat_MA_4_basic_time', 'cnt_dt_diff3_time_series', 'quest_exp_by_cnt_dt', 'get_money_MA_1_time_series', 'cnt_use_buffitem_MA_4_time_series', 'differ_max', 'cnt_enter_inzone_solo_sum_stat', 'normal_chat_skew_basic_time', 'inzone_normal_MA_5_basic_time', 'payment_amount_skew_basic_time', 'whisper_chat_median_stat', 'party_chat_var_basic_time', 'full_party_cnt_median', 'quest_hongmun_MA_2_basic_time', 'game_combat_time_diff4_time_series', 'item_hongmun_Count', 'cnt_use_buffitem_median_time_series', 'party_chat_cycle_basic_time', 'game_combat_time_diff1_time_series', 'get_money_MA_3_time_series', 'npc_exp_max_stat', 'item_hongmun_MA_3_basic_time', 'normal_chat_max_stat', 'cnt_enter_inzone_light_median_stat', 'first_week_cnt_use_buffitem', 'guild_chat_skew_basic_time', 'party_chat_MA_5_basic_time', 'pattern_week', 'cnt_use_buffitem_diff_w2_by_last_time_series', 'quest_hongmun_var_basic_time', 'item_hongmun_MA_4_basic_time', 'whisper_chat_kurt_basic_time', 'get_money_kurt_time_series', 'party_first_cnt_max', 'cnt_use_buffitem_diff6_time_series', 'item_hongmun_max_stat', 'get_money_diff6_time_series', 'party_chat_MA_2_basic_time', 'cnt_use_buffitem_diff_w8_by_last_time_series', 'cnt_use_buffitem_diff7_time_series', 'cnt_dt_median_time_series', 'cnt_dt_max_stat', 'game_combat_time_MA_3_time_series', 'play_pattern_by_partial_sum_month_prob', 'cnt_use_buffitem_cycle_time_series', 'party_first_cnt_range', 'npc_hongmun_var_basic_time', 'npc_exp_median_stat', 'item_hongmun_var_basic_time', 'quest_exp_max_stat', 'get_money_max_stat', 'quest_exp_sum_stat', \"('npc_exp', 'quest_exp')\", 'cnt_use_buffitem_MA_5_time_series', 'get_money_diff4_time_series', 'game_combat_time_diff6_time_series', 'full_party_cnt_max', 'get_money_diff_w8_by_last_time_series', 'play_pattern_by_partial_sum', 'party_chat_MA_1_basic_time', 'cnt_enter_inzone_solo_min_stat', 'guild_chat_min_stat', 'party_cnt', 'party_over8_cnt_sum', 'whisper_chat_range_stat', 'differ', 'whisper_chat_sum_stat', 'cnt_use_buffitem_diff4_time_series', 'normal_chat_sum_stat', 'get_money_cycle_time_series', 'npc_hongmun_cycle_basic_time', 'quest_hongmun_cycle_basic_time', 'cnt_dt_min_stat', 'cnt_enter_inzone_light_sum_stat', 'npc_exp_sum_stat', 'game_combat_time_diff5_time_series', 'cnt_enter_inzone_normal_median_stat', 'npc_exp_range_stat', 'whisper_chat_skew_basic_time', 'cnt_dt_MA_3_time_series', \"('npc_hongmun', 'item_hongmun')\", 'inzone_light_cycle_basic_time', 'full_party_cnt_sum', 'party_cnt_min', 'first_week_cnt_dt', 'game_combat_time_cycle_time_series', 'get_money_diff5_time_series', 'cnt_use_buffitem_range_stat', 'quest_hongmun_sum_stat', 'party_over8_cnt_median', 'inzone_solo_ratio', 'cnt_use_buffitem_MA_2_time_series', 'npc_hongmun_max_stat', 'party_chat_skew_basic_time', 'party_chat_median_stat', 'npc_hongmun_median_stat', 'inzone_light_mean_basic_time', 'game_combat_time_MA_5_time_series', 'item_hongmun_range_stat', 'party_cnt_median', 'item_hongmun_median_stat', 'quest_hongmun_by_cnt_dt', 'differ_range', 'cnt_dt_median_stat', 'cnt_enter_inzone_light_min_stat', 'cnt_enter_inzone_normal_min_stat', 'npc_hongmun_by_play_time', 'cnt_dt_diff7_time_series', 'get_money_median_stat', 'party_chat_max_stat', 'get_money_range_stat', 'inzone_normal_kurt_basic_time', 'quest_exp_min_stat', 'quest_exp_median_stat', 'inzone_normal_ratio', 'item_hongmun_kurt_basic_time', \"('get_money', 'cnt_use_buffitem')\", \"('quest_exp', 'game_combat_time')\", 'get_money_MA_4_time_series', 'play_time_mean_time_series', 'cnt_dt_MA_1_time_series', 'cnt_use_buffitem_min_stat', 'party_over8_cnt_max', 'npc_hongmun_MA_5_basic_time', 'party_chat_mean_basic_time', 'get_money_var_time_series', 'quest_hongmun_MA_4_basic_time', 'game_combat_time_median_time_series', 'party_chat_range_stat', 'game_combat_time_max_stat', 'cnt_dt_diff_w4_by_last_time_series', 'quest_hongmun_max_stat', 'npc_hongmun_kurt_basic_time', 'whisper_chat_var_basic_time', 'item_hongmun_cycle_basic_time', 'full_party_cnt_range', 'cnt_enter_inzone_light_range_stat', 'inzone_normal_cycle_basic_time', 'first_week_get_money', 'game_combat_time_sum_stat', 'inzone_normal_skew_basic_time', 'item_hongmun_min_stat', 'cnt_dt_diff_w2_by_last_time_series', 'whisper_chat_max_stat', 'cnt_use_buffitem_sum_stat', 'npc_exp_min_stat', 'full_party_cnt_min', 'inzone_light_skew_basic_time', 'game_combat_time_diff_w8_by_last_time_series', 'game_combat_time_diff7_time_series', 'get_money_skew_time_series', 'get_money_min_stat', 'play_time_diff3_time_series', 'quest_hongmun_median_stat', 'first_week_npc_hongmun', 'party_cnt_sum', 'cnt_use_buffitem_skew_time_series', 'item_hongmun_skew_basic_time', 'game_combat_time_MA_4_time_series', 'party_chat_sum_stat', 'play_time_median_time_series', 'npc_exp_by_play_time', 'game_combat_time_kurt_time_series', 'npc_hongmun_by_cnt_dt', 'cnt_dt_MA_4_time_series', 'cnt_dt_range_stat', 'get_money_MA_2_time_series', 'cnt_dt_sum_stat', 'play_time_diff1_time_series', 'cnt_use_buffitem_median_stat', 'get_money_diff7_time_series', 'game_combat_time_median_stat', 'play_time_diff6_time_series', 'inzone_light_ratio', 'play_time_diff2_time_series', 'quest_hongmun_by_play_time', 'game_combat_time_min_stat', 'npc_hongmun_range_stat', 'play_time_MA_2_time_series', \"('npc_exp', 'game_combat_time')\", 'chats_by_play_time', 'play_time_diff4_time_series', 'cnt_dt_diff_w8_by_last_time_series', 'game_combat_time_by_cnt_dt', 'cnt_dt_cycle_time_series', 'cnt_use_buffitem_kurt_time_series', 'cnt_use_buffitem_max_stat', 'game_combat_time_range_stat', 'quest_hongmun_kurt_basic_time', 'quest_exp_by_play_time', 'get_money_diff_w4_by_last_time_series', 'play_time_cycle_time_series', 'play_time_sum_stat', 'first_week_game_combat_time', 'play_time_median_stat', 'play_time_var_time_series', 'cnt_dt_var_time_series', 'get_money_by_play_time', 'play_time_skew_time_series', 'quest_hongmun_skew_basic_time', 'cnt_dt_skew_time_series', 'play_time_MA_5_time_series', 'play_time_MA_3_time_series', 'play_time_MA_1_time_series', 'play_time_MA_4_time_series', 'play_time_max_stat', 'play_time_range_stat', 'cnt_dt_kurt_time_series', 'play_time_by_cnt_dt', 'play_time_kurt_time_series', 'cnt_use_buffitem_by_game_combat_time', 'game_combat_time_by_play_time', 'play_time_diff_w4_by_last_time_series', 'play_time_min_stat', 'play_time_diff_w8_by_last_time_series', 'first_week_play_time', 'play_time_diff7_time_series', 'play_time_diff_w2_by_last_time_series', 'guild_chat_max_last_diff', 'give_gini', 'rec_gini', 'exc_gini', 'source+exc', 'target+exc', 'exc_ratio', 'one_way_ratio', 'first_trade_all', 'grocery_portion_in_market', 'money_portion_in_market', 'other_portion_in_market', 'first_week_money_by_cnt_dt', 'money_by_dt_first_max', 'get_money_cnt_dt_lr', 'trade_cnt_by_cnt_dt', 'trade_cnt_by_play_time', 'trade_cnt_by_combat_time', 'first_week_money_by_play_time', 'money_by_time_max_last', 'money_by_time_first_last', 'money_by_time_first_max', 'money_by_time_median_last', 'get_money_time_lr', 'last_trade_all', 'last_week_trade_cnt', 'first_week_trade_cnt', 'weekly_max_trade_cnt', 'weekly_trade_cnt_std', 'weekly_trade_cycle', 'trade_first-last', 'trade_last-max', 'first_week_exp_by_hongmun_quest', 'exp_by_hongmun_quest_max_last', 'exp_by_hongmun_quest_first_last', 'exp_by_hongmun_quest_first_max', 'exp_by_hongmun_quest_median_last', 'get_train_exp_by_hongmun_quest_pivot_lr', 'first_week_exp_by_hongmun_npc', 'exp_by_hongmun_npc_max_last', 'exp_by_hongmun_npc_first_last', 'exp_by_hongmun_npc_first_max', 'exp_by_hongmun_npc_median_last', 'get_train_exp_by_hongmun_npc_pivot_lr', 'first_week_exp_by_hongmun', 'exp_by_hongmun_max_last', 'exp_by_hongmun_first_last', 'exp_by_hongmun_first_max', 'exp_by_hongmun_median_last', 'get_train_exp_by_hongmun_pivot_lr', 'first_week_hongmun_sum', 'until_first_week_hongmun_sum', 'only_hongmun_week_cnt', 'only_exp_week_cnt', 'hongmun_exp_week_cnt', 'no_hongmun_exp_week_cnt', 'group_a', 'group_b', 'group_c', 'group_d', 'group_e'] ['differ_ratio_1', 'play_time_Count', 'cnt_enter_inzone_skilled_Count', 'making_cnt_Count', 'normal_chat_median_basic_time', 'first_week_cnt_clear_raid_light', 'cnt_enter_raid_light_range_stat', 'payment_amount_MA_5_basic_time', 'duel_cnt_sum_stat', 'trade_InDeg', 'partybattle_cnt_sum_stat', 'payment_amount_median_basic_time', 'partybattle_cnt_max_stat', 'payment_amount_kurt_basic_time', 'cnt_enter_raid_light_median_stat', 'guild_chat_MA_1_basic_time', 'whisper_chat_Count', 'cnt_enter_inzone_light_Count', 'payment_amount_MA_1_basic_time', 'cnt_enter_raid_light_max_stat', 'payment_amount_by_play_time', 'normal_chat_MA_2_basic_time', 'cnt_dt_Count', 'normal_chat_MA_1_basic_time', 'payment_amount_MA_3_basic_time', 'cnt_enter_raid_light_Count', 'district_chat_max_stat', 'payment_amount_min_stat', 'first_week_making_cnt', 'payment_amount_MA_4_basic_time', 'cnt_use_buffitem_Count', 'game_combat_time_Count', 'first_week_cnt_clear_inzone_solo', 'party_cnt_with4_median', 'inzone_skilled_ratio', 'cnt_enter_inzone_skilled_max_stat', 'cnt_enter_inzone_solo_Count', 'cnt_enter_raid_min_stat', 'first_week_payment_amount', 'raid_light_ratio', 'cnt_enter_inzone_normal_Count', 'party_cnt_with4_range', 'item_hongmun_mean_basic_time', 'payment_amount_max_stat', 'district_chat_median_stat', 'payment_amount_cycle_basic_time', 'making_cnt_sum_stat', 'party_cnt_with4_min', 'trade_InDegCen', 'first_week_cnt_enter_inzone_solo', 'guild_chat_MA_4_basic_time', 'guild_chat_mean_basic_time', 'num_guild', 'guild_chat_var_basic_time', 'guild_chat_Count', 'first_week', 'inzone_normal_median_basic_time', 'party_chat_Count', 'party_chat_median_basic_time', 'duel_ratio', 'first_week_normal_chat', 'first_week_cnt_clear_inzone_normal', 'play_pattern_by_partial_sum_retained_prob', 'guild_chat_cycle_basic_time', 'net_EigCen', 'first_week_cnt_clear_inzone_light', 'item_hongmun_median_basic_time', 'making_cnt_min_stat', 'making_cnt_range_stat', 'first_week_guild_chat', 'net_BetCen', 'district_chat_sum_stat', 'party_battle_ratio', 'full_party_cnt', 'party_cnt_with4_sum', 'inzone_light_MA_3_basic_time', 'guild_chat_MA_5_basic_time', 'guild_chat_median_stat', 'party_cnt_with4_max', 'cnt_enter_inzone_skilled_sum_stat', 'guild_chat_MA_3_basic_time', 'net_lcc', 'party_chat_MA_3_basic_time', 'cnt_enter_raid_median_stat', 'npc_hongmun_mean_basic_time', 'payment_amount_sum_stat', 'inzone_normal_MA_3_basic_time', 'pattern_month', 'first_week_cnt_enter_inzone_normal', 'pattern_retained', 'party_over8_cnt', 'cnt_enter_raid_sum_stat', 'get_money_mean_time_series', 'trade_OutDeg', 'get_money_Count', 'normal_chat_cycle_basic_time', 'cnt_enter_raid_light_sum_stat', 'cnt_dt_diff1_time_series', 'whisper_chat_MA_2_basic_time', 'whisper_chat_median_basic_time', 'npc_hongmun_MA_2_basic_time', 'inzone_normal_MA_2_basic_time', 'cnt_enter_raid_Count', 'first_week_cnt_enter_inzone_light', 'inzone_light_MA_1_basic_time', 'inzone_normal_MA_4_basic_time', 'inzone_normal_var_basic_time', 'payment_amount_range_stat', 'whisper_chat_MA_5_basic_time', 'npc_hongmun_MA_3_basic_time', 'cnt_use_buffitem_mean_time_series', 'net_DegCen', 'differ_median', 'inzone_normal_MA_1_basic_time', 'first_week_npc_exp', 'quest_hongmun_mean_basic_time', 'get_money_MA_5_time_series', 'cnt_enter_inzone_normal_max_stat', 'npc_hongmun_MA_4_basic_time', 'cnt_use_buffitem_diff1_time_series', 'item_hongmun_MA_2_basic_time', 'cnt_enter_inzone_light_max_stat', 'party_cnt_max', 'game_combat_time_mean_time_series', 'first_week_whisper_chat', 'guild_chat_kurt_basic_time', 'first_week_quest_exp', 'normal_chat_MA_5_basic_time', 'pattern_2month', 'quest_hongmun_median_basic_time', 'inzone_light_MA_4_basic_time', 'quest_hongmun_MA_3_basic_time', \"('get_money', 'whisper_chat')\", 'guild_chat_max_stat', 'cnt_use_buffitem_diff3_time_series', 'raid_ratio', 'get_money_diff2_time_series', 'inzone_light_var_basic_time', 'get_money_diff3_time_series', 'cnt_enter_inzone_normal_range_stat', 'inzone_light_MA_5_basic_time', 'inzone_light_median_basic_time', 'cnt_use_buffitem_MA_1_time_series', 'whisper_chat_mean_basic_time', 'net_ClsCen', 'item_hongmun_sum_stat', 'party_first_cnt', 'cnt_enter_inzone_solo_median_stat', 'get_money_sum_stat', 'cnt_dt_diff5_time_series', 'whisper_chat_MA_3_basic_time', 'trade_outDegCen', 'cnt_use_buffitem_MA_3_time_series', 'first_week_party_chat', 'play_pattern_by_partial_sum_week_prob', 'cnt_dt_diff2_time_series', 'guild_size', 'play_pattern_by_partial_sum_2month_prob', 'differ_min', 'npc_hongmun_median_basic_time', 'get_money_median_time_series', 'cnt_enter_inzone_solo_max_stat', 'cnt_dt_mean_time_series', 'inzone_light_MA_2_basic_time', 'whisper_chat_cycle_basic_time', 'npc_hongmun_sum_stat', 'cnt_enter_inzone_normal_sum_stat', 'inzone_normal_mean_basic_time', 'npc_exp_by_cnt_dt', 'cnt_dt_diff6_time_series', 'differ_sum', 'party_chat_MA_4_basic_time', 'cnt_dt_diff3_time_series', 'quest_exp_by_cnt_dt', 'get_money_MA_1_time_series', 'cnt_use_buffitem_MA_4_time_series', 'differ_max', 'cnt_enter_inzone_solo_sum_stat', 'normal_chat_skew_basic_time', 'inzone_normal_MA_5_basic_time', 'payment_amount_skew_basic_time', 'whisper_chat_median_stat', 'party_chat_var_basic_time', 'full_party_cnt_median', 'quest_hongmun_MA_2_basic_time', 'game_combat_time_diff4_time_series', 'item_hongmun_Count', 'cnt_use_buffitem_median_time_series', 'party_chat_cycle_basic_time', 'game_combat_time_diff1_time_series', 'get_money_MA_3_time_series', 'npc_exp_max_stat', 'item_hongmun_MA_3_basic_time', 'normal_chat_max_stat', 'cnt_enter_inzone_light_median_stat', 'first_week_cnt_use_buffitem', 'guild_chat_skew_basic_time', 'party_chat_MA_5_basic_time', 'pattern_week', 'cnt_use_buffitem_diff_w2_by_last_time_series', 'quest_hongmun_var_basic_time', 'item_hongmun_MA_4_basic_time', 'whisper_chat_kurt_basic_time', 'get_money_kurt_time_series', 'party_first_cnt_max', 'cnt_use_buffitem_diff6_time_series', 'item_hongmun_max_stat', 'get_money_diff6_time_series', 'party_chat_MA_2_basic_time', 'cnt_use_buffitem_diff_w8_by_last_time_series', 'cnt_use_buffitem_diff7_time_series', 'cnt_dt_median_time_series', 'cnt_dt_max_stat', 'game_combat_time_MA_3_time_series', 'play_pattern_by_partial_sum_month_prob', 'cnt_use_buffitem_cycle_time_series', 'party_first_cnt_range', 'npc_hongmun_var_basic_time', 'npc_exp_median_stat', 'item_hongmun_var_basic_time', 'quest_exp_max_stat', 'get_money_max_stat', 'quest_exp_sum_stat', \"('npc_exp', 'quest_exp')\", 'cnt_use_buffitem_MA_5_time_series', 'get_money_diff4_time_series', 'game_combat_time_diff6_time_series', 'full_party_cnt_max', 'get_money_diff_w8_by_last_time_series', 'play_pattern_by_partial_sum', 'party_chat_MA_1_basic_time', 'cnt_enter_inzone_solo_min_stat', 'guild_chat_min_stat', 'party_cnt', 'party_over8_cnt_sum', 'whisper_chat_range_stat', 'differ', 'whisper_chat_sum_stat', 'cnt_use_buffitem_diff4_time_series', 'normal_chat_sum_stat', 'get_money_cycle_time_series', 'npc_hongmun_cycle_basic_time', 'quest_hongmun_cycle_basic_time', 'cnt_dt_min_stat', 'cnt_enter_inzone_light_sum_stat', 'npc_exp_sum_stat', 'game_combat_time_diff5_time_series', 'cnt_enter_inzone_normal_median_stat', 'npc_exp_range_stat', 'whisper_chat_skew_basic_time', 'cnt_dt_MA_3_time_series', \"('npc_hongmun', 'item_hongmun')\", 'inzone_light_cycle_basic_time', 'full_party_cnt_sum', 'party_cnt_min', 'first_week_cnt_dt', 'game_combat_time_cycle_time_series', 'get_money_diff5_time_series', 'cnt_use_buffitem_range_stat', 'quest_hongmun_sum_stat', 'party_over8_cnt_median', 'inzone_solo_ratio', 'cnt_use_buffitem_MA_2_time_series', 'npc_hongmun_max_stat', 'party_chat_skew_basic_time', 'party_chat_median_stat', 'npc_hongmun_median_stat', 'inzone_light_mean_basic_time', 'game_combat_time_MA_5_time_series', 'item_hongmun_range_stat', 'party_cnt_median', 'item_hongmun_median_stat', 'quest_hongmun_by_cnt_dt', 'differ_range', 'cnt_dt_median_stat', 'cnt_enter_inzone_light_min_stat', 'cnt_enter_inzone_normal_min_stat', 'npc_hongmun_by_play_time', 'cnt_dt_diff7_time_series', 'get_money_median_stat', 'party_chat_max_stat', 'get_money_range_stat', 'inzone_normal_kurt_basic_time', 'quest_exp_min_stat', 'quest_exp_median_stat', 'inzone_normal_ratio', 'item_hongmun_kurt_basic_time', \"('get_money', 'cnt_use_buffitem')\", \"('quest_exp', 'game_combat_time')\", 'get_money_MA_4_time_series', 'play_time_mean_time_series', 'cnt_dt_MA_1_time_series', 'cnt_use_buffitem_min_stat', 'party_over8_cnt_max', 'npc_hongmun_MA_5_basic_time', 'party_chat_mean_basic_time', 'get_money_var_time_series', 'quest_hongmun_MA_4_basic_time', 'game_combat_time_median_time_series', 'party_chat_range_stat', 'game_combat_time_max_stat', 'cnt_dt_diff_w4_by_last_time_series', 'quest_hongmun_max_stat', 'npc_hongmun_kurt_basic_time', 'whisper_chat_var_basic_time', 'item_hongmun_cycle_basic_time', 'full_party_cnt_range', 'cnt_enter_inzone_light_range_stat', 'inzone_normal_cycle_basic_time', 'first_week_get_money', 'game_combat_time_sum_stat', 'inzone_normal_skew_basic_time', 'item_hongmun_min_stat', 'cnt_dt_diff_w2_by_last_time_series', 'whisper_chat_max_stat', 'cnt_use_buffitem_sum_stat', 'npc_exp_min_stat', 'full_party_cnt_min', 'inzone_light_skew_basic_time', 'game_combat_time_diff_w8_by_last_time_series', 'game_combat_time_diff7_time_series', 'get_money_skew_time_series', 'get_money_min_stat', 'play_time_diff3_time_series', 'quest_hongmun_median_stat', 'first_week_npc_hongmun', 'party_cnt_sum', 'cnt_use_buffitem_skew_time_series', 'item_hongmun_skew_basic_time', 'game_combat_time_MA_4_time_series', 'party_chat_sum_stat', 'play_time_median_time_series', 'npc_exp_by_play_time', 'game_combat_time_kurt_time_series', 'npc_hongmun_by_cnt_dt', 'cnt_dt_MA_4_time_series', 'cnt_dt_range_stat', 'get_money_MA_2_time_series', 'cnt_dt_sum_stat', 'play_time_diff1_time_series', 'cnt_use_buffitem_median_stat', 'get_money_diff7_time_series', 'game_combat_time_median_stat', 'play_time_diff6_time_series', 'inzone_light_ratio', 'play_time_diff2_time_series', 'quest_hongmun_by_play_time', 'game_combat_time_min_stat', 'npc_hongmun_range_stat', 'play_time_MA_2_time_series', \"('npc_exp', 'game_combat_time')\", 'chats_by_play_time', 'play_time_diff4_time_series', 'cnt_dt_diff_w8_by_last_time_series', 'game_combat_time_by_cnt_dt', 'cnt_dt_cycle_time_series', 'cnt_use_buffitem_kurt_time_series', 'cnt_use_buffitem_max_stat', 'game_combat_time_range_stat', 'quest_hongmun_kurt_basic_time', 'quest_exp_by_play_time', 'get_money_diff_w4_by_last_time_series', 'play_time_cycle_time_series', 'play_time_sum_stat', 'first_week_game_combat_time', 'play_time_median_stat', 'play_time_var_time_series', 'cnt_dt_var_time_series', 'get_money_by_play_time', 'play_time_skew_time_series', 'quest_hongmun_skew_basic_time', 'cnt_dt_skew_time_series', 'play_time_MA_5_time_series', 'play_time_MA_3_time_series', 'play_time_MA_1_time_series', 'play_time_MA_4_time_series', 'play_time_max_stat', 'play_time_range_stat', 'cnt_dt_kurt_time_series', 'play_time_by_cnt_dt', 'play_time_kurt_time_series', 'cnt_use_buffitem_by_game_combat_time', 'game_combat_time_by_play_time', 'play_time_diff_w4_by_last_time_series', 'play_time_min_stat', 'play_time_diff_w8_by_last_time_series', 'first_week_play_time', 'play_time_diff7_time_series', 'play_time_diff_w2_by_last_time_series', 'guild_chat_max_last_diff', 'give_gini', 'rec_gini', 'exc_gini', 'source+exc', 'target+exc', 'exc_ratio', 'one_way_ratio', 'first_trade_all', 'grocery_portion_in_market', 'money_portion_in_market', 'other_portion_in_market', 'first_week_money_by_cnt_dt', 'money_by_dt_first_max', 'get_money_cnt_dt_lr', 'trade_cnt_by_cnt_dt', 'trade_cnt_by_play_time', 'trade_cnt_by_combat_time', 'first_week_money_by_play_time', 'money_by_time_max_last', 'money_by_time_first_last', 'money_by_time_first_max', 'money_by_time_median_last', 'get_money_time_lr', 'last_trade_all', 'last_week_trade_cnt', 'first_week_trade_cnt', 'weekly_max_trade_cnt', 'weekly_trade_cnt_std', 'weekly_trade_cycle', 'trade_first-last', 'trade_last-max', 'first_week_exp_by_hongmun_quest', 'exp_by_hongmun_quest_max_last', 'exp_by_hongmun_quest_first_last', 'exp_by_hongmun_quest_first_max', 'exp_by_hongmun_quest_median_last', 'get_test_exp_by_hongmun_quest_pivot_lr', 'first_week_exp_by_hongmun_npc', 'exp_by_hongmun_npc_max_last', 'exp_by_hongmun_npc_first_last', 'exp_by_hongmun_npc_first_max', 'exp_by_hongmun_npc_median_last', 'get_test_exp_by_hongmun_npc_pivot_lr', 'first_week_exp_by_hongmun', 'exp_by_hongmun_max_last', 'exp_by_hongmun_first_last', 'exp_by_hongmun_first_max', 'exp_by_hongmun_median_last', 'get_test_exp_by_hongmun_pivot_lr', 'first_week_hongmun_sum', 'until_first_week_hongmun_sum', 'only_hongmun_week_cnt', 'only_exp_week_cnt', 'hongmun_exp_week_cnt', 'no_hongmun_exp_week_cnt', 'group_a', 'group_b', 'group_c', 'group_d', 'group_e']\nexpected get_train_exp_by_hongmun_quest_pivot_lr, get_train_exp_by_hongmun_npc_pivot_lr, get_train_exp_by_hongmun_pivot_lr in input data\ntraining data did not have the following fields: get_test_exp_by_hongmun_quest_pivot_lr, get_test_exp_by_hongmun_pivot_lr, get_test_exp_by_hongmun_npc_pivot_lr"
     ]
    }
   ],
   "source": [
    "#### prob 클래스별 확률 예측\n",
    "extra_prob = pd.DataFrame(model.predict_proba(X_test),columns=['y_pred_prob0', 'y_pred_prob1', 'y_pred_prob2','y_pred_prob3'])"
   ]
  },
  {
   "cell_type": "code",
   "execution_count": null,
   "metadata": {},
   "outputs": [],
   "source": [
    "extra_prob.to_csv('extra_FINAL.csv',index = False)"
   ]
  },
  {
   "cell_type": "code",
   "execution_count": 33,
   "metadata": {},
   "outputs": [],
   "source": [
    "extra_importance = clf_etc.feature_importances_\n",
    "result = pd.DataFrame([(x,extra_importance[i]) for i, x in enumerate(X_train.columns.tolist())],columns=['feature','gain'])\n",
    "result.to_csv('extra전체.csv',index = False)"
   ]
  },
  {
   "cell_type": "markdown",
   "metadata": {},
   "source": [
    "---"
   ]
  },
  {
   "cell_type": "markdown",
   "metadata": {},
   "source": [
    "### ensemble"
   ]
  },
  {
   "cell_type": "code",
   "execution_count": 51,
   "metadata": {},
   "outputs": [
    {
     "data": {
      "text/plain": [
       "(100000, 4)"
      ]
     },
     "execution_count": 51,
     "metadata": {},
     "output_type": "execute_result"
    }
   ],
   "source": [
    "extra_prob.shape"
   ]
  },
  {
   "cell_type": "code",
   "execution_count": 42,
   "metadata": {},
   "outputs": [],
   "source": [
    "### mean ensemble\n",
    "ensemble_prob= (xgb_prob + extra_prob)/2"
   ]
  },
  {
   "cell_type": "code",
   "execution_count": 43,
   "metadata": {},
   "outputs": [],
   "source": [
    "ensemble_prob = ensemble_prob.idxmax(axis=1)"
   ]
  },
  {
   "cell_type": "code",
   "execution_count": 45,
   "metadata": {},
   "outputs": [],
   "source": [
    "my_pred = [int(x[-1]) for x in ensemble_prob]"
   ]
  },
  {
   "cell_type": "code",
   "execution_count": 49,
   "metadata": {},
   "outputs": [
    {
     "data": {
      "text/plain": [
       "100000"
      ]
     },
     "execution_count": 49,
     "metadata": {},
     "output_type": "execute_result"
    }
   ],
   "source": [
    "len(my_pred )"
   ]
  },
  {
   "cell_type": "code",
   "execution_count": null,
   "metadata": {},
   "outputs": [],
   "source": [
    "#### result\n",
    "results = [inv_map[x] for x in my_pred]\n",
    "result = pd.DataFrame({'acc_id':['te' + str(x) for x in X_test.index], 'label': results})\n",
    "result['acc_id'] = [hasher.iloc[i,0] for i in range(len(result.acc_id))]"
   ]
  }
 ],
 "metadata": {
  "kernelspec": {
   "display_name": "Python 3",
   "language": "python",
   "name": "python3"
  },
  "language_info": {
   "codemirror_mode": {
    "name": "ipython",
    "version": 3
   },
   "file_extension": ".py",
   "mimetype": "text/x-python",
   "name": "python",
   "nbconvert_exporter": "python",
   "pygments_lexer": "ipython3",
   "version": "3.6.6"
  }
 },
 "nbformat": 4,
 "nbformat_minor": 2
}
