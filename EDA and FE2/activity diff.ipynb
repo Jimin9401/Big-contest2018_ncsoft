{
 "cells": [
  {
   "cell_type": "markdown",
   "metadata": {},
   "source": [
    "# activity에서 diff 관련 변수"
   ]
  },
  {
   "cell_type": "code",
   "execution_count": 1,
   "metadata": {},
   "outputs": [],
   "source": [
    "#### import modules\n",
    "import pandas as pd\n",
    "import numpy as np\n",
    "import re\n",
    "import seaborn as sns\n",
    "sns.set(color_codes=True)"
   ]
  },
  {
   "cell_type": "code",
   "execution_count": 2,
   "metadata": {},
   "outputs": [],
   "source": [
    "#### standardized dataset\n",
    "train_activity = pd.read_csv('../lite_data/train_activity_lite.csv')\n",
    "test_activity = pd.read_csv('../lite_data/test_activity_lite.csv')\n",
    "train_label = pd.read_csv('../lite_data/train_label_lite.csv')\n",
    "\n",
    "#### restored dataset\n",
    "raw_train_activity = pd.read_csv('../transformed/real_values_int.csv')\n",
    "raw_test_activity = pd.read_csv('../transformed/test_real_datas_int.csv')\n",
    "\n",
    "#### 컬럼 순서 new_id / wk / 나머지....\n",
    "cols = raw_train_activity.columns\n",
    "raw_train_activity = raw_train_activity.loc[:,[cols[-1],cols[-2]] + cols[0:-2].tolist()].copy()\n",
    "raw_test_activity = raw_test_activity.loc[:,[cols[-1],cols[-2]] + cols[0:-2].tolist()].copy()\n",
    "cols = raw_train_activity.columns"
   ]
  },
  {
   "cell_type": "code",
   "execution_count": 3,
   "metadata": {},
   "outputs": [],
   "source": [
    "#### 변수 정의 - 처음\n",
    "## X_train, X_test, y_train, label_map\n",
    "X_train = train_activity.groupby(by='new_id',sort=False,as_index=False).sum().iloc[:,:1]\n",
    "X_test = test_activity.groupby(by='new_id',sort=False,as_index=False).sum().iloc[:,:1]"
   ]
  },
  {
   "cell_type": "code",
   "execution_count": 4,
   "metadata": {},
   "outputs": [],
   "source": [
    "## label dictionary\n",
    "label_map = {'retained':0,'2month':1,'month':2,'week':3}\n",
    "y_train = pd.Series([label_map[l] for l in train_label.label])\n",
    "\n",
    "## 시간 관련 기본 변수 (퀘스트, 채팅, 제작 관련 변수 이외의 변수들...)\n",
    "stat_cols = ['new_id','wk','duel_cnt','duel_win','partybattle_cnt','partybattle_win','cnt_enter_inzone_solo','cnt_clear_inzone_solo',\n",
    "             'cnt_enter_inzone_light','cnt_clear_inzone_light','cnt_enter_inzone_skilled','cnt_clear_inzone_skilled','cnt_enter_inzone_normal',\n",
    "             'cnt_clear_inzone_normal','cnt_enter_raid','cnt_clear_raid','cnt_enter_raid_light','cnt_clear_raid_light','cnt_enter_bam','cnt_clear_bam']\n",
    "\n",
    "train_time_var = raw_train_activity.loc[:,stat_cols]\n",
    "test_time_var = raw_test_activity.loc[:,stat_cols]"
   ]
  },
  {
   "cell_type": "code",
   "execution_count": 5,
   "metadata": {},
   "outputs": [],
   "source": [
    "time_cols = train_time_var.columns.tolist()\n",
    "num_var = len(time_cols)"
   ]
  },
  {
   "cell_type": "code",
   "execution_count": 6,
   "metadata": {},
   "outputs": [],
   "source": [
    "my_cols = ['duel','party_battle','inzone_solo','inzone_light','inzone_skilled','inzone_normal','raid','raid_light','bam']"
   ]
  },
  {
   "cell_type": "code",
   "execution_count": 7,
   "metadata": {},
   "outputs": [
    {
     "name": "stderr",
     "output_type": "stream",
     "text": [
      "/opt/conda/lib/python3.6/site-packages/ipykernel_launcher.py:6: SettingWithCopyWarning: \n",
      "A value is trying to be set on a copy of a slice from a DataFrame\n",
      "\n",
      "See the caveats in the documentation: http://pandas.pydata.org/pandas-docs/stable/indexing.html#indexing-view-versus-copy\n",
      "  \n",
      "/opt/conda/lib/python3.6/site-packages/ipykernel_launcher.py:12: SettingWithCopyWarning: \n",
      "A value is trying to be set on a copy of a slice from a DataFrame\n",
      "\n",
      "See the caveats in the documentation: http://pandas.pydata.org/pandas-docs/stable/indexing.html#indexing-view-versus-copy\n",
      "  if sys.path[0] == '':\n"
     ]
    }
   ],
   "source": [
    "for k,i in enumerate(range(2,num_var,2)):\n",
    "    train_time = train_time_var.iloc[:,[0,i,i+1]]\n",
    "    not_play_train = (train_time.iloc[:,1] == 0) & (train_time.iloc[:,2] == 0)\n",
    "    train_temp = pd.DataFrame(train_time.loc[~ not_play_train,:].groupby(by ='new_id').sum())\n",
    "    X_train= pd.merge(X_train,pd.DataFrame(train_temp.iloc[:,1] / train_temp.iloc[:,0], columns=[my_cols[k]+'_ratio']), on = 'new_id',how='left')\n",
    "    X_train[my_cols[k]+'_ratio'][np.isinf(X_train[my_cols[k]+'_ratio'])] = 1.0\n",
    "    \n",
    "    test_time = test_time_var.iloc[:,[0,i,i+1]]\n",
    "    not_play_test = (test_time.iloc[:,1] == 0) & (test_time.iloc[:,2] == 0)\n",
    "    test_temp = pd.DataFrame(test_time.loc[~ not_play_test,:].groupby(by ='new_id').sum())\n",
    "    X_test= pd.merge(X_test,pd.DataFrame( test_temp.iloc[:,1] / test_temp.iloc[:,0], columns=[my_cols[k]+'_ratio']), on = 'new_id',how='left')\n",
    "    X_test[my_cols[k]+'_ratio'][np.isinf(X_test[my_cols[k]+'_ratio'])] = 1.0"
   ]
  },
  {
   "cell_type": "code",
   "execution_count": 14,
   "metadata": {},
   "outputs": [],
   "source": [
    "X_train.to_csv('X_train_ratio.csv',index = False)\n",
    "X_test.to_csv('X_test_ratio.csv',index = False)"
   ]
  },
  {
   "cell_type": "markdown",
   "metadata": {},
   "source": [
    "# activity에서 CAT 말고cnt로?"
   ]
  },
  {
   "cell_type": "code",
   "execution_count": 15,
   "metadata": {},
   "outputs": [],
   "source": [
    "#### CAT인애들 불러오기\n",
    "train_CAT = pd.read_csv('X_train_stat.csv')"
   ]
  },
  {
   "cell_type": "code",
   "execution_count": 17,
   "metadata": {},
   "outputs": [],
   "source": [
    "Cats= [x for x in train_CAT.columns.tolist() if 'CAT' in x]"
   ]
  },
  {
   "cell_type": "code",
   "execution_count": null,
   "metadata": {},
   "outputs": [],
   "source": [
    "stat_cols = ['new_id','wk','duel_cnt','duel_win','partybattle_cnt','partybattle_win','cnt_enter_inzone_solo','cnt_clear_inzone_solo',\n",
    "             'cnt_enter_inzone_light','cnt_clear_inzone_light','cnt_enter_inzone_skilled','cnt_clear_inzone_skilled','cnt_enter_inzone_normal',\n",
    "             'cnt_clear_inzone_normal','cnt_enter_raid','cnt_clear_raid','cnt_enter_raid_light','cnt_clear_raid_light','cnt_enter_bam','cnt_clear_bam']"
   ]
  },
  {
   "cell_type": "code",
   "execution_count": 18,
   "metadata": {},
   "outputs": [
    {
     "data": {
      "text/plain": [
       "['payment_amount_CAT',\n",
       " 'cnt_dt_CAT',\n",
       " 'play_time_CAT',\n",
       " 'game_combat_time_CAT',\n",
       " 'get_money_CAT',\n",
       " 'cnt_use_buffitem_CAT',\n",
       " 'npc_exp_CAT',\n",
       " 'npc_hongmun_CAT',\n",
       " 'quest_exp_CAT',\n",
       " 'quest_hongmun_CAT',\n",
       " 'item_hongmun_CAT',\n",
       " 'duel_cnt_CAT',\n",
       " 'partybattle_cnt_CAT',\n",
       " 'cnt_enter_inzone_solo_CAT',\n",
       " 'cnt_enter_inzone_light_CAT',\n",
       " 'cnt_enter_inzone_skilled_CAT',\n",
       " 'cnt_enter_inzone_normal_CAT',\n",
       " 'cnt_enter_raid_CAT',\n",
       " 'cnt_enter_raid_light_CAT',\n",
       " 'normal_chat_CAT',\n",
       " 'whisper_chat_CAT',\n",
       " 'district_chat_CAT',\n",
       " 'party_chat_CAT',\n",
       " 'guild_chat_CAT',\n",
       " 'making_cnt_CAT',\n",
       " 'cnt_enter_bam_CAT',\n",
       " 'faction_chat_CAT',\n",
       " 'gathering_cnt_CAT']"
      ]
     },
     "execution_count": 18,
     "metadata": {},
     "output_type": "execute_result"
    }
   ],
   "source": [
    "Cats"
   ]
  },
  {
   "cell_type": "code",
   "execution_count": 2,
   "metadata": {},
   "outputs": [],
   "source": [
    "#### standardized dataset\n",
    "train_activity = pd.read_csv('../lite_data/train_activity_lite.csv')\n",
    "test_activity = pd.read_csv('../lite_data/test_activity_lite.csv')\n",
    "train_label = pd.read_csv('../lite_data/train_label_lite.csv')\n",
    "\n",
    "#### restored dataset\n",
    "raw_train_activity = pd.read_csv('../transformed/real_values_int.csv')\n",
    "raw_test_activity = pd.read_csv('../transformed/test_real_datas_int.csv')\n",
    "\n",
    "#### 컬럼 순서 new_id / wk / 나머지....\n",
    "cols = raw_train_activity.columns\n",
    "raw_train_activity = raw_train_activity.loc[:,[cols[-1],cols[-2]] + cols[0:-2].tolist()].copy()\n",
    "raw_test_activity = raw_test_activity.loc[:,[cols[-1],cols[-2]] + cols[0:-2].tolist()].copy()\n",
    "cols = raw_train_activity.columns"
   ]
  }
 ],
 "metadata": {
  "kernelspec": {
   "display_name": "Python 3",
   "language": "python",
   "name": "python3"
  },
  "language_info": {
   "codemirror_mode": {
    "name": "ipython",
    "version": 3
   },
   "file_extension": ".py",
   "mimetype": "text/x-python",
   "name": "python",
   "nbconvert_exporter": "python",
   "pygments_lexer": "ipython3",
   "version": "3.6.5"
  }
 },
 "nbformat": 4,
 "nbformat_minor": 2
}
