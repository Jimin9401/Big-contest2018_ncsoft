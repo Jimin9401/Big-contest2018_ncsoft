{
 "cells": [
  {
   "cell_type": "code",
   "execution_count": 1,
   "metadata": {},
   "outputs": [],
   "source": [
    "import pandas as pd\n",
    "import numpy as np"
   ]
  },
  {
   "cell_type": "code",
   "execution_count": 2,
   "metadata": {},
   "outputs": [],
   "source": [
    "train_time_var = pd.read_csv('party_train.csv')\n",
    "test_time_var = pd.read_csv('party_test.csv')"
   ]
  },
  {
   "cell_type": "code",
   "execution_count": 3,
   "metadata": {},
   "outputs": [],
   "source": [
    "#### standardized dataset\n",
    "train_activity = pd.read_csv('../lite_data/train_activity_lite.csv')\n",
    "test_activity = pd.read_csv('../lite_data/test_activity_lite.csv')\n",
    "#### 변수 정의 - 처음\n",
    "## X_train, X_test, y_train, label_map\n",
    "X_train = train_activity.groupby(by='new_id',sort=False,as_index=False).sum().iloc[:,:1]\n",
    "X_test = test_activity.groupby(by='new_id',sort=False,as_index=False).sum().iloc[:,:1]"
   ]
  },
  {
   "cell_type": "code",
   "execution_count": 4,
   "metadata": {},
   "outputs": [],
   "source": [
    "#### 핵심 변수만!!!\n",
    "time_cols = train_time_var.columns.tolist()\n",
    "num_var = len(time_cols)"
   ]
  },
  {
   "cell_type": "code",
   "execution_count": 5,
   "metadata": {},
   "outputs": [
    {
     "name": "stdout",
     "output_type": "stream",
     "text": [
      "2\n",
      "3\n",
      "4\n",
      "5\n",
      "6\n",
      "7\n"
     ]
    }
   ],
   "source": [
    "for i in range(2,num_var):\n",
    "    #### inner loop coding\n",
    "    train_time = train_time_var.iloc[:,[0,i]]\n",
    "    test_time = test_time_var.iloc[:,[0,i]]\n",
    "\n",
    "    # min\n",
    "    train_temp = train_time.loc[train_time[time_cols[i]] != 0 ,:].groupby(by='new_id').min()\n",
    "    train_temp.columns = [time_cols[i] + '_min']\n",
    "    X_train = pd.merge(X_train,train_temp, on = 'new_id',how='left')\n",
    "\n",
    "    test_temp = test_time.loc[test_time[time_cols[i]] != 0 ,:].groupby(by='new_id').min()\n",
    "    test_temp.columns = [time_cols[i] + '_min']\n",
    "    X_test = pd.merge(X_test,test_temp, on = 'new_id',how='left')\n",
    "\n",
    "    # max\n",
    "    train_temp = train_time.loc[train_time[time_cols[i]] != 0 ,:].groupby(by='new_id').max()\n",
    "    train_temp.columns = [time_cols[i] + '_max']\n",
    "    X_train = pd.merge(X_train,train_temp, on = 'new_id',how='left')\n",
    "\n",
    "    test_temp = test_time.loc[test_time[time_cols[i]] != 0 ,:].groupby(by='new_id').max()\n",
    "    test_temp.columns = [time_cols[i] + '_max']\n",
    "    X_test = pd.merge(X_test,test_temp, on = 'new_id',how='left')\n",
    "\n",
    "    # range\n",
    "    train_temp = train_time.loc[train_time[time_cols[i]] != 0 ,:].groupby(by='new_id').max() - train_time.loc[train_time[time_cols[i]] != 0 ,:].groupby(by='new_id').min()\n",
    "    train_temp.columns = [time_cols[i] + '_range']\n",
    "    X_train = pd.merge(X_train,train_temp, on = 'new_id',how='left')\n",
    "\n",
    "    test_temp = test_time.loc[test_time[time_cols[i]] != 0 ,:].groupby(by='new_id').max() - test_time.loc[test_time[time_cols[i]] != 0 ,:].groupby(by='new_id').min()\n",
    "    test_temp.columns = [time_cols[i] + '_range']\n",
    "    X_test = pd.merge(X_test,test_temp, on = 'new_id',how='left')\n",
    "\n",
    "    # median\n",
    "    train_temp = train_time.loc[train_time[time_cols[i]] != 0 ,:].groupby(by='new_id').median()\n",
    "    train_temp.columns = [time_cols[i] + '_median']\n",
    "    X_train = pd.merge(X_train,train_temp, on = 'new_id',how='left')\n",
    "\n",
    "    test_temp = test_time.loc[test_time[time_cols[i]] != 0 ,:].groupby(by='new_id').median()\n",
    "    test_temp.columns = [time_cols[i] + '_median']\n",
    "    X_test = pd.merge(X_test,test_temp, on = 'new_id',how='left')\n",
    "\n",
    "    # sum\n",
    "    train_temp = train_time.loc[train_time[time_cols[i]] != 0 ,:].groupby(by='new_id').sum()\n",
    "    train_temp.columns = [time_cols[i] + '_sum']\n",
    "    X_train = pd.merge(X_train,train_temp, on = 'new_id',how='left')\n",
    "\n",
    "    test_temp = test_time.loc[test_time[time_cols[i]] != 0 ,:].groupby(by='new_id').sum()\n",
    "    test_temp.columns = [time_cols[i] + '_sum']\n",
    "    X_test = pd.merge(X_test,test_temp, on = 'new_id',how='left')\n",
    "    print(i)"
   ]
  },
  {
   "cell_type": "code",
   "execution_count": 7,
   "metadata": {
    "scrolled": true
   },
   "outputs": [],
   "source": [
    "X_train.to_csv('X_train_party.csv',index = False)"
   ]
  },
  {
   "cell_type": "code",
   "execution_count": 8,
   "metadata": {
    "scrolled": true
   },
   "outputs": [],
   "source": [
    "X_test.to_csv('X_test_party.csv',index = False)"
   ]
  }
 ],
 "metadata": {
  "kernelspec": {
   "display_name": "Python 3",
   "language": "python",
   "name": "python3"
  },
  "language_info": {
   "codemirror_mode": {
    "name": "ipython",
    "version": 3
   },
   "file_extension": ".py",
   "mimetype": "text/x-python",
   "name": "python",
   "nbconvert_exporter": "python",
   "pygments_lexer": "ipython3",
   "version": "3.6.5"
  }
 },
 "nbformat": 4,
 "nbformat_minor": 2
}
