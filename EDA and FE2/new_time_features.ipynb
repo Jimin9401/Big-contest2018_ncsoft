{
 "cells": [
  {
   "cell_type": "markdown",
   "metadata": {},
   "source": [
    "# 1. 모든 시계열"
   ]
  },
  {
   "cell_type": "markdown",
   "metadata": {},
   "source": [
    "### 게임 활동과 관련된 변수"
   ]
  },
  {
   "cell_type": "markdown",
   "metadata": {},
   "source": [
    "### cnt_dt, play_time,game_combat_time, get_money, cnt_use_buffitem"
   ]
  },
  {
   "cell_type": "markdown",
   "metadata": {},
   "source": [
    "### 각 변수별 시계열적인 특성을 보일 수 있는 변수들을 파악"
   ]
  },
  {
   "cell_type": "markdown",
   "metadata": {},
   "source": [
    "* 기초 통계량 median, mean, var, skew, kurt\n",
    "* 기준시점 변화량 (1,2,4,8)\n",
    "* 이동평균(4)\n",
    "* 주별 변화량\n",
    "* Irregularity\n",
    "* autocorrelation"
   ]
  },
  {
   "cell_type": "code",
   "execution_count": 1,
   "metadata": {},
   "outputs": [],
   "source": [
    "#### import modules\n",
    "import pandas as pd\n",
    "import numpy as np\n",
    "from sklearn import linear_model\n",
    "import re\n",
    "import seaborn as sns\n",
    "from sklearn.decomposition import PCA\n",
    "sns.set(color_codes=True)\n",
    "# min max\n",
    "from sklearn.preprocessing import MinMaxScaler"
   ]
  },
  {
   "cell_type": "code",
   "execution_count": 2,
   "metadata": {
    "scrolled": true
   },
   "outputs": [],
   "source": [
    "#### standardized dataset\n",
    "train_activity = pd.read_csv('../lite_data/train_activity_lite.csv')\n",
    "test_activity = pd.read_csv('../lite_data/test_activity_lite.csv')\n",
    "train_label = pd.read_csv('../lite_data/train_label_lite.csv')\n",
    "\n",
    "#### restored dataset\n",
    "raw_train_activity = pd.read_csv('../transformed/real_values_int.csv')\n",
    "raw_test_activity = pd.read_csv('../transformed/test_real_datas_int.csv')\n",
    "\n",
    "#### 컬럼 순서 new_id / wk / 나머지....\n",
    "cols = raw_train_activity.columns\n",
    "raw_train_activity = raw_train_activity.loc[:,[cols[-1],cols[-2]] + cols[0:-2].tolist()].copy()\n",
    "raw_test_activity = raw_test_activity.loc[:,[cols[-1],cols[-2]] + cols[0:-2].tolist()].copy()\n",
    "cols = raw_train_activity.columns"
   ]
  },
  {
   "cell_type": "code",
   "execution_count": 3,
   "metadata": {},
   "outputs": [],
   "source": [
    "#### 변수 정의 - 처음\n",
    "## X_train, X_test, y_train, label_map\n",
    "X_train = train_activity.groupby(by='new_id',sort=False,as_index=False).sum().iloc[:,:1]\n",
    "X_test = test_activity.groupby(by='new_id',sort=False,as_index=False).sum().iloc[:,:1]"
   ]
  },
  {
   "cell_type": "code",
   "execution_count": 4,
   "metadata": {},
   "outputs": [],
   "source": [
    "## label dictionary\n",
    "label_map = {'retained':0,'2month':1,'month':2,'week':3}\n",
    "y_train = pd.Series([label_map[l] for l in train_label.label])\n",
    "\n",
    "## 시간 관련 기본 변수 (퀘스트, 채팅, 제작 관련 변수 이외의 변수들...)\n",
    "train_time_var = raw_train_activity.loc[:,['new_id','wk','cnt_dt', 'play_time','game_combat_time', 'get_money', 'cnt_use_buffitem']]\n",
    "test_time_var = raw_test_activity.loc[:,['new_id','wk','cnt_dt', 'play_time','game_combat_time', 'get_money', 'cnt_use_buffitem']]"
   ]
  },
  {
   "cell_type": "code",
   "execution_count": 5,
   "metadata": {},
   "outputs": [],
   "source": [
    "#### 핵심 변수만!!!\n",
    "time_cols = train_time_var.columns.tolist()\n",
    "num_var = len(time_cols)"
   ]
  },
  {
   "cell_type": "code",
   "execution_count": 6,
   "metadata": {},
   "outputs": [
    {
     "data": {
      "text/plain": [
       "['new_id',\n",
       " 'wk',\n",
       " 'cnt_dt',\n",
       " 'play_time',\n",
       " 'game_combat_time',\n",
       " 'get_money',\n",
       " 'cnt_use_buffitem']"
      ]
     },
     "execution_count": 6,
     "metadata": {},
     "output_type": "execute_result"
    }
   ],
   "source": [
    "time_cols"
   ]
  },
  {
   "cell_type": "code",
   "execution_count": 7,
   "metadata": {},
   "outputs": [
    {
     "name": "stdout",
     "output_type": "stream",
     "text": [
      "2\n",
      "3\n",
      "4\n",
      "5\n",
      "6\n"
     ]
    }
   ],
   "source": [
    "# 일반화\n",
    "for i in range(2,num_var):\n",
    "    ## pivoting\n",
    "    train_time = train_time_var.iloc[:,[0,1,i]].pivot(index = 'new_id',columns = 'wk',values=time_cols[i])\n",
    "    train_time = train_time.reindex(index = train_time.index.to_series().str.replace('tr','').astype(int).sort_values().index)# 인덱스 수정\n",
    "    test_time = test_time_var.iloc[:,[0,1,i]].pivot(index = 'new_id',columns = 'wk',values=time_cols[i])\n",
    "    test_time = test_time.reindex(index = test_time.index.to_series().str.replace('te','').astype(int).sort_values().index)# 인덱스 수정\n",
    "    \n",
    "    #### Feature Engineering\n",
    "\n",
    "    ### time - series\n",
    "    # fe_0 base statistics\n",
    "    \n",
    "    # median\n",
    "    train_temp = pd.DataFrame(train_time.T.median(),columns=[time_cols[i] + '_median'])\n",
    "    X_train = pd.merge(X_train,train_temp,how=\"left\",left_on='new_id',right_on=train_temp.index)\n",
    "    test_temp = pd.DataFrame(test_time.T.median(),columns=[time_cols[i] + '_median'])\n",
    "    X_test = pd.merge(X_test,test_temp,how=\"left\",left_on='new_id',right_on=test_temp.index)\n",
    "    \n",
    "    # mean\n",
    "    train_temp = pd.DataFrame(train_time.T.mean(),columns=[time_cols[i] + '_mean'])\n",
    "    X_train = pd.merge(X_train,train_temp,how=\"left\",left_on='new_id',right_on=train_temp.index)\n",
    "    test_temp = pd.DataFrame(test_time.T.mean(),columns=[time_cols[i] + '_mean'])\n",
    "    X_test = pd.merge(X_test,test_temp,how=\"left\",left_on='new_id',right_on=test_temp.index)\n",
    "    \n",
    "    # var(irregularity)\n",
    "    train_temp = pd.DataFrame(train_time.T.var(),columns=[time_cols[i] + '_var'])\n",
    "    X_train = pd.merge(X_train,train_temp,how=\"left\",left_on='new_id',right_on=train_temp.index)\n",
    "    test_temp = pd.DataFrame(test_time.T.var(),columns=[time_cols[i] + '_var'])\n",
    "    X_test = pd.merge(X_test,test_temp,how=\"left\",left_on='new_id',right_on=test_temp.index)\n",
    "    \n",
    "    # skew\n",
    "    train_temp = pd.DataFrame(train_time.T.skew(),columns=[time_cols[i] + '_skew'])\n",
    "    X_train = pd.merge(X_train,train_temp,how=\"left\",left_on='new_id',right_on=train_temp.index)\n",
    "    test_temp = pd.DataFrame(test_time.T.skew(),columns=[time_cols[i] + '_skew'])\n",
    "    X_test = pd.merge(X_test,test_temp,how=\"left\",left_on='new_id',right_on=test_temp.index)\n",
    "    \n",
    "    # kurt\n",
    "    train_temp = pd.DataFrame(train_time.T.kurt(),columns=[time_cols[i] + '_kurt'])\n",
    "    X_train = pd.merge(X_train,train_temp,how=\"left\",left_on='new_id',right_on=train_temp.index)\n",
    "    test_temp = pd.DataFrame(test_time.T.kurt(),columns=[time_cols[i] + '_kurt'])\n",
    "    X_test = pd.merge(X_test,test_temp,how=\"left\",left_on='new_id',right_on=test_temp.index)\n",
    "    \n",
    "    # fe_1 : 이동평균 MA(4)\n",
    "    train_temp = train_time.rolling(window = 4,axis=1).mean().iloc[:,3:].copy()\n",
    "    train_temp.columns = [time_cols[i] + x for x in ['_MA_1','_MA_2','_MA_3','_MA_4','_MA_5']]\n",
    "    X_train = pd.merge(X_train,train_temp,how=\"left\",left_on='new_id',right_on=train_temp.index)\n",
    "\n",
    "    test_temp = test_time.rolling(window = 4,axis=1).mean().iloc[:,3:].copy()\n",
    "    test_temp.columns = train_temp.columns\n",
    "    X_test = pd.merge(X_test,test_temp,how=\"left\",left_on='new_id',right_on=test_temp.index)\n",
    "    \n",
    "    # fe_2 : trend - 주별 변화량\n",
    "    for z in range(7):\n",
    "        train_temp = pd.DataFrame((train_time.iloc[:,z+1] - train_time.iloc[:,z]),columns=[time_cols[i] + '_diff' + str(z+1)])\n",
    "        X_train = pd.merge(X_train,train_temp,how=\"left\",left_on='new_id',right_on=train_temp.index)\n",
    "\n",
    "        test_temp = pd.DataFrame((test_time.iloc[:,z+1] - test_time.iloc[:,z]),columns=[time_cols[i] + '_diff' + str(z+1)])\n",
    "        X_test = pd.merge(X_test,test_temp,how=\"left\",left_on='new_id',right_on=test_temp.index)\n",
    "\n",
    "    # fe_3 : trend - 최근 2주 변화량(단기)\n",
    "    train_temp = pd.DataFrame((train_time.iloc[:,7] - train_time.iloc[:,5]),columns=[time_cols[i] + '_diff_w2_by_last'])\n",
    "    X_train = pd.merge(X_train,train_temp,how=\"left\",left_on='new_id',right_on=train_temp.index)\n",
    "\n",
    "    test_temp = pd.DataFrame((test_time.iloc[:,7] - test_time.iloc[:,5]),columns=[time_cols[i] + '_diff_w2_by_last'])\n",
    "    X_test = pd.merge(X_test,test_temp,how=\"left\",left_on='new_id',right_on=test_temp.index)\n",
    "    # fe_4 : trend - 최근 4주 변화량(중기)\n",
    "    train_temp = pd.DataFrame((train_time.iloc[:,7] - train_time.iloc[:,3]),columns=[time_cols[i] + '_diff_w4_by_last'])\n",
    "    X_train = pd.merge(X_train,train_temp,how=\"left\",left_on='new_id',right_on=train_temp.index)\n",
    "\n",
    "    test_temp = pd.DataFrame((test_time.iloc[:,7] - test_time.iloc[:,3]),columns=[time_cols[i] + '_diff_w4_by_last'])\n",
    "    X_test = pd.merge(X_test,test_temp,how=\"left\",left_on='new_id',right_on=test_temp.index)\n",
    "    \n",
    "    \n",
    "    #### 각 기간 별 선형회귀 fit\n",
    "\n",
    "    train_fit = dict()\n",
    "    for acc_id in train_time.index:\n",
    "        lr = linear_model.LinearRegression(n_jobs = -1)\n",
    "        lr.fit(train_time.columns.values.reshape(8,1),train_time.loc[train_time.index == acc_id,:].values.reshape(8,1))\n",
    "        train_fit.update({acc_id:[lr.coef_, lr.intercept_] })\n",
    "\n",
    "    test_fit = dict()\n",
    "    for acc_id in test_time.index:\n",
    "        lr = linear_model.LinearRegression(n_jobs = -1)\n",
    "        lr.fit(test_time.columns.values.reshape(8,1),test_time.loc[test_time.index == acc_id,:].values.reshape(8,1))\n",
    "        test_fit.update({acc_id:[lr.coef_, lr.intercept_] })\n",
    "    \n",
    "    # fe_5 : trend - 장기 변화율(8주 선형회귀의 계수)\n",
    "    X_train[time_cols[i] + '_diff_w8_by_last'] = X_train.new_id.apply(lambda x : train_fit[x][0][0][0])\n",
    "    X_test[time_cols[i] + '_diff_w8_by_last'] = X_test.new_id.apply(lambda x : test_fit[x][0][0][0])\n",
    "    \n",
    "    # fe_6 : autocorrelation\n",
    "    train_temp = train_time.apply(lambda x: x.autocorr(), axis = 1).fillna(0)\n",
    "    X_train = pd.merge(X_train,pd.DataFrame(train_temp,columns=[time_cols[i] +'_cycle']),how=\"left\",left_on='new_id',right_on = train_temp.index)\n",
    "\n",
    "    test_temp = test_time.apply(lambda x: x.autocorr(), axis = 1).fillna(0)\n",
    "    X_test = pd.merge(X_test,pd.DataFrame(test_temp,columns=[time_cols[i] +'_cycle']),how=\"left\",left_on='new_id',right_on = test_temp.index)\n",
    "    \n",
    "    print(i)"
   ]
  },
  {
   "cell_type": "code",
   "execution_count": 10,
   "metadata": {},
   "outputs": [],
   "source": [
    "X_train.to_csv('X_train_게임활동_time.csv',index = False)\n",
    "X_test.to_csv('X_test_게임활동_time.csv',index = False)"
   ]
  },
  {
   "cell_type": "markdown",
   "metadata": {},
   "source": [
    "# 2. 간단한 시계열"
   ]
  },
  {
   "cell_type": "markdown",
   "metadata": {},
   "source": [
    "### 사용자별 8주간 차이가 드러날만한 변수들"
   ]
  },
  {
   "cell_type": "markdown",
   "metadata": {},
   "source": [
    "###  payment_amount, party_chat, whisper_chat, normal_chat, guild_chat, quest_hongmum, npc_hongmun, item_hongmun, inzone_normal, inzone_light"
   ]
  },
  {
   "cell_type": "markdown",
   "metadata": {},
   "source": [
    "### 각 변수별 시계열적인 특성을 보일 수 있는 변수들을 파악"
   ]
  },
  {
   "cell_type": "code",
   "execution_count": 1,
   "metadata": {},
   "outputs": [],
   "source": [
    "#### import modules\n",
    "import pandas as pd\n",
    "import numpy as np\n",
    "from sklearn import linear_model\n",
    "import re\n",
    "import seaborn as sns\n",
    "from sklearn.decomposition import PCA\n",
    "sns.set(color_codes=True)\n",
    "# min max\n",
    "from sklearn.preprocessing import MinMaxScaler"
   ]
  },
  {
   "cell_type": "code",
   "execution_count": 2,
   "metadata": {
    "scrolled": true
   },
   "outputs": [],
   "source": [
    "#### standardized dataset\n",
    "train_activity = pd.read_csv('../lite_data/train_activity_lite.csv')\n",
    "test_activity = pd.read_csv('../lite_data/test_activity_lite.csv')\n",
    "train_label = pd.read_csv('../lite_data/train_label_lite.csv')\n",
    "\n",
    "#### restored dataset\n",
    "raw_train_activity = pd.read_csv('../transformed/real_values_int.csv')\n",
    "raw_test_activity = pd.read_csv('../transformed/test_real_datas_int.csv')\n",
    "\n",
    "#### 컬럼 순서 new_id / wk / 나머지....\n",
    "cols = raw_train_activity.columns\n",
    "raw_train_activity = raw_train_activity.loc[:,[cols[-1],cols[-2]] + cols[0:-2].tolist()].copy()\n",
    "raw_test_activity = raw_test_activity.loc[:,[cols[-1],cols[-2]] + cols[0:-2].tolist()].copy()\n",
    "cols = raw_train_activity.columns"
   ]
  },
  {
   "cell_type": "code",
   "execution_count": 3,
   "metadata": {},
   "outputs": [],
   "source": [
    "#### 변수 정의 - 처음\n",
    "## X_train, X_test, y_train, label_map\n",
    "X_train = train_activity.groupby(by='new_id',sort=False,as_index=False).sum().iloc[:,:1]\n",
    "X_test = test_activity.groupby(by='new_id',sort=False,as_index=False).sum().iloc[:,:1]"
   ]
  },
  {
   "cell_type": "code",
   "execution_count": 4,
   "metadata": {},
   "outputs": [],
   "source": [
    "## label dictionary\n",
    "label_map = {'retained':0,'2month':1,'month':2,'week':3}\n",
    "y_train = pd.Series([label_map[l] for l in train_label.label])\n",
    "\n",
    "## 시간 관련 기본 변수 (퀘스트, 채팅, 제작 관련 변수 이외의 변수들...)\n",
    "train_time_var = raw_train_activity.loc[:,['new_id','wk','payment_amount', 'party_chat', 'whisper_chat', 'normal_chat', 'guild_chat', 'quest_hongmun', 'npc_hongmun', 'item_hongmun']]\n",
    "test_time_var = raw_test_activity.loc[:,['new_id','wk','payment_amount', 'party_chat', 'whisper_chat', 'normal_chat', 'guild_chat', 'quest_hongmun', 'npc_hongmun', 'item_hongmun']]"
   ]
  },
  {
   "cell_type": "code",
   "execution_count": 5,
   "metadata": {},
   "outputs": [],
   "source": [
    "#### 핵심 변수 추출\n",
    "## inzone_light\n",
    "# pca \n",
    "pca = PCA(n_components = 1)\n",
    "pca_train = pd.merge(raw_train_activity.iloc[:,:2],train_activity, on = ['new_id','wk'],how ='left').loc[:,['cnt_enter_inzone_light','cnt_clear_inzone_light']]\n",
    "pca_train = pca.fit_transform(pca_train.fillna(pca_train.min()))\n",
    "\n",
    "pca_test = pd.merge(raw_test_activity.iloc[:,:2],test_activity, on = ['new_id','wk'],how ='left').loc[:,['cnt_enter_inzone_light','cnt_clear_inzone_light']]\n",
    "pca_test = pca.transform(pca_test.fillna(pca_train.min()))\n",
    "\n",
    "# update\n",
    "train_time_var = pd.merge(train_time_var,pd.concat((raw_train_activity.iloc[:,:2],pd.Series(pca_train.reshape(-1),name='inzone_light')),axis=1))\n",
    "test_time_var = pd.merge(test_time_var,pd.concat((raw_test_activity.iloc[:,:2],pd.Series(pca_test.reshape(-1),name='inzone_light')),axis=1))\n",
    "\n",
    "## inzone_normal\n",
    "# pca \n",
    "pca = PCA(n_components = 1)\n",
    "pca_train = pd.merge(raw_train_activity.iloc[:,:2],train_activity, on = ['new_id','wk'],how ='left').loc[:,['cnt_enter_inzone_normal','cnt_clear_inzone_normal']]\n",
    "pca_train = pca.fit_transform(pca_train.fillna(pca_train.min()))\n",
    "\n",
    "pca_test = pd.merge(raw_test_activity.iloc[:,:2],test_activity, on = ['new_id','wk'],how ='left').loc[:,['cnt_enter_inzone_normal','cnt_clear_inzone_normal']]\n",
    "pca_test = pca.transform(pca_test.fillna(pca_train.min()))\n",
    "\n",
    "# update\n",
    "train_time_var = pd.merge(train_time_var,pd.concat((raw_train_activity.iloc[:,:2],pd.Series(pca_train.reshape(-1),name='inzone_normal')),axis=1))\n",
    "test_time_var = pd.merge(test_time_var,pd.concat((raw_test_activity.iloc[:,:2],pd.Series(pca_test.reshape(-1),name='inzone_normal')),axis=1))"
   ]
  },
  {
   "cell_type": "code",
   "execution_count": 6,
   "metadata": {},
   "outputs": [],
   "source": [
    "#### 핵심 변수만!!!\n",
    "time_cols = train_time_var.columns.tolist()\n",
    "num_var = len(time_cols)"
   ]
  },
  {
   "cell_type": "code",
   "execution_count": 7,
   "metadata": {},
   "outputs": [
    {
     "data": {
      "text/plain": [
       "['new_id',\n",
       " 'wk',\n",
       " 'payment_amount',\n",
       " 'party_chat',\n",
       " 'whisper_chat',\n",
       " 'normal_chat',\n",
       " 'guild_chat',\n",
       " 'quest_hongmun',\n",
       " 'npc_hongmun',\n",
       " 'item_hongmun',\n",
       " 'inzone_light',\n",
       " 'inzone_normal']"
      ]
     },
     "execution_count": 7,
     "metadata": {},
     "output_type": "execute_result"
    }
   ],
   "source": [
    "time_cols"
   ]
  },
  {
   "cell_type": "code",
   "execution_count": 8,
   "metadata": {},
   "outputs": [
    {
     "name": "stdout",
     "output_type": "stream",
     "text": [
      "2\n",
      "3\n",
      "4\n",
      "5\n",
      "6\n",
      "7\n",
      "8\n",
      "9\n",
      "10\n",
      "11\n"
     ]
    }
   ],
   "source": [
    "# 일반화\n",
    "for i in range(2,num_var):\n",
    "    ## pivoting\n",
    "    train_time = train_time_var.iloc[:,[0,1,i]].pivot(index = 'new_id',columns = 'wk',values=time_cols[i])\n",
    "    train_time = train_time.reindex(index = train_time.index.to_series().str.replace('tr','').astype(int).sort_values().index)# 인덱스 수정\n",
    "    test_time = test_time_var.iloc[:,[0,1,i]].pivot(index = 'new_id',columns = 'wk',values=time_cols[i])\n",
    "    test_time = test_time.reindex(index = test_time.index.to_series().str.replace('te','').astype(int).sort_values().index)# 인덱스 수정\n",
    "    \n",
    "    #### Feature Engineering\n",
    "\n",
    "    ### time - series\n",
    "    # fe_0 base statistics\n",
    "    \n",
    "    # median\n",
    "    train_temp = pd.DataFrame(train_time.T.median(),columns=[time_cols[i] + '_median'])\n",
    "    X_train = pd.merge(X_train,train_temp,how=\"left\",left_on='new_id',right_on=train_temp.index)\n",
    "    test_temp = pd.DataFrame(test_time.T.median(),columns=[time_cols[i] + '_median'])\n",
    "    X_test = pd.merge(X_test,test_temp,how=\"left\",left_on='new_id',right_on=test_temp.index)\n",
    "    \n",
    "    # mean\n",
    "    train_temp = pd.DataFrame(train_time.T.mean(),columns=[time_cols[i] + '_mean'])\n",
    "    X_train = pd.merge(X_train,train_temp,how=\"left\",left_on='new_id',right_on=train_temp.index)\n",
    "    test_temp = pd.DataFrame(test_time.T.mean(),columns=[time_cols[i] + '_mean'])\n",
    "    X_test = pd.merge(X_test,test_temp,how=\"left\",left_on='new_id',right_on=test_temp.index)\n",
    "    \n",
    "    # var(irregularity)\n",
    "    train_temp = pd.DataFrame(train_time.T.var(),columns=[time_cols[i] + '_var'])\n",
    "    X_train = pd.merge(X_train,train_temp,how=\"left\",left_on='new_id',right_on=train_temp.index)\n",
    "    test_temp = pd.DataFrame(test_time.T.var(),columns=[time_cols[i] + '_var'])\n",
    "    X_test = pd.merge(X_test,test_temp,how=\"left\",left_on='new_id',right_on=test_temp.index)\n",
    "    \n",
    "    # skew\n",
    "    train_temp = pd.DataFrame(train_time.T.skew(),columns=[time_cols[i] + '_skew'])\n",
    "    X_train = pd.merge(X_train,train_temp,how=\"left\",left_on='new_id',right_on=train_temp.index)\n",
    "    test_temp = pd.DataFrame(test_time.T.skew(),columns=[time_cols[i] + '_skew'])\n",
    "    X_test = pd.merge(X_test,test_temp,how=\"left\",left_on='new_id',right_on=test_temp.index)\n",
    "    \n",
    "    # kurt\n",
    "    train_temp = pd.DataFrame(train_time.T.kurt(),columns=[time_cols[i] + '_kurt'])\n",
    "    X_train = pd.merge(X_train,train_temp,how=\"left\",left_on='new_id',right_on=train_temp.index)\n",
    "    test_temp = pd.DataFrame(test_time.T.kurt(),columns=[time_cols[i] + '_kurt'])\n",
    "    X_test = pd.merge(X_test,test_temp,how=\"left\",left_on='new_id',right_on=test_temp.index)\n",
    "    \n",
    "    # fe_1 : 이동평균 MA(4)\n",
    "    train_temp = train_time.rolling(window = 4,axis=1).mean().iloc[:,3:].copy()\n",
    "    train_temp.columns = [time_cols[i] + x for x in ['_MA_1','_MA_2','_MA_3','_MA_4','_MA_5']]\n",
    "    X_train = pd.merge(X_train,train_temp,how=\"left\",left_on='new_id',right_on=train_temp.index)\n",
    "\n",
    "    test_temp = test_time.rolling(window = 4,axis=1).mean().iloc[:,3:].copy()\n",
    "    test_temp.columns = train_temp.columns\n",
    "    X_test = pd.merge(X_test,test_temp,how=\"left\",left_on='new_id',right_on=test_temp.index)\n",
    "    \n",
    "    # fe_6 : autocorrelation\n",
    "    train_temp = train_time.apply(lambda x: x.autocorr(), axis = 1).fillna(0)\n",
    "    X_train = pd.merge(X_train,pd.DataFrame(train_temp,columns=[time_cols[i] +'_cycle']),how=\"left\",left_on='new_id',right_on = train_temp.index)\n",
    "\n",
    "    test_temp = test_time.apply(lambda x: x.autocorr(), axis = 1).fillna(0)\n",
    "    X_test = pd.merge(X_test,pd.DataFrame(test_temp,columns=[time_cols[i] +'_cycle']),how=\"left\",left_on='new_id',right_on = test_temp.index)\n",
    "    \n",
    "    print(i)"
   ]
  },
  {
   "cell_type": "code",
   "execution_count": 12,
   "metadata": {
    "scrolled": true
   },
   "outputs": [],
   "source": [
    "X_train.to_csv('X_train_easy_time.csv',index = False)"
   ]
  },
  {
   "cell_type": "code",
   "execution_count": 13,
   "metadata": {
    "scrolled": true
   },
   "outputs": [],
   "source": [
    "X_test.to_csv('X_test_easy_time.csv',index = False)"
   ]
  },
  {
   "cell_type": "markdown",
   "metadata": {},
   "source": [
    "---"
   ]
  },
  {
   "cell_type": "code",
   "execution_count": 4,
   "metadata": {
    "scrolled": true
   },
   "outputs": [
    {
     "name": "stderr",
     "output_type": "stream",
     "text": [
      "/opt/conda/lib/python3.6/site-packages/ipykernel_launcher.py:8: SettingWithCopyWarning: \n",
      "A value is trying to be set on a copy of a slice from a DataFrame.\n",
      "Try using .loc[row_indexer,col_indexer] = value instead\n",
      "\n",
      "See the caveats in the documentation: http://pandas.pydata.org/pandas-docs/stable/indexing.html#indexing-view-versus-copy\n",
      "  \n",
      "/opt/conda/lib/python3.6/site-packages/ipykernel_launcher.py:9: SettingWithCopyWarning: \n",
      "A value is trying to be set on a copy of a slice from a DataFrame.\n",
      "Try using .loc[row_indexer,col_indexer] = value instead\n",
      "\n",
      "See the caveats in the documentation: http://pandas.pydata.org/pandas-docs/stable/indexing.html#indexing-view-versus-copy\n",
      "  if __name__ == '__main__':\n",
      "/opt/conda/lib/python3.6/site-packages/ipykernel_launcher.py:17: SettingWithCopyWarning: \n",
      "A value is trying to be set on a copy of a slice from a DataFrame.\n",
      "Try using .loc[row_indexer,col_indexer] = value instead\n",
      "\n",
      "See the caveats in the documentation: http://pandas.pydata.org/pandas-docs/stable/indexing.html#indexing-view-versus-copy\n",
      "/opt/conda/lib/python3.6/site-packages/ipykernel_launcher.py:18: SettingWithCopyWarning: \n",
      "A value is trying to be set on a copy of a slice from a DataFrame.\n",
      "Try using .loc[row_indexer,col_indexer] = value instead\n",
      "\n",
      "See the caveats in the documentation: http://pandas.pydata.org/pandas-docs/stable/indexing.html#indexing-view-versus-copy\n",
      "/opt/conda/lib/python3.6/site-packages/ipykernel_launcher.py:26: SettingWithCopyWarning: \n",
      "A value is trying to be set on a copy of a slice from a DataFrame.\n",
      "Try using .loc[row_indexer,col_indexer] = value instead\n",
      "\n",
      "See the caveats in the documentation: http://pandas.pydata.org/pandas-docs/stable/indexing.html#indexing-view-versus-copy\n",
      "/opt/conda/lib/python3.6/site-packages/ipykernel_launcher.py:27: SettingWithCopyWarning: \n",
      "A value is trying to be set on a copy of a slice from a DataFrame.\n",
      "Try using .loc[row_indexer,col_indexer] = value instead\n",
      "\n",
      "See the caveats in the documentation: http://pandas.pydata.org/pandas-docs/stable/indexing.html#indexing-view-versus-copy\n",
      "/opt/conda/lib/python3.6/site-packages/ipykernel_launcher.py:35: SettingWithCopyWarning: \n",
      "A value is trying to be set on a copy of a slice from a DataFrame.\n",
      "Try using .loc[row_indexer,col_indexer] = value instead\n",
      "\n",
      "See the caveats in the documentation: http://pandas.pydata.org/pandas-docs/stable/indexing.html#indexing-view-versus-copy\n",
      "/opt/conda/lib/python3.6/site-packages/ipykernel_launcher.py:36: SettingWithCopyWarning: \n",
      "A value is trying to be set on a copy of a slice from a DataFrame.\n",
      "Try using .loc[row_indexer,col_indexer] = value instead\n",
      "\n",
      "See the caveats in the documentation: http://pandas.pydata.org/pandas-docs/stable/indexing.html#indexing-view-versus-copy\n",
      "/opt/conda/lib/python3.6/site-packages/ipykernel_launcher.py:44: SettingWithCopyWarning: \n",
      "A value is trying to be set on a copy of a slice from a DataFrame.\n",
      "Try using .loc[row_indexer,col_indexer] = value instead\n",
      "\n",
      "See the caveats in the documentation: http://pandas.pydata.org/pandas-docs/stable/indexing.html#indexing-view-versus-copy\n",
      "/opt/conda/lib/python3.6/site-packages/ipykernel_launcher.py:45: SettingWithCopyWarning: \n",
      "A value is trying to be set on a copy of a slice from a DataFrame.\n",
      "Try using .loc[row_indexer,col_indexer] = value instead\n",
      "\n",
      "See the caveats in the documentation: http://pandas.pydata.org/pandas-docs/stable/indexing.html#indexing-view-versus-copy\n",
      "/opt/conda/lib/python3.6/site-packages/ipykernel_launcher.py:53: SettingWithCopyWarning: \n",
      "A value is trying to be set on a copy of a slice from a DataFrame.\n",
      "Try using .loc[row_indexer,col_indexer] = value instead\n",
      "\n",
      "See the caveats in the documentation: http://pandas.pydata.org/pandas-docs/stable/indexing.html#indexing-view-versus-copy\n",
      "/opt/conda/lib/python3.6/site-packages/ipykernel_launcher.py:54: SettingWithCopyWarning: \n",
      "A value is trying to be set on a copy of a slice from a DataFrame.\n",
      "Try using .loc[row_indexer,col_indexer] = value instead\n",
      "\n",
      "See the caveats in the documentation: http://pandas.pydata.org/pandas-docs/stable/indexing.html#indexing-view-versus-copy\n",
      "/opt/conda/lib/python3.6/site-packages/ipykernel_launcher.py:62: SettingWithCopyWarning: \n",
      "A value is trying to be set on a copy of a slice from a DataFrame.\n",
      "Try using .loc[row_indexer,col_indexer] = value instead\n",
      "\n",
      "See the caveats in the documentation: http://pandas.pydata.org/pandas-docs/stable/indexing.html#indexing-view-versus-copy\n",
      "/opt/conda/lib/python3.6/site-packages/ipykernel_launcher.py:63: SettingWithCopyWarning: \n",
      "A value is trying to be set on a copy of a slice from a DataFrame.\n",
      "Try using .loc[row_indexer,col_indexer] = value instead\n",
      "\n",
      "See the caveats in the documentation: http://pandas.pydata.org/pandas-docs/stable/indexing.html#indexing-view-versus-copy\n",
      "/opt/conda/lib/python3.6/site-packages/ipykernel_launcher.py:71: SettingWithCopyWarning: \n",
      "A value is trying to be set on a copy of a slice from a DataFrame.\n",
      "Try using .loc[row_indexer,col_indexer] = value instead\n",
      "\n",
      "See the caveats in the documentation: http://pandas.pydata.org/pandas-docs/stable/indexing.html#indexing-view-versus-copy\n",
      "/opt/conda/lib/python3.6/site-packages/ipykernel_launcher.py:72: SettingWithCopyWarning: \n",
      "A value is trying to be set on a copy of a slice from a DataFrame.\n",
      "Try using .loc[row_indexer,col_indexer] = value instead\n",
      "\n",
      "See the caveats in the documentation: http://pandas.pydata.org/pandas-docs/stable/indexing.html#indexing-view-versus-copy\n",
      "/opt/conda/lib/python3.6/site-packages/ipykernel_launcher.py:80: SettingWithCopyWarning: \n",
      "A value is trying to be set on a copy of a slice from a DataFrame.\n",
      "Try using .loc[row_indexer,col_indexer] = value instead\n",
      "\n",
      "See the caveats in the documentation: http://pandas.pydata.org/pandas-docs/stable/indexing.html#indexing-view-versus-copy\n",
      "/opt/conda/lib/python3.6/site-packages/ipykernel_launcher.py:81: SettingWithCopyWarning: \n",
      "A value is trying to be set on a copy of a slice from a DataFrame.\n",
      "Try using .loc[row_indexer,col_indexer] = value instead\n",
      "\n",
      "See the caveats in the documentation: http://pandas.pydata.org/pandas-docs/stable/indexing.html#indexing-view-versus-copy\n"
     ]
    }
   ],
   "source": [
    "## 상관계수가 높은 변수 분화\n",
    "# pca \n",
    "pca = PCA(n_components = 1)\n",
    "pca_train = pca.fit_transform(pd.concat((train_activity.duel_cnt,train_activity.duel_win),axis=1))\n",
    "pca_test = pca.transform(pd.concat((test_activity.duel_cnt,test_activity.duel_win),axis=1))\n",
    "\n",
    "# update\n",
    "train_time_var['duel'] = pca_train\n",
    "test_time_var['duel'] = pca_test\n",
    "\n",
    "# pca \n",
    "pca = PCA(n_components = 1)\n",
    "pca_train = pca.fit_transform(pd.concat((train_activity.partybattle_cnt,train_activity.partybattle_win),axis=1))\n",
    "pca_test = pca.transform(pd.concat((test_activity.partybattle_cnt,test_activity.partybattle_win),axis=1))\n",
    "\n",
    "# update\n",
    "train_time_var['partybattle'] = pca_train\n",
    "test_time_var['partybattle'] = pca_test\n",
    "\n",
    "# pca \n",
    "pca = PCA(n_components = 1)\n",
    "pca_train = pca.fit_transform(pd.concat((train_activity.cnt_enter_inzone_solo,train_activity.cnt_clear_inzone_solo),axis=1))\n",
    "pca_test = pca.transform(pd.concat((test_activity.cnt_enter_inzone_solo,test_activity.cnt_clear_inzone_solo),axis=1))\n",
    "\n",
    "# update\n",
    "train_time_var['inzone_solo'] = pca_train\n",
    "test_time_var['inzone_solo'] = pca_test\n",
    "\n",
    "# pca \n",
    "pca = PCA(n_components = 1)\n",
    "pca_train = pca.fit_transform(pd.concat((train_activity.cnt_enter_inzone_light,train_activity.cnt_clear_inzone_light),axis=1))\n",
    "pca_test = pca.transform(pd.concat((test_activity.cnt_enter_inzone_light,test_activity.cnt_clear_inzone_light),axis=1))\n",
    "\n",
    "# update\n",
    "train_time_var['inzone_light'] = pca_train\n",
    "test_time_var['inzone_light'] = pca_test\n",
    "\n",
    "# pca \n",
    "pca = PCA(n_components = 1)\n",
    "pca_train = pca.fit_transform(pd.concat((train_activity.cnt_enter_inzone_skilled,train_activity.cnt_clear_inzone_skilled),axis=1))\n",
    "pca_test = pca.transform(pd.concat((test_activity.cnt_enter_inzone_skilled,test_activity.cnt_clear_inzone_skilled),axis=1))\n",
    "\n",
    "# update\n",
    "train_time_var['inzone_skilled'] = pca_train\n",
    "test_time_var['inzone_skilled'] = pca_test\n",
    "\n",
    "# pca \n",
    "pca = PCA(n_components = 1)\n",
    "pca_train = pca.fit_transform(pd.concat((train_activity.cnt_enter_inzone_normal,train_activity.cnt_clear_inzone_normal),axis=1))\n",
    "pca_test = pca.transform(pd.concat((test_activity.cnt_enter_inzone_normal,test_activity.cnt_clear_inzone_normal),axis=1))\n",
    "\n",
    "# update\n",
    "train_time_var['inzone_normal'] = pca_train\n",
    "test_time_var['inzone_normal'] = pca_test\n",
    "\n",
    "# pca \n",
    "pca = PCA(n_components = 1)\n",
    "pca_train = pca.fit_transform(pd.concat((train_activity.cnt_enter_raid,train_activity.cnt_clear_raid),axis=1))\n",
    "pca_test = pca.transform(pd.concat((test_activity.cnt_enter_raid,test_activity.cnt_clear_raid),axis=1))\n",
    "\n",
    "# update\n",
    "train_time_var['raid'] = pca_train\n",
    "test_time_var['raid'] = pca_test\n",
    "\n",
    "# pca \n",
    "pca = PCA(n_components = 1)\n",
    "pca_train = pca.fit_transform(pd.concat((train_activity.cnt_enter_raid_light,train_activity.cnt_clear_raid_light),axis=1))\n",
    "pca_test = pca.transform(pd.concat((test_activity.cnt_enter_raid_light,test_activity.cnt_clear_raid_light),axis=1))\n",
    "\n",
    "# update\n",
    "train_time_var['raid_light'] = pca_train\n",
    "test_time_var['raid_light'] = pca_test\n",
    "\n",
    "# pca \n",
    "pca = PCA(n_components = 1)\n",
    "pca_train = pca.fit_transform(pd.concat((train_activity.cnt_enter_bam,train_activity.cnt_clear_bam),axis=1))\n",
    "pca_test = pca.transform(pd.concat((test_activity.cnt_enter_bam,test_activity.cnt_clear_bam),axis=1))\n",
    "\n",
    "# update\n",
    "train_time_var['bam'] = pca_train\n",
    "test_time_var['bam'] = pca_test"
   ]
  },
  {
   "cell_type": "code",
   "execution_count": 5,
   "metadata": {
    "scrolled": true
   },
   "outputs": [
    {
     "name": "stderr",
     "output_type": "stream",
     "text": [
      "/opt/conda/lib/python3.6/site-packages/ipykernel_launcher.py:2: SettingWithCopyWarning: \n",
      "A value is trying to be set on a copy of a slice from a DataFrame.\n",
      "Try using .loc[row_indexer,col_indexer] = value instead\n",
      "\n",
      "See the caveats in the documentation: http://pandas.pydata.org/pandas-docs/stable/indexing.html#indexing-view-versus-copy\n",
      "  \n",
      "/opt/conda/lib/python3.6/site-packages/ipykernel_launcher.py:3: SettingWithCopyWarning: \n",
      "A value is trying to be set on a copy of a slice from a DataFrame.\n",
      "Try using .loc[row_indexer,col_indexer] = value instead\n",
      "\n",
      "See the caveats in the documentation: http://pandas.pydata.org/pandas-docs/stable/indexing.html#indexing-view-versus-copy\n",
      "  This is separate from the ipykernel package so we can avoid doing imports until\n",
      "/opt/conda/lib/python3.6/site-packages/ipykernel_launcher.py:5: SettingWithCopyWarning: \n",
      "A value is trying to be set on a copy of a slice from a DataFrame.\n",
      "Try using .loc[row_indexer,col_indexer] = value instead\n",
      "\n",
      "See the caveats in the documentation: http://pandas.pydata.org/pandas-docs/stable/indexing.html#indexing-view-versus-copy\n",
      "  \"\"\"\n",
      "/opt/conda/lib/python3.6/site-packages/ipykernel_launcher.py:6: SettingWithCopyWarning: \n",
      "A value is trying to be set on a copy of a slice from a DataFrame.\n",
      "Try using .loc[row_indexer,col_indexer] = value instead\n",
      "\n",
      "See the caveats in the documentation: http://pandas.pydata.org/pandas-docs/stable/indexing.html#indexing-view-versus-copy\n",
      "  \n",
      "/opt/conda/lib/python3.6/site-packages/ipykernel_launcher.py:8: SettingWithCopyWarning: \n",
      "A value is trying to be set on a copy of a slice from a DataFrame.\n",
      "Try using .loc[row_indexer,col_indexer] = value instead\n",
      "\n",
      "See the caveats in the documentation: http://pandas.pydata.org/pandas-docs/stable/indexing.html#indexing-view-versus-copy\n",
      "  \n",
      "/opt/conda/lib/python3.6/site-packages/ipykernel_launcher.py:9: SettingWithCopyWarning: \n",
      "A value is trying to be set on a copy of a slice from a DataFrame.\n",
      "Try using .loc[row_indexer,col_indexer] = value instead\n",
      "\n",
      "See the caveats in the documentation: http://pandas.pydata.org/pandas-docs/stable/indexing.html#indexing-view-versus-copy\n",
      "  if __name__ == '__main__':\n",
      "/opt/conda/lib/python3.6/site-packages/ipykernel_launcher.py:11: SettingWithCopyWarning: \n",
      "A value is trying to be set on a copy of a slice from a DataFrame.\n",
      "Try using .loc[row_indexer,col_indexer] = value instead\n",
      "\n",
      "See the caveats in the documentation: http://pandas.pydata.org/pandas-docs/stable/indexing.html#indexing-view-versus-copy\n",
      "  # This is added back by InteractiveShellApp.init_path()\n",
      "/opt/conda/lib/python3.6/site-packages/ipykernel_launcher.py:12: SettingWithCopyWarning: \n",
      "A value is trying to be set on a copy of a slice from a DataFrame.\n",
      "Try using .loc[row_indexer,col_indexer] = value instead\n",
      "\n",
      "See the caveats in the documentation: http://pandas.pydata.org/pandas-docs/stable/indexing.html#indexing-view-versus-copy\n",
      "  if sys.path[0] == '':\n",
      "/opt/conda/lib/python3.6/site-packages/ipykernel_launcher.py:14: SettingWithCopyWarning: \n",
      "A value is trying to be set on a copy of a slice from a DataFrame.\n",
      "Try using .loc[row_indexer,col_indexer] = value instead\n",
      "\n",
      "See the caveats in the documentation: http://pandas.pydata.org/pandas-docs/stable/indexing.html#indexing-view-versus-copy\n",
      "  \n",
      "/opt/conda/lib/python3.6/site-packages/ipykernel_launcher.py:15: SettingWithCopyWarning: \n",
      "A value is trying to be set on a copy of a slice from a DataFrame.\n",
      "Try using .loc[row_indexer,col_indexer] = value instead\n",
      "\n",
      "See the caveats in the documentation: http://pandas.pydata.org/pandas-docs/stable/indexing.html#indexing-view-versus-copy\n",
      "  from ipykernel import kernelapp as app\n",
      "/opt/conda/lib/python3.6/site-packages/ipykernel_launcher.py:17: SettingWithCopyWarning: \n",
      "A value is trying to be set on a copy of a slice from a DataFrame.\n",
      "Try using .loc[row_indexer,col_indexer] = value instead\n",
      "\n",
      "See the caveats in the documentation: http://pandas.pydata.org/pandas-docs/stable/indexing.html#indexing-view-versus-copy\n",
      "/opt/conda/lib/python3.6/site-packages/ipykernel_launcher.py:18: SettingWithCopyWarning: \n",
      "A value is trying to be set on a copy of a slice from a DataFrame.\n",
      "Try using .loc[row_indexer,col_indexer] = value instead\n",
      "\n",
      "See the caveats in the documentation: http://pandas.pydata.org/pandas-docs/stable/indexing.html#indexing-view-versus-copy\n",
      "/opt/conda/lib/python3.6/site-packages/ipykernel_launcher.py:20: SettingWithCopyWarning: \n",
      "A value is trying to be set on a copy of a slice from a DataFrame.\n",
      "Try using .loc[row_indexer,col_indexer] = value instead\n",
      "\n",
      "See the caveats in the documentation: http://pandas.pydata.org/pandas-docs/stable/indexing.html#indexing-view-versus-copy\n",
      "/opt/conda/lib/python3.6/site-packages/ipykernel_launcher.py:21: SettingWithCopyWarning: \n",
      "A value is trying to be set on a copy of a slice from a DataFrame.\n",
      "Try using .loc[row_indexer,col_indexer] = value instead\n",
      "\n",
      "See the caveats in the documentation: http://pandas.pydata.org/pandas-docs/stable/indexing.html#indexing-view-versus-copy\n",
      "/opt/conda/lib/python3.6/site-packages/ipykernel_launcher.py:23: SettingWithCopyWarning: \n",
      "A value is trying to be set on a copy of a slice from a DataFrame.\n",
      "Try using .loc[row_indexer,col_indexer] = value instead\n",
      "\n",
      "See the caveats in the documentation: http://pandas.pydata.org/pandas-docs/stable/indexing.html#indexing-view-versus-copy\n",
      "/opt/conda/lib/python3.6/site-packages/ipykernel_launcher.py:24: SettingWithCopyWarning: \n",
      "A value is trying to be set on a copy of a slice from a DataFrame.\n",
      "Try using .loc[row_indexer,col_indexer] = value instead\n",
      "\n",
      "See the caveats in the documentation: http://pandas.pydata.org/pandas-docs/stable/indexing.html#indexing-view-versus-copy\n",
      "/opt/conda/lib/python3.6/site-packages/ipykernel_launcher.py:26: SettingWithCopyWarning: \n",
      "A value is trying to be set on a copy of a slice from a DataFrame.\n",
      "Try using .loc[row_indexer,col_indexer] = value instead\n",
      "\n",
      "See the caveats in the documentation: http://pandas.pydata.org/pandas-docs/stable/indexing.html#indexing-view-versus-copy\n",
      "/opt/conda/lib/python3.6/site-packages/ipykernel_launcher.py:27: SettingWithCopyWarning: \n",
      "A value is trying to be set on a copy of a slice from a DataFrame.\n",
      "Try using .loc[row_indexer,col_indexer] = value instead\n",
      "\n",
      "See the caveats in the documentation: http://pandas.pydata.org/pandas-docs/stable/indexing.html#indexing-view-versus-copy\n"
     ]
    }
   ],
   "source": [
    "#### diff변수...\n",
    "train_time_var['duel_diff'] = raw_train_activity.duel_cnt - raw_train_activity.duel_win\n",
    "test_time_var['duel_diff'] = raw_test_activity.duel_cnt - raw_test_activity.duel_win\n",
    "\n",
    "train_time_var['partybattle_diff'] = raw_train_activity.partybattle_cnt - raw_train_activity.partybattle_win\n",
    "test_time_var['partybattle_diff'] = raw_test_activity.partybattle_cnt - raw_test_activity.partybattle_win\n",
    "\n",
    "train_time_var['inzone_solo_diff'] = raw_train_activity.cnt_enter_inzone_solo - raw_train_activity.cnt_clear_inzone_solo\n",
    "test_time_var['inzone_solo_diff'] = raw_test_activity.cnt_enter_inzone_solo - raw_test_activity.cnt_clear_inzone_solo\n",
    "\n",
    "train_time_var['inzone_light_diff'] = raw_train_activity.cnt_enter_inzone_light - raw_train_activity.cnt_clear_inzone_light\n",
    "test_time_var['inzone_light_diff'] = raw_test_activity.cnt_enter_inzone_light - raw_test_activity.cnt_clear_inzone_light\n",
    "\n",
    "train_time_var['inzone_skilled_diff'] = raw_train_activity.cnt_enter_inzone_skilled - raw_train_activity.cnt_clear_inzone_skilled\n",
    "test_time_var['inzone_skilled_diff'] = raw_test_activity.cnt_enter_inzone_skilled - raw_test_activity.cnt_clear_inzone_skilled\n",
    "\n",
    "train_time_var['inzone_normal_diff'] = raw_train_activity.cnt_enter_inzone_normal - raw_train_activity.cnt_clear_inzone_normal\n",
    "test_time_var['inzone_normal_diff'] = raw_test_activity.cnt_enter_inzone_normal - raw_test_activity.cnt_clear_inzone_normal\n",
    "\n",
    "train_time_var['raid_diff'] = raw_train_activity.cnt_enter_raid - raw_train_activity.cnt_clear_raid\n",
    "test_time_var['raid_diff'] = raw_test_activity.cnt_enter_raid - raw_test_activity.cnt_clear_raid\n",
    "\n",
    "train_time_var['raid_light_diff'] = raw_train_activity.cnt_enter_raid_light - raw_train_activity.cnt_clear_raid_light\n",
    "test_time_var['raid_light_diff'] = raw_test_activity.cnt_enter_raid_light - raw_test_activity.cnt_clear_raid_light\n",
    "\n",
    "train_time_var['bam_diff'] = raw_train_activity.cnt_enter_bam - raw_train_activity.cnt_clear_bam\n",
    "test_time_var['bam_diff'] = raw_test_activity.cnt_enter_bam - raw_test_activity.cnt_clear_bam"
   ]
  }
 ],
 "metadata": {
  "kernelspec": {
   "display_name": "Python 3",
   "language": "python",
   "name": "python3"
  },
  "language_info": {
   "codemirror_mode": {
    "name": "ipython",
    "version": 3
   },
   "file_extension": ".py",
   "mimetype": "text/x-python",
   "name": "python",
   "nbconvert_exporter": "python",
   "pygments_lexer": "ipython3",
   "version": "3.6.5"
  }
 },
 "nbformat": 4,
 "nbformat_minor": 2
}
