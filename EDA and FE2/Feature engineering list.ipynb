{
 "cells": [
  {
   "cell_type": "markdown",
   "metadata": {},
   "source": [
    "# Feature generation"
   ]
  },
  {
   "cell_type": "markdown",
   "metadata": {},
   "source": [
    "### 기초"
   ]
  },
  {
   "cell_type": "markdown",
   "metadata": {},
   "source": [
    "* 플레이 한 것 중 min, max, sum, median"
   ]
  },
  {
   "cell_type": "markdown",
   "metadata": {},
   "source": [
    "### 시계열"
   ]
  },
  {
   "cell_type": "markdown",
   "metadata": {},
   "source": [
    "* 유저별 8주간 다음의 통계적 값들을 구함\n",
    "    - median, mean, var(irregularity), skew, kurt\n",
    "    - 이동평균 (window = 4)\n",
    "    - 주별 변화량 \n",
    "    - 8주 기준 2주, 1달 변화량\n",
    "    - 8주 선형회귀 기울기(Trend)\n",
    "    - 8주의 autocorrelation"
   ]
  },
  {
   "cell_type": "markdown",
   "metadata": {},
   "source": [
    "### 도메인 기반"
   ]
  },
  {
   "cell_type": "markdown",
   "metadata": {},
   "source": [
    "---"
   ]
  },
  {
   "cell_type": "markdown",
   "metadata": {},
   "source": [
    "# Feature Selection"
   ]
  },
  {
   "cell_type": "markdown",
   "metadata": {},
   "source": [
    "### 중심성 관련"
   ]
  },
  {
   "cell_type": "markdown",
   "metadata": {},
   "source": [
    "* 해당 변수에 대하여 클래스의 차이가 집단별로 유의하지 않은 변수 제거."
   ]
  },
  {
   "cell_type": "markdown",
   "metadata": {},
   "source": [
    "---"
   ]
  },
  {
   "cell_type": "markdown",
   "metadata": {},
   "source": [
    "# Activity와 Payment 관련 변수 FE"
   ]
  },
  {
   "cell_type": "markdown",
   "metadata": {},
   "source": [
    "### 총 37개의 기초 변수가 존재\n",
    "\n",
    "* 각각의 변수들을 Correlation과 도메인 지식을 바탕으로 그룹화 한 뒤 각각의 그룹별로 적절한 FE 진행"
   ]
  },
  {
   "cell_type": "markdown",
   "metadata": {},
   "source": [
    "### 1) 현질\n",
    "\n",
    "* 하위 변수 : payment_amount"
   ]
  },
  {
   "cell_type": "markdown",
   "metadata": {},
   "source": [
    "__Feature Selection__"
   ]
  },
  {
   "cell_type": "markdown",
   "metadata": {},
   "source": [
    "#### 기초"
   ]
  },
  {
   "cell_type": "markdown",
   "metadata": {},
   "source": [
    "* 발생한 것 중 sum, median, range 꽤 의미 있는 파생변수(기본적으로 정규분포 가정이됨)"
   ]
  },
  {
   "cell_type": "markdown",
   "metadata": {},
   "source": [
    "#### 시계열"
   ]
  },
  {
   "cell_type": "markdown",
   "metadata": {},
   "source": [
    "* payment_amount: `diff`관련 변수들은 집단 간 차이가 유의하지 않음 $\\Longrightarrow$ 제거"
   ]
  },
  {
   "cell_type": "markdown",
   "metadata": {},
   "source": [
    "### 2) 게임 활동\n",
    "\n",
    "* 하위 변수 : cnt_dt, play_time,game_combat_time, get_money, cnt_use_buffitem"
   ]
  },
  {
   "cell_type": "markdown",
   "metadata": {},
   "source": [
    "__Feature Selection__"
   ]
  },
  {
   "cell_type": "markdown",
   "metadata": {},
   "source": [
    "#### 기초"
   ]
  },
  {
   "cell_type": "markdown",
   "metadata": {},
   "source": [
    "* cnt_dt - min, max, sum, median\n",
    "* play_time - sum, median, range\n",
    "* game_combat_time - min, max, sum, median\n",
    "* get_money - min, max, sum, median\n",
    "* cnt_use_buffitem - sum, median, range"
   ]
  },
  {
   "cell_type": "markdown",
   "metadata": {},
   "source": [
    "#### 시계열"
   ]
  },
  {
   "cell_type": "markdown",
   "metadata": {},
   "source": [
    "* cnt_dt, play_time : 전체에서 non-zero의 비중이 절반이 넘음. 모든 시계열 관련 피쳐들 유의미\n",
    "* game_combat_time, get_money, cnt_use_buffitem 전체에서 non-zero의 비중이 32% 이상. 시계열 관련 피쳐 유의미하다고 보는 것이 좋음."
   ]
  },
  {
   "cell_type": "markdown",
   "metadata": {},
   "source": [
    "### 3) 소셜 활동\n",
    "\n",
    "* 하위 변수 :normal_chat, whisper_chat, district_chat, party_chat, guild_chat, faction_chat"
   ]
  },
  {
   "cell_type": "markdown",
   "metadata": {},
   "source": [
    "#### 기초"
   ]
  },
  {
   "cell_type": "markdown",
   "metadata": {},
   "source": [
    "* normal_chat - min, max, sum, median\n",
    "* whisper_chat - min, max, sum, median\n",
    "* district_chat - range, sum, median\n",
    "* party_chat - min, max, sum, median\n",
    "* guild_chat - min, max, sum, median\n",
    "* faction_chat - binary"
   ]
  },
  {
   "cell_type": "markdown",
   "metadata": {},
   "source": [
    "#### 시계열"
   ]
  },
  {
   "cell_type": "markdown",
   "metadata": {},
   "source": [
    "* party_chat - `diff`제외\n",
    "* whisper_chat - `diff`제외\n",
    "* normal_chat - `diff`제외\n",
    "* guild_chat - `diff`제외"
   ]
  },
  {
   "cell_type": "markdown",
   "metadata": {},
   "source": [
    "__채팅 상관관계__\n",
    "```\n",
    "party_chat\tguild_chat\t0.682104\n",
    "whisper_chat\tparty_chat\t0.571519\n",
    "whisper_chat\tguild_chat\t0.459035\n",
    "```"
   ]
  },
  {
   "cell_type": "markdown",
   "metadata": {},
   "source": [
    "### 4) 육성 컨텐츠\n",
    "\n",
    "* 하위 변수 : npc_exp,npc_hongmun,quest_exp, quest_hongmum, item_hongmun"
   ]
  },
  {
   "cell_type": "markdown",
   "metadata": {},
   "source": [
    "몇가지 퀘스트..."
   ]
  },
  {
   "cell_type": "markdown",
   "metadata": {},
   "source": [
    "#### 기초"
   ]
  },
  {
   "cell_type": "markdown",
   "metadata": {},
   "source": [
    "* npc_exp - range, sum, median\n",
    "* npc_hongmun - 걍ㄱ \n",
    "* quest_exp - 걍ㄱ\n",
    "* quest_hongmum\n",
    "* item_hongmun"
   ]
  },
  {
   "cell_type": "markdown",
   "metadata": {},
   "source": [
    "#### 시계열"
   ]
  },
  {
   "cell_type": "markdown",
   "metadata": {},
   "source": [
    "* quest_hongmum\n",
    "* npc_hongmun\n",
    "* item_hongmun 얘네만"
   ]
  },
  {
   "cell_type": "markdown",
   "metadata": {},
   "source": [
    "* quest_hongmun ,npc_hongmun - diff뺀거"
   ]
  },
  {
   "cell_type": "markdown",
   "metadata": {},
   "source": [
    "### 5) pvp 컨텐츠\n",
    "\n",
    "* 하위 변수 : partybattle_cnt, partybattle_win, duel_cnt, duel_win"
   ]
  },
  {
   "cell_type": "markdown",
   "metadata": {},
   "source": [
    "__Feature Selection__"
   ]
  },
  {
   "cell_type": "markdown",
   "metadata": {},
   "source": [
    "* duel : `mean`,`var`,`MA_4`,`MA_5` 만 그나마 의미 있음. $\\Longrightarrow$ 좀 더 eda가 필요\n",
    "<br>\n",
    "* duel_diff : ` duel_diff_mean`, `duel_diff_var`, `duel_diff_MA_4`, `duel_diff_MA_5` 만 그나마 의미"
   ]
  },
  {
   "cell_type": "markdown",
   "metadata": {},
   "source": [
    "* partybattle : `MA_2`,`MA_3`, `diff` 관련변수 노의미\n",
    "<br>\n",
    "* partybattle_diff : `MA_2`,`MA_3` ,`diff` 관련변수 노의미\n",
    "\n",
    "$\\Longrightarrow$ 좀 더 eda가 필요"
   ]
  },
  {
   "cell_type": "markdown",
   "metadata": {},
   "source": [
    "### 6) 사냥 컨텐츠\n",
    "\n",
    "* 하위 변수 : cnt_enter_inzone_solo, cnt_enter_inzone_light, cnt_enter_inzone_skilled, cnt_enter_inzone_normal, cnt_enter_raid, cnt_enter_raid_light, cnt_enter_bam, cnt_clear_inzone_solo, cnt_clear_inzone_light, cnt_clear_inzone_skilled, cnt_clear_inzone_normal, cnt_clear_raid, cnt_clear_raid_light, cnt_clear_bam"
   ]
  },
  {
   "cell_type": "markdown",
   "metadata": {},
   "source": [
    "__Feature Selection__"
   ]
  },
  {
   "cell_type": "markdown",
   "metadata": {},
   "source": [
    "#### 기초"
   ]
  },
  {
   "cell_type": "markdown",
   "metadata": {},
   "source": [
    "* 적은것들 잘 버리는게 중요.."
   ]
  },
  {
   "cell_type": "markdown",
   "metadata": {},
   "source": [
    "#### 시계열"
   ]
  },
  {
   "cell_type": "markdown",
   "metadata": {},
   "source": [
    "* inzone_normal.light\n",
    "...."
   ]
  },
  {
   "cell_type": "markdown",
   "metadata": {},
   "source": [
    "### 7) 채집, 제작 컨텐츠\n",
    "\n",
    "* 하위 변수 : gathering_cnt, making_cnt\t"
   ]
  },
  {
   "cell_type": "markdown",
   "metadata": {},
   "source": [
    "* gathering_cnt - binary \n",
    "* making_cnt - 이건 그대로..."
   ]
  },
  {
   "cell_type": "markdown",
   "metadata": {},
   "source": [
    "---"
   ]
  },
  {
   "cell_type": "markdown",
   "metadata": {},
   "source": [
    "# 특이한 거..."
   ]
  },
  {
   "cell_type": "markdown",
   "metadata": {},
   "source": [
    "- game_combat_time의 time_series와 관련된 몇몇 변수에 대하여 2month가 다른 클래스와 분포가 좀 다름\n",
    "\n",
    "- get_money의 time_series와 관련된 몇몇 변수에 대하여 2month가 다른 클래스와 분포가 좀 다름\n",
    "\n",
    "- 주별 변화량 변수들은... 초반에 크게 차이가 없는듯...\n",
    "\n",
    "* week인 애들 평균적으로 플레이 타임 많고 버프 사용량도 많은데 돈은 오지게 못범"
   ]
  },
  {
   "cell_type": "markdown",
   "metadata": {},
   "source": [
    "* 컬럼별 Non-zero row의 비중\n",
    "```\n",
    "cnt_dt                      0.550404\n",
    "play_time                   0.550396\n",
    "game_combat_time            0.362872\n",
    "cnt_use_buffitem            0.342230\n",
    "quest_hongmun               0.328927\n",
    "get_money                   0.325530\n",
    "npc_hongmun                 0.290208\n",
    "cnt_enter_inzone_normal     0.276948\n",
    "cnt_clear_inzone_normal     0.273496\n",
    "cnt_enter_inzone_light      0.249311\n",
    "cnt_clear_inzone_light      0.246900\n",
    "item_hongmun                0.242510\n",
    "party_chat                  0.239619\n",
    "whisper_chat                0.223791\n",
    "normal_chat                 0.142356\n",
    "cnt_enter_inzone_solo       0.138679\n",
    "guild_chat                  0.136079\n",
    "cnt_clear_inzone_solo       0.134704\n",
    "making_cnt                  0.132010\n",
    "cnt_enter_raid_light        0.122938\n",
    "cnt_clear_raid_light        0.122152\n",
    "cnt_enter_raid              0.100435\n",
    "quest_exp                   0.098549\n",
    "cnt_clear_raid              0.097933\n",
    "npc_exp                     0.094031\n",
    "district_chat               0.058037\n",
    "payment_amount              0.050882\n",
    "cnt_enter_inzone_skilled    0.049630\n",
    "cnt_clear_inzone_skilled    0.048365\n",
    "partybattle_cnt             0.040892\n",
    "partybattle_win             0.036826\n",
    "duel_cnt                    0.034980\n",
    "duel_win                    0.033226\n",
    "```\n",
    "---\n",
    "```\n",
    "cnt_enter_bam               0.003299\n",
    "faction_chat                0.002381\n",
    "cnt_clear_bam               0.001962\n",
    "gathering_cnt               0.000598\n",
    "```"
   ]
  }
 ],
 "metadata": {
  "kernelspec": {
   "display_name": "Python 3",
   "language": "python",
   "name": "python3"
  },
  "language_info": {
   "codemirror_mode": {
    "name": "ipython",
    "version": 3
   },
   "file_extension": ".py",
   "mimetype": "text/x-python",
   "name": "python",
   "nbconvert_exporter": "python",
   "pygments_lexer": "ipython3",
   "version": "3.6.5"
  }
 },
 "nbformat": 4,
 "nbformat_minor": 2
}
