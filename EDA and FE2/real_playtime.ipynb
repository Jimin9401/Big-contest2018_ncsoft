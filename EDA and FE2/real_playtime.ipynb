{
 "cells": [
  {
   "cell_type": "code",
   "execution_count": 1,
   "metadata": {},
   "outputs": [],
   "source": [
    "#import basic modules\n",
    "import pandas as pd\n",
    "import numpy as np\n",
    "import matplotlib.pyplot as plt\n",
    "import seaborn as sns\n",
    "sns.set(color_codes=True)"
   ]
  },
  {
   "cell_type": "code",
   "execution_count": 2,
   "metadata": {},
   "outputs": [],
   "source": [
    "train_activity = pd.read_csv('../lite_data/train_activity_lite.csv')\n",
    "raw_train_activity = pd.read_csv('../transformed/real_values_int.csv')\n",
    "raw_test_activity = pd.read_csv('../transformed/test_real_datas_int.csv')\n",
    "time_first = pd.read_csv('../Features/First_week.csv')"
   ]
  },
  {
   "cell_type": "code",
   "execution_count": 3,
   "metadata": {},
   "outputs": [],
   "source": [
    "#### 컬럼 순서 new_id / wk / 나머지....\n",
    "cols = raw_train_activity.columns\n",
    "raw_train_activity = raw_train_activity.loc[:,[cols[-1],cols[-2]] + cols[0:-2].tolist()].copy()\n",
    "raw_test_activity = raw_test_activity.loc[:,[cols[-1],cols[-2]] + cols[0:-2].tolist()].copy()\n",
    "cols = raw_train_activity.columns"
   ]
  },
  {
   "cell_type": "code",
   "execution_count": 4,
   "metadata": {},
   "outputs": [],
   "source": [
    "#### 변수 정의 - 처음\n",
    "## X_train, X_test, y_train, label_map\n",
    "X_train = train_activity.groupby(by='new_id',sort=False,as_index=False).sum().iloc[:,:1]"
   ]
  },
  {
   "cell_type": "code",
   "execution_count": 7,
   "metadata": {},
   "outputs": [],
   "source": [
    "#### error data\n",
    "error_set = pd.read_csv('error_set_0.741.csv')"
   ]
  },
  {
   "cell_type": "code",
   "execution_count": 10,
   "metadata": {},
   "outputs": [
    {
     "data": {
      "text/html": [
       "<div>\n",
       "<style scoped>\n",
       "    .dataframe tbody tr th:only-of-type {\n",
       "        vertical-align: middle;\n",
       "    }\n",
       "\n",
       "    .dataframe tbody tr th {\n",
       "        vertical-align: top;\n",
       "    }\n",
       "\n",
       "    .dataframe thead th {\n",
       "        text-align: right;\n",
       "    }\n",
       "</style>\n",
       "<table border=\"1\" class=\"dataframe\">\n",
       "  <thead>\n",
       "    <tr style=\"text-align: right;\">\n",
       "      <th></th>\n",
       "      <th>new_id</th>\n",
       "      <th>label</th>\n",
       "      <th>y_pred</th>\n",
       "    </tr>\n",
       "  </thead>\n",
       "  <tbody>\n",
       "    <tr>\n",
       "      <th>52531</th>\n",
       "      <td>tr52531</td>\n",
       "      <td>retained</td>\n",
       "      <td>2month</td>\n",
       "    </tr>\n",
       "  </tbody>\n",
       "</table>\n",
       "</div>"
      ],
      "text/plain": [
       "        new_id     label  y_pred\n",
       "52531  tr52531  retained  2month"
      ]
     },
     "execution_count": 10,
     "metadata": {},
     "output_type": "execute_result"
    }
   ],
   "source": [
    "error_set.loc[error_set.new_id=='tr52531',:]"
   ]
  },
  {
   "cell_type": "code",
   "execution_count": null,
   "metadata": {},
   "outputs": [],
   "source": []
  },
  {
   "cell_type": "code",
   "execution_count": null,
   "metadata": {},
   "outputs": [],
   "source": [
    "'cnt_dt'\n",
    "'play_time'\n",
    "'game_combat_time'\n",
    "'get_money'\n",
    "'cnt_use_buffitem'\n",
    "'party_chat'\n",
    "'guild_chat'\n",
    "---\n",
    "고렙컨텐츠\n",
    "저렙컨텐츠  증감..."
   ]
  },
  {
   "cell_type": "code",
   "execution_count": 11,
   "metadata": {
    "scrolled": false
   },
   "outputs": [
    {
     "data": {
      "text/plain": [
       "['new_id',\n",
       " 'wk',\n",
       " 'payment_amount',\n",
       " 'cnt_dt',\n",
       " 'play_time',\n",
       " 'npc_exp',\n",
       " 'npc_hongmun',\n",
       " 'quest_exp',\n",
       " 'quest_hongmun',\n",
       " 'item_hongmun',\n",
       " 'game_combat_time',\n",
       " 'get_money',\n",
       " 'duel_cnt',\n",
       " 'duel_win',\n",
       " 'partybattle_cnt',\n",
       " 'partybattle_win',\n",
       " 'cnt_enter_inzone_solo',\n",
       " 'cnt_enter_inzone_light',\n",
       " 'cnt_enter_inzone_skilled',\n",
       " 'cnt_enter_inzone_normal',\n",
       " 'cnt_enter_raid',\n",
       " 'cnt_enter_raid_light',\n",
       " 'cnt_enter_bam',\n",
       " 'cnt_clear_inzone_solo',\n",
       " 'cnt_clear_inzone_light',\n",
       " 'cnt_clear_inzone_skilled',\n",
       " 'cnt_clear_inzone_normal',\n",
       " 'cnt_clear_raid',\n",
       " 'cnt_clear_raid_light',\n",
       " 'cnt_clear_bam',\n",
       " 'normal_chat',\n",
       " 'whisper_chat',\n",
       " 'district_chat',\n",
       " 'party_chat',\n",
       " 'guild_chat',\n",
       " 'faction_chat',\n",
       " 'cnt_use_buffitem',\n",
       " 'gathering_cnt',\n",
       " 'making_cnt']"
      ]
     },
     "execution_count": 11,
     "metadata": {},
     "output_type": "execute_result"
    }
   ],
   "source": [
    "raw_train_activity.columns.tolist()"
   ]
  },
  {
   "cell_type": "code",
   "execution_count": 5,
   "metadata": {},
   "outputs": [],
   "source": [
    "train_time_var = pd.merge(time_first, raw_train_activity.loc[:,['new_id','wk','cnt_dt', 'play_time', 'game_combat_time', 'get_money', 'cnt_use_buffitem']])\n",
    "train_time_var = train_time_var.loc[train_time_var.wk >= train_time_var.first_week,:]\n",
    "train_time_var.drop('first_week',axis = 1,inplace = True)"
   ]
  },
  {
   "cell_type": "code",
   "execution_count": 6,
   "metadata": {},
   "outputs": [],
   "source": [
    "#### 핵심 변수만!!!\n",
    "time_cols = train_time_var.columns.tolist()\n",
    "num_var = len(time_cols)"
   ]
  },
  {
   "cell_type": "code",
   "execution_count": 7,
   "metadata": {},
   "outputs": [
    {
     "name": "stderr",
     "output_type": "stream",
     "text": [
      "/opt/conda/lib/python3.6/site-packages/numpy/lib/function_base.py:3175: RuntimeWarning: Degrees of freedom <= 0 for slice\n",
      "  c = cov(x, y, rowvar)\n",
      "/opt/conda/lib/python3.6/site-packages/numpy/lib/function_base.py:3109: RuntimeWarning: divide by zero encountered in double_scalars\n",
      "  c *= 1. / np.float64(fact)\n"
     ]
    },
    {
     "name": "stdout",
     "output_type": "stream",
     "text": [
      "2\n",
      "3\n",
      "4\n",
      "5\n",
      "6\n"
     ]
    }
   ],
   "source": [
    "# 일반화\n",
    "for i in range(2,num_var):\n",
    "    ## pivoting\n",
    "    train_time = train_time_var.iloc[:,[0,1,i]].pivot(index = 'new_id',columns = 'wk',values=time_cols[i])\n",
    "    train_time = train_time.reindex(index = train_time.index.to_series().str.replace('tr','').astype(int).sort_values().index)# 인덱스 수정\n",
    "    \n",
    "    #### Feature Engineering\n",
    "\n",
    "    ### time - series\n",
    "    # fe_0 base statistics\n",
    "    \n",
    "    # median\n",
    "    train_temp = pd.DataFrame(train_time.T.median(),columns=[time_cols[i] + '_median'])\n",
    "    X_train = pd.merge(X_train,train_temp,how=\"left\",left_on='new_id',right_on=train_temp.index)\n",
    "    \n",
    "    # mean\n",
    "    train_temp = pd.DataFrame(train_time.T.mean(),columns=[time_cols[i] + '_mean'])\n",
    "    X_train = pd.merge(X_train,train_temp,how=\"left\",left_on='new_id',right_on=train_temp.index)\n",
    "    \n",
    "    # var(irregularity)\n",
    "    train_temp = pd.DataFrame(train_time.T.var(),columns=[time_cols[i] + '_var']).fillna(0.0)\n",
    "    X_train = pd.merge(X_train,train_temp,how=\"left\",left_on='new_id',right_on=train_temp.index)\n",
    "    \n",
    "    # skew\n",
    "    train_temp = pd.DataFrame(train_time.T.skew(),columns=[time_cols[i] + '_skew']).fillna(0.0)\n",
    "    X_train = pd.merge(X_train,train_temp,how=\"left\",left_on='new_id',right_on=train_temp.index)\n",
    "    \n",
    "    # kurt\n",
    "    train_temp = pd.DataFrame(train_time.T.kurt(),columns=[time_cols[i] + '_kurt']).fillna(0.0)\n",
    "    X_train = pd.merge(X_train,train_temp,how=\"left\",left_on='new_id',right_on=train_temp.index)\n",
    "    \n",
    "    # fe_1 : 이동평균 MA(4)\n",
    "    train_temp = train_time.rolling(window = 4,axis=1).mean().iloc[:,3:].copy()\n",
    "    train_temp.columns = [time_cols[i] + x for x in ['_MA_1','_MA_2','_MA_3','_MA_4','_MA_5']]\n",
    "    X_train = pd.merge(X_train,train_temp,how=\"left\",left_on='new_id',right_on=train_temp.index)\n",
    "    \n",
    "    # fe_6 : autocorrelation\n",
    "    train_temp = train_time.apply(lambda x: x.autocorr(), axis = 1).fillna(0)\n",
    "    X_train = pd.merge(X_train,pd.DataFrame(train_temp,columns=[time_cols[i] +'_cycle']),how=\"left\",left_on='new_id',right_on = train_temp.index)\n",
    "    \n",
    "    print(i)"
   ]
  },
  {
   "cell_type": "code",
   "execution_count": 9,
   "metadata": {},
   "outputs": [],
   "source": [
    "X_train.to_csv('X_train_real_play_time.csv',index = False)"
   ]
  }
 ],
 "metadata": {
  "kernelspec": {
   "display_name": "Python 3",
   "language": "python",
   "name": "python3"
  },
  "language_info": {
   "codemirror_mode": {
    "name": "ipython",
    "version": 3
   },
   "file_extension": ".py",
   "mimetype": "text/x-python",
   "name": "python",
   "nbconvert_exporter": "python",
   "pygments_lexer": "ipython3",
   "version": "3.6.5"
  }
 },
 "nbformat": 4,
 "nbformat_minor": 2
}
