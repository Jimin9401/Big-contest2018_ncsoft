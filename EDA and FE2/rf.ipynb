{
 "cells": [
  {
   "cell_type": "code",
   "execution_count": 35,
   "metadata": {},
   "outputs": [],
   "source": [
    "import warnings\n",
    "warnings.filterwarnings(\"ignore\")\n",
    "import pandas as pd\n",
    "import numpy as np\n",
    "import xgboost as xgb\n",
    "from sklearn.metrics import precision_score, recall_score\n",
    "from sklearn.model_selection import StratifiedKFold\n",
    "from pprint import pprint\n",
    "import matplotlib.pyplot as plt\n",
    "\n",
    "from sklearn.ensemble import RandomForestClassifier # rf분류기"
   ]
  },
  {
   "cell_type": "code",
   "execution_count": 36,
   "metadata": {},
   "outputs": [],
   "source": [
    "def f1(X_val, y_val, model,mapping):\n",
    "    \"\"\"\n",
    "    Model evaluation function for multiclass classification problem\n",
    "    1) F-1 score, Precision, Recall\n",
    "    2) ROC curve, PR curve는 추후에 생각\n",
    "    \"\"\"\n",
    " \n",
    "    #### predict the value\n",
    "    y_pred = model.predict(X_val)\n",
    "\n",
    "    #print('-'*50)\n",
    "    #print('2. F1-score')\n",
    "    \n",
    "    # inverse pre/ rec\n",
    "    pre = precision_score(y_true = y_val, y_pred = y_pred, average=None)\n",
    "    rec = recall_score(y_true = y_val, y_pred = y_pred, average=None)\n",
    "\n",
    "    # f1 measure\n",
    "    f1_score = 8/(sum(1/pre) + sum(1/rec))\n",
    "    \n",
    "    # view - precision recall\n",
    "    table = pd.DataFrame([])\n",
    "\n",
    "    for i,k in enumerate(mapping.keys()):\n",
    "        table[k] = [pre[i],rec[i]]\n",
    "    table.index = ['precision','recall']\n",
    "    # print(table)\n",
    "    \n",
    "    # view - f1\n",
    "    #print('F1_score %.3f'%f1_score)\n",
    "    #print('='*50)\n",
    "    return f1_score"
   ]
  },
  {
   "cell_type": "code",
   "execution_count": 37,
   "metadata": {},
   "outputs": [],
   "source": [
    "#### load class\n",
    "train_label = pd.read_csv('../lite_data/train_label_lite.csv')\n",
    "label_map = {'retained':0,'2month':1,'month':2,'week':3}\n",
    "inv_map = {label_map[k]:k for k in label_map.keys()}\n",
    "y_train = pd.Series([label_map[l] for l in train_label.label])"
   ]
  },
  {
   "cell_type": "code",
   "execution_count": 38,
   "metadata": {},
   "outputs": [],
   "source": [
    "X_train_base = pd.read_csv('X_train_0902.csv')"
   ]
  },
  {
   "cell_type": "code",
   "execution_count": 68,
   "metadata": {},
   "outputs": [
    {
     "data": {
      "text/plain": [
       "(100000, 605)"
      ]
     },
     "execution_count": 68,
     "metadata": {},
     "output_type": "execute_result"
    }
   ],
   "source": [
    "X_train_base.shape"
   ]
  },
  {
   "cell_type": "code",
   "execution_count": 69,
   "metadata": {},
   "outputs": [],
   "source": [
    "X_train_new_time =pd.read_csv('X_train_real_play_time.csv').iloc[:,1:]"
   ]
  },
  {
   "cell_type": "code",
   "execution_count": 70,
   "metadata": {},
   "outputs": [
    {
     "data": {
      "text/plain": [
       "55"
      ]
     },
     "execution_count": 70,
     "metadata": {},
     "output_type": "execute_result"
    }
   ],
   "source": [
    "len(X_train_new_time.columns)"
   ]
  },
  {
   "cell_type": "code",
   "execution_count": 52,
   "metadata": {},
   "outputs": [],
   "source": [
    "cols = ['median_time_series','mean_time_series','var_time_series','skew_time_series','kurt_time_series',\n",
    "'MA_1_time_series','MA_2_time_series','MA_3_time_series','MA_4_time_series','MA_5_time_series' ,'cycle_time_series']"
   ]
  },
  {
   "cell_type": "code",
   "execution_count": 71,
   "metadata": {},
   "outputs": [],
   "source": [
    "X_train = pd.concat((X_train_base.loc[:,X_train_base.columns[pd.Series(X_train_base.columns.tolist()).apply(lambda x: [x for c in cols if c in x] == [])].tolist()],X_train_new_time),axis = 1)"
   ]
  },
  {
   "cell_type": "code",
   "execution_count": 72,
   "metadata": {},
   "outputs": [
    {
     "data": {
      "text/plain": [
       "(100000, 605)"
      ]
     },
     "execution_count": 72,
     "metadata": {},
     "output_type": "execute_result"
    }
   ],
   "source": [
    "X_train.shape"
   ]
  },
  {
   "cell_type": "code",
   "execution_count": 73,
   "metadata": {},
   "outputs": [],
   "source": [
    "X_train_rf = X_train.fillna(0)"
   ]
  },
  {
   "cell_type": "markdown",
   "metadata": {},
   "source": [
    "---"
   ]
  },
  {
   "cell_type": "markdown",
   "metadata": {},
   "source": [
    "### Random forest로 변수 성능 판단...\n",
    "* 현재 state-of-art(495)   CV F1: 0.720 +/- 0.005\n",
    "* interaction 추가(525)    CV F1: 0.720 +/- 0.005 성능이 개선되지 않음\n",
    "* CAT 대신 count 추가(579)    CV F1: 0.722 +/- 0.007"
   ]
  },
  {
   "cell_type": "markdown",
   "metadata": {},
   "source": [
    "CV F1: 0.722 +/- 0.004"
   ]
  },
  {
   "cell_type": "code",
   "execution_count": 74,
   "metadata": {},
   "outputs": [
    {
     "data": {
      "text/plain": [
       "(100000, 605)"
      ]
     },
     "execution_count": 74,
     "metadata": {},
     "output_type": "execute_result"
    }
   ],
   "source": [
    "X_train_rf.shape"
   ]
  },
  {
   "cell_type": "code",
   "execution_count": 75,
   "metadata": {},
   "outputs": [],
   "source": [
    "model = RandomForestClassifier(criterion='gini',max_depth = 19, max_features = 290, min_samples_leaf = 1,n_estimators=300,random_state= 7, n_jobs=-1)"
   ]
  },
  {
   "cell_type": "code",
   "execution_count": 76,
   "metadata": {},
   "outputs": [
    {
     "name": "stdout",
     "output_type": "stream",
     "text": [
      "Fold: 1, Class dist.: [20000 20000 20000 20000], F1: 0.721\n",
      "Fold: 2, Class dist.: [20000 20000 20000 20000], F1: 0.715\n",
      "Fold: 3, Class dist.: [20000 20000 20000 20000], F1: 0.725\n",
      "Fold: 4, Class dist.: [20000 20000 20000 20000], F1: 0.724\n",
      "Fold: 5, Class dist.: [20000 20000 20000 20000], F1: 0.716\n",
      "\n",
      "CV F1: 0.720 +/- 0.004\n"
     ]
    }
   ],
   "source": [
    "#### cross validation\n",
    "kfold = StratifiedKFold(n_splits = 5 ,random_state = 7,shuffle = True).split(X_train_rf, y_train)\n",
    "scores = []\n",
    "for k, (train, test) in enumerate(kfold):\n",
    "    model.fit(X_train_rf.iloc[train,:], y_train[train])\n",
    "    score = f1(X_train_rf.iloc[test,:], y_train[test], model,label_map)\n",
    "    scores.append(score)\n",
    "    print('Fold: %s, Class dist.: %s, F1: %.3f' % (k+1,np.bincount(y_train[train]), score))\n",
    "    \n",
    "print('\\nCV F1: %.3f +/- %.3f' % (np.mean(scores), np.std(scores)))"
   ]
  },
  {
   "cell_type": "markdown",
   "metadata": {},
   "source": [
    "__변수의 중요도 파악__"
   ]
  },
  {
   "cell_type": "code",
   "execution_count": 33,
   "metadata": {},
   "outputs": [
    {
     "data": {
      "text/plain": [
       "Index(['('cnt_dt', 'play_time')', '('play_time', 'game_combat_time')',\n",
       "       '('play_time', 'quest_hongmun')', '('play_time', 'cnt_use_buffitem')',\n",
       "       '('cnt_dt', 'game_combat_time')', '('play_time', 'quest_exp')',\n",
       "       '('play_time', 'npc_exp')', '('game_combat_time', 'cnt_use_buffitem')',\n",
       "       '('npc_exp', 'game_combat_time')', '('quest_exp', 'game_combat_time')',\n",
       "       '('cnt_dt', 'get_money')', '('cnt_dt', 'item_hongmun')',\n",
       "       '('game_combat_time', 'get_money')', '('play_time', 'get_money')',\n",
       "       '('cnt_dt', 'cnt_use_buffitem')', '('cnt_dt', 'npc_exp')',\n",
       "       '('get_money', 'cnt_use_buffitem')', '('npc_exp', 'cnt_use_buffitem')',\n",
       "       '('cnt_dt', 'quest_hongmun')', '('npc_exp', 'quest_exp')',\n",
       "       '('npc_exp', 'get_money')', '('cnt_dt', 'quest_exp')',\n",
       "       '('whisper_chat', 'party_chat')', '('quest_exp', 'cnt_use_buffitem')',\n",
       "       '('npc_hongmun', 'item_hongmun')',\n",
       "       '('quest_hongmun', 'game_combat_time')', '('cnt_dt', 'whisper_chat')',\n",
       "       '('quest_exp', 'get_money')', '('play_time', 'whisper_chat')',\n",
       "       '('get_money', 'whisper_chat')'],\n",
       "      dtype='object')"
      ]
     },
     "execution_count": 33,
     "metadata": {},
     "output_type": "execute_result"
    }
   ],
   "source": [
    "X_train_base.columns[-30:]"
   ]
  },
  {
   "cell_type": "code",
   "execution_count": 9,
   "metadata": {},
   "outputs": [],
   "source": [
    "fi= model.feature_importances_"
   ]
  },
  {
   "cell_type": "code",
   "execution_count": 10,
   "metadata": {},
   "outputs": [],
   "source": [
    "cols = X_train_rf.columns.tolist()"
   ]
  },
  {
   "cell_type": "code",
   "execution_count": 13,
   "metadata": {},
   "outputs": [],
   "source": [
    "results = pd.DataFrame([(cols[i],x)for i,x in enumerate(fi)], columns=['features','importance']).sort_values(by='importance',ascending = False)"
   ]
  },
  {
   "cell_type": "code",
   "execution_count": 15,
   "metadata": {},
   "outputs": [],
   "source": [
    "results = results.reset_index()"
   ]
  }
 ],
 "metadata": {
  "kernelspec": {
   "display_name": "Python 3",
   "language": "python",
   "name": "python3"
  },
  "language_info": {
   "codemirror_mode": {
    "name": "ipython",
    "version": 3
   },
   "file_extension": ".py",
   "mimetype": "text/x-python",
   "name": "python",
   "nbconvert_exporter": "python",
   "pygments_lexer": "ipython3",
   "version": "3.6.5"
  }
 },
 "nbformat": 4,
 "nbformat_minor": 2
}
