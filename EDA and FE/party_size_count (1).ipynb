{
 "cells": [
  {
   "cell_type": "code",
   "execution_count": 1,
   "metadata": {},
   "outputs": [],
   "source": [
    "import concurrent.futures\n",
    "from functools import partial\n",
    "import warnings\n",
    "warnings.filterwarnings(\"ignore\")\n",
    "import pandas as pd\n",
    "import numpy as np\n",
    "import xgboost as xgb\n",
    "from xgboost.sklearn import XGBClassifier\n",
    "from sklearn.metrics import precision_score, recall_score\n",
    "from sklearn.model_selection import StratifiedKFold\n",
    "from sklearn.model_selection import GridSearchCV\n",
    "from sklearn.model_selection import validation_curve\n",
    "from pprint import pprint\n",
    "import matplotlib.pyplot as plt\n",
    "\n",
    "from sklearn.ensemble import RandomForestClassifier # rf분류기"
   ]
  },
  {
   "cell_type": "code",
   "execution_count": 2,
   "metadata": {},
   "outputs": [],
   "source": [
    "train_party=pd.read_csv('lite_data/train_party_lite.csv')"
   ]
  },
  {
   "cell_type": "code",
   "execution_count": 3,
   "metadata": {},
   "outputs": [],
   "source": [
    "test_party=pd.read_csv('lite_data/test_party_lite.csv')"
   ]
  },
  {
   "cell_type": "code",
   "execution_count": 4,
   "metadata": {},
   "outputs": [],
   "source": [
    "labels=pd.read_csv('lite_data//train_label_lite.csv')"
   ]
  },
  {
   "cell_type": "code",
   "execution_count": 5,
   "metadata": {},
   "outputs": [
    {
     "data": {
      "text/html": [
       "<div>\n",
       "<style scoped>\n",
       "    .dataframe tbody tr th:only-of-type {\n",
       "        vertical-align: middle;\n",
       "    }\n",
       "\n",
       "    .dataframe tbody tr th {\n",
       "        vertical-align: top;\n",
       "    }\n",
       "\n",
       "    .dataframe thead th {\n",
       "        text-align: right;\n",
       "    }\n",
       "</style>\n",
       "<table border=\"1\" class=\"dataframe\">\n",
       "  <thead>\n",
       "    <tr style=\"text-align: right;\">\n",
       "      <th></th>\n",
       "      <th>new_id</th>\n",
       "      <th>label</th>\n",
       "    </tr>\n",
       "  </thead>\n",
       "  <tbody>\n",
       "    <tr>\n",
       "      <th>0</th>\n",
       "      <td>tr0</td>\n",
       "      <td>month</td>\n",
       "    </tr>\n",
       "    <tr>\n",
       "      <th>1</th>\n",
       "      <td>tr1</td>\n",
       "      <td>week</td>\n",
       "    </tr>\n",
       "    <tr>\n",
       "      <th>2</th>\n",
       "      <td>tr2</td>\n",
       "      <td>retained</td>\n",
       "    </tr>\n",
       "    <tr>\n",
       "      <th>3</th>\n",
       "      <td>tr3</td>\n",
       "      <td>week</td>\n",
       "    </tr>\n",
       "    <tr>\n",
       "      <th>4</th>\n",
       "      <td>tr4</td>\n",
       "      <td>retained</td>\n",
       "    </tr>\n",
       "  </tbody>\n",
       "</table>\n",
       "</div>"
      ],
      "text/plain": [
       "  new_id     label\n",
       "0    tr0     month\n",
       "1    tr1      week\n",
       "2    tr2  retained\n",
       "3    tr3      week\n",
       "4    tr4  retained"
      ]
     },
     "execution_count": 5,
     "metadata": {},
     "output_type": "execute_result"
    }
   ],
   "source": [
    "labels.head()"
   ]
  },
  {
   "cell_type": "code",
   "execution_count": 6,
   "metadata": {},
   "outputs": [
    {
     "data": {
      "text/html": [
       "<div>\n",
       "<style scoped>\n",
       "    .dataframe tbody tr th:only-of-type {\n",
       "        vertical-align: middle;\n",
       "    }\n",
       "\n",
       "    .dataframe tbody tr th {\n",
       "        vertical-align: top;\n",
       "    }\n",
       "\n",
       "    .dataframe thead th {\n",
       "        text-align: right;\n",
       "    }\n",
       "</style>\n",
       "<table border=\"1\" class=\"dataframe\">\n",
       "  <thead>\n",
       "    <tr style=\"text-align: right;\">\n",
       "      <th></th>\n",
       "      <th>party_start_week</th>\n",
       "      <th>party_start_day</th>\n",
       "      <th>party_start_time</th>\n",
       "      <th>party_end_week</th>\n",
       "      <th>party_end_day</th>\n",
       "      <th>party_end_time</th>\n",
       "      <th>party_members_acc_id</th>\n",
       "    </tr>\n",
       "  </thead>\n",
       "  <tbody>\n",
       "    <tr>\n",
       "      <th>0</th>\n",
       "      <td>1</td>\n",
       "      <td>1</td>\n",
       "      <td>09:14:58.558</td>\n",
       "      <td>1</td>\n",
       "      <td>1</td>\n",
       "      <td>09:41:30.200</td>\n",
       "      <td>ot160647,ot47783,tr53166,ot200260,ot148400,tr9...</td>\n",
       "    </tr>\n",
       "    <tr>\n",
       "      <th>1</th>\n",
       "      <td>3</td>\n",
       "      <td>3</td>\n",
       "      <td>11:05:05.176</td>\n",
       "      <td>3</td>\n",
       "      <td>3</td>\n",
       "      <td>13:07:42.515</td>\n",
       "      <td>ot93483,ot74426,te4462,tr75992,tr89175,tr89342</td>\n",
       "    </tr>\n",
       "    <tr>\n",
       "      <th>2</th>\n",
       "      <td>3</td>\n",
       "      <td>6</td>\n",
       "      <td>02:18:43.172</td>\n",
       "      <td>3</td>\n",
       "      <td>6</td>\n",
       "      <td>02:28:58.177</td>\n",
       "      <td>te30091,ot168103,tr16718,te34235,tr63569,ot179821</td>\n",
       "    </tr>\n",
       "    <tr>\n",
       "      <th>3</th>\n",
       "      <td>4</td>\n",
       "      <td>1</td>\n",
       "      <td>09:22:01.936</td>\n",
       "      <td>4</td>\n",
       "      <td>1</td>\n",
       "      <td>09:47:40.192</td>\n",
       "      <td>ot233060,tr15609,tr85158,tr36984,tr66235,tr622...</td>\n",
       "    </tr>\n",
       "    <tr>\n",
       "      <th>4</th>\n",
       "      <td>4</td>\n",
       "      <td>5</td>\n",
       "      <td>06:29:21.182</td>\n",
       "      <td>4</td>\n",
       "      <td>5</td>\n",
       "      <td>06:50:55.004</td>\n",
       "      <td>ot120538,tr14982,ot22725,tr16126,ot24948,tr66815</td>\n",
       "    </tr>\n",
       "  </tbody>\n",
       "</table>\n",
       "</div>"
      ],
      "text/plain": [
       "   party_start_week  party_start_day party_start_time  party_end_week  \\\n",
       "0                 1                1     09:14:58.558               1   \n",
       "1                 3                3     11:05:05.176               3   \n",
       "2                 3                6     02:18:43.172               3   \n",
       "3                 4                1     09:22:01.936               4   \n",
       "4                 4                5     06:29:21.182               4   \n",
       "\n",
       "   party_end_day party_end_time  \\\n",
       "0              1   09:41:30.200   \n",
       "1              3   13:07:42.515   \n",
       "2              6   02:28:58.177   \n",
       "3              1   09:47:40.192   \n",
       "4              5   06:50:55.004   \n",
       "\n",
       "                                party_members_acc_id  \n",
       "0  ot160647,ot47783,tr53166,ot200260,ot148400,tr9...  \n",
       "1     ot93483,ot74426,te4462,tr75992,tr89175,tr89342  \n",
       "2  te30091,ot168103,tr16718,te34235,tr63569,ot179821  \n",
       "3  ot233060,tr15609,tr85158,tr36984,tr66235,tr622...  \n",
       "4   ot120538,tr14982,ot22725,tr16126,ot24948,tr66815  "
      ]
     },
     "execution_count": 6,
     "metadata": {},
     "output_type": "execute_result"
    }
   ],
   "source": [
    "train_party.head()"
   ]
  },
  {
   "cell_type": "code",
   "execution_count": 7,
   "metadata": {},
   "outputs": [
    {
     "data": {
      "text/html": [
       "<div>\n",
       "<style scoped>\n",
       "    .dataframe tbody tr th:only-of-type {\n",
       "        vertical-align: middle;\n",
       "    }\n",
       "\n",
       "    .dataframe tbody tr th {\n",
       "        vertical-align: top;\n",
       "    }\n",
       "\n",
       "    .dataframe thead th {\n",
       "        text-align: right;\n",
       "    }\n",
       "</style>\n",
       "<table border=\"1\" class=\"dataframe\">\n",
       "  <thead>\n",
       "    <tr style=\"text-align: right;\">\n",
       "      <th></th>\n",
       "      <th>party_start_week</th>\n",
       "      <th>party_start_day</th>\n",
       "      <th>party_start_time</th>\n",
       "      <th>party_end_week</th>\n",
       "      <th>party_end_day</th>\n",
       "      <th>party_end_time</th>\n",
       "      <th>party_members_acc_id</th>\n",
       "    </tr>\n",
       "  </thead>\n",
       "  <tbody>\n",
       "    <tr>\n",
       "      <th>0</th>\n",
       "      <td>1</td>\n",
       "      <td>1</td>\n",
       "      <td>09:14:58.558</td>\n",
       "      <td>1</td>\n",
       "      <td>1</td>\n",
       "      <td>09:41:30.200</td>\n",
       "      <td>ot160647,ot47783,tr53166,ot200260,ot148400,tr9...</td>\n",
       "    </tr>\n",
       "    <tr>\n",
       "      <th>1</th>\n",
       "      <td>3</td>\n",
       "      <td>3</td>\n",
       "      <td>11:05:05.176</td>\n",
       "      <td>3</td>\n",
       "      <td>3</td>\n",
       "      <td>13:07:42.515</td>\n",
       "      <td>ot93483,ot74426,te4462,tr75992,tr89175,tr89342</td>\n",
       "    </tr>\n",
       "    <tr>\n",
       "      <th>2</th>\n",
       "      <td>3</td>\n",
       "      <td>6</td>\n",
       "      <td>02:18:43.172</td>\n",
       "      <td>3</td>\n",
       "      <td>6</td>\n",
       "      <td>02:28:58.177</td>\n",
       "      <td>te30091,ot168103,tr16718,te34235,tr63569,ot179821</td>\n",
       "    </tr>\n",
       "    <tr>\n",
       "      <th>3</th>\n",
       "      <td>4</td>\n",
       "      <td>1</td>\n",
       "      <td>09:22:01.936</td>\n",
       "      <td>4</td>\n",
       "      <td>1</td>\n",
       "      <td>09:47:40.192</td>\n",
       "      <td>ot233060,tr15609,tr85158,tr36984,tr66235,tr622...</td>\n",
       "    </tr>\n",
       "    <tr>\n",
       "      <th>4</th>\n",
       "      <td>4</td>\n",
       "      <td>5</td>\n",
       "      <td>06:29:21.182</td>\n",
       "      <td>4</td>\n",
       "      <td>5</td>\n",
       "      <td>06:50:55.004</td>\n",
       "      <td>ot120538,tr14982,ot22725,tr16126,ot24948,tr66815</td>\n",
       "    </tr>\n",
       "  </tbody>\n",
       "</table>\n",
       "</div>"
      ],
      "text/plain": [
       "   party_start_week  party_start_day party_start_time  party_end_week  \\\n",
       "0                 1                1     09:14:58.558               1   \n",
       "1                 3                3     11:05:05.176               3   \n",
       "2                 3                6     02:18:43.172               3   \n",
       "3                 4                1     09:22:01.936               4   \n",
       "4                 4                5     06:29:21.182               4   \n",
       "\n",
       "   party_end_day party_end_time  \\\n",
       "0              1   09:41:30.200   \n",
       "1              3   13:07:42.515   \n",
       "2              6   02:28:58.177   \n",
       "3              1   09:47:40.192   \n",
       "4              5   06:50:55.004   \n",
       "\n",
       "                                party_members_acc_id  \n",
       "0  ot160647,ot47783,tr53166,ot200260,ot148400,tr9...  \n",
       "1     ot93483,ot74426,te4462,tr75992,tr89175,tr89342  \n",
       "2  te30091,ot168103,tr16718,te34235,tr63569,ot179821  \n",
       "3  ot233060,tr15609,tr85158,tr36984,tr66235,tr622...  \n",
       "4   ot120538,tr14982,ot22725,tr16126,ot24948,tr66815  "
      ]
     },
     "execution_count": 7,
     "metadata": {},
     "output_type": "execute_result"
    }
   ],
   "source": [
    "train_party.head()"
   ]
  },
  {
   "cell_type": "code",
   "execution_count": 8,
   "metadata": {},
   "outputs": [
    {
     "data": {
      "text/plain": [
       "6"
      ]
     },
     "execution_count": 8,
     "metadata": {},
     "output_type": "execute_result"
    }
   ],
   "source": [
    "len(train_party.party_members_acc_id.iloc[0].split(','))"
   ]
  },
  {
   "cell_type": "code",
   "execution_count": 9,
   "metadata": {},
   "outputs": [],
   "source": [
    "results=[]\n",
    "def in_party(a,n):\n",
    "    return a in train_party.party_members_acc_id.iloc[n].split(',')\n",
    "\n",
    "def process(n, r=10000):\n",
    "    result={}\n",
    "    for i in labels.new_id:\n",
    "        result[i]=[]\n",
    "    if n+r >len(train_party):\n",
    "        r=len(train_party)-n-1\n",
    "    for a in labels.new_id:\n",
    "        result[a].append([len(train_party.party_members_acc_id.iloc[x].split(',')) for x in range(n, n+r) if in_party(a,x)])\n",
    "    return result\n",
    "\n",
    "def main():\n",
    "    results=[]\n",
    "    r = 350000\n",
    "    until=0\n",
    "    with concurrent.futures.ProcessPoolExecutor(max_workers=20) as exe:\n",
    "        for i in exe.map(partial(process, r=r), range(0, len(train_party), r)):\n",
    "             results.append(i)\n",
    "    return results"
   ]
  },
  {
   "cell_type": "code",
   "execution_count": null,
   "metadata": {},
   "outputs": [],
   "source": [
    "abc=main()"
   ]
  },
  {
   "cell_type": "code",
   "execution_count": 24,
   "metadata": {},
   "outputs": [
    {
     "data": {
      "text/plain": [
       "[[6]]"
      ]
     },
     "execution_count": 24,
     "metadata": {},
     "output_type": "execute_result"
    }
   ],
   "source": [
    "abc[0]['tr53166']"
   ]
  }
 ],
 "metadata": {
  "kernelspec": {
   "display_name": "Python 3",
   "language": "python",
   "name": "python3"
  },
  "language_info": {
   "codemirror_mode": {
    "name": "ipython",
    "version": 3
   },
   "file_extension": ".py",
   "mimetype": "text/x-python",
   "name": "python",
   "nbconvert_exporter": "python",
   "pygments_lexer": "ipython3",
   "version": "3.6.5"
  }
 },
 "nbformat": 4,
 "nbformat_minor": 2
}
