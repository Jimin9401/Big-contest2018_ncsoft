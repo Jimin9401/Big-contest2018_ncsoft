{
 "cells": [
  {
   "cell_type": "code",
   "execution_count": 1,
   "metadata": {},
   "outputs": [],
   "source": [
    "# 패키지\n",
    "import pandas as pd\n",
    "import numpy as np\n",
    "import matplotlib.pyplot as plt\n",
    "import seaborn as sns\n",
    "from  itertools import combinations\n",
    "from sklearn import linear_model\n",
    "\n",
    "sns.set(palette='pastel')\n",
    "sns.set(font_scale=2)"
   ]
  },
  {
   "cell_type": "code",
   "execution_count": 2,
   "metadata": {},
   "outputs": [],
   "source": [
    "labels=pd.read_csv('FE and error_set/error_set_0.741.csv')"
   ]
  },
  {
   "cell_type": "code",
   "execution_count": 3,
   "metadata": {},
   "outputs": [],
   "source": [
    "train_data=pd.read_csv('Features/train_every_features_0906.csv')\n",
    "test_data=pd.read_csv('Features/test_every_features_0906.csv')\n"
   ]
  },
  {
   "cell_type": "code",
   "execution_count": 4,
   "metadata": {},
   "outputs": [],
   "source": [
    "train_data_c=train_data.copy()\n",
    "test_data_c=test_data.copy()"
   ]
  },
  {
   "cell_type": "code",
   "execution_count": 5,
   "metadata": {},
   "outputs": [],
   "source": [
    "train_act=pd.read_csv('transformed/train_real_values.csv')\n",
    "test_act=pd.read_csv('transformed/test_real_datas_int.csv')\n"
   ]
  },
  {
   "cell_type": "code",
   "execution_count": 427,
   "metadata": {},
   "outputs": [],
   "source": [
    "train_act_c=train_act.copy()\n",
    "test_act_c=test_act.copy()"
   ]
  },
  {
   "cell_type": "markdown",
   "metadata": {},
   "source": [
    "# Abstract\n",
    "### 홍문만 얻은 주차, exp만 얻은 주차, hongmun/exp를 얻은 주차, exp/hongmun 모두 얻지 않은 주차들을 count 하고 이 네가지 종류의 주차들이 있는지 없는지의 여부에 따라 1차 clustering을 한 후 비슷한 cluster 끼리 grouping을 해줌"
   ]
  },
  {
   "cell_type": "markdown",
   "metadata": {},
   "source": [
    "# Feature 1. only hongmun,only exp, hongmun/exp, no hongmun/exp 를 기록한 주차"
   ]
  },
  {
   "cell_type": "code",
   "execution_count": 428,
   "metadata": {},
   "outputs": [],
   "source": [
    "train_h=train_act_c[((train_act_c.quest_hongmun.astype(int)+(train_act_c.npc_hongmun.astype(int))>0)&((train_act_c.quest_exp.astype(int)+train_act_c.npc_exp.astype(int))==0))]\n",
    "train_e=train_act_c[((train_act_c.quest_hongmun.astype(int)+(train_act_c.npc_hongmun.astype(int))==0)&((train_act_c.quest_exp.astype(int)+train_act_c.npc_exp.astype(int))>0))]\n",
    "train_he=train_act_c[((train_act_c.quest_hongmun.astype(int)+(train_act_c.npc_hongmun.astype(int))>0)&((train_act_c.quest_exp.astype(int)+train_act_c.npc_exp.astype(int))>0))]\n",
    "train_no=train_act_c[((train_act_c.quest_hongmun.astype(int)+(train_act_c.npc_hongmun.astype(int))==0)&((train_act_c.quest_exp.astype(int)+train_act_c.npc_exp.astype(int))==0))]"
   ]
  },
  {
   "cell_type": "code",
   "execution_count": 429,
   "metadata": {},
   "outputs": [
    {
     "name": "stdout",
     "output_type": "stream",
     "text": [
      "212512 , 28209 , 50630 , 149227\n"
     ]
    }
   ],
   "source": [
    "print(len(h),',',len(e),',',len(he),',',len(no))"
   ]
  },
  {
   "cell_type": "code",
   "execution_count": 430,
   "metadata": {},
   "outputs": [
    {
     "data": {
      "text/plain": [
       "440578"
      ]
     },
     "execution_count": 430,
     "metadata": {},
     "output_type": "execute_result"
    }
   ],
   "source": [
    "len(train_act_c)"
   ]
  },
  {
   "cell_type": "code",
   "execution_count": 431,
   "metadata": {
    "scrolled": true
   },
   "outputs": [
    {
     "data": {
      "text/plain": [
       "440578"
      ]
     },
     "execution_count": 431,
     "metadata": {},
     "output_type": "execute_result"
    }
   ],
   "source": [
    "len(h)+len(e)+len(he)+len(no)"
   ]
  },
  {
   "cell_type": "code",
   "execution_count": 432,
   "metadata": {},
   "outputs": [],
   "source": [
    "train_hc=train_h.groupby('new_id',as_index=False).count().iloc[:,:2]\n",
    "train_ec=train_e.groupby('new_id',as_index=False).count().iloc[:,:2]\n",
    "train_hec=train_he.groupby('new_id',as_index=False).count().iloc[:,:2]\n",
    "train_noc=train_no.groupby('new_id',as_index=False).count().iloc[:,:2]\n",
    "train_hc.columns=['new_id','only_hongmun_week_cnt']\n",
    "train_ec.columns=['new_id','only_exp_week_cnt']\n",
    "train_hec.columns=['new_id','hongmun_exp_week_cnt']\n",
    "train_noc.columns=['new_id','no_hongmun_exp_week_cnt']\n"
   ]
  },
  {
   "cell_type": "code",
   "execution_count": 433,
   "metadata": {},
   "outputs": [],
   "source": [
    "train_all_df=pd.merge(train_hc,train_ec,on='new_id',how='outer')\n",
    "train_all_df=pd.merge(train_all_df,train_hec,on='new_id',how='outer')\n",
    "train_all_df=pd.merge(train_all_df,train_noc,on='new_id',how='outer').fillna(0)"
   ]
  },
  {
   "cell_type": "code",
   "execution_count": 434,
   "metadata": {},
   "outputs": [],
   "source": [
    "train_all_df=train_all_df.reindex(index=train_all_df.new_id.str.replace('tr','').astype(int).sort_values().index)"
   ]
  },
  {
   "cell_type": "code",
   "execution_count": 435,
   "metadata": {},
   "outputs": [
    {
     "data": {
      "text/html": [
       "<div>\n",
       "<style scoped>\n",
       "    .dataframe tbody tr th:only-of-type {\n",
       "        vertical-align: middle;\n",
       "    }\n",
       "\n",
       "    .dataframe tbody tr th {\n",
       "        vertical-align: top;\n",
       "    }\n",
       "\n",
       "    .dataframe thead th {\n",
       "        text-align: right;\n",
       "    }\n",
       "</style>\n",
       "<table border=\"1\" class=\"dataframe\">\n",
       "  <thead>\n",
       "    <tr style=\"text-align: right;\">\n",
       "      <th></th>\n",
       "      <th>new_id</th>\n",
       "      <th>only_hongmun_week_cnt</th>\n",
       "      <th>only_exp_week_cnt</th>\n",
       "      <th>hongmun_exp_week_cnt</th>\n",
       "      <th>no_hongmun_exp_week_cnt</th>\n",
       "      <th>label</th>\n",
       "      <th>y_pred</th>\n",
       "    </tr>\n",
       "  </thead>\n",
       "  <tbody>\n",
       "    <tr>\n",
       "      <th>0</th>\n",
       "      <td>tr0</td>\n",
       "      <td>0.0</td>\n",
       "      <td>0.0</td>\n",
       "      <td>0.0</td>\n",
       "      <td>1.0</td>\n",
       "      <td>month</td>\n",
       "      <td>2month</td>\n",
       "    </tr>\n",
       "    <tr>\n",
       "      <th>1</th>\n",
       "      <td>tr1</td>\n",
       "      <td>0.0</td>\n",
       "      <td>1.0</td>\n",
       "      <td>0.0</td>\n",
       "      <td>0.0</td>\n",
       "      <td>week</td>\n",
       "      <td>week</td>\n",
       "    </tr>\n",
       "    <tr>\n",
       "      <th>2</th>\n",
       "      <td>tr2</td>\n",
       "      <td>1.0</td>\n",
       "      <td>0.0</td>\n",
       "      <td>2.0</td>\n",
       "      <td>0.0</td>\n",
       "      <td>retained</td>\n",
       "      <td>retained</td>\n",
       "    </tr>\n",
       "    <tr>\n",
       "      <th>3</th>\n",
       "      <td>tr3</td>\n",
       "      <td>0.0</td>\n",
       "      <td>0.0</td>\n",
       "      <td>1.0</td>\n",
       "      <td>0.0</td>\n",
       "      <td>week</td>\n",
       "      <td>week</td>\n",
       "    </tr>\n",
       "    <tr>\n",
       "      <th>4</th>\n",
       "      <td>tr4</td>\n",
       "      <td>4.0</td>\n",
       "      <td>0.0</td>\n",
       "      <td>4.0</td>\n",
       "      <td>0.0</td>\n",
       "      <td>retained</td>\n",
       "      <td>retained</td>\n",
       "    </tr>\n",
       "    <tr>\n",
       "      <th>5</th>\n",
       "      <td>tr5</td>\n",
       "      <td>1.0</td>\n",
       "      <td>0.0</td>\n",
       "      <td>0.0</td>\n",
       "      <td>7.0</td>\n",
       "      <td>2month</td>\n",
       "      <td>2month</td>\n",
       "    </tr>\n",
       "    <tr>\n",
       "      <th>6</th>\n",
       "      <td>tr6</td>\n",
       "      <td>0.0</td>\n",
       "      <td>0.0</td>\n",
       "      <td>2.0</td>\n",
       "      <td>0.0</td>\n",
       "      <td>month</td>\n",
       "      <td>month</td>\n",
       "    </tr>\n",
       "    <tr>\n",
       "      <th>7</th>\n",
       "      <td>tr7</td>\n",
       "      <td>0.0</td>\n",
       "      <td>0.0</td>\n",
       "      <td>0.0</td>\n",
       "      <td>8.0</td>\n",
       "      <td>retained</td>\n",
       "      <td>retained</td>\n",
       "    </tr>\n",
       "    <tr>\n",
       "      <th>8</th>\n",
       "      <td>tr8</td>\n",
       "      <td>0.0</td>\n",
       "      <td>1.0</td>\n",
       "      <td>0.0</td>\n",
       "      <td>0.0</td>\n",
       "      <td>2month</td>\n",
       "      <td>2month</td>\n",
       "    </tr>\n",
       "    <tr>\n",
       "      <th>9</th>\n",
       "      <td>tr9</td>\n",
       "      <td>0.0</td>\n",
       "      <td>1.0</td>\n",
       "      <td>0.0</td>\n",
       "      <td>3.0</td>\n",
       "      <td>2month</td>\n",
       "      <td>2month</td>\n",
       "    </tr>\n",
       "    <tr>\n",
       "      <th>10</th>\n",
       "      <td>tr10</td>\n",
       "      <td>0.0</td>\n",
       "      <td>1.0</td>\n",
       "      <td>0.0</td>\n",
       "      <td>1.0</td>\n",
       "      <td>month</td>\n",
       "      <td>month</td>\n",
       "    </tr>\n",
       "    <tr>\n",
       "      <th>11</th>\n",
       "      <td>tr11</td>\n",
       "      <td>8.0</td>\n",
       "      <td>0.0</td>\n",
       "      <td>0.0</td>\n",
       "      <td>0.0</td>\n",
       "      <td>retained</td>\n",
       "      <td>retained</td>\n",
       "    </tr>\n",
       "    <tr>\n",
       "      <th>12</th>\n",
       "      <td>tr12</td>\n",
       "      <td>1.0</td>\n",
       "      <td>0.0</td>\n",
       "      <td>0.0</td>\n",
       "      <td>5.0</td>\n",
       "      <td>2month</td>\n",
       "      <td>retained</td>\n",
       "    </tr>\n",
       "    <tr>\n",
       "      <th>13</th>\n",
       "      <td>tr13</td>\n",
       "      <td>0.0</td>\n",
       "      <td>1.0</td>\n",
       "      <td>0.0</td>\n",
       "      <td>4.0</td>\n",
       "      <td>2month</td>\n",
       "      <td>2month</td>\n",
       "    </tr>\n",
       "    <tr>\n",
       "      <th>14</th>\n",
       "      <td>tr14</td>\n",
       "      <td>0.0</td>\n",
       "      <td>0.0</td>\n",
       "      <td>0.0</td>\n",
       "      <td>5.0</td>\n",
       "      <td>2month</td>\n",
       "      <td>2month</td>\n",
       "    </tr>\n",
       "    <tr>\n",
       "      <th>15</th>\n",
       "      <td>tr15</td>\n",
       "      <td>0.0</td>\n",
       "      <td>0.0</td>\n",
       "      <td>0.0</td>\n",
       "      <td>1.0</td>\n",
       "      <td>month</td>\n",
       "      <td>month</td>\n",
       "    </tr>\n",
       "    <tr>\n",
       "      <th>16</th>\n",
       "      <td>tr16</td>\n",
       "      <td>0.0</td>\n",
       "      <td>0.0</td>\n",
       "      <td>1.0</td>\n",
       "      <td>0.0</td>\n",
       "      <td>week</td>\n",
       "      <td>week</td>\n",
       "    </tr>\n",
       "    <tr>\n",
       "      <th>17</th>\n",
       "      <td>tr17</td>\n",
       "      <td>0.0</td>\n",
       "      <td>1.0</td>\n",
       "      <td>0.0</td>\n",
       "      <td>3.0</td>\n",
       "      <td>month</td>\n",
       "      <td>month</td>\n",
       "    </tr>\n",
       "    <tr>\n",
       "      <th>18</th>\n",
       "      <td>tr18</td>\n",
       "      <td>0.0</td>\n",
       "      <td>0.0</td>\n",
       "      <td>0.0</td>\n",
       "      <td>1.0</td>\n",
       "      <td>month</td>\n",
       "      <td>2month</td>\n",
       "    </tr>\n",
       "    <tr>\n",
       "      <th>19</th>\n",
       "      <td>tr19</td>\n",
       "      <td>8.0</td>\n",
       "      <td>0.0</td>\n",
       "      <td>0.0</td>\n",
       "      <td>0.0</td>\n",
       "      <td>retained</td>\n",
       "      <td>retained</td>\n",
       "    </tr>\n",
       "    <tr>\n",
       "      <th>20</th>\n",
       "      <td>tr20</td>\n",
       "      <td>0.0</td>\n",
       "      <td>0.0</td>\n",
       "      <td>0.0</td>\n",
       "      <td>1.0</td>\n",
       "      <td>week</td>\n",
       "      <td>month</td>\n",
       "    </tr>\n",
       "    <tr>\n",
       "      <th>21</th>\n",
       "      <td>tr21</td>\n",
       "      <td>8.0</td>\n",
       "      <td>0.0</td>\n",
       "      <td>0.0</td>\n",
       "      <td>0.0</td>\n",
       "      <td>month</td>\n",
       "      <td>month</td>\n",
       "    </tr>\n",
       "    <tr>\n",
       "      <th>22</th>\n",
       "      <td>tr22</td>\n",
       "      <td>0.0</td>\n",
       "      <td>0.0</td>\n",
       "      <td>1.0</td>\n",
       "      <td>0.0</td>\n",
       "      <td>week</td>\n",
       "      <td>week</td>\n",
       "    </tr>\n",
       "    <tr>\n",
       "      <th>23</th>\n",
       "      <td>tr23</td>\n",
       "      <td>7.0</td>\n",
       "      <td>0.0</td>\n",
       "      <td>1.0</td>\n",
       "      <td>0.0</td>\n",
       "      <td>retained</td>\n",
       "      <td>retained</td>\n",
       "    </tr>\n",
       "    <tr>\n",
       "      <th>24</th>\n",
       "      <td>tr24</td>\n",
       "      <td>0.0</td>\n",
       "      <td>0.0</td>\n",
       "      <td>1.0</td>\n",
       "      <td>0.0</td>\n",
       "      <td>week</td>\n",
       "      <td>week</td>\n",
       "    </tr>\n",
       "    <tr>\n",
       "      <th>25</th>\n",
       "      <td>tr25</td>\n",
       "      <td>1.0</td>\n",
       "      <td>0.0</td>\n",
       "      <td>1.0</td>\n",
       "      <td>0.0</td>\n",
       "      <td>week</td>\n",
       "      <td>month</td>\n",
       "    </tr>\n",
       "    <tr>\n",
       "      <th>26</th>\n",
       "      <td>tr26</td>\n",
       "      <td>0.0</td>\n",
       "      <td>1.0</td>\n",
       "      <td>0.0</td>\n",
       "      <td>0.0</td>\n",
       "      <td>2month</td>\n",
       "      <td>2month</td>\n",
       "    </tr>\n",
       "    <tr>\n",
       "      <th>27</th>\n",
       "      <td>tr27</td>\n",
       "      <td>0.0</td>\n",
       "      <td>0.0</td>\n",
       "      <td>1.0</td>\n",
       "      <td>0.0</td>\n",
       "      <td>week</td>\n",
       "      <td>week</td>\n",
       "    </tr>\n",
       "    <tr>\n",
       "      <th>28</th>\n",
       "      <td>tr28</td>\n",
       "      <td>0.0</td>\n",
       "      <td>1.0</td>\n",
       "      <td>0.0</td>\n",
       "      <td>0.0</td>\n",
       "      <td>month</td>\n",
       "      <td>2month</td>\n",
       "    </tr>\n",
       "    <tr>\n",
       "      <th>29</th>\n",
       "      <td>tr29</td>\n",
       "      <td>0.0</td>\n",
       "      <td>1.0</td>\n",
       "      <td>0.0</td>\n",
       "      <td>0.0</td>\n",
       "      <td>month</td>\n",
       "      <td>2month</td>\n",
       "    </tr>\n",
       "    <tr>\n",
       "      <th>...</th>\n",
       "      <td>...</td>\n",
       "      <td>...</td>\n",
       "      <td>...</td>\n",
       "      <td>...</td>\n",
       "      <td>...</td>\n",
       "      <td>...</td>\n",
       "      <td>...</td>\n",
       "    </tr>\n",
       "    <tr>\n",
       "      <th>99970</th>\n",
       "      <td>tr99970</td>\n",
       "      <td>0.0</td>\n",
       "      <td>0.0</td>\n",
       "      <td>1.0</td>\n",
       "      <td>0.0</td>\n",
       "      <td>week</td>\n",
       "      <td>week</td>\n",
       "    </tr>\n",
       "    <tr>\n",
       "      <th>99971</th>\n",
       "      <td>tr99971</td>\n",
       "      <td>8.0</td>\n",
       "      <td>0.0</td>\n",
       "      <td>0.0</td>\n",
       "      <td>0.0</td>\n",
       "      <td>retained</td>\n",
       "      <td>retained</td>\n",
       "    </tr>\n",
       "    <tr>\n",
       "      <th>99972</th>\n",
       "      <td>tr99972</td>\n",
       "      <td>0.0</td>\n",
       "      <td>0.0</td>\n",
       "      <td>1.0</td>\n",
       "      <td>0.0</td>\n",
       "      <td>week</td>\n",
       "      <td>week</td>\n",
       "    </tr>\n",
       "    <tr>\n",
       "      <th>99973</th>\n",
       "      <td>tr99973</td>\n",
       "      <td>0.0</td>\n",
       "      <td>0.0</td>\n",
       "      <td>1.0</td>\n",
       "      <td>0.0</td>\n",
       "      <td>week</td>\n",
       "      <td>week</td>\n",
       "    </tr>\n",
       "    <tr>\n",
       "      <th>99974</th>\n",
       "      <td>tr99974</td>\n",
       "      <td>0.0</td>\n",
       "      <td>0.0</td>\n",
       "      <td>0.0</td>\n",
       "      <td>7.0</td>\n",
       "      <td>2month</td>\n",
       "      <td>2month</td>\n",
       "    </tr>\n",
       "    <tr>\n",
       "      <th>99975</th>\n",
       "      <td>tr99975</td>\n",
       "      <td>0.0</td>\n",
       "      <td>0.0</td>\n",
       "      <td>0.0</td>\n",
       "      <td>1.0</td>\n",
       "      <td>2month</td>\n",
       "      <td>2month</td>\n",
       "    </tr>\n",
       "    <tr>\n",
       "      <th>99976</th>\n",
       "      <td>tr99976</td>\n",
       "      <td>1.0</td>\n",
       "      <td>0.0</td>\n",
       "      <td>0.0</td>\n",
       "      <td>3.0</td>\n",
       "      <td>retained</td>\n",
       "      <td>retained</td>\n",
       "    </tr>\n",
       "    <tr>\n",
       "      <th>99977</th>\n",
       "      <td>tr99977</td>\n",
       "      <td>1.0</td>\n",
       "      <td>0.0</td>\n",
       "      <td>0.0</td>\n",
       "      <td>5.0</td>\n",
       "      <td>month</td>\n",
       "      <td>month</td>\n",
       "    </tr>\n",
       "    <tr>\n",
       "      <th>99978</th>\n",
       "      <td>tr99978</td>\n",
       "      <td>8.0</td>\n",
       "      <td>0.0</td>\n",
       "      <td>0.0</td>\n",
       "      <td>0.0</td>\n",
       "      <td>2month</td>\n",
       "      <td>2month</td>\n",
       "    </tr>\n",
       "    <tr>\n",
       "      <th>99979</th>\n",
       "      <td>tr99979</td>\n",
       "      <td>0.0</td>\n",
       "      <td>1.0</td>\n",
       "      <td>0.0</td>\n",
       "      <td>4.0</td>\n",
       "      <td>2month</td>\n",
       "      <td>2month</td>\n",
       "    </tr>\n",
       "    <tr>\n",
       "      <th>99980</th>\n",
       "      <td>tr99980</td>\n",
       "      <td>8.0</td>\n",
       "      <td>0.0</td>\n",
       "      <td>0.0</td>\n",
       "      <td>0.0</td>\n",
       "      <td>week</td>\n",
       "      <td>week</td>\n",
       "    </tr>\n",
       "    <tr>\n",
       "      <th>99981</th>\n",
       "      <td>tr99981</td>\n",
       "      <td>0.0</td>\n",
       "      <td>1.0</td>\n",
       "      <td>0.0</td>\n",
       "      <td>0.0</td>\n",
       "      <td>week</td>\n",
       "      <td>week</td>\n",
       "    </tr>\n",
       "    <tr>\n",
       "      <th>99982</th>\n",
       "      <td>tr99982</td>\n",
       "      <td>0.0</td>\n",
       "      <td>0.0</td>\n",
       "      <td>0.0</td>\n",
       "      <td>1.0</td>\n",
       "      <td>month</td>\n",
       "      <td>month</td>\n",
       "    </tr>\n",
       "    <tr>\n",
       "      <th>99983</th>\n",
       "      <td>tr99983</td>\n",
       "      <td>1.0</td>\n",
       "      <td>0.0</td>\n",
       "      <td>1.0</td>\n",
       "      <td>0.0</td>\n",
       "      <td>2month</td>\n",
       "      <td>week</td>\n",
       "    </tr>\n",
       "    <tr>\n",
       "      <th>99984</th>\n",
       "      <td>tr99984</td>\n",
       "      <td>0.0</td>\n",
       "      <td>1.0</td>\n",
       "      <td>0.0</td>\n",
       "      <td>2.0</td>\n",
       "      <td>retained</td>\n",
       "      <td>retained</td>\n",
       "    </tr>\n",
       "    <tr>\n",
       "      <th>99985</th>\n",
       "      <td>tr99985</td>\n",
       "      <td>1.0</td>\n",
       "      <td>0.0</td>\n",
       "      <td>0.0</td>\n",
       "      <td>6.0</td>\n",
       "      <td>2month</td>\n",
       "      <td>2month</td>\n",
       "    </tr>\n",
       "    <tr>\n",
       "      <th>99986</th>\n",
       "      <td>tr99986</td>\n",
       "      <td>8.0</td>\n",
       "      <td>0.0</td>\n",
       "      <td>0.0</td>\n",
       "      <td>0.0</td>\n",
       "      <td>2month</td>\n",
       "      <td>2month</td>\n",
       "    </tr>\n",
       "    <tr>\n",
       "      <th>99987</th>\n",
       "      <td>tr99987</td>\n",
       "      <td>8.0</td>\n",
       "      <td>0.0</td>\n",
       "      <td>0.0</td>\n",
       "      <td>0.0</td>\n",
       "      <td>month</td>\n",
       "      <td>month</td>\n",
       "    </tr>\n",
       "    <tr>\n",
       "      <th>99988</th>\n",
       "      <td>tr99988</td>\n",
       "      <td>1.0</td>\n",
       "      <td>0.0</td>\n",
       "      <td>0.0</td>\n",
       "      <td>7.0</td>\n",
       "      <td>2month</td>\n",
       "      <td>retained</td>\n",
       "    </tr>\n",
       "    <tr>\n",
       "      <th>99989</th>\n",
       "      <td>tr99989</td>\n",
       "      <td>0.0</td>\n",
       "      <td>1.0</td>\n",
       "      <td>0.0</td>\n",
       "      <td>0.0</td>\n",
       "      <td>month</td>\n",
       "      <td>2month</td>\n",
       "    </tr>\n",
       "    <tr>\n",
       "      <th>99990</th>\n",
       "      <td>tr99990</td>\n",
       "      <td>0.0</td>\n",
       "      <td>0.0</td>\n",
       "      <td>0.0</td>\n",
       "      <td>1.0</td>\n",
       "      <td>month</td>\n",
       "      <td>2month</td>\n",
       "    </tr>\n",
       "    <tr>\n",
       "      <th>99991</th>\n",
       "      <td>tr99991</td>\n",
       "      <td>0.0</td>\n",
       "      <td>0.0</td>\n",
       "      <td>1.0</td>\n",
       "      <td>0.0</td>\n",
       "      <td>month</td>\n",
       "      <td>week</td>\n",
       "    </tr>\n",
       "    <tr>\n",
       "      <th>99992</th>\n",
       "      <td>tr99992</td>\n",
       "      <td>8.0</td>\n",
       "      <td>0.0</td>\n",
       "      <td>0.0</td>\n",
       "      <td>0.0</td>\n",
       "      <td>month</td>\n",
       "      <td>month</td>\n",
       "    </tr>\n",
       "    <tr>\n",
       "      <th>99993</th>\n",
       "      <td>tr99993</td>\n",
       "      <td>8.0</td>\n",
       "      <td>0.0</td>\n",
       "      <td>0.0</td>\n",
       "      <td>0.0</td>\n",
       "      <td>retained</td>\n",
       "      <td>retained</td>\n",
       "    </tr>\n",
       "    <tr>\n",
       "      <th>99994</th>\n",
       "      <td>tr99994</td>\n",
       "      <td>8.0</td>\n",
       "      <td>0.0</td>\n",
       "      <td>0.0</td>\n",
       "      <td>0.0</td>\n",
       "      <td>retained</td>\n",
       "      <td>retained</td>\n",
       "    </tr>\n",
       "    <tr>\n",
       "      <th>99995</th>\n",
       "      <td>tr99995</td>\n",
       "      <td>0.0</td>\n",
       "      <td>1.0</td>\n",
       "      <td>0.0</td>\n",
       "      <td>1.0</td>\n",
       "      <td>retained</td>\n",
       "      <td>retained</td>\n",
       "    </tr>\n",
       "    <tr>\n",
       "      <th>99996</th>\n",
       "      <td>tr99996</td>\n",
       "      <td>1.0</td>\n",
       "      <td>0.0</td>\n",
       "      <td>0.0</td>\n",
       "      <td>6.0</td>\n",
       "      <td>retained</td>\n",
       "      <td>2month</td>\n",
       "    </tr>\n",
       "    <tr>\n",
       "      <th>99997</th>\n",
       "      <td>tr99997</td>\n",
       "      <td>0.0</td>\n",
       "      <td>0.0</td>\n",
       "      <td>0.0</td>\n",
       "      <td>1.0</td>\n",
       "      <td>2month</td>\n",
       "      <td>month</td>\n",
       "    </tr>\n",
       "    <tr>\n",
       "      <th>99998</th>\n",
       "      <td>tr99998</td>\n",
       "      <td>8.0</td>\n",
       "      <td>0.0</td>\n",
       "      <td>0.0</td>\n",
       "      <td>0.0</td>\n",
       "      <td>retained</td>\n",
       "      <td>retained</td>\n",
       "    </tr>\n",
       "    <tr>\n",
       "      <th>99999</th>\n",
       "      <td>tr99999</td>\n",
       "      <td>0.0</td>\n",
       "      <td>1.0</td>\n",
       "      <td>0.0</td>\n",
       "      <td>0.0</td>\n",
       "      <td>2month</td>\n",
       "      <td>2month</td>\n",
       "    </tr>\n",
       "  </tbody>\n",
       "</table>\n",
       "<p>100000 rows × 7 columns</p>\n",
       "</div>"
      ],
      "text/plain": [
       "        new_id  only_hongmun_week_cnt  only_exp_week_cnt  \\\n",
       "0          tr0                    0.0                0.0   \n",
       "1          tr1                    0.0                1.0   \n",
       "2          tr2                    1.0                0.0   \n",
       "3          tr3                    0.0                0.0   \n",
       "4          tr4                    4.0                0.0   \n",
       "5          tr5                    1.0                0.0   \n",
       "6          tr6                    0.0                0.0   \n",
       "7          tr7                    0.0                0.0   \n",
       "8          tr8                    0.0                1.0   \n",
       "9          tr9                    0.0                1.0   \n",
       "10        tr10                    0.0                1.0   \n",
       "11        tr11                    8.0                0.0   \n",
       "12        tr12                    1.0                0.0   \n",
       "13        tr13                    0.0                1.0   \n",
       "14        tr14                    0.0                0.0   \n",
       "15        tr15                    0.0                0.0   \n",
       "16        tr16                    0.0                0.0   \n",
       "17        tr17                    0.0                1.0   \n",
       "18        tr18                    0.0                0.0   \n",
       "19        tr19                    8.0                0.0   \n",
       "20        tr20                    0.0                0.0   \n",
       "21        tr21                    8.0                0.0   \n",
       "22        tr22                    0.0                0.0   \n",
       "23        tr23                    7.0                0.0   \n",
       "24        tr24                    0.0                0.0   \n",
       "25        tr25                    1.0                0.0   \n",
       "26        tr26                    0.0                1.0   \n",
       "27        tr27                    0.0                0.0   \n",
       "28        tr28                    0.0                1.0   \n",
       "29        tr29                    0.0                1.0   \n",
       "...        ...                    ...                ...   \n",
       "99970  tr99970                    0.0                0.0   \n",
       "99971  tr99971                    8.0                0.0   \n",
       "99972  tr99972                    0.0                0.0   \n",
       "99973  tr99973                    0.0                0.0   \n",
       "99974  tr99974                    0.0                0.0   \n",
       "99975  tr99975                    0.0                0.0   \n",
       "99976  tr99976                    1.0                0.0   \n",
       "99977  tr99977                    1.0                0.0   \n",
       "99978  tr99978                    8.0                0.0   \n",
       "99979  tr99979                    0.0                1.0   \n",
       "99980  tr99980                    8.0                0.0   \n",
       "99981  tr99981                    0.0                1.0   \n",
       "99982  tr99982                    0.0                0.0   \n",
       "99983  tr99983                    1.0                0.0   \n",
       "99984  tr99984                    0.0                1.0   \n",
       "99985  tr99985                    1.0                0.0   \n",
       "99986  tr99986                    8.0                0.0   \n",
       "99987  tr99987                    8.0                0.0   \n",
       "99988  tr99988                    1.0                0.0   \n",
       "99989  tr99989                    0.0                1.0   \n",
       "99990  tr99990                    0.0                0.0   \n",
       "99991  tr99991                    0.0                0.0   \n",
       "99992  tr99992                    8.0                0.0   \n",
       "99993  tr99993                    8.0                0.0   \n",
       "99994  tr99994                    8.0                0.0   \n",
       "99995  tr99995                    0.0                1.0   \n",
       "99996  tr99996                    1.0                0.0   \n",
       "99997  tr99997                    0.0                0.0   \n",
       "99998  tr99998                    8.0                0.0   \n",
       "99999  tr99999                    0.0                1.0   \n",
       "\n",
       "       hongmun_exp_week_cnt  no_hongmun_exp_week_cnt     label    y_pred  \n",
       "0                       0.0                      1.0     month    2month  \n",
       "1                       0.0                      0.0      week      week  \n",
       "2                       2.0                      0.0  retained  retained  \n",
       "3                       1.0                      0.0      week      week  \n",
       "4                       4.0                      0.0  retained  retained  \n",
       "5                       0.0                      7.0    2month    2month  \n",
       "6                       2.0                      0.0     month     month  \n",
       "7                       0.0                      8.0  retained  retained  \n",
       "8                       0.0                      0.0    2month    2month  \n",
       "9                       0.0                      3.0    2month    2month  \n",
       "10                      0.0                      1.0     month     month  \n",
       "11                      0.0                      0.0  retained  retained  \n",
       "12                      0.0                      5.0    2month  retained  \n",
       "13                      0.0                      4.0    2month    2month  \n",
       "14                      0.0                      5.0    2month    2month  \n",
       "15                      0.0                      1.0     month     month  \n",
       "16                      1.0                      0.0      week      week  \n",
       "17                      0.0                      3.0     month     month  \n",
       "18                      0.0                      1.0     month    2month  \n",
       "19                      0.0                      0.0  retained  retained  \n",
       "20                      0.0                      1.0      week     month  \n",
       "21                      0.0                      0.0     month     month  \n",
       "22                      1.0                      0.0      week      week  \n",
       "23                      1.0                      0.0  retained  retained  \n",
       "24                      1.0                      0.0      week      week  \n",
       "25                      1.0                      0.0      week     month  \n",
       "26                      0.0                      0.0    2month    2month  \n",
       "27                      1.0                      0.0      week      week  \n",
       "28                      0.0                      0.0     month    2month  \n",
       "29                      0.0                      0.0     month    2month  \n",
       "...                     ...                      ...       ...       ...  \n",
       "99970                   1.0                      0.0      week      week  \n",
       "99971                   0.0                      0.0  retained  retained  \n",
       "99972                   1.0                      0.0      week      week  \n",
       "99973                   1.0                      0.0      week      week  \n",
       "99974                   0.0                      7.0    2month    2month  \n",
       "99975                   0.0                      1.0    2month    2month  \n",
       "99976                   0.0                      3.0  retained  retained  \n",
       "99977                   0.0                      5.0     month     month  \n",
       "99978                   0.0                      0.0    2month    2month  \n",
       "99979                   0.0                      4.0    2month    2month  \n",
       "99980                   0.0                      0.0      week      week  \n",
       "99981                   0.0                      0.0      week      week  \n",
       "99982                   0.0                      1.0     month     month  \n",
       "99983                   1.0                      0.0    2month      week  \n",
       "99984                   0.0                      2.0  retained  retained  \n",
       "99985                   0.0                      6.0    2month    2month  \n",
       "99986                   0.0                      0.0    2month    2month  \n",
       "99987                   0.0                      0.0     month     month  \n",
       "99988                   0.0                      7.0    2month  retained  \n",
       "99989                   0.0                      0.0     month    2month  \n",
       "99990                   0.0                      1.0     month    2month  \n",
       "99991                   1.0                      0.0     month      week  \n",
       "99992                   0.0                      0.0     month     month  \n",
       "99993                   0.0                      0.0  retained  retained  \n",
       "99994                   0.0                      0.0  retained  retained  \n",
       "99995                   0.0                      1.0  retained  retained  \n",
       "99996                   0.0                      6.0  retained    2month  \n",
       "99997                   0.0                      1.0    2month     month  \n",
       "99998                   0.0                      0.0  retained  retained  \n",
       "99999                   0.0                      0.0    2month    2month  \n",
       "\n",
       "[100000 rows x 7 columns]"
      ]
     },
     "execution_count": 435,
     "metadata": {},
     "output_type": "execute_result"
    }
   ],
   "source": [
    "pd.merge(train_all_df,labels,on='new_id')"
   ]
  },
  {
   "cell_type": "code",
   "execution_count": 436,
   "metadata": {},
   "outputs": [],
   "source": [
    "del train_all_df['new_id']\n",
    "train_all_df.to_csv('Features/train_exp_hongmun_cnt_with_week.csv',index=False)\n"
   ]
  },
  {
   "cell_type": "markdown",
   "metadata": {},
   "source": [
    "# Feature 1. test셋에서도 생성"
   ]
  },
  {
   "cell_type": "code",
   "execution_count": 553,
   "metadata": {},
   "outputs": [],
   "source": [
    "test_h=test_act_c[((test_act_c.quest_hongmun.astype(int)+(test_act_c.npc_hongmun.astype(int))>0)&((test_act_c.quest_exp.astype(int)+test_act_c.npc_exp.astype(int))==0))]\n",
    "test_e=test_act_c[((test_act_c.quest_hongmun.astype(int)+(test_act_c.npc_hongmun.astype(int))==0)&((test_act_c.quest_exp.astype(int)+test_act_c.npc_exp.astype(int))>0))]\n",
    "test_he=test_act_c[((test_act_c.quest_hongmun.astype(int)+(test_act_c.npc_hongmun.astype(int))>0)&((test_act_c.quest_exp.astype(int)+test_act_c.npc_exp.astype(int))>0))]\n",
    "test_no=test_act_c[((test_act_c.quest_hongmun.astype(int)+(test_act_c.npc_hongmun.astype(int))==0)&((test_act_c.quest_exp.astype(int)+test_act_c.npc_exp.astype(int))==0))]"
   ]
  },
  {
   "cell_type": "code",
   "execution_count": 554,
   "metadata": {},
   "outputs": [
    {
     "name": "stdout",
     "output_type": "stream",
     "text": [
      "85350 , 11407 , 21051 , 57922\n"
     ]
    }
   ],
   "source": [
    "print(len(test_h),',',len(test_e),',',len(test_he),',',len(test_no))"
   ]
  },
  {
   "cell_type": "code",
   "execution_count": 555,
   "metadata": {},
   "outputs": [
    {
     "data": {
      "text/plain": [
       "175730"
      ]
     },
     "execution_count": 555,
     "metadata": {},
     "output_type": "execute_result"
    }
   ],
   "source": [
    "len(test_act_c)"
   ]
  },
  {
   "cell_type": "code",
   "execution_count": 556,
   "metadata": {
    "scrolled": true
   },
   "outputs": [
    {
     "data": {
      "text/plain": [
       "175730"
      ]
     },
     "execution_count": 556,
     "metadata": {},
     "output_type": "execute_result"
    }
   ],
   "source": [
    "len(test_h)+len(test_e)+len(test_he)+len(test_no)"
   ]
  },
  {
   "cell_type": "code",
   "execution_count": 557,
   "metadata": {},
   "outputs": [],
   "source": [
    "test_hc=test_h.groupby('new_id',as_index=False).count().iloc[:,:2]\n",
    "test_ec=test_e.groupby('new_id',as_index=False).count().iloc[:,:2]\n",
    "test_hec=test_he.groupby('new_id',as_index=False).count().iloc[:,:2]\n",
    "test_noc=test_no.groupby('new_id',as_index=False).count().iloc[:,:2]\n",
    "test_hc.columns=['new_id','only_hongmun_week_cnt']\n",
    "test_ec.columns=['new_id','only_exp_week_cnt']\n",
    "test_hec.columns=['new_id','hongmun_exp_week_cnt']\n",
    "test_noc.columns=['new_id','no_hongmun_exp_week_cnt']\n"
   ]
  },
  {
   "cell_type": "code",
   "execution_count": 558,
   "metadata": {},
   "outputs": [],
   "source": [
    "test_all_df=pd.merge(test_hc,test_ec,on='new_id',how='outer')\n",
    "test_all_df=pd.merge(test_all_df,test_hec,on='new_id',how='outer')\n",
    "test_all_df=pd.merge(test_all_df,test_noc,on='new_id',how='outer').fillna(0)"
   ]
  },
  {
   "cell_type": "code",
   "execution_count": 470,
   "metadata": {},
   "outputs": [],
   "source": [
    "test_all_df=test_all_df.reindex(index=test_all_df.new_id.str.replace('te','').astype(int).sort_values().index)"
   ]
  },
  {
   "cell_type": "code",
   "execution_count": 473,
   "metadata": {
    "scrolled": true
   },
   "outputs": [
    {
     "data": {
      "text/plain": [
       "0        53\n",
       "1        44\n",
       "2        27\n",
       "3        38\n",
       "4         3\n",
       "5        52\n",
       "6        27\n",
       "7        47\n",
       "8        49\n",
       "9        49\n",
       "10       49\n",
       "11       25\n",
       "12       52\n",
       "13       49\n",
       "14       53\n",
       "15       53\n",
       "16       34\n",
       "17       49\n",
       "18       53\n",
       "19        3\n",
       "20       53\n",
       "21       32\n",
       "22       35\n",
       "23       28\n",
       "24       35\n",
       "25       28\n",
       "26       49\n",
       "27       28\n",
       "28       49\n",
       "29       49\n",
       "         ..\n",
       "99970    39\n",
       "99971    24\n",
       "99972    40\n",
       "99973    40\n",
       "99974    53\n",
       "99975    53\n",
       "99976    32\n",
       "99977    52\n",
       "99978    32\n",
       "99979    49\n",
       "99980    32\n",
       "99981    43\n",
       "99982    53\n",
       "99983    37\n",
       "99984    49\n",
       "99985    52\n",
       "99986    32\n",
       "99987    27\n",
       "99988    42\n",
       "99989    49\n",
       "99990    53\n",
       "99991    27\n",
       "99992    32\n",
       "99993     2\n",
       "99994     3\n",
       "99995    49\n",
       "99996    52\n",
       "99997    53\n",
       "99998     6\n",
       "99999    49\n",
       "Length: 100000, dtype: int64"
      ]
     },
     "execution_count": 473,
     "metadata": {},
     "output_type": "execute_result"
    }
   ],
   "source": [
    "train_data.loc[:,[x for x in train_data_c.columns if 'sum' in x]].isna().sum(1)"
   ]
  },
  {
   "cell_type": "code",
   "execution_count": null,
   "metadata": {},
   "outputs": [],
   "source": [
    "train_h.groupby('new_id',as_index=False).count().iloc[:,:1].to_csv('train_h.csv',index=False)\n",
    "train_e.groupby('new_id',as_index=False).count().iloc[:,:1].to_csv('train_e.csv',index=False)\n",
    "train_he.groupby('new_id',as_index=False).count().iloc[:,:1].to_csv('train_he.csv',index=False)\n",
    "train_no.groupby('new_id',as_index=False).count().iloc[:,:1].to_csv('train_no.csv',index=False)"
   ]
  },
  {
   "cell_type": "code",
   "execution_count": 475,
   "metadata": {},
   "outputs": [],
   "source": [
    "test_h.groupby('new_id',as_index=False).count().iloc[:,:1].to_csv('test_h.csv',index=False)\n",
    "test_e.groupby('new_id',as_index=False).count().iloc[:,:1].to_csv('test_e.csv',index=False)\n",
    "test_he.groupby('new_id',as_index=False).count().iloc[:,:1].to_csv('test_he.csv',index=False)\n",
    "test_no.groupby('new_id',as_index=False).count().iloc[:,:1].to_csv('test_no.csv',index=False)"
   ]
  },
  {
   "cell_type": "code",
   "execution_count": 478,
   "metadata": {},
   "outputs": [],
   "source": [
    "train_all_df.index=range(len(train_all_df))\n",
    "test_all_df.index=range(len(test_all_df))"
   ]
  },
  {
   "cell_type": "code",
   "execution_count": null,
   "metadata": {},
   "outputs": [],
   "source": []
  },
  {
   "cell_type": "markdown",
   "metadata": {},
   "source": [
    "# Feature 2. exp, hongmun,both,neither를 기록한 주차의 존재여부를 이용하여 1차 clustering"
   ]
  },
  {
   "cell_type": "markdown",
   "metadata": {},
   "source": [
    "## 2.1.1 접속 종류 별 아이디의 분포 확인"
   ]
  },
  {
   "cell_type": "markdown",
   "metadata": {},
   "source": [
    "## 다있거나 하나만 없음"
   ]
  },
  {
   "cell_type": "code",
   "execution_count": 514,
   "metadata": {},
   "outputs": [
    {
     "data": {
      "text/plain": [
       "week        114\n",
       "retained    104\n",
       "2month       55\n",
       "month        48\n",
       "Name: label, dtype: int64"
      ]
     },
     "execution_count": 514,
     "metadata": {},
     "output_type": "execute_result"
    }
   ],
   "source": [
    "#전부 true\n",
    "labels.label[((train_all_df.only_hongmun_week_cnt.astype(int)!=0)&(train_all_df.hongmun_exp_week_cnt.astype(int)!=0)&(train_all_df.only_exp_week_cnt.astype(int)!=0)&(train_all_df.no_hongmun_exp_week_cnt.astype(int)!=0))].value_counts()"
   ]
  },
  {
   "cell_type": "code",
   "execution_count": 515,
   "metadata": {},
   "outputs": [
    {
     "data": {
      "text/plain": [
       "week        1312\n",
       "retained     247\n",
       "2month       205\n",
       "month        166\n",
       "Name: label, dtype: int64"
      ]
     },
     "execution_count": 515,
     "metadata": {},
     "output_type": "execute_result"
    }
   ],
   "source": [
    "#둘다 없는 경우만 없음\n",
    "labels.label[((train_all_df.only_hongmun_week_cnt.astype(int)!=0)&(train_all_df.hongmun_exp_week_cnt.astype(int)!=0)&(train_all_df.only_exp_week_cnt.astype(int)!=0)&(train_all_df.no_hongmun_exp_week_cnt.astype(int)==0))].value_counts()"
   ]
  },
  {
   "cell_type": "code",
   "execution_count": 516,
   "metadata": {},
   "outputs": [
    {
     "data": {
      "text/plain": [
       "week        1136\n",
       "month        550\n",
       "retained     527\n",
       "2month       172\n",
       "Name: label, dtype: int64"
      ]
     },
     "execution_count": 516,
     "metadata": {},
     "output_type": "execute_result"
    }
   ],
   "source": [
    "#exp만있는 경우만 없음\n",
    "labels.label[((train_all_df.only_hongmun_week_cnt.astype(int)!=0)&(train_all_df.hongmun_exp_week_cnt.astype(int)!=0)&(train_all_df.only_exp_week_cnt.astype(int)==0)&(train_all_df.no_hongmun_exp_week_cnt.astype(int)!=0))].value_counts()"
   ]
  },
  {
   "cell_type": "code",
   "execution_count": 517,
   "metadata": {},
   "outputs": [
    {
     "data": {
      "text/plain": [
       "week        79\n",
       "retained    71\n",
       "month       65\n",
       "2month      34\n",
       "Name: label, dtype: int64"
      ]
     },
     "execution_count": 517,
     "metadata": {},
     "output_type": "execute_result"
    }
   ],
   "source": [
    "#홍문만있는 경우만 없음\n",
    "labels.label[((train_all_df.only_hongmun_week_cnt.astype(int)==0)&(train_all_df.hongmun_exp_week_cnt.astype(int)!=0)&(train_all_df.only_exp_week_cnt.astype(int)!=0)&(train_all_df.no_hongmun_exp_week_cnt.astype(int)!=0))].value_counts()"
   ]
  },
  {
   "cell_type": "code",
   "execution_count": 518,
   "metadata": {},
   "outputs": [
    {
     "data": {
      "text/plain": [
       "retained    43\n",
       "2month      39\n",
       "month       21\n",
       "week        19\n",
       "Name: label, dtype: int64"
      ]
     },
     "execution_count": 518,
     "metadata": {},
     "output_type": "execute_result"
    }
   ],
   "source": [
    "#둘다 있는 주만 없음\n",
    "labels.label[((train_all_df.only_hongmun_week_cnt.astype(int)!=0)&(train_all_df.hongmun_exp_week_cnt.astype(int)==0)&(train_all_df.only_exp_week_cnt.astype(int)!=0)&(train_all_df.no_hongmun_exp_week_cnt.astype(int)!=0))].value_counts()"
   ]
  },
  {
   "cell_type": "markdown",
   "metadata": {},
   "source": [
    "## 두가지 패턴만 있음"
   ]
  },
  {
   "cell_type": "code",
   "execution_count": 519,
   "metadata": {},
   "outputs": [
    {
     "data": {
      "text/plain": [
       "week        305\n",
       "retained    229\n",
       "month       190\n",
       "2month      177\n",
       "Name: label, dtype: int64"
      ]
     },
     "execution_count": 519,
     "metadata": {},
     "output_type": "execute_result"
    }
   ],
   "source": [
    "#둘다 있거나 둘다 없거나\n",
    "labels.label[((train_all_df.only_hongmun_week_cnt.astype(int)==0)&(train_all_df.only_exp_week_cnt.astype(int)==0)&(train_all_df.hongmun_exp_week_cnt.astype(int)!=0)&(train_all_df.no_hongmun_exp_week_cnt.astype(int)!=0))].value_counts()"
   ]
  },
  {
   "cell_type": "code",
   "execution_count": 520,
   "metadata": {},
   "outputs": [
    {
     "data": {
      "text/plain": [
       "2month      4568\n",
       "month       3352\n",
       "retained    1393\n",
       "week         222\n",
       "Name: label, dtype: int64"
      ]
     },
     "execution_count": 520,
     "metadata": {},
     "output_type": "execute_result"
    }
   ],
   "source": [
    "#exp만 있거나 둘다없가나\n",
    "labels.label[((train_all_df.only_hongmun_week_cnt.astype(int)==0)&(train_all_df.only_exp_week_cnt.astype(int)!=0)&(train_all_df.hongmun_exp_week_cnt.astype(int)==0)&(train_all_df.no_hongmun_exp_week_cnt.astype(int)!=0))].value_counts()"
   ]
  },
  {
   "cell_type": "code",
   "execution_count": 521,
   "metadata": {},
   "outputs": [
    {
     "data": {
      "text/plain": [
       "week        1150\n",
       "month        214\n",
       "retained     162\n",
       "2month       115\n",
       "Name: label, dtype: int64"
      ]
     },
     "execution_count": 521,
     "metadata": {},
     "output_type": "execute_result"
    }
   ],
   "source": [
    "#exp만 있거나 둘다 있거나\n",
    "labels.label[((train_all_df.only_hongmun_week_cnt.astype(int)==0)&(train_all_df.only_exp_week_cnt.astype(int)!=0)&(train_all_df.hongmun_exp_week_cnt.astype(int)!=0)&(train_all_df.no_hongmun_exp_week_cnt.astype(int)==0))].value_counts()"
   ]
  },
  {
   "cell_type": "code",
   "execution_count": 522,
   "metadata": {},
   "outputs": [
    {
     "data": {
      "text/plain": [
       "week        6245\n",
       "retained    5044\n",
       "month       2769\n",
       "2month      1144\n",
       "Name: label, dtype: int64"
      ]
     },
     "execution_count": 522,
     "metadata": {},
     "output_type": "execute_result"
    }
   ],
   "source": [
    "#홍문만 있거나 둘다 있거나\n",
    "labels.label[((train_all_df.only_hongmun_week_cnt.astype(int)!=0)&(train_all_df.only_exp_week_cnt.astype(int)==0)&(train_all_df.hongmun_exp_week_cnt.astype(int)!=0)&(train_all_df.no_hongmun_exp_week_cnt.astype(int)==0))].value_counts()"
   ]
  },
  {
   "cell_type": "code",
   "execution_count": 523,
   "metadata": {},
   "outputs": [
    {
     "data": {
      "text/plain": [
       "2month      4427\n",
       "retained    3562\n",
       "month       2203\n",
       "week        1052\n",
       "Name: label, dtype: int64"
      ]
     },
     "execution_count": 523,
     "metadata": {},
     "output_type": "execute_result"
    }
   ],
   "source": [
    "#홍문만 있거나 둘다 없거나\n",
    "labels.label[((train_all_df.only_hongmun_week_cnt.astype(int)!=0)&(train_all_df.only_exp_week_cnt.astype(int)==0)&(train_all_df.hongmun_exp_week_cnt.astype(int)==0)&(train_all_df.no_hongmun_exp_week_cnt.astype(int)!=0))].value_counts()"
   ]
  },
  {
   "cell_type": "code",
   "execution_count": 524,
   "metadata": {},
   "outputs": [
    {
     "data": {
      "text/plain": [
       "week        67\n",
       "retained    21\n",
       "2month      18\n",
       "month       12\n",
       "Name: label, dtype: int64"
      ]
     },
     "execution_count": 524,
     "metadata": {},
     "output_type": "execute_result"
    }
   ],
   "source": [
    "#홍문만 있거나 exp만 있거나\n",
    "labels.label[((train_all_df.only_hongmun_week_cnt.astype(int)!=0)&(train_all_df.only_exp_week_cnt.astype(int)!=0)&(train_all_df.hongmun_exp_week_cnt.astype(int)==0)&(train_all_df.no_hongmun_exp_week_cnt.astype(int)==0))].value_counts()"
   ]
  },
  {
   "cell_type": "markdown",
   "metadata": {},
   "source": [
    "## 다없거나 하나만 있음"
   ]
  },
  {
   "cell_type": "code",
   "execution_count": 525,
   "metadata": {},
   "outputs": [
    {
     "data": {
      "text/plain": [
       "Series([], Name: label, dtype: int64)"
      ]
     },
     "execution_count": 525,
     "metadata": {},
     "output_type": "execute_result"
    }
   ],
   "source": [
    "# 네개패턴 다 없는 경우는 없음\n",
    "labels.label[((train_all_df.only_hongmun_week_cnt.astype(int)==0)&(train_all_df.hongmun_exp_week_cnt.astype(int)==0)&(train_all_df.only_exp_week_cnt.astype(int)==0)&(train_all_df.no_hongmun_exp_week_cnt.astype(int)==0))].value_counts()"
   ]
  },
  {
   "cell_type": "code",
   "execution_count": 526,
   "metadata": {},
   "outputs": [
    {
     "data": {
      "text/plain": [
       "2month      7501\n",
       "month       4946\n",
       "retained    4322\n",
       "week        1833\n",
       "Name: label, dtype: int64"
      ]
     },
     "execution_count": 526,
     "metadata": {},
     "output_type": "execute_result"
    }
   ],
   "source": [
    "#다 없는 경우\n",
    "labels.label[((train_all_df.only_hongmun_week_cnt.astype(int)==0)&(train_all_df.hongmun_exp_week_cnt.astype(int)==0)&(train_all_df.only_exp_week_cnt.astype(int)==0)&(train_all_df.no_hongmun_exp_week_cnt.astype(int)!=0))].value_counts()"
   ]
  },
  {
   "cell_type": "code",
   "execution_count": 527,
   "metadata": {},
   "outputs": [
    {
     "data": {
      "text/plain": [
       "2month      4665\n",
       "month       3612\n",
       "week        1864\n",
       "retained     694\n",
       "Name: label, dtype: int64"
      ]
     },
     "execution_count": 527,
     "metadata": {},
     "output_type": "execute_result"
    }
   ],
   "source": [
    "#exp만있는 경우\n",
    "labels.label[((train_all_df.only_hongmun_week_cnt.astype(int)==0)&(train_all_df.hongmun_exp_week_cnt.astype(int)==0)&(train_all_df.only_exp_week_cnt.astype(int)!=0)&(train_all_df.no_hongmun_exp_week_cnt.astype(int)==0))].value_counts()"
   ]
  },
  {
   "cell_type": "code",
   "execution_count": 528,
   "metadata": {},
   "outputs": [
    {
     "data": {
      "text/plain": [
       "retained    8271\n",
       "month       4122\n",
       "week        2544\n",
       "2month      1594\n",
       "Name: label, dtype: int64"
      ]
     },
     "execution_count": 528,
     "metadata": {},
     "output_type": "execute_result"
    }
   ],
   "source": [
    "#홍문만있는 경우\n",
    "labels.label[((train_all_df.only_hongmun_week_cnt.astype(int)!=0)&(train_all_df.hongmun_exp_week_cnt.astype(int)==0)&(train_all_df.only_exp_week_cnt.astype(int)==0)&(train_all_df.no_hongmun_exp_week_cnt.astype(int)==0))].value_counts()"
   ]
  },
  {
   "cell_type": "code",
   "execution_count": 529,
   "metadata": {},
   "outputs": [
    {
     "data": {
      "text/plain": [
       "week        7058\n",
       "month       2730\n",
       "retained     310\n",
       "2month       286\n",
       "Name: label, dtype: int64"
      ]
     },
     "execution_count": 529,
     "metadata": {},
     "output_type": "execute_result"
    }
   ],
   "source": [
    "#둘다 있는 주만 있음\n",
    "labels.label[((train_all_df.only_hongmun_week_cnt.astype(int)==0)&(train_all_df.hongmun_exp_week_cnt.astype(int)!=0)&(train_all_df.only_exp_week_cnt.astype(int)==0)&(train_all_df.no_hongmun_exp_week_cnt.astype(int)==0))].value_counts()"
   ]
  },
  {
   "cell_type": "markdown",
   "metadata": {},
   "source": [
    "# 2.1.2. 각 분류에 속한 아이디를 기록"
   ]
  },
  {
   "cell_type": "markdown",
   "metadata": {},
   "source": [
    "## 다있거나 하나만 없음"
   ]
  },
  {
   "cell_type": "code",
   "execution_count": 530,
   "metadata": {},
   "outputs": [],
   "source": [
    "#전부 true\n",
    "d1=labels.new_id[((train_all_df.only_hongmun_week_cnt.astype(int)!=0)&(train_all_df.hongmun_exp_week_cnt.astype(int)!=0)&(train_all_df.only_exp_week_cnt.astype(int)!=0)&(train_all_df.no_hongmun_exp_week_cnt.astype(int)!=0))]"
   ]
  },
  {
   "cell_type": "code",
   "execution_count": 531,
   "metadata": {},
   "outputs": [],
   "source": [
    "#둘다 없는 경우만 없음\n",
    "d2=labels.new_id[((train_all_df.only_hongmun_week_cnt.astype(int)!=0)&(train_all_df.hongmun_exp_week_cnt.astype(int)!=0)&(train_all_df.only_exp_week_cnt.astype(int)!=0)&(train_all_df.no_hongmun_exp_week_cnt.astype(int)==0))]"
   ]
  },
  {
   "cell_type": "code",
   "execution_count": 532,
   "metadata": {},
   "outputs": [],
   "source": [
    "#exp만있는 경우만 없음\n",
    "d3=labels.new_id[((train_all_df.only_hongmun_week_cnt.astype(int)!=0)&(train_all_df.hongmun_exp_week_cnt.astype(int)!=0)&(train_all_df.only_exp_week_cnt.astype(int)==0)&(train_all_df.no_hongmun_exp_week_cnt.astype(int)!=0))]"
   ]
  },
  {
   "cell_type": "code",
   "execution_count": 533,
   "metadata": {},
   "outputs": [],
   "source": [
    "#홍문만있는 경우만 없음\n",
    "d4=labels.new_id[((train_all_df.only_hongmun_week_cnt.astype(int)==0)&(train_all_df.hongmun_exp_week_cnt.astype(int)!=0)&(train_all_df.only_exp_week_cnt.astype(int)!=0)&(train_all_df.no_hongmun_exp_week_cnt.astype(int)!=0))]"
   ]
  },
  {
   "cell_type": "code",
   "execution_count": 534,
   "metadata": {},
   "outputs": [],
   "source": [
    "#둘다 있는 주만 없음\n",
    "d5=labels.new_id[((train_all_df.only_hongmun_week_cnt.astype(int)!=0)&(train_all_df.hongmun_exp_week_cnt.astype(int)==0)&(train_all_df.only_exp_week_cnt.astype(int)!=0)&(train_all_df.no_hongmun_exp_week_cnt.astype(int)!=0))]"
   ]
  },
  {
   "cell_type": "markdown",
   "metadata": {},
   "source": [
    "## 두가지 패턴만 있음"
   ]
  },
  {
   "cell_type": "code",
   "execution_count": 535,
   "metadata": {},
   "outputs": [],
   "source": [
    "#둘다 있거나 둘다 없거나\n",
    "d6=labels.new_id[((train_all_df.only_hongmun_week_cnt.astype(int)==0)&(train_all_df.only_exp_week_cnt.astype(int)==0)&(train_all_df.hongmun_exp_week_cnt.astype(int)!=0)&(train_all_df.no_hongmun_exp_week_cnt.astype(int)!=0))]"
   ]
  },
  {
   "cell_type": "code",
   "execution_count": 536,
   "metadata": {},
   "outputs": [],
   "source": [
    "#exp만 있거나 둘다없가나\n",
    "d7=labels.new_id[((train_all_df.only_hongmun_week_cnt.astype(int)==0)&(train_all_df.only_exp_week_cnt.astype(int)!=0)&(train_all_df.hongmun_exp_week_cnt.astype(int)==0)&(train_all_df.no_hongmun_exp_week_cnt.astype(int)!=0))]"
   ]
  },
  {
   "cell_type": "code",
   "execution_count": 537,
   "metadata": {},
   "outputs": [],
   "source": [
    "#exp만 있거나 둘다 있거나\n",
    "d8=labels.new_id[((train_all_df.only_hongmun_week_cnt.astype(int)==0)&(train_all_df.only_exp_week_cnt.astype(int)!=0)&(train_all_df.hongmun_exp_week_cnt.astype(int)!=0)&(train_all_df.no_hongmun_exp_week_cnt.astype(int)==0))]"
   ]
  },
  {
   "cell_type": "code",
   "execution_count": 538,
   "metadata": {},
   "outputs": [],
   "source": [
    "#홍문만 있거나 둘다 있거나\n",
    "d9=labels.new_id[((train_all_df.only_hongmun_week_cnt.astype(int)!=0)&(train_all_df.only_exp_week_cnt.astype(int)==0)&(train_all_df.hongmun_exp_week_cnt.astype(int)!=0)&(train_all_df.no_hongmun_exp_week_cnt.astype(int)==0))]"
   ]
  },
  {
   "cell_type": "code",
   "execution_count": 539,
   "metadata": {},
   "outputs": [],
   "source": [
    "#홍문만 있거나 둘다 없거나\n",
    "d10=labels.new_id[((train_all_df.only_hongmun_week_cnt.astype(int)!=0)&(train_all_df.only_exp_week_cnt.astype(int)==0)&(train_all_df.hongmun_exp_week_cnt.astype(int)==0)&(train_all_df.no_hongmun_exp_week_cnt.astype(int)!=0))]"
   ]
  },
  {
   "cell_type": "code",
   "execution_count": 540,
   "metadata": {},
   "outputs": [],
   "source": [
    "#홍문만 있거나 exp만 있거나\n",
    "d11=labels.new_id[((train_all_df.only_hongmun_week_cnt.astype(int)!=0)&(train_all_df.only_exp_week_cnt.astype(int)!=0)&(train_all_df.hongmun_exp_week_cnt.astype(int)==0)&(train_all_df.no_hongmun_exp_week_cnt.astype(int)==0))]"
   ]
  },
  {
   "cell_type": "markdown",
   "metadata": {},
   "source": [
    "## 다없거나 하나만 있음"
   ]
  },
  {
   "cell_type": "code",
   "execution_count": 541,
   "metadata": {},
   "outputs": [],
   "source": [
    "# 네개패턴 다 없는 경우는 없음\n",
    "d12=labels.new_id[((train_all_df.only_hongmun_week_cnt.astype(int)==0)&(train_all_df.hongmun_exp_week_cnt.astype(int)==0)&(train_all_df.only_exp_week_cnt.astype(int)==0)&(train_all_df.no_hongmun_exp_week_cnt.astype(int)==0))]"
   ]
  },
  {
   "cell_type": "code",
   "execution_count": 542,
   "metadata": {},
   "outputs": [],
   "source": [
    "#다 없는 경우\n",
    "d13=labels.new_id[((train_all_df.only_hongmun_week_cnt.astype(int)==0)&(train_all_df.hongmun_exp_week_cnt.astype(int)==0)&(train_all_df.only_exp_week_cnt.astype(int)==0)&(train_all_df.no_hongmun_exp_week_cnt.astype(int)!=0))]"
   ]
  },
  {
   "cell_type": "code",
   "execution_count": 543,
   "metadata": {},
   "outputs": [],
   "source": [
    "#exp만있는 경우\n",
    "d14=labels.new_id[((train_all_df.only_hongmun_week_cnt.astype(int)==0)&(train_all_df.hongmun_exp_week_cnt.astype(int)==0)&(train_all_df.only_exp_week_cnt.astype(int)!=0)&(train_all_df.no_hongmun_exp_week_cnt.astype(int)==0))]"
   ]
  },
  {
   "cell_type": "code",
   "execution_count": 544,
   "metadata": {},
   "outputs": [],
   "source": [
    "#홍문만있는 경우\n",
    "d15=labels.new_id[((train_all_df.only_hongmun_week_cnt.astype(int)!=0)&(train_all_df.hongmun_exp_week_cnt.astype(int)==0)&(train_all_df.only_exp_week_cnt.astype(int)==0)&(train_all_df.no_hongmun_exp_week_cnt.astype(int)==0))]"
   ]
  },
  {
   "cell_type": "code",
   "execution_count": 545,
   "metadata": {},
   "outputs": [],
   "source": [
    "#둘다 있는 주만 있음\n",
    "d16=labels.new_id[((train_all_df.only_hongmun_week_cnt.astype(int)==0)&(train_all_df.hongmun_exp_week_cnt.astype(int)!=0)&(train_all_df.only_exp_week_cnt.astype(int)==0)&(train_all_df.no_hongmun_exp_week_cnt.astype(int)==0))]"
   ]
  },
  {
   "cell_type": "code",
   "execution_count": 687,
   "metadata": {},
   "outputs": [],
   "source": [
    "dd=[d1,d2,d3,d4,d5,d6,d7,d8,d9,d10,d11,d12,d13,d14,d15,d16]"
   ]
  },
  {
   "cell_type": "code",
   "execution_count": 692,
   "metadata": {},
   "outputs": [],
   "source": [
    "#각 그룹이 어디에 속했는지 여부를 저장한 리스트\n",
    "hongmun_exp_group=[]\n",
    "for i in range(16):\n",
    "    hongmun_exp_group.append([x in list(dd[i]) for x in train_data_c.new_id])"
   ]
  },
  {
   "cell_type": "code",
   "execution_count": 691,
   "metadata": {},
   "outputs": [
    {
     "data": {
      "text/plain": [
       "83157"
      ]
     },
     "execution_count": 691,
     "metadata": {},
     "output_type": "execute_result"
    }
   ],
   "source": [
    "sum(train_a_group_index)+sum(train_b_group_index)+sum(train_c_group_index)+sum(train_d_group_index)+sum(train_e_group_index)"
   ]
  },
  {
   "cell_type": "markdown",
   "metadata": {},
   "source": [
    "# Feature 2. test셋 만들기"
   ]
  },
  {
   "cell_type": "code",
   "execution_count": 560,
   "metadata": {},
   "outputs": [],
   "source": [
    "test_all_df=test_all_df.reindex(index=test_all_df.new_id.str.replace('te','').astype(int).sort_values().index)"
   ]
  },
  {
   "cell_type": "code",
   "execution_count": 707,
   "metadata": {},
   "outputs": [],
   "source": [
    "test_all_df.index=range(len(test_all_df))\n"
   ]
  },
  {
   "cell_type": "markdown",
   "metadata": {},
   "source": [
    "## 2.2.1. 몇개의 test user들이 각 cluster에 속하는지 확인"
   ]
  },
  {
   "cell_type": "markdown",
   "metadata": {},
   "source": [
    "### 다있거나 하나만 없음"
   ]
  },
  {
   "cell_type": "code",
   "execution_count": 563,
   "metadata": {},
   "outputs": [
    {
     "data": {
      "text/plain": [
       "new_id                     121\n",
       "only_hongmun_week_cnt      121\n",
       "only_exp_week_cnt          121\n",
       "hongmun_exp_week_cnt       121\n",
       "no_hongmun_exp_week_cnt    121\n",
       "dtype: int64"
      ]
     },
     "execution_count": 563,
     "metadata": {},
     "output_type": "execute_result"
    }
   ],
   "source": [
    "#전부 true\n",
    "test_all_df[((test_all_df.only_hongmun_week_cnt.astype(int)!=0)&(test_all_df.hongmun_exp_week_cnt.astype(int)!=0)&(test_all_df.only_exp_week_cnt.astype(int)!=0)&(test_all_df.no_hongmun_exp_week_cnt.astype(int)!=0))].count()"
   ]
  },
  {
   "cell_type": "code",
   "execution_count": 564,
   "metadata": {},
   "outputs": [
    {
     "data": {
      "text/plain": [
       "new_id                     774\n",
       "only_hongmun_week_cnt      774\n",
       "only_exp_week_cnt          774\n",
       "hongmun_exp_week_cnt       774\n",
       "no_hongmun_exp_week_cnt    774\n",
       "dtype: int64"
      ]
     },
     "execution_count": 564,
     "metadata": {},
     "output_type": "execute_result"
    }
   ],
   "source": [
    "#둘다 없는 경우만 없음\n",
    "test_all_df[((test_all_df.only_hongmun_week_cnt.astype(int)!=0)&(test_all_df.hongmun_exp_week_cnt.astype(int)!=0)&(test_all_df.only_exp_week_cnt.astype(int)!=0)&(test_all_df.no_hongmun_exp_week_cnt.astype(int)==0))].count()"
   ]
  },
  {
   "cell_type": "code",
   "execution_count": 565,
   "metadata": {},
   "outputs": [
    {
     "data": {
      "text/plain": [
       "new_id                     931\n",
       "only_hongmun_week_cnt      931\n",
       "only_exp_week_cnt          931\n",
       "hongmun_exp_week_cnt       931\n",
       "no_hongmun_exp_week_cnt    931\n",
       "dtype: int64"
      ]
     },
     "execution_count": 565,
     "metadata": {},
     "output_type": "execute_result"
    }
   ],
   "source": [
    "#exp만있는 경우만 없음\n",
    "test_all_df[((test_all_df.only_hongmun_week_cnt.astype(int)!=0)&(test_all_df.hongmun_exp_week_cnt.astype(int)!=0)&(test_all_df.only_exp_week_cnt.astype(int)==0)&(test_all_df.no_hongmun_exp_week_cnt.astype(int)!=0))].count()"
   ]
  },
  {
   "cell_type": "code",
   "execution_count": 566,
   "metadata": {},
   "outputs": [
    {
     "data": {
      "text/plain": [
       "new_id                     131\n",
       "only_hongmun_week_cnt      131\n",
       "only_exp_week_cnt          131\n",
       "hongmun_exp_week_cnt       131\n",
       "no_hongmun_exp_week_cnt    131\n",
       "dtype: int64"
      ]
     },
     "execution_count": 566,
     "metadata": {},
     "output_type": "execute_result"
    }
   ],
   "source": [
    "#홍문만있는 경우만 없음\n",
    "test_all_df[((test_all_df.only_hongmun_week_cnt.astype(int)==0)&(test_all_df.hongmun_exp_week_cnt.astype(int)!=0)&(test_all_df.only_exp_week_cnt.astype(int)!=0)&(test_all_df.no_hongmun_exp_week_cnt.astype(int)!=0))].count()"
   ]
  },
  {
   "cell_type": "code",
   "execution_count": 567,
   "metadata": {},
   "outputs": [
    {
     "data": {
      "text/plain": [
       "new_id                     48\n",
       "only_hongmun_week_cnt      48\n",
       "only_exp_week_cnt          48\n",
       "hongmun_exp_week_cnt       48\n",
       "no_hongmun_exp_week_cnt    48\n",
       "dtype: int64"
      ]
     },
     "execution_count": 567,
     "metadata": {},
     "output_type": "execute_result"
    }
   ],
   "source": [
    "#둘다 있는 주만 없음\n",
    "test_all_df[((test_all_df.only_hongmun_week_cnt.astype(int)!=0)&(test_all_df.hongmun_exp_week_cnt.astype(int)==0)&(test_all_df.only_exp_week_cnt.astype(int)!=0)&(test_all_df.no_hongmun_exp_week_cnt.astype(int)!=0))].count()"
   ]
  },
  {
   "cell_type": "markdown",
   "metadata": {},
   "source": [
    "## 두가지 패턴만 있음"
   ]
  },
  {
   "cell_type": "code",
   "execution_count": 568,
   "metadata": {},
   "outputs": [
    {
     "data": {
      "text/plain": [
       "new_id                     335\n",
       "only_hongmun_week_cnt      335\n",
       "only_exp_week_cnt          335\n",
       "hongmun_exp_week_cnt       335\n",
       "no_hongmun_exp_week_cnt    335\n",
       "dtype: int64"
      ]
     },
     "execution_count": 568,
     "metadata": {},
     "output_type": "execute_result"
    }
   ],
   "source": [
    "#둘다 있거나 둘다 없거나\n",
    "test_all_df[((test_all_df.only_hongmun_week_cnt.astype(int)==0)&(test_all_df.only_exp_week_cnt.astype(int)==0)&(test_all_df.hongmun_exp_week_cnt.astype(int)!=0)&(test_all_df.no_hongmun_exp_week_cnt.astype(int)!=0))].count()"
   ]
  },
  {
   "cell_type": "code",
   "execution_count": 569,
   "metadata": {},
   "outputs": [
    {
     "data": {
      "text/plain": [
       "new_id                     3894\n",
       "only_hongmun_week_cnt      3894\n",
       "only_exp_week_cnt          3894\n",
       "hongmun_exp_week_cnt       3894\n",
       "no_hongmun_exp_week_cnt    3894\n",
       "dtype: int64"
      ]
     },
     "execution_count": 569,
     "metadata": {},
     "output_type": "execute_result"
    }
   ],
   "source": [
    "#exp만 있거나 둘다없가나\n",
    "test_all_df[((test_all_df.only_hongmun_week_cnt.astype(int)==0)&(test_all_df.only_exp_week_cnt.astype(int)!=0)&(test_all_df.hongmun_exp_week_cnt.astype(int)==0)&(test_all_df.no_hongmun_exp_week_cnt.astype(int)!=0))].count()"
   ]
  },
  {
   "cell_type": "code",
   "execution_count": 570,
   "metadata": {},
   "outputs": [
    {
     "data": {
      "text/plain": [
       "new_id                     688\n",
       "only_hongmun_week_cnt      688\n",
       "only_exp_week_cnt          688\n",
       "hongmun_exp_week_cnt       688\n",
       "no_hongmun_exp_week_cnt    688\n",
       "dtype: int64"
      ]
     },
     "execution_count": 570,
     "metadata": {},
     "output_type": "execute_result"
    }
   ],
   "source": [
    "#exp만 있거나 둘다 있거나\n",
    "test_all_df[((test_all_df.only_hongmun_week_cnt.astype(int)==0)&(test_all_df.only_exp_week_cnt.astype(int)!=0)&(test_all_df.hongmun_exp_week_cnt.astype(int)!=0)&(test_all_df.no_hongmun_exp_week_cnt.astype(int)==0))].count()"
   ]
  },
  {
   "cell_type": "code",
   "execution_count": 571,
   "metadata": {},
   "outputs": [
    {
     "data": {
      "text/plain": [
       "new_id                     6254\n",
       "only_hongmun_week_cnt      6254\n",
       "only_exp_week_cnt          6254\n",
       "hongmun_exp_week_cnt       6254\n",
       "no_hongmun_exp_week_cnt    6254\n",
       "dtype: int64"
      ]
     },
     "execution_count": 571,
     "metadata": {},
     "output_type": "execute_result"
    }
   ],
   "source": [
    "#홍문만 있거나 둘다 있거나\n",
    "test_all_df[((test_all_df.only_hongmun_week_cnt.astype(int)!=0)&(test_all_df.only_exp_week_cnt.astype(int)==0)&(test_all_df.hongmun_exp_week_cnt.astype(int)!=0)&(test_all_df.no_hongmun_exp_week_cnt.astype(int)==0))].count()"
   ]
  },
  {
   "cell_type": "code",
   "execution_count": 572,
   "metadata": {},
   "outputs": [
    {
     "data": {
      "text/plain": [
       "new_id                     4324\n",
       "only_hongmun_week_cnt      4324\n",
       "only_exp_week_cnt          4324\n",
       "hongmun_exp_week_cnt       4324\n",
       "no_hongmun_exp_week_cnt    4324\n",
       "dtype: int64"
      ]
     },
     "execution_count": 572,
     "metadata": {},
     "output_type": "execute_result"
    }
   ],
   "source": [
    "#홍문만 있거나 둘다 없거나\n",
    "test_all_df[((test_all_df.only_hongmun_week_cnt.astype(int)!=0)&(test_all_df.only_exp_week_cnt.astype(int)==0)&(test_all_df.hongmun_exp_week_cnt.astype(int)==0)&(test_all_df.no_hongmun_exp_week_cnt.astype(int)!=0))].count()"
   ]
  },
  {
   "cell_type": "code",
   "execution_count": 573,
   "metadata": {},
   "outputs": [
    {
     "data": {
      "text/plain": [
       "new_id                     27\n",
       "only_hongmun_week_cnt      27\n",
       "only_exp_week_cnt          27\n",
       "hongmun_exp_week_cnt       27\n",
       "no_hongmun_exp_week_cnt    27\n",
       "dtype: int64"
      ]
     },
     "execution_count": 573,
     "metadata": {},
     "output_type": "execute_result"
    }
   ],
   "source": [
    "#홍문만 있거나 exp만 있거나\n",
    "test_all_df[((test_all_df.only_hongmun_week_cnt.astype(int)!=0)&(test_all_df.only_exp_week_cnt.astype(int)!=0)&(test_all_df.hongmun_exp_week_cnt.astype(int)==0)&(test_all_df.no_hongmun_exp_week_cnt.astype(int)==0))].count()"
   ]
  },
  {
   "cell_type": "markdown",
   "metadata": {},
   "source": [
    "## 다없거나 하나만 있음"
   ]
  },
  {
   "cell_type": "code",
   "execution_count": 574,
   "metadata": {},
   "outputs": [
    {
     "data": {
      "text/plain": [
       "new_id                     0\n",
       "only_hongmun_week_cnt      0\n",
       "only_exp_week_cnt          0\n",
       "hongmun_exp_week_cnt       0\n",
       "no_hongmun_exp_week_cnt    0\n",
       "dtype: int64"
      ]
     },
     "execution_count": 574,
     "metadata": {},
     "output_type": "execute_result"
    }
   ],
   "source": [
    "# 네개패턴 다 없는 경우는 없음\n",
    "test_all_df[((test_all_df.only_hongmun_week_cnt.astype(int)==0)&(test_all_df.hongmun_exp_week_cnt.astype(int)==0)&(test_all_df.only_exp_week_cnt.astype(int)==0)&(test_all_df.no_hongmun_exp_week_cnt.astype(int)==0))].count()"
   ]
  },
  {
   "cell_type": "code",
   "execution_count": 575,
   "metadata": {},
   "outputs": [
    {
     "data": {
      "text/plain": [
       "new_id                     7374\n",
       "only_hongmun_week_cnt      7374\n",
       "only_exp_week_cnt          7374\n",
       "hongmun_exp_week_cnt       7374\n",
       "no_hongmun_exp_week_cnt    7374\n",
       "dtype: int64"
      ]
     },
     "execution_count": 575,
     "metadata": {},
     "output_type": "execute_result"
    }
   ],
   "source": [
    "#다 없는 경우\n",
    "test_all_df[((test_all_df.only_hongmun_week_cnt.astype(int)==0)&(test_all_df.hongmun_exp_week_cnt.astype(int)==0)&(test_all_df.only_exp_week_cnt.astype(int)==0)&(test_all_df.no_hongmun_exp_week_cnt.astype(int)!=0))].count()"
   ]
  },
  {
   "cell_type": "code",
   "execution_count": 576,
   "metadata": {},
   "outputs": [
    {
     "data": {
      "text/plain": [
       "new_id                     4316\n",
       "only_hongmun_week_cnt      4316\n",
       "only_exp_week_cnt          4316\n",
       "hongmun_exp_week_cnt       4316\n",
       "no_hongmun_exp_week_cnt    4316\n",
       "dtype: int64"
      ]
     },
     "execution_count": 576,
     "metadata": {},
     "output_type": "execute_result"
    }
   ],
   "source": [
    "#exp만있는 경우\n",
    "test_all_df[((test_all_df.only_hongmun_week_cnt.astype(int)==0)&(test_all_df.hongmun_exp_week_cnt.astype(int)==0)&(test_all_df.only_exp_week_cnt.astype(int)!=0)&(test_all_df.no_hongmun_exp_week_cnt.astype(int)==0))].count()"
   ]
  },
  {
   "cell_type": "code",
   "execution_count": 577,
   "metadata": {},
   "outputs": [
    {
     "data": {
      "text/plain": [
       "new_id                     6547\n",
       "only_hongmun_week_cnt      6547\n",
       "only_exp_week_cnt          6547\n",
       "hongmun_exp_week_cnt       6547\n",
       "no_hongmun_exp_week_cnt    6547\n",
       "dtype: int64"
      ]
     },
     "execution_count": 577,
     "metadata": {},
     "output_type": "execute_result"
    }
   ],
   "source": [
    "#홍문만있는 경우\n",
    "test_all_df[((test_all_df.only_hongmun_week_cnt.astype(int)!=0)&(test_all_df.hongmun_exp_week_cnt.astype(int)==0)&(test_all_df.only_exp_week_cnt.astype(int)==0)&(test_all_df.no_hongmun_exp_week_cnt.astype(int)==0))].count()"
   ]
  },
  {
   "cell_type": "code",
   "execution_count": 578,
   "metadata": {},
   "outputs": [
    {
     "data": {
      "text/plain": [
       "new_id                     4236\n",
       "only_hongmun_week_cnt      4236\n",
       "only_exp_week_cnt          4236\n",
       "hongmun_exp_week_cnt       4236\n",
       "no_hongmun_exp_week_cnt    4236\n",
       "dtype: int64"
      ]
     },
     "execution_count": 578,
     "metadata": {},
     "output_type": "execute_result"
    }
   ],
   "source": [
    "#둘다 있는 주만 있음\n",
    "test_all_df[((test_all_df.only_hongmun_week_cnt.astype(int)==0)&(test_all_df.hongmun_exp_week_cnt.astype(int)!=0)&(test_all_df.only_exp_week_cnt.astype(int)==0)&(test_all_df.no_hongmun_exp_week_cnt.astype(int)==0))].count()"
   ]
  },
  {
   "cell_type": "markdown",
   "metadata": {},
   "source": [
    "## 2.2.2 각 cluster에 속하는 id를 변수로 저장"
   ]
  },
  {
   "cell_type": "code",
   "execution_count": 708,
   "metadata": {},
   "outputs": [],
   "source": [
    "\n",
    "#전부 true\n",
    "test_d1=test_all_df.new_id[((test_all_df.only_hongmun_week_cnt.astype(int)!=0)&(test_all_df.hongmun_exp_week_cnt.astype(int)!=0)&(test_all_df.only_exp_week_cnt.astype(int)!=0)&(test_all_df.no_hongmun_exp_week_cnt.astype(int)!=0))]\n",
    "\n",
    "#둘다 없는 경우만 없음\n",
    "test_d2=test_all_df.new_id[((test_all_df.only_hongmun_week_cnt.astype(int)!=0)&(test_all_df.hongmun_exp_week_cnt.astype(int)!=0)&(test_all_df.only_exp_week_cnt.astype(int)!=0)&(test_all_df.no_hongmun_exp_week_cnt.astype(int)==0))]\n",
    "\n",
    "#exp만있는 경우만 없음\n",
    "test_d3=test_all_df.new_id[((test_all_df.only_hongmun_week_cnt.astype(int)!=0)&(test_all_df.hongmun_exp_week_cnt.astype(int)!=0)&(test_all_df.only_exp_week_cnt.astype(int)==0)&(test_all_df.no_hongmun_exp_week_cnt.astype(int)!=0))]\n",
    "\n",
    "#홍문만있는 경우만 없음\n",
    "test_d4=test_all_df.new_id[((test_all_df.only_hongmun_week_cnt.astype(int)==0)&(test_all_df.hongmun_exp_week_cnt.astype(int)!=0)&(test_all_df.only_exp_week_cnt.astype(int)!=0)&(test_all_df.no_hongmun_exp_week_cnt.astype(int)!=0))]\n",
    "\n",
    "#둘다 있는 주만 없음\n",
    "test_d5=test_all_df.new_id[((test_all_df.only_hongmun_week_cnt.astype(int)!=0)&(test_all_df.hongmun_exp_week_cnt.astype(int)==0)&(test_all_df.only_exp_week_cnt.astype(int)!=0)&(test_all_df.no_hongmun_exp_week_cnt.astype(int)!=0))]\n",
    "\n",
    "## 두가지 패턴만 있음\n",
    "\n",
    "#둘다 있거나 둘다 없거나\n",
    "test_d6=test_all_df.new_id[((test_all_df.only_hongmun_week_cnt.astype(int)==0)&(test_all_df.only_exp_week_cnt.astype(int)==0)&(test_all_df.hongmun_exp_week_cnt.astype(int)!=0)&(test_all_df.no_hongmun_exp_week_cnt.astype(int)!=0))]\n",
    "\n",
    "#exp만 있거나 둘다없가나\n",
    "test_d7=test_all_df.new_id[((test_all_df.only_hongmun_week_cnt.astype(int)==0)&(test_all_df.only_exp_week_cnt.astype(int)!=0)&(test_all_df.hongmun_exp_week_cnt.astype(int)==0)&(test_all_df.no_hongmun_exp_week_cnt.astype(int)!=0))]\n",
    "\n",
    "#exp만 있거나 둘다 있거나\n",
    "test_d8=test_all_df.new_id[((test_all_df.only_hongmun_week_cnt.astype(int)==0)&(test_all_df.only_exp_week_cnt.astype(int)!=0)&(test_all_df.hongmun_exp_week_cnt.astype(int)!=0)&(test_all_df.no_hongmun_exp_week_cnt.astype(int)==0))]\n",
    "\n",
    "#홍문만 있거나 둘다 있거나\n",
    "test_d9=test_all_df.new_id[((test_all_df.only_hongmun_week_cnt.astype(int)!=0)&(test_all_df.only_exp_week_cnt.astype(int)==0)&(test_all_df.hongmun_exp_week_cnt.astype(int)!=0)&(test_all_df.no_hongmun_exp_week_cnt.astype(int)==0))]\n",
    "\n",
    "#홍문만 있거나 둘다 없거나\n",
    "test_d10=test_all_df.new_id[((test_all_df.only_hongmun_week_cnt.astype(int)!=0)&(test_all_df.only_exp_week_cnt.astype(int)==0)&(test_all_df.hongmun_exp_week_cnt.astype(int)==0)&(test_all_df.no_hongmun_exp_week_cnt.astype(int)!=0))]\n",
    "\n",
    "#홍문만 있거나 exp만 있거나\n",
    "test_d11=test_all_df.new_id[((test_all_df.only_hongmun_week_cnt.astype(int)!=0)&(test_all_df.only_exp_week_cnt.astype(int)!=0)&(test_all_df.hongmun_exp_week_cnt.astype(int)==0)&(test_all_df.no_hongmun_exp_week_cnt.astype(int)==0))]\n",
    "\n",
    "## 다없거나 하나만 있음\n",
    "\n",
    "# 네개패턴 다 없는 경우는 없음\n",
    "test_d12=test_all_df.new_id[((test_all_df.only_hongmun_week_cnt.astype(int)==0)&(test_all_df.hongmun_exp_week_cnt.astype(int)==0)&(test_all_df.only_exp_week_cnt.astype(int)==0)&(test_all_df.no_hongmun_exp_week_cnt.astype(int)==0))]\n",
    "\n",
    "#다 없는 경우\n",
    "test_d13=test_all_df.new_id[((test_all_df.only_hongmun_week_cnt.astype(int)==0)&(test_all_df.hongmun_exp_week_cnt.astype(int)==0)&(test_all_df.only_exp_week_cnt.astype(int)==0)&(test_all_df.no_hongmun_exp_week_cnt.astype(int)!=0))]\n",
    "\n",
    "#exp만있는 경우\n",
    "test_d14=test_all_df.new_id[((test_all_df.only_hongmun_week_cnt.astype(int)==0)&(test_all_df.hongmun_exp_week_cnt.astype(int)==0)&(test_all_df.only_exp_week_cnt.astype(int)!=0)&(test_all_df.no_hongmun_exp_week_cnt.astype(int)==0))]\n",
    "\n",
    "#홍문만있는 경우\n",
    "test_d15=test_all_df.new_id[((test_all_df.only_hongmun_week_cnt.astype(int)!=0)&(test_all_df.hongmun_exp_week_cnt.astype(int)==0)&(test_all_df.only_exp_week_cnt.astype(int)==0)&(test_all_df.no_hongmun_exp_week_cnt.astype(int)==0))]\n",
    "\n",
    "#둘다 있는 주만 있음\n",
    "test_d16=test_all_df.new_id[((test_all_df.only_hongmun_week_cnt.astype(int)==0)&(test_all_df.hongmun_exp_week_cnt.astype(int)!=0)&(test_all_df.only_exp_week_cnt.astype(int)==0)&(test_all_df.no_hongmun_exp_week_cnt.astype(int)==0))]"
   ]
  },
  {
   "cell_type": "code",
   "execution_count": 580,
   "metadata": {},
   "outputs": [],
   "source": [
    "test_dd=[test_d1,test_d2,test_d3,test_d4,test_d5,test_d6,test_d7,test_d8,test_d9,test_d10,test_d11,test_d12,test_d13,test_d14,test_d15,test_d16]"
   ]
  },
  {
   "cell_type": "code",
   "execution_count": 581,
   "metadata": {},
   "outputs": [],
   "source": [
    "#각 그룹이 어디에 속했는지 여부를 저장한 리스트\n",
    "test_hongmun_exp_group=[]\n",
    "for i in range(16):\n",
    "    test_hongmun_exp_group.append([x in list(test_dd[i]) for x in test_data_c.new_id])"
   ]
  },
  {
   "cell_type": "markdown",
   "metadata": {},
   "source": [
    "# 3. cluster들을 그루핑 해줌"
   ]
  },
  {
   "cell_type": "code",
   "execution_count": 693,
   "metadata": {},
   "outputs": [],
   "source": [
    "# 새로 키우고 만랩에 도달한 그룹\n",
    "train_a_group_index=((pd.Series(hongmun_exp_group[1]))|(pd.Series(hongmun_exp_group[4]))|(pd.Series(hongmun_exp_group[10]))|(pd.Series(hongmun_exp_group[3]))|(pd.Series(hongmun_exp_group[7])))"
   ]
  },
  {
   "cell_type": "code",
   "execution_count": 667,
   "metadata": {},
   "outputs": [],
   "source": [
    "# 새로 키우고 만래벵 도달 못한 그룹\n",
    "train_b_group_index=((pd.Series(hongmun_exp_group[6]))|pd.Series(hongmun_exp_group[13]))"
   ]
  },
  {
   "cell_type": "code",
   "execution_count": 694,
   "metadata": {},
   "outputs": [],
   "source": [
    "# 만랩 아이디가 있고 부케를 키우는 그룹\n",
    "train_c_group_index=((pd.Series(hongmun_exp_group[0]))|(pd.Series(hongmun_exp_group[2]))|(pd.Series(hongmun_exp_group[8]))|(pd.Series(hongmun_exp_group[15]))|(pd.Series(hongmun_exp_group[5])))"
   ]
  },
  {
   "cell_type": "code",
   "execution_count": 673,
   "metadata": {},
   "outputs": [],
   "source": [
    "# 만랩 아이디가 있고 만랩아이디만 플레이하는 그룹\n",
    "train_d_group_index=((pd.Series(hongmun_exp_group[9]))|(pd.Series(hongmun_exp_group[14])))"
   ]
  },
  {
   "cell_type": "code",
   "execution_count": 674,
   "metadata": {},
   "outputs": [],
   "source": [
    "# exp,hongmun 둘다 쌓지 않은 그룹 즉 성장에 투자하지 않은 그룹\n",
    "train_e_group_index=(pd.Series(hongmun_exp_group[12]))"
   ]
  },
  {
   "cell_type": "markdown",
   "metadata": {},
   "source": [
    "# 3. Testset에서도 그루핑 해줌"
   ]
  },
  {
   "cell_type": "code",
   "execution_count": 713,
   "metadata": {},
   "outputs": [],
   "source": [
    "test_a_group_index=((pd.Series(test_hongmun_exp_group[1]))|(pd.Series(test_hongmun_exp_group[4]))|(pd.Series(test_hongmun_exp_group[10]))|(pd.Series(test_hongmun_exp_group[3]))|(pd.Series(test_hongmun_exp_group[7])))"
   ]
  },
  {
   "cell_type": "code",
   "execution_count": 714,
   "metadata": {},
   "outputs": [],
   "source": [
    "test_b_group_index=((pd.Series(test_hongmun_exp_group[6]))|pd.Series(test_hongmun_exp_group[13]))"
   ]
  },
  {
   "cell_type": "code",
   "execution_count": 715,
   "metadata": {},
   "outputs": [],
   "source": [
    "test_c_group_index=((pd.Series(test_hongmun_exp_group[0]))|(pd.Series(test_hongmun_exp_group[2]))|(pd.Series(test_hongmun_exp_group[8]))|(pd.Series(test_hongmun_exp_group[15]))|(pd.Series(test_hongmun_exp_group[5])))"
   ]
  },
  {
   "cell_type": "code",
   "execution_count": 716,
   "metadata": {},
   "outputs": [],
   "source": [
    "test_d_group_index=((pd.Series(test_hongmun_exp_group[9]))|(pd.Series(test_hongmun_exp_group[14])))"
   ]
  },
  {
   "cell_type": "code",
   "execution_count": 717,
   "metadata": {},
   "outputs": [],
   "source": [
    "test_e_group_index=(pd.Series(test_hongmun_exp_group[12]))"
   ]
  },
  {
   "cell_type": "markdown",
   "metadata": {},
   "source": [
    "# 4. 그룹별로 activity분할"
   ]
  },
  {
   "cell_type": "code",
   "execution_count": 695,
   "metadata": {},
   "outputs": [],
   "source": [
    "#안에 있는지 확인하는 함수\n",
    "#a group에 해당됨\n",
    "train_a_group_act=train_act_c.apply((lambda x: x.new_id in list(train_data_c.new_id[train_a_group_index])),1)"
   ]
  },
  {
   "cell_type": "code",
   "execution_count": 670,
   "metadata": {},
   "outputs": [],
   "source": [
    "#b group에 해당됨\n",
    "train_b_group_act=train_act_c.apply((lambda x: x.new_id in list(train_data_c.new_id[train_b_group_index])),1)"
   ]
  },
  {
   "cell_type": "code",
   "execution_count": 696,
   "metadata": {},
   "outputs": [],
   "source": [
    "#c group에 해당됨\n",
    "train_c_group_act=train_act_c.apply((lambda x: x.new_id in list(train_data_c.new_id[train_c_group_index])),1)"
   ]
  },
  {
   "cell_type": "code",
   "execution_count": 676,
   "metadata": {},
   "outputs": [],
   "source": [
    "#d group에 해당됨\n",
    "train_d_group_act=train_act_c.apply((lambda x: x.new_id in list(train_data_c.new_id[train_d_group_index])),1)"
   ]
  },
  {
   "cell_type": "code",
   "execution_count": 677,
   "metadata": {},
   "outputs": [],
   "source": [
    "#e group에 해당됨\n",
    "train_e_group_act=train_act_c.apply((lambda x: x.new_id in list(train_data_c.new_id[train_e_group_index])),1)"
   ]
  },
  {
   "cell_type": "code",
   "execution_count": 702,
   "metadata": {},
   "outputs": [],
   "source": [
    "train_group_act_df=pd.DataFrame([train_a_group_act,train_b_group_act,train_c_group_act,train_d_group_act,train_e_group_act]).T\n",
    "train_group_act_df.columns=['group_a','group_b','group_c','group_d','group_e']\n",
    "train_group_act_df.to_csv('train_group_act_df.csv',index=False)"
   ]
  },
  {
   "cell_type": "code",
   "execution_count": 706,
   "metadata": {},
   "outputs": [],
   "source": [
    "train_group_user_df=pd.DataFrame([(train_a_group_index),(train_b_group_index),(train_c_group_index),(train_d_group_index),(train_e_group_index)]).T\n",
    "train_group_user_df.columns=['group_a','group_b','group_c','group_d','group_e']\n",
    "train_group_user_df.to_csv('train_group_user_df.csv',index=False)"
   ]
  },
  {
   "cell_type": "code",
   "execution_count": 662,
   "metadata": {},
   "outputs": [
    {
     "data": {
      "text/plain": [
       "True"
      ]
     },
     "execution_count": 662,
     "metadata": {},
     "output_type": "execute_result"
    }
   ],
   "source": [
    "'tr55' in list(train_data_c.new_id[agroup_index])"
   ]
  },
  {
   "cell_type": "code",
   "execution_count": 712,
   "metadata": {},
   "outputs": [
    {
     "data": {
      "text/plain": [
       "40000"
      ]
     },
     "execution_count": 712,
     "metadata": {},
     "output_type": "execute_result"
    }
   ],
   "source": [
    "sums=0\n",
    "for i in test_hongmun_exp_group:\n",
    "    sums+=sum(i)\n",
    "sums"
   ]
  },
  {
   "cell_type": "markdown",
   "metadata": {},
   "source": [
    "# 4. 그룹별로 activity 분할"
   ]
  },
  {
   "cell_type": "code",
   "execution_count": 719,
   "metadata": {},
   "outputs": [],
   "source": [
    "#안에 있는지 확인하는 함수\n",
    "#a group에 해당됨\n",
    "test_a_group_act=test_act_c.apply((lambda x: x.new_id in list(test_data_c.new_id[test_a_group_index])),1)"
   ]
  },
  {
   "cell_type": "code",
   "execution_count": 720,
   "metadata": {},
   "outputs": [],
   "source": [
    "#b group에 해당됨\n",
    "test_b_group_act=test_act_c.apply((lambda x: x.new_id in list(test_data_c.new_id[test_b_group_index])),1)"
   ]
  },
  {
   "cell_type": "code",
   "execution_count": 721,
   "metadata": {},
   "outputs": [],
   "source": [
    "#c group에 해당됨\n",
    "test_c_group_act=test_act_c.apply((lambda x: x.new_id in list(test_data_c.new_id[test_c_group_index])),1)"
   ]
  },
  {
   "cell_type": "code",
   "execution_count": 722,
   "metadata": {},
   "outputs": [],
   "source": [
    "#d group에 해당됨\n",
    "test_d_group_act=test_act_c.apply((lambda x: x.new_id in list(test_data_c.new_id[test_d_group_index])),1)"
   ]
  },
  {
   "cell_type": "code",
   "execution_count": 723,
   "metadata": {},
   "outputs": [],
   "source": [
    "#e group에 해당됨\n",
    "test_e_group_act=test_act_c.apply((lambda x: x.new_id in list(test_data_c.new_id[test_e_group_index])),1)"
   ]
  },
  {
   "cell_type": "code",
   "execution_count": 724,
   "metadata": {},
   "outputs": [],
   "source": [
    "test_group_act_df=pd.DataFrame([test_a_group_act,test_b_group_act,test_c_group_act,test_d_group_act,test_e_group_act]).T\n",
    "test_group_act_df.columns=['group_a','group_b','group_c','group_d','group_e']\n",
    "test_group_act_df.to_csv('test_group_act_df.csv',index=False)"
   ]
  },
  {
   "cell_type": "code",
   "execution_count": 725,
   "metadata": {},
   "outputs": [],
   "source": [
    "test_group_user_df=pd.DataFrame([(test_a_group_index),(test_b_group_index),(test_c_group_index),(test_d_group_index),(test_e_group_index)]).T\n",
    "test_group_user_df.columns=['group_a','group_b','group_c','group_d','group_e']\n",
    "test_group_user_df.to_csv('test_group_user_df.csv',index=False)"
   ]
  }
 ],
 "metadata": {
  "kernelspec": {
   "display_name": "Python 3",
   "language": "python",
   "name": "python3"
  },
  "language_info": {
   "codemirror_mode": {
    "name": "ipython",
    "version": 3
   },
   "file_extension": ".py",
   "mimetype": "text/x-python",
   "name": "python",
   "nbconvert_exporter": "python",
   "pygments_lexer": "ipython3",
   "version": "3.6.5"
  }
 },
 "nbformat": 4,
 "nbformat_minor": 2
}
