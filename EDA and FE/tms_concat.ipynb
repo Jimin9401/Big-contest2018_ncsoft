{
 "cells": [
  {
   "cell_type": "code",
   "execution_count": 1,
   "metadata": {},
   "outputs": [],
   "source": [
    "import pandas as pd\n",
    "import numpy as np\n",
    "#pyplot import\n",
    "import matplotlib.pyplot as plt"
   ]
  },
  {
   "cell_type": "code",
   "execution_count": 2,
   "metadata": {},
   "outputs": [],
   "source": [
    "#timeseries\n",
    "train_activity=pd.read_csv('lite_data/train_activity_lite.csv')\n",
    "lab=pd.read_csv('lite_data/train_label_lite.csv')\n",
    "test_activity=pd.read_csv('lite_data/test_activity_lite.csv')"
   ]
  },
  {
   "cell_type": "code",
   "execution_count": 3,
   "metadata": {},
   "outputs": [],
   "source": [
    "# FE된 변수들을 쌓는 변수공간\n",
    "X_train = train_activity.groupby(by='new_id',sort=False,as_index=False).sum().iloc[:,:1]\n",
    "X_test = test_activity.groupby(by='new_id',sort=False,as_index=False).sum().iloc[:,:1]"
   ]
  },
  {
   "cell_type": "code",
   "execution_count": 4,
   "metadata": {},
   "outputs": [],
   "source": [
    "#pivot해주는 함수\n",
    "#주별 데이터 찍기, na값 채우지 않음, cname이 정리할 column 값, dat은 넣을 activity data\n",
    "#모든 데이터를 concat하기 위해 cname을 바꿔줌\n",
    "def tms_with_colnames(dat,cname='play_time',replace_text='tr',fill_nas=False):\n",
    "    #activity data의 번호 앞에 tr 혹은 te가 붙어 없애준 열을 하나 만듦\n",
    "    dat1=dat.copy()\n",
    "    dat1['0']=dat1[dat1.columns[0]].str.replace(replace_text,\"\").tolist()\n",
    "    #numeric으로 변환(하지 않으면 정렬이 어려움)\n",
    "    dat1['0']=pd.to_numeric(dat1['0'])\n",
    "    #minimum value를 안채운 값 반환\n",
    "    #index를 기준으로 주차별 column의 값을 나타내는 pivot table 생성\n",
    "    res=dat1.pivot(index='0',columns='wk',values=cname)\n",
    "    #fillna가 false면 채우지 않고 리턴\n",
    "    cols=[]\n",
    "    for i in range(8):\n",
    "        cols.append(cname+'_'+str(i))\n",
    "    res.columns=cols\n",
    "    if fill_nas==False:\n",
    "        return res\n",
    "    #True면 채워서 반환\n",
    "    else:\n",
    "        res=res.fillna(res.min().min())\n",
    "        return res"
   ]
  },
  {
   "cell_type": "code",
   "execution_count": 5,
   "metadata": {},
   "outputs": [],
   "source": [
    "my_col = train_activity.columns.tolist()[2:]"
   ]
  },
  {
   "cell_type": "code",
   "execution_count": 6,
   "metadata": {},
   "outputs": [],
   "source": [
    "# train\n",
    "for col in my_col:\n",
    "    if col == 'cnt_dt':\n",
    "        X_train = pd.concat((X_train,tms_with_colnames(train_activity,cname='cnt_dt',replace_text='tr',fill_nas = False).fillna(0)),axis = 1)\n",
    "        X_test = pd.concat((X_test,tms_with_colnames(test_activity,cname='cnt_dt',replace_text='te',fill_nas = False).fillna(0)),axis = 1)\n",
    "    else:\n",
    "        X_train = pd.concat((X_train,tms_with_colnames(train_activity,cname = col,replace_text='tr',fill_nas = True)),axis = 1)\n",
    "        X_test = pd.concat((X_test,tms_with_colnames(test_activity,cname = col,replace_text='te',fill_nas = True)),axis = 1)"
   ]
  },
  {
   "cell_type": "code",
   "execution_count": 7,
   "metadata": {},
   "outputs": [],
   "source": [
    "X_train.to_csv('tms_concat_train.csv',index = False)\n",
    "X_test.to_csv('tms_concat_test.csv',index = False)"
   ]
  },
  {
   "cell_type": "code",
   "execution_count": 6,
   "metadata": {},
   "outputs": [],
   "source": [
    "temp1.to_csv('tms_concat.csv')"
   ]
  },
  {
   "cell_type": "code",
   "execution_count": 11,
   "metadata": {},
   "outputs": [],
   "source": [
    "temp2.to_csv('tms_concat_test.csv')"
   ]
  }
 ],
 "metadata": {
  "kernelspec": {
   "display_name": "Python 3",
   "language": "python",
   "name": "python3"
  },
  "language_info": {
   "codemirror_mode": {
    "name": "ipython",
    "version": 3
   },
   "file_extension": ".py",
   "mimetype": "text/x-python",
   "name": "python",
   "nbconvert_exporter": "python",
   "pygments_lexer": "ipython3",
   "version": "3.6.5"
  }
 },
 "nbformat": 4,
 "nbformat_minor": 2
}
