{
 "cells": [
  {
   "cell_type": "markdown",
   "metadata": {},
   "source": [
    "# 0. Introduction"
   ]
  },
  {
   "cell_type": "markdown",
   "metadata": {},
   "source": [
    "### 공식 데이터 설명"
   ]
  },
  {
   "cell_type": "markdown",
   "metadata": {},
   "source": [
    "__1) 데이터 전처리 관련 정보__"
   ]
  },
  {
   "cell_type": "markdown",
   "metadata": {},
   "source": [
    "* 아이디 마스킹\n",
    "    - __게임 사용자 아이디, 파티 아이디, 아이템 아이디__ 등은 모두 해싱 처리 후 제공"
   ]
  },
  {
   "cell_type": "markdown",
   "metadata": {},
   "source": [
    "* 데이터 표준화(Standardization)\n",
    "    - 모든 수치형 데이터는 표준화 처리 제공 $\\Longrightarrow$ __EDA, Modeling 단계에서 항상 고려해서 분석!!!__"
   ]
  },
  {
   "cell_type": "markdown",
   "metadata": {},
   "source": [
    "* 날짜 정보\n",
    "    - 모든 날짜 정보는 데이터의 최초 날짜를 기준으로 indexing 처리하여 제공됨.\n",
    "    - 최초 시작 주부터 1 ~ 8의 번호 표기\n",
    "        * 각 주의 시작은 __수요일__\n",
    "        * 1: 수요일, 2: 목요일, 3: 금요일, 4: 토요일, 5: 일요일, 6: 월요일, 7: 화요일\n",
    "    - 시간 정보는 그대로 유지"
   ]
  },
  {
   "cell_type": "markdown",
   "metadata": {},
   "source": [
    "__2) 파일 별 스키마 및 컬럼 설명__"
   ]
  },
  {
   "cell_type": "markdown",
   "metadata": {},
   "source": [
    "데이터는 학습용 데이터와 테스트용 데이터로 크게 구분되며 train_label.csv 를 제외하고 나머지\n",
    "데이터는 학습용 데이터와 테스트용 데이터의 형식이 동일합니다."
   ]
  },
  {
   "cell_type": "markdown",
   "metadata": {},
   "source": [
    "* __train_label.csv__ : 학습 대상 계정들의 고유 아이디 및 이탈 여부 (Retained, week, month,\n",
    "2month)를 나타내는 파일\n"
   ]
  },
  {
   "cell_type": "markdown",
   "metadata": {},
   "source": [
    "| 변수명 | 설명 | EX |\n",
    "|:--------:|:--------:|:--------:|\n",
    "| acc_id | 계정 아이디 | b8fbf3f6a70e3f36843bffc70c18ff51a0d755a87616eca21b17b94d2ee2a734 |\n",
    "| label | 이탈 여부 {week : 1주내 이탈, month : 4주내 이탈, 2month : 8주내 이탈, retained : 비이탈} | week |"
   ]
  },
  {
   "cell_type": "markdown",
   "metadata": {},
   "source": [
    "* __train_activity.csv, test_activity.csv__ : 유저의 인게임 활동량을 일주일 단위로 집계한 파일"
   ]
  },
  {
   "cell_type": "markdown",
   "metadata": {},
   "source": [
    "| 변수명 | 설명 | EX |\n",
    "|:--------:|:--------:|:--------:|\n",
    "| wk |활동 주 (1~8)| 7 |\n",
    "| acc_id | 계정 아이디 | 3dc6f2875dc6e6f35b9e2bdb25b391a8003386ff23becd109415062b2bd58709 |\n",
    "| cnt_dt | 해당 주에 한번 이상 접속한 일수 | 4 |\n",
    "| play_time | 플레이 시간 (단위: 초) | 2.0888141610702697 |\n",
    "| npc_exp | NPC 사냥 일반 경험치 | 4.4050571352657 |\n",
    "| npc_hongmun | NPC 사냥 홍문 경험치 | -0.2454767368248 |\n",
    "| quest_exp | 퀘스트 일반 경험치 | 4.45405933933072 |\n",
    "| quest_hongmun | 퀘스트 홍문 경험치 | 3.0097968979650997 |\n",
    "| item_hongmun | 아이템 홍문 경험치 | -0.306353601768793 |\n",
    "| game_combat_time | 전투 시간 (단위: 초) | 1.18401086299851 |\n",
    "| get_money | 재화 획득량 | -0.023442516280296997 |\n",
    "| duel_cnt | 결투 참여횟수 | -0.0361680430708607 |\n",
    "| duel_win | 결투 승리 횟수 | -0.0413257061219071 |\n",
    "| partybattle_cnt | 전장 참여 횟수 | -0.167472539558229 |\n",
    "| partybattle_win | 전장 승리 횟수 | -0.159872456051349 |\n",
    "| cnt_enter_inzone_solo | 솔로 인전 입장 횟수 | -0.308749014788707 |\n",
    "| cnt_enter_inzone_light | 라이트 인전 입장 횟수 | -0.4245914673859171 |\n",
    "| cnt_enter_inzone_skilled | 숙련 인던 입장 횟수 | -0.19067142960053898 |\n",
    "| cnt_enter_inzone_normal | 라이트/숙련 인던 입장 횟수 | -0.32556558519607204 |\n",
    "| cnt_enter_raid | 레이드 참여 횟수 | -0.36812964898735606 |\n",
    "| cnt_enter_raid_light | 라이트 레이드 참여 횟수 | -0.402052757250742 |\n",
    "| cnt_enter_bam | 바람평야 입장 횟수 | -0.0476429005602935 |\n",
    "| cnt_clear_inzone_solo | 솔로 인전 완료 횟수 | -0.306502306156819 |\n",
    "| cnt_clear_inzone_light | 라이트 인전 완료 횟수 | -0.43026333989039506 |\n",
    "| cnt_clear_inzone_skilled | 숙련 인던 완료 횟수 | -0.18878786561800398 |\n",
    "| cnt_clear_inzone_normal | 라이트/숙련 인던 완료 횟수 | -0.309353682254944 |\n",
    "| cnt_clear_raid | 레이드 완료 횟수 | -0.367616127806015 |\n",
    "| cnt_clear_raid_light | 라이트 레이드 완료 횟수 | -0.40115791759805397 |\n",
    "| cnt_clear_bam | 바람평야 완료 횟수 | -0.0331304236986033 |\n",
    "| normal_chat | 일반 채팅 횟수 | -0.0340376613356785 |\n",
    "| whisper_chat | 귓속말 채팅 횟수 | -0.23182695053692 |\n",
    "| district_chat | 지역 채팅 횟수 | -0.0165738550449223 |\n",
    "| party_chat | 파티 채팅 횟수 | -0.27517378864131203 |\n",
    "| guild_chat | 문파 채팅 횟수 | -0.34329315990913206 |\n",
    "| faction_chat | 세력 채팅 횟수 | -0.0240280218289566 |\n",
    "| cnt_use_buffitem | 버프 아이템 사용 횟수 | 3.46693878868001 |\n",
    "| gathering_cnt | 채집 횟수 | -0.0277583111202987 |\n",
    "| making_cnt | 제작 횟수 | -0.36553646455217803 |"
   ]
  },
  {
   "cell_type": "markdown",
   "metadata": {},
   "source": [
    "* __train_party.csv, test_party.csv__ : 유저간 파티 구성 관계를 집계한 파일\n"
   ]
  },
  {
   "cell_type": "markdown",
   "metadata": {},
   "source": [
    "| 변수명 | 설명 | EX |\n",
    "|:--------:|:--------:|:--------:|\n",
    "|party_start_week | 파티 생성 주 (1~8) | 1|\n",
    "|party_start_day | 파티 생성 일 (1~7) | 1|\n",
    "|party_start_time | 파티 생성 시간 (00:00:00 ~ 23:59:59) | 08:11:22|\n",
    "|party_end_week | 파티 종료 주 (1~8) | 1|\n",
    "|party_end_day | 파티 종료 일 (1~7) | 1|\n",
    "|party_end_time | 파티 종료 시간 (00:00:00 ~ 23:59:59) | 08:12:20|\n",
    "|party_members_acc_id |파티 구성원 아이디 리스트/ 파티 참여했던 모든 구성원들의 아이디 기록 | 6015d440c4a54bad8d2c23538eb25c8a8f931c048dd1f0edd55ea21cb5d2cad4,...|"
   ]
  },
  {
   "cell_type": "markdown",
   "metadata": {},
   "source": [
    "* __train_guild.csv, test_guild.csv__ : 문파 구성 관계를 집계한 파일"
   ]
  },
  {
   "cell_type": "markdown",
   "metadata": {},
   "source": [
    "| 변수명 | 설명 | EX |\n",
    "|:--------:|:--------:|:--------:|\n",
    "|guild_id | 길드고유아이디 | 000b682e9e50904b317c6f4afe17d8ee38b8c339f08bf960ccf67efc5f914f07 |\n",
    "|guild_member_acc_id | 길드원아이디리스트 | ba86804424a9a3708b1564a7726783612a75a5b881095ee635798c21b860dfea |"
   ]
  },
  {
   "cell_type": "markdown",
   "metadata": {},
   "source": [
    "* __train_trade.csv, test_trade.csv__ : 유저간 거래이력을 집계한 파일"
   ]
  },
  {
   "cell_type": "markdown",
   "metadata": {},
   "source": [
    "| 변수명 | 설명 | EX |\n",
    "|:--------|:--------:|--------:|\n",
    "| trade_week | 거래 발생 주차 (1 ~ 8) | 8 |\n",
    "| trade_day | 거래 발생 일 (1 ~7) | 2 |\n",
    "| trade_time | 거래 발생 시간 (00:00:00 ~ 23:59:59) | 23:32:06 |\n",
    "| source_acc_id | 주는 계정 아이디 | 3dc6f2875dc6e6f35b9e2bdb25b391a8003386ff23becd109415062b2bd58709 |\n",
    "| target_acc_id | 받는 계정 아이디 | 96995041e6295f5a5aa86d07f805ec3b38aef10dc08f992cde25b6dcd95f8c23 |\n",
    "| item_type | 아이템 종류 {money : 금, grocery : 잡화, weapon : 무기, costume : 옷, gem : 보석, accessory : 액세서리 }| grocery |\n",
    "| item_amount | 거래된 아이템 수량 | -0.0563440169879076 |"
   ]
  },
  {
   "cell_type": "markdown",
   "metadata": {},
   "source": [
    "* __train_payment.csv, test_payment.csv__ : 유저별 주간 결제 금액을 집계한 파일"
   ]
  },
  {
   "cell_type": "markdown",
   "metadata": {},
   "source": [
    "| 변수명 | 설명 | EX |\n",
    "|:--------|:--------:|--------:|\n",
    "| payment_week | 결제 주 (1~8) | 1 |\n",
    "| acc_id | 결제 유저 아이디 | 59adcb1b783e139a12ff6ce8f6f19e11dbcf78424c6248d2931b084daea87067 |\n",
    "| payment_amount | 해당 주 총 결제액 | -0.659747477510601 |"
   ]
  },
  {
   "cell_type": "markdown",
   "metadata": {},
   "source": [
    "---"
   ]
  },
  {
   "cell_type": "markdown",
   "metadata": {},
   "source": [
    "# acc_id in train, test exchange"
   ]
  },
  {
   "cell_type": "code",
   "execution_count": 1,
   "metadata": {},
   "outputs": [],
   "source": [
    "import pandas as pd\n",
    "import seaborn as sns"
   ]
  },
  {
   "cell_type": "code",
   "execution_count": 2,
   "metadata": {},
   "outputs": [],
   "source": [
    "train_acc_id = pd.read_csv('./input/train_activity.csv').acc_id\n",
    "test_acc_id = pd.read_csv('./input/test_activity.csv').acc_id"
   ]
  },
  {
   "cell_type": "code",
   "execution_count": 3,
   "metadata": {},
   "outputs": [
    {
     "name": "stdout",
     "output_type": "stream",
     "text": [
      "100000\n",
      "40000\n"
     ]
    }
   ],
   "source": [
    "# 각 id 개수\n",
    "print(len(train_acc_id.unique()))\n",
    "print(len(test_acc_id.unique()))"
   ]
  },
  {
   "cell_type": "code",
   "execution_count": 4,
   "metadata": {},
   "outputs": [
    {
     "data": {
      "text/plain": [
       "set()"
      ]
     },
     "execution_count": 4,
     "metadata": {},
     "output_type": "execute_result"
    }
   ],
   "source": [
    "# train과 test의 교집합은 공집합\n",
    "set(train_acc_id).intersection(set(test_acc_id))"
   ]
  },
  {
   "cell_type": "code",
   "execution_count": 5,
   "metadata": {},
   "outputs": [],
   "source": [
    "# hash:new_id dictionary\n",
    "new_train_id = {key : 'tr'+str(i) for i,key in enumerate(set(train_acc_id))}\n",
    "new_test_id = {key : 'te'+str(i) for i,key in enumerate(set(test_acc_id))}"
   ]
  },
  {
   "cell_type": "code",
   "execution_count": 30,
   "metadata": {},
   "outputs": [],
   "source": [
    "# 토탈 셋\n",
    "new_total_id = dict()\n",
    "new_total_id.update(new_train_id)\n",
    "new_total_id.update(new_test_id)"
   ]
  },
  {
   "cell_type": "markdown",
   "metadata": {},
   "source": [
    "# 현질러"
   ]
  },
  {
   "cell_type": "code",
   "execution_count": 7,
   "metadata": {},
   "outputs": [],
   "source": [
    "# 현질러들은 각각 클래스 의 부분 집합임\n",
    "train_pay = pd.read_csv('./input/train_payment.csv').acc_id\n",
    "test_pay = pd.read_csv('./input/test_payment.csv').acc_id"
   ]
  },
  {
   "cell_type": "code",
   "execution_count": 8,
   "metadata": {
    "scrolled": true
   },
   "outputs": [
    {
     "data": {
      "text/plain": [
       "True"
      ]
     },
     "execution_count": 8,
     "metadata": {},
     "output_type": "execute_result"
    }
   ],
   "source": [
    "set(train_pay).issubset(train_acc_id)"
   ]
  },
  {
   "cell_type": "code",
   "execution_count": 9,
   "metadata": {},
   "outputs": [
    {
     "data": {
      "text/plain": [
       "True"
      ]
     },
     "execution_count": 9,
     "metadata": {},
     "output_type": "execute_result"
    }
   ],
   "source": [
    "set(test_pay).issubset(test_acc_id)"
   ]
  },
  {
   "cell_type": "markdown",
   "metadata": {},
   "source": [
    "# 파티,길드,거래 아이디"
   ]
  },
  {
   "cell_type": "code",
   "execution_count": null,
   "metadata": {},
   "outputs": [],
   "source": [
    "# data load\n",
    "train_party = pd.read_csv('../input/train_party.csv').hashed\n",
    "train_guild = pd.read_csv('../input/train_guild.csv').guild_member_acc_id\n",
    "train_trade_sc = pd.read_csv('../input/train_trade.csv').source_acc_id\n",
    "train_trade_ta = pd.read_csv('../input/train_trade.csv').target_acc_id\n",
    "\n",
    "test_party = pd.read_csv('../input/test_party.csv').hashed\n",
    "test_guild = pd.read_csv('../input/test_guild.csv').guild_member_acc_id\n",
    "test_trade_sc = pd.read_csv('../input/test_trade.csv').source_acc_id\n",
    "test_trade_ta = pd.read_csv('../input/test_trade.csv').target_acc_id\n",
    "\n",
    "# load existing keys\n",
    "train_id = pd.read_csv('train_id.csv')\n",
    "test_id = pd.read_csv('test_id.csv')\n",
    "\n",
    "train_id = {x:train_id.iloc[i,1] for i, x in enumerate(train_id.hash)}\n",
    "test_id = {x:test_id.iloc[i,1] for i, x in enumerate(test_id.hash)}\n",
    "\n",
    "total_dict = {}\n",
    "total_dict.update(train_id)\n",
    "total_dict.update(test_id)\n",
    "\n",
    "# id있는거 모두 엮기\n",
    "whole = [train_party,test_party,train_guild,test_guild,train_trade_sc,test_trade_sc,train_trade_ta,test_trade_ta]\n",
    "\n",
    "# train, test도 아닌애들\n",
    "other_set = set()\n",
    "for id_set in whole:\n",
    "    temp = ','.join(list(id_set))\n",
    "    other_set.update(set(temp.split(',')).difference(total_dict.keys()))\n",
    "\n",
    "# dictionary 만들자\n",
    "other_set = {x:'ot'+ str(i) for i,x in enumerate(other_set)}\n",
    "\n",
    "final_total_dict= {}\n",
    "final_total_dict.update(total_dict)\n",
    "final_total_dict.update(other_set)"
   ]
  },
  {
   "cell_type": "markdown",
   "metadata": {},
   "source": [
    "### party"
   ]
  },
  {
   "cell_type": "code",
   "execution_count": null,
   "metadata": {},
   "outputs": [],
   "source": [
    "#load \n",
    "train_party = pd.read_csv('../input/train_party.csv')\n",
    "test_party = pd.read_csv('../input/test_party.csv')\n",
    "\n",
    "# apply hash\n",
    "train_party_members_new_id = train_party.hashed.apply(lambda x: x.split(',')).apply(lambda x:','.join([final_total_dict[v] for v in x]))\n",
    "test_party_members_new_id = test_party.hashed.apply(lambda x: x.split(',')).apply(lambda x:','.join([final_total_dict[v] for v in x]))\n",
    "\n",
    "# change to new label\n",
    "train_party_lite = pd.concat((train_party.iloc[:,:-1],train_party_members_new_id ),axis=1)\n",
    "test_party_lite = pd.concat((test_party.iloc[:,:-1],test_party_members_new_id ),axis=1)\n",
    "\n",
    "train_party_lite.columns = ['party_start_week', 'party_start_day', 'party_start_time', 'party_end_week', 'party_end_day', 'party_end_time', 'party_members_acc_id']\n",
    "test_party_lite.columns = ['party_start_week', 'party_start_day', 'party_start_time', 'party_end_week', 'party_end_day', 'party_end_time', 'party_members_acc_id']\n",
    "\n",
    "train_party_lite.to_csv('../new_input/train_party_lite.csv',index=False)\n",
    "test_party_lite.to_csv('../new_input/test_party_lite.csv',index=False)"
   ]
  },
  {
   "cell_type": "markdown",
   "metadata": {},
   "source": [
    "### guild"
   ]
  },
  {
   "cell_type": "code",
   "execution_count": null,
   "metadata": {},
   "outputs": [],
   "source": [
    "train_guild = pd.read_csv('../input/train_guild.csv')\n",
    "test_guild = pd.read_csv('../input/test_guild.csv')\n",
    "\n",
    "# apply hash\n",
    "train_guild_members_new_id = train_guild.guild_member_acc_id.apply(lambda x: x.split(',')).apply(lambda x:','.join([final_total_dict[v] for v in x]))\n",
    "test_guild_members_new_id = test_guild.guild_member_acc_id.apply(lambda x: x.split(',')).apply(lambda x:','.join([final_total_dict[v] for v in x]))\n",
    "\n",
    "train_g_id = pd.read_csv('../new_input/train_guild_lite.csv')\n",
    "test_g_id = pd.read_csv('../new_input/test_guild_lite.csv')\n",
    "\n",
    "# change to new label\n",
    "train_guild_lite = pd.concat((train_g_id.iloc[:,:-1],train_guild_members_new_id ),axis=1)\n",
    "test_guild_lite = pd.concat((test_g_id.iloc[:,:-1],test_guild_members_new_id ),axis=1)\n",
    "\n",
    "train_guild_lite.to_csv('../new_input/train_guild_lite.csv',index=False)\n",
    "\n",
    "test_guild_lite.to_csv('../new_input/test_guild_lite.csv',index=False)"
   ]
  },
  {
   "cell_type": "markdown",
   "metadata": {},
   "source": [
    "### trade"
   ]
  },
  {
   "cell_type": "code",
   "execution_count": null,
   "metadata": {},
   "outputs": [],
   "source": [
    "train_trade = pd.read_csv('../input/train_trade.csv')\n",
    "test_trade = pd.read_csv('../input/test_trade.csv')\n",
    "\n",
    "train_trade.source_acc_id = [final_total_dict[s] for s in train_trade.source_acc_id]\n",
    "train_trade.target_acc_id = [final_total_dict[s] for s in train_trade.target_acc_id]\n",
    "test_trade.source_acc_id = [final_total_dict[s] for s in test_trade.source_acc_id]\n",
    "test_trade.target_acc_id = [final_total_dict[s] for s in test_trade.target_acc_id]\n",
    "\n",
    "train_trade.to_csv('../new_input/train_trade_lite.csv',index=False)\n",
    "test_trade.to_csv('../new_input/test_trade_lite.csv',index=False)"
   ]
  }
 ],
 "metadata": {
  "kernelspec": {
   "display_name": "Python 3",
   "language": "python",
   "name": "python3"
  },
  "language_info": {
   "codemirror_mode": {
    "name": "ipython",
    "version": 3
   },
   "file_extension": ".py",
   "mimetype": "text/x-python",
   "name": "python",
   "nbconvert_exporter": "python",
   "pygments_lexer": "ipython3",
   "version": "3.6.5"
  }
 },
 "nbformat": 4,
 "nbformat_minor": 2
}
