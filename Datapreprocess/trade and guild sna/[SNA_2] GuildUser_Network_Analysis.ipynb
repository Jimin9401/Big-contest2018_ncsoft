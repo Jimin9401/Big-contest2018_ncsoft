{
 "cells": [
  {
   "cell_type": "markdown",
   "metadata": {},
   "source": [
    "# 정리"
   ]
  },
  {
   "cell_type": "markdown",
   "metadata": {},
   "source": [
    "문파원 네트워크는... 정말 16000명의 문파를 하는 사람들을 좀 더 세분화할 수 있는 피쳐임.."
   ]
  },
  {
   "cell_type": "markdown",
   "metadata": {},
   "source": [
    "# Import module, data, function"
   ]
  },
  {
   "cell_type": "code",
   "execution_count": 1,
   "metadata": {},
   "outputs": [],
   "source": [
    "#### import modules\n",
    "import pandas as pd\n",
    "import numpy as np\n",
    "import networkx as nx\n",
    "import matplotlib.pyplot as plt\n",
    "from networkx.algorithms import bipartite\n",
    "import re\n",
    "\n",
    "# import itertools \n",
    "from itertools import chain\n",
    "from itertools import groupby"
   ]
  },
  {
   "cell_type": "code",
   "execution_count": 2,
   "metadata": {},
   "outputs": [],
   "source": [
    "# load data set\n",
    "train_guild = pd.read_csv('../new_input/train_guild_lite.csv')\n",
    "test_guild = pd.read_csv('../new_input/test_guild_lite.csv')\n",
    "train_label = pd.read_csv('../new_input/train_label_lite.csv')\n",
    "\n",
    "# party\n",
    "train_party = pd.read_csv('../new_input/train_party_lite.csv')\n",
    "test_party = pd.read_csv('../new_input/test_party_lite.csv')\n",
    "\n",
    "# trade\n",
    "train_trade = pd.read_csv('../new_input/train_trade_lite.csv')\n",
    "test_trade = pd.read_csv('../new_input/test_trade_lite.csv')\n",
    "\n",
    "# 전체 길드 집합 만들기 \n",
    "total_guild = pd.concat((train_guild,test_guild),axis=0,ignore_index=True)\n",
    "total_guild.drop_duplicates(inplace=True)\n",
    "total_guild.index = range(len(total_guild))\n",
    "\n",
    "# label map\n",
    "label_map = {'retained':0,'week':1,'month':2,'2month':3}"
   ]
  },
  {
   "cell_type": "markdown",
   "metadata": {},
   "source": [
    "---"
   ]
  },
  {
   "cell_type": "markdown",
   "metadata": {},
   "source": [
    "# Basic EDA"
   ]
  },
  {
   "cell_type": "markdown",
   "metadata": {},
   "source": [
    "__전체에서 파티 경험 있는 사람은 몇명?__"
   ]
  },
  {
   "cell_type": "markdown",
   "metadata": {},
   "source": [
    "절반 약간 넘는 사람들이 파티 컨텐츠를 즐김"
   ]
  },
  {
   "cell_type": "markdown",
   "metadata": {},
   "source": [
    "# 문파원 네트워크 분석"
   ]
  },
  {
   "cell_type": "markdown",
   "metadata": {},
   "source": [
    "* 문파내 파티/전체 파티"
   ]
  },
  {
   "cell_type": "code",
   "execution_count": 10,
   "metadata": {},
   "outputs": [
    {
     "data": {
      "text/html": [
       "<div>\n",
       "<style scoped>\n",
       "    .dataframe tbody tr th:only-of-type {\n",
       "        vertical-align: middle;\n",
       "    }\n",
       "\n",
       "    .dataframe tbody tr th {\n",
       "        vertical-align: top;\n",
       "    }\n",
       "\n",
       "    .dataframe thead th {\n",
       "        text-align: right;\n",
       "    }\n",
       "</style>\n",
       "<table border=\"1\" class=\"dataframe\">\n",
       "  <thead>\n",
       "    <tr style=\"text-align: right;\">\n",
       "      <th></th>\n",
       "      <th>party_start_week</th>\n",
       "      <th>party_start_day</th>\n",
       "      <th>party_start_time</th>\n",
       "      <th>party_end_week</th>\n",
       "      <th>party_end_day</th>\n",
       "      <th>party_end_time</th>\n",
       "      <th>party_members_acc_id</th>\n",
       "    </tr>\n",
       "  </thead>\n",
       "  <tbody>\n",
       "    <tr>\n",
       "      <th>0</th>\n",
       "      <td>1</td>\n",
       "      <td>1</td>\n",
       "      <td>09:14:58.558</td>\n",
       "      <td>1</td>\n",
       "      <td>1</td>\n",
       "      <td>09:41:30.200</td>\n",
       "      <td>ot160647,ot47783,tr53166,ot200260,ot148400,tr9...</td>\n",
       "    </tr>\n",
       "    <tr>\n",
       "      <th>1</th>\n",
       "      <td>3</td>\n",
       "      <td>3</td>\n",
       "      <td>11:05:05.176</td>\n",
       "      <td>3</td>\n",
       "      <td>3</td>\n",
       "      <td>13:07:42.515</td>\n",
       "      <td>ot93483,ot74426,te4462,tr75992,tr89175,tr89342</td>\n",
       "    </tr>\n",
       "    <tr>\n",
       "      <th>2</th>\n",
       "      <td>3</td>\n",
       "      <td>6</td>\n",
       "      <td>02:18:43.172</td>\n",
       "      <td>3</td>\n",
       "      <td>6</td>\n",
       "      <td>02:28:58.177</td>\n",
       "      <td>te30091,ot168103,tr16718,te34235,tr63569,ot179821</td>\n",
       "    </tr>\n",
       "    <tr>\n",
       "      <th>3</th>\n",
       "      <td>4</td>\n",
       "      <td>1</td>\n",
       "      <td>09:22:01.936</td>\n",
       "      <td>4</td>\n",
       "      <td>1</td>\n",
       "      <td>09:47:40.192</td>\n",
       "      <td>ot233060,tr15609,tr85158,tr36984,tr66235,tr622...</td>\n",
       "    </tr>\n",
       "    <tr>\n",
       "      <th>4</th>\n",
       "      <td>4</td>\n",
       "      <td>5</td>\n",
       "      <td>06:29:21.182</td>\n",
       "      <td>4</td>\n",
       "      <td>5</td>\n",
       "      <td>06:50:55.004</td>\n",
       "      <td>ot120538,tr14982,ot22725,tr16126,ot24948,tr66815</td>\n",
       "    </tr>\n",
       "  </tbody>\n",
       "</table>\n",
       "</div>"
      ],
      "text/plain": [
       "   party_start_week  party_start_day party_start_time  party_end_week  \\\n",
       "0                 1                1     09:14:58.558               1   \n",
       "1                 3                3     11:05:05.176               3   \n",
       "2                 3                6     02:18:43.172               3   \n",
       "3                 4                1     09:22:01.936               4   \n",
       "4                 4                5     06:29:21.182               4   \n",
       "\n",
       "   party_end_day party_end_time  \\\n",
       "0              1   09:41:30.200   \n",
       "1              3   13:07:42.515   \n",
       "2              6   02:28:58.177   \n",
       "3              1   09:47:40.192   \n",
       "4              5   06:50:55.004   \n",
       "\n",
       "                                party_members_acc_id  \n",
       "0  ot160647,ot47783,tr53166,ot200260,ot148400,tr9...  \n",
       "1     ot93483,ot74426,te4462,tr75992,tr89175,tr89342  \n",
       "2  te30091,ot168103,tr16718,te34235,tr63569,ot179821  \n",
       "3  ot233060,tr15609,tr85158,tr36984,tr66235,tr622...  \n",
       "4   ot120538,tr14982,ot22725,tr16126,ot24948,tr66815  "
      ]
     },
     "execution_count": 10,
     "metadata": {},
     "output_type": "execute_result"
    }
   ],
   "source": [
    "train_party.head()"
   ]
  },
  {
   "cell_type": "code",
   "execution_count": 12,
   "metadata": {},
   "outputs": [
    {
     "data": {
      "text/html": [
       "<div>\n",
       "<style scoped>\n",
       "    .dataframe tbody tr th:only-of-type {\n",
       "        vertical-align: middle;\n",
       "    }\n",
       "\n",
       "    .dataframe tbody tr th {\n",
       "        vertical-align: top;\n",
       "    }\n",
       "\n",
       "    .dataframe thead th {\n",
       "        text-align: right;\n",
       "    }\n",
       "</style>\n",
       "<table border=\"1\" class=\"dataframe\">\n",
       "  <thead>\n",
       "    <tr style=\"text-align: right;\">\n",
       "      <th></th>\n",
       "      <th>party_start_week</th>\n",
       "      <th>party_start_day</th>\n",
       "      <th>party_start_time</th>\n",
       "      <th>party_end_week</th>\n",
       "      <th>party_end_day</th>\n",
       "      <th>party_end_time</th>\n",
       "      <th>party_members_acc_id</th>\n",
       "    </tr>\n",
       "  </thead>\n",
       "  <tbody>\n",
       "    <tr>\n",
       "      <th>0</th>\n",
       "      <td>1</td>\n",
       "      <td>1</td>\n",
       "      <td>11:42:01.123</td>\n",
       "      <td>1</td>\n",
       "      <td>1</td>\n",
       "      <td>12:11:28.466</td>\n",
       "      <td>ot70402,te35234</td>\n",
       "    </tr>\n",
       "    <tr>\n",
       "      <th>1</th>\n",
       "      <td>3</td>\n",
       "      <td>3</td>\n",
       "      <td>11:05:05.176</td>\n",
       "      <td>3</td>\n",
       "      <td>3</td>\n",
       "      <td>13:07:42.515</td>\n",
       "      <td>ot93483,ot74426,te4462,tr75992,tr89175,tr89342</td>\n",
       "    </tr>\n",
       "    <tr>\n",
       "      <th>2</th>\n",
       "      <td>3</td>\n",
       "      <td>6</td>\n",
       "      <td>02:18:43.172</td>\n",
       "      <td>3</td>\n",
       "      <td>6</td>\n",
       "      <td>02:28:58.177</td>\n",
       "      <td>te30091,ot168103,tr16718,te34235,tr63569,ot179821</td>\n",
       "    </tr>\n",
       "    <tr>\n",
       "      <th>3</th>\n",
       "      <td>6</td>\n",
       "      <td>1</td>\n",
       "      <td>09:12:30.447</td>\n",
       "      <td>6</td>\n",
       "      <td>1</td>\n",
       "      <td>09:31:51.871</td>\n",
       "      <td>te916,tr1545,ot9691,tr27647,tr57458,tr17030,ot...</td>\n",
       "    </tr>\n",
       "    <tr>\n",
       "      <th>4</th>\n",
       "      <td>6</td>\n",
       "      <td>5</td>\n",
       "      <td>10:58:28.822</td>\n",
       "      <td>6</td>\n",
       "      <td>5</td>\n",
       "      <td>11:01:05.309</td>\n",
       "      <td>tr97045,tr85370,ot128861,te34084,te29083</td>\n",
       "    </tr>\n",
       "  </tbody>\n",
       "</table>\n",
       "</div>"
      ],
      "text/plain": [
       "   party_start_week  party_start_day party_start_time  party_end_week  \\\n",
       "0                 1                1     11:42:01.123               1   \n",
       "1                 3                3     11:05:05.176               3   \n",
       "2                 3                6     02:18:43.172               3   \n",
       "3                 6                1     09:12:30.447               6   \n",
       "4                 6                5     10:58:28.822               6   \n",
       "\n",
       "   party_end_day party_end_time  \\\n",
       "0              1   12:11:28.466   \n",
       "1              3   13:07:42.515   \n",
       "2              6   02:28:58.177   \n",
       "3              1   09:31:51.871   \n",
       "4              5   11:01:05.309   \n",
       "\n",
       "                                party_members_acc_id  \n",
       "0                                    ot70402,te35234  \n",
       "1     ot93483,ot74426,te4462,tr75992,tr89175,tr89342  \n",
       "2  te30091,ot168103,tr16718,te34235,tr63569,ot179821  \n",
       "3  te916,tr1545,ot9691,tr27647,tr57458,tr17030,ot...  \n",
       "4           tr97045,tr85370,ot128861,te34084,te29083  "
      ]
     },
     "execution_count": 12,
     "metadata": {},
     "output_type": "execute_result"
    }
   ],
   "source": [
    "test_party.head()"
   ]
  },
  {
   "cell_type": "code",
   "execution_count": null,
   "metadata": {},
   "outputs": [],
   "source": [
    "for x in train_party.party_members_acc_id.split(',')"
   ]
  },
  {
   "cell_type": "code",
   "execution_count": null,
   "metadata": {},
   "outputs": [],
   "source": []
  },
  {
   "cell_type": "code",
   "execution_count": null,
   "metadata": {},
   "outputs": [],
   "source": []
  },
  {
   "cell_type": "code",
   "execution_count": 7,
   "metadata": {},
   "outputs": [],
   "source": [
    "test = [x for x in train_guild.iloc[5268,:].guild_member_acc_id.split(',') if re.match('tr',x) != None] "
   ]
  },
  {
   "cell_type": "code",
   "execution_count": 8,
   "metadata": {},
   "outputs": [],
   "source": [
    "test = pd.DataFrame({'new_id': test})"
   ]
  },
  {
   "cell_type": "code",
   "execution_count": 10,
   "metadata": {},
   "outputs": [
    {
     "data": {
      "text/html": [
       "<div>\n",
       "<style scoped>\n",
       "    .dataframe tbody tr th:only-of-type {\n",
       "        vertical-align: middle;\n",
       "    }\n",
       "\n",
       "    .dataframe tbody tr th {\n",
       "        vertical-align: top;\n",
       "    }\n",
       "\n",
       "    .dataframe thead th {\n",
       "        text-align: right;\n",
       "    }\n",
       "</style>\n",
       "<table border=\"1\" class=\"dataframe\">\n",
       "  <thead>\n",
       "    <tr style=\"text-align: right;\">\n",
       "      <th></th>\n",
       "      <th>guild_id</th>\n",
       "      <th>guild_member_acc_id</th>\n",
       "    </tr>\n",
       "  </thead>\n",
       "  <tbody>\n",
       "    <tr>\n",
       "      <th>5268</th>\n",
       "      <td>g3255</td>\n",
       "      <td>ot60547,tr60732,te11881,te18956,ot64962,tr6111...</td>\n",
       "    </tr>\n",
       "  </tbody>\n",
       "</table>\n",
       "</div>"
      ],
      "text/plain": [
       "     guild_id                                guild_member_acc_id\n",
       "5268    g3255  ot60547,tr60732,te11881,te18956,ot64962,tr6111..."
      ]
     },
     "execution_count": 10,
     "metadata": {},
     "output_type": "execute_result"
    }
   ],
   "source": [
    "train_guild.loc[train_guild.guild_member_acc_id.apply(lambda x: len(x.split(',')))==77,:]"
   ]
  },
  {
   "cell_type": "code",
   "execution_count": 9,
   "metadata": {},
   "outputs": [
    {
     "data": {
      "text/plain": [
       "0       False\n",
       "1       False\n",
       "2       False\n",
       "3       False\n",
       "4       False\n",
       "5       False\n",
       "6       False\n",
       "7       False\n",
       "8       False\n",
       "9       False\n",
       "10      False\n",
       "11      False\n",
       "12      False\n",
       "13      False\n",
       "14      False\n",
       "15      False\n",
       "16      False\n",
       "17      False\n",
       "18      False\n",
       "19      False\n",
       "20      False\n",
       "21      False\n",
       "22      False\n",
       "23      False\n",
       "24      False\n",
       "25      False\n",
       "26      False\n",
       "27      False\n",
       "28      False\n",
       "29      False\n",
       "        ...  \n",
       "9933    False\n",
       "9934    False\n",
       "9935    False\n",
       "9936    False\n",
       "9937    False\n",
       "9938    False\n",
       "9939    False\n",
       "9940    False\n",
       "9941    False\n",
       "9942    False\n",
       "9943    False\n",
       "9944    False\n",
       "9945    False\n",
       "9946    False\n",
       "9947    False\n",
       "9948    False\n",
       "9949    False\n",
       "9950    False\n",
       "9951    False\n",
       "9952    False\n",
       "9953    False\n",
       "9954    False\n",
       "9955    False\n",
       "9956    False\n",
       "9957    False\n",
       "9958    False\n",
       "9959    False\n",
       "9960    False\n",
       "9961    False\n",
       "9962    False\n",
       "Name: guild_member_acc_id, Length: 9963, dtype: bool"
      ]
     },
     "execution_count": 9,
     "metadata": {},
     "output_type": "execute_result"
    }
   ],
   "source": [
    "train_guild.guild_member_acc_id.apply(lambda x: len(x.split(',')))==77"
   ]
  },
  {
   "cell_type": "code",
   "execution_count": null,
   "metadata": {},
   "outputs": [],
   "source": []
  }
 ],
 "metadata": {
  "kernelspec": {
   "display_name": "Python 3",
   "language": "python",
   "name": "python3"
  },
  "language_info": {
   "codemirror_mode": {
    "name": "ipython",
    "version": 3
   },
   "file_extension": ".py",
   "mimetype": "text/x-python",
   "name": "python",
   "nbconvert_exporter": "python",
   "pygments_lexer": "ipython3",
   "version": "3.6.5"
  }
 },
 "nbformat": 4,
 "nbformat_minor": 2
}
