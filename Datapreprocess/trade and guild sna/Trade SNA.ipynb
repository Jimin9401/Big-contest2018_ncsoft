{
 "cells": [
  {
   "cell_type": "markdown",
   "metadata": {},
   "source": [
    "# Import module, data, function"
   ]
  },
  {
   "cell_type": "code",
   "execution_count": 1,
   "metadata": {},
   "outputs": [],
   "source": [
    "#### import modules\n",
    "import pandas as pd\n",
    "import numpy as np\n",
    "import networkx as nx\n",
    "import matplotlib.pyplot as plt\n",
    "from networkx.algorithms import bipartite\n",
    "import re\n",
    "\n",
    "# import itertools \n",
    "from itertools import chain\n",
    "from itertools import groupby"
   ]
  },
  {
   "cell_type": "code",
   "execution_count": 2,
   "metadata": {},
   "outputs": [],
   "source": [
    "# load data set\n",
    "train_activity = pd.read_csv('../new_input/train_activity_lite.csv')\n",
    "test_activity = pd.read_csv('../new_input/test_activity_lite.csv')\n",
    "train_label = pd.read_csv('../new_input/train_label_lite.csv')\n",
    "\n",
    "# trade\n",
    "train_trade = pd.read_csv('../new_input/train_trade_lite.csv')\n",
    "test_trade = pd.read_csv('../new_input/test_trade_lite.csv')\n",
    "\n",
    "# label map\n",
    "label_map = {'retained':0,'week':1,'month':2,'2month':3}"
   ]
  },
  {
   "cell_type": "code",
   "execution_count": 3,
   "metadata": {},
   "outputs": [],
   "source": [
    "# FE된 변수들을 쌓는 변수공간\n",
    "X_train = train_activity.groupby(by='new_id',sort=False,as_index=False).sum().iloc[:,:1]\n",
    "X_test = test_activity.groupby(by='new_id',sort=False,as_index=False).sum().iloc[:,:1]\n",
    "y_train = pd.DataFrame(index = train_label.index)\n",
    "\n",
    "# label dictionary\n",
    "label_map = {'retained':0,'week':1,'month':2,'2month':3}"
   ]
  },
  {
   "cell_type": "markdown",
   "metadata": {},
   "source": [
    "---"
   ]
  },
  {
   "cell_type": "markdown",
   "metadata": {},
   "source": [
    "# Basic EDA"
   ]
  },
  {
   "cell_type": "markdown",
   "metadata": {},
   "source": [
    "# Feature engineering"
   ]
  },
  {
   "cell_type": "markdown",
   "metadata": {},
   "source": [
    "우선 중복 제거"
   ]
  },
  {
   "cell_type": "markdown",
   "metadata": {},
   "source": [
    "### Basic FE"
   ]
  },
  {
   "cell_type": "markdown",
   "metadata": {},
   "source": [
    "__1) 주차별 총 거래횟수__"
   ]
  },
  {
   "cell_type": "markdown",
   "metadata": {},
   "source": [
    "- 주차 별 총 거래횟수 count"
   ]
  },
  {
   "cell_type": "markdown",
   "metadata": {},
   "source": [
    "해당 id가 있는 전체 row count /2"
   ]
  },
  {
   "cell_type": "code",
   "execution_count": 4,
   "metadata": {},
   "outputs": [
    {
     "name": "stdout",
     "output_type": "stream",
     "text": [
      "1\n",
      "2\n",
      "3\n",
      "4\n",
      "5\n",
      "6\n",
      "7\n",
      "8\n"
     ]
    }
   ],
   "source": [
    "for i in [1,2,3,4,5,6,7,8]:\n",
    "    trade_by_week = train_trade.loc[train_trade.trade_week == i,:].iloc[:,3:5].melt().value\n",
    "    trade_by_week_train = pd.DataFrame(trade_by_week[trade_by_week.apply(lambda x: True if re.match('tr',x)!= None else False)].value_counts())\n",
    "    trade_by_week_test = pd.DataFrame(trade_by_week[trade_by_week.apply(lambda x: True if re.match('te',x)!= None else False)].value_counts())\n",
    "    \n",
    "    X_train['trade_count_' + str(i)] = pd.merge(X_train,trade_by_week_train, left_on='new_id',right_on=trade_by_week_train.index,how='left').fillna(0.).value\n",
    "    X_test['trade_count_' + str(i)] = pd.merge(X_test,trade_by_week_test, left_on='new_id',right_on=trade_by_week_test.index,how='left').fillna(0.).value\n",
    "    \n",
    "    print(i)"
   ]
  },
  {
   "cell_type": "markdown",
   "metadata": {},
   "source": [
    "- 주차 별 총 거래횟수 differ"
   ]
  },
  {
   "cell_type": "code",
   "execution_count": 5,
   "metadata": {},
   "outputs": [],
   "source": [
    "for i in range(1,8):\n",
    "    X_train['trade_diff_' + str(i)] = X_train.iloc[:,i+1] - X_train.iloc[:,i]\n",
    "    X_test['trade_diff_' + str(i)] = X_test.iloc[:,i+1] - X_test.iloc[:,i]"
   ]
  },
  {
   "cell_type": "markdown",
   "metadata": {},
   "source": [
    "- 주차 별 총 거래횟수 variance"
   ]
  },
  {
   "cell_type": "code",
   "execution_count": 6,
   "metadata": {},
   "outputs": [],
   "source": [
    "X_train['trade_var'] = X_train.iloc[:,1:9].var(axis=1)\n",
    "X_test['trade_var'] = X_test.iloc[:,1:9].var(axis=1)"
   ]
  },
  {
   "cell_type": "markdown",
   "metadata": {},
   "source": [
    "__2) 거래물품 비율__"
   ]
  },
  {
   "cell_type": "markdown",
   "metadata": {},
   "source": [
    "### Network FE"
   ]
  },
  {
   "cell_type": "markdown",
   "metadata": {},
   "source": [
    "__Weighted Multidigraph__"
   ]
  },
  {
   "cell_type": "code",
   "execution_count": 3,
   "metadata": {},
   "outputs": [],
   "source": [
    "# 중복 row 제거\n",
    "train_trade.drop_duplicates(inplace = True)\n",
    "test_trade.drop_duplicates(inplace = True)\n",
    "# total_trade 만들기\n",
    "total_trade = pd.concat((train_trade,test_trade),axis = 0,ignore_index=True)\n",
    "total_trade.drop_duplicates(inplace = True)"
   ]
  },
  {
   "cell_type": "code",
   "execution_count": 22,
   "metadata": {},
   "outputs": [],
   "source": [
    "M = nx.MultiDiGraph()"
   ]
  },
  {
   "cell_type": "code",
   "execution_count": null,
   "metadata": {},
   "outputs": [],
   "source": [
    "for item in total_trade.item_type.unique():\n",
    "    temp = total_trade.loc[total_trade.item_type == item,:].iloc[:,3:].reset_index()\n",
    "    edge_list = [(temp.source_acc_id[i],t,temp.item_amount[i]) for i,t in enumerate(temp.target_acc_id)]\n",
    "    M.add_weighted_edges_from(edge_list,relation = item)"
   ]
  },
  {
   "cell_type": "code",
   "execution_count": 30,
   "metadata": {},
   "outputs": [
    {
     "name": "stdout",
     "output_type": "stream",
     "text": [
      "('tr58254', 'ot95753', {'relation': 'grocery', 'weight': -0.0563440169879076})\n",
      "('tr58254', 'ot95753', {'relation': 'money', 'weight': -0.0476244829174029})\n",
      "('tr58254', 'ot81514', {'relation': 'grocery', 'weight': -0.0563432959861982})\n",
      "('tr58254', 'ot81514', {'relation': 'grocery', 'weight': -0.05634400830114})\n",
      "('tr58254', 'ot81514', {'relation': 'money', 'weight': -0.047636818127371})\n",
      "('tr58254', 'ot81514', {'relation': 'money', 'weight': -0.0476609499677171})\n"
     ]
    }
   ],
   "source": [
    "for i,e in enumerate(M.edges(data = True)):\n",
    "    if i > 5 :\n",
    "        break\n",
    "    else:\n",
    "        print(e)"
   ]
  },
  {
   "cell_type": "code",
   "execution_count": 9,
   "metadata": {},
   "outputs": [],
   "source": [
    "X_train.to_csv('trade_basic_train.csv',index = False)\n",
    "X_test.to_csv('trade_basic_test.csv',index = False)"
   ]
  }
 ],
 "metadata": {
  "kernelspec": {
   "display_name": "Python 3",
   "language": "python",
   "name": "python3"
  },
  "language_info": {
   "codemirror_mode": {
    "name": "ipython",
    "version": 3
   },
   "file_extension": ".py",
   "mimetype": "text/x-python",
   "name": "python",
   "nbconvert_exporter": "python",
   "pygments_lexer": "ipython3",
   "version": "3.6.5"
  }
 },
 "nbformat": 4,
 "nbformat_minor": 2
}
